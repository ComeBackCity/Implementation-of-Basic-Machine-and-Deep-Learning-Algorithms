{
 "cells": [
  {
   "cell_type": "code",
   "execution_count": 25,
   "metadata": {
    "collapsed": true
   },
   "outputs": [],
   "source": [
    "# package imports\n",
    "import numpy as np\n",
    "from itertools import islice\n",
    "from scipy.linalg import eig\n",
    "from scipy.stats import norm"
   ]
  },
  {
   "cell_type": "code",
   "execution_count": 26,
   "outputs": [],
   "source": [
    "# get stationary dustribution of transition matrix\n",
    "# from stack overflow\n",
    "def get_stationary_distibution(state_transition_matrix: np.ndarray) -> np.ndarray:\n",
    "    S, U = eig(state_transition_matrix.T)\n",
    "    stationary = np.array(U[:, np.where(np.abs(S - 1.) < 1e-8)[0][0]].flat)\n",
    "    stationary = stationary / np.sum(stationary)\n",
    "    return stationary"
   ],
   "metadata": {
    "collapsed": false,
    "pycharm": {
     "name": "#%%\n"
    }
   }
  },
  {
   "cell_type": "code",
   "execution_count": 27,
   "outputs": [],
   "source": [
    "def estimate_sequence(state_transition_matrix:np.ndarray, gaussian_params: np.ndarray, initial_state_probability:np.ndarray, observations:np.ndarray, state_count: int):\n",
    "    observation_count = observations.shape[0]\n",
    "    state_probability_matrix = np.zeros((state_count, observation_count))\n",
    "    path = np.ndarray((state_count, observation_count-1), dtype=int)\n",
    "    cond_prob = np.ndarray((state_count, observation_count))\n",
    "    # cond_prob = norm.pdf(observations[0], loc=gaussian_params[:,0], scale=gaussian_params[:,1])\n",
    "    cond_prob[:,0] = norm.pdf(observations[0], loc=gaussian_params[:,0], scale=gaussian_params[:,1])\n",
    "    state_probability_matrix[:,0] = np.log2(initial_state_probability) + np.log2(cond_prob[:,0])\n",
    "    for i in range(1, observation_count):\n",
    "        # cond_prob = norm.pdf(observations[i], loc=gaussian_params[:,0], scale=gaussian_params[:,1])\n",
    "        cond_prob[:,i] = norm.pdf(observations[i], loc=gaussian_params[:,0], scale=gaussian_params[:,1])\n",
    "        for j in range(state_count):\n",
    "            # prob = state_probability_matrix[:,i-1] + np.log2(transition_matrix[:,j]) + np.log2(cond_prob[j])\n",
    "            prob = state_probability_matrix[:,i-1] + np.log2(state_transition_matrix[:,j]) + np.log2(cond_prob[j,i])\n",
    "            path[j,i-1] = np.argmax(prob)\n",
    "            state_probability_matrix[j,i] = max(prob)\n",
    "\n",
    "    return path, state_probability_matrix, cond_prob\n",
    "    # for i in range(1, observation_count):\n",
    "    # cond_prob = norm.pdf(observations[1], loc=gaussian_params[:,0], scale=gaussian_params[:,1])\n",
    "    # state_probability_matrix[0,1] = max(state_probability_matrix[:,0] + np.log2(transition_matrix[:,0]) + np.log2(cond_prob[0]))\n",
    "    # state_probability_matrix[1,1] = max(state_probability_matrix[:,0] + np.log2(transition_matrix[:,1]) + np.log2(cond_prob[1]))\n",
    "    # print(state_probability_matrix[:,1])\n",
    "    # state_probability_matrix[:,1] = max(state_probability_matrix[:,0] + np.log2(transition_matrix) + np.log2(cond_prob))\n",
    "    # print(state_probability_matrix[:,1])"
   ],
   "metadata": {
    "collapsed": false,
    "pycharm": {
     "name": "#%%\n"
    }
   }
  },
  {
   "cell_type": "code",
   "execution_count": 28,
   "outputs": [],
   "source": [
    "# Viterbi algorithm\n",
    "def viterbi():\n",
    "    pass"
   ],
   "metadata": {
    "collapsed": false,
    "pycharm": {
     "name": "#%%\n"
    }
   }
  },
  {
   "cell_type": "code",
   "execution_count": 29,
   "outputs": [],
   "source": [
    "# Baum-Welch Learning\n",
    "def baum_welch():\n",
    "    pass"
   ],
   "metadata": {
    "collapsed": false,
    "pycharm": {
     "name": "#%%\n"
    }
   }
  },
  {
   "cell_type": "code",
   "execution_count": 30,
   "outputs": [
    {
     "data": {
      "text/plain": "(1000,)"
     },
     "execution_count": 30,
     "metadata": {},
     "output_type": "execute_result"
    }
   ],
   "source": [
    "# read data\n",
    "observed_states = np.loadtxt('./Input/data.txt', dtype=float)\n",
    "observed_states.shape"
   ],
   "metadata": {
    "collapsed": false,
    "pycharm": {
     "name": "#%%\n"
    }
   }
  },
  {
   "cell_type": "code",
   "execution_count": 31,
   "outputs": [
    {
     "data": {
      "text/plain": "array([[200, 100],\n       [ 10,  10]])"
     },
     "execution_count": 31,
     "metadata": {},
     "output_type": "execute_result"
    }
   ],
   "source": [
    "# read parameters\n",
    "with open('./Input/parameters.txt.txt', 'r') as f:\n",
    "    no_of_states = int(f.readline())\n",
    "\n",
    "with open('./Input/parameters.txt.txt', 'r') as lines:\n",
    "    transition_matrix = np.genfromtxt(islice(lines, 1, 1+no_of_states))\n",
    "\n",
    "with open('./Input/parameters.txt.txt', 'r') as lines:\n",
    "    gaussian_parameters = np.genfromtxt(islice(lines, 1+no_of_states, 1+2*no_of_states), dtype=int)\n",
    "\n",
    "gaussian_parameters"
   ],
   "metadata": {
    "collapsed": false,
    "pycharm": {
     "name": "#%%\n"
    }
   }
  },
  {
   "cell_type": "code",
   "execution_count": 32,
   "outputs": [
    {
     "data": {
      "text/plain": "array([0.25, 0.75])"
     },
     "execution_count": 32,
     "metadata": {},
     "output_type": "execute_result"
    }
   ],
   "source": [
    "initial_distribution = get_stationary_distibution(transition_matrix)\n",
    "initial_distribution"
   ],
   "metadata": {
    "collapsed": false,
    "pycharm": {
     "name": "#%%\n"
    }
   }
  },
  {
   "cell_type": "code",
   "execution_count": 33,
   "outputs": [],
   "source": [
    "a, b, c = estimate_sequence(transition_matrix, gaussian_parameters, initial_distribution, observed_states, no_of_states)"
   ],
   "metadata": {
    "collapsed": false,
    "pycharm": {
     "name": "#%%\n"
    }
   }
  },
  {
   "cell_type": "code",
   "execution_count": 34,
   "outputs": [
    {
     "data": {
      "text/plain": "array([[0, 0, 0, ..., 0, 0, 0],\n       [0, 0, 0, ..., 0, 0, 0]])"
     },
     "execution_count": 34,
     "metadata": {},
     "output_type": "execute_result"
    }
   ],
   "source": [
    "# norm.pdf(104.524317662043, loc=gaussian_parameters[:,0], scale=gaussian_parameters[:,1])\n",
    "a"
   ],
   "metadata": {
    "collapsed": false,
    "pycharm": {
     "name": "#%%\n"
    }
   }
  },
  {
   "cell_type": "code",
   "execution_count": 35,
   "outputs": [
    {
     "data": {
      "text/plain": "array([[  -10.62715623,   -19.85748309,   -29.04578103, ...,\n        -8885.02327226, -8894.28602329, -8903.51009446],\n       [  -69.51400828,   -73.24859934,   -86.24148327, ...,\n        -9021.89941576, -8944.89420803, -8957.4530169 ]])"
     },
     "execution_count": 35,
     "metadata": {},
     "output_type": "execute_result"
    }
   ],
   "source": [
    "b"
   ],
   "metadata": {
    "collapsed": false,
    "pycharm": {
     "name": "#%%\n"
    }
   }
  },
  {
   "cell_type": "code",
   "execution_count": 36,
   "outputs": [
    {
     "data": {
      "text/plain": "array([[2.52910697e-03, 2.37846467e-03, 2.44877380e-03, ...,\n        3.50106825e-03, 2.32560557e-03, 2.38880035e-03],\n       [1.58174739e-21, 4.69835681e-19, 3.46181183e-20, ...,\n        5.10919498e-44, 3.16177680e-18, 3.21898484e-19]])"
     },
     "execution_count": 36,
     "metadata": {},
     "output_type": "execute_result"
    }
   ],
   "source": [
    "c"
   ],
   "metadata": {
    "collapsed": false,
    "pycharm": {
     "name": "#%%\n"
    }
   }
  }
 ],
 "metadata": {
  "kernelspec": {
   "display_name": "Python 3",
   "language": "python",
   "name": "python3"
  },
  "language_info": {
   "codemirror_mode": {
    "name": "ipython",
    "version": 2
   },
   "file_extension": ".py",
   "mimetype": "text/x-python",
   "name": "python",
   "nbconvert_exporter": "python",
   "pygments_lexer": "ipython2",
   "version": "2.7.6"
  }
 },
 "nbformat": 4,
 "nbformat_minor": 0
}