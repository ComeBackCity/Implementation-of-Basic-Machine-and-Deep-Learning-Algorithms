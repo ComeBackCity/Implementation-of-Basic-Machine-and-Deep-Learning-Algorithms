{
 "cells": [
  {
   "cell_type": "code",
   "execution_count": 155,
   "metadata": {
    "collapsed": true
   },
   "outputs": [],
   "source": [
    "# package imports\n",
    "import numpy as np\n",
    "from itertools import islice\n",
    "from scipy.linalg import eig\n",
    "from scipy.stats import norm\n",
    "from numpy import float64\n",
    "import pathlib"
   ]
  },
  {
   "cell_type": "code",
   "execution_count": 156,
   "outputs": [],
   "source": [
    "# get stationary dustribution of transition matrix\n",
    "# from stack overflow\n",
    "def get_stationary_distibution(state_transition_matrix: np.ndarray) -> np.ndarray:\n",
    "    S, U = eig(state_transition_matrix.T)\n",
    "    stationary = np.array(U[:, np.where(np.abs(S - 1.) < 1e-8)[0][0]].flat)\n",
    "    stationary = stationary / np.sum(stationary)\n",
    "    return stationary"
   ],
   "metadata": {
    "collapsed": false,
    "pycharm": {
     "name": "#%%\n"
    }
   }
  },
  {
   "cell_type": "code",
   "execution_count": 157,
   "outputs": [],
   "source": [
    "def estimate_sequence(state_transition_matrix:np.ndarray, gaussian_params: np.ndarray, initial_state_probability:np.ndarray, observations:np.ndarray, state_count: int, state_converter:dict):\n",
    "    observation_count = observations.shape[0]\n",
    "    state_probability_matrix = np.ndarray((state_count, observation_count))\n",
    "    path = np.ndarray((state_count, observation_count-1), dtype=int)\n",
    "    emission_matrix = norm(loc=gaussian_params[0,:], scale=gaussian_params[1,:]).pdf(observations).T\n",
    "    # emission_matrix = normalize(emission_matrix, axis=0)\n",
    "    state_probability_matrix[:,0] = np.log(initial_state_probability) + np.log(emission_matrix[:,0])\n",
    "    for i in range(1, observation_count):\n",
    "        for j in range(state_count):\n",
    "            prob = state_probability_matrix[:,i-1] + np.log(state_transition_matrix[:,j]) + np.log(emission_matrix[j,i])\n",
    "            path[j,i-1] = np.argmax(prob)\n",
    "            state_probability_matrix[j,i] = max(prob)\n",
    "\n",
    "    out_path = ['' for _ in range(observation_count)]\n",
    "    sink_index = np.argmax(state_probability_matrix[:,-1])\n",
    "    out_path[-1] = state_converter[sink_index]\n",
    "    for i in range(observation_count-2,-1,-1):\n",
    "        sink_index = path[sink_index, i]\n",
    "        out_path[i] = state_converter[sink_index]\n",
    "\n",
    "    return path, state_probability_matrix, emission_matrix, out_path"
   ],
   "metadata": {
    "collapsed": false,
    "pycharm": {
     "name": "#%%\n"
    }
   }
  },
  {
   "cell_type": "code",
   "execution_count": 158,
   "outputs": [],
   "source": [
    "# Viterbi algorithm\n",
    "def viterbi(state_transition_matrix:np.ndarray, gaussian_params: np.ndarray, initial_state_probability:np.ndarray, observations:np.ndarray, state_count: int, state_converter:dict):\n",
    "    observation_count = observations.shape[0]\n",
    "    state_probability_matrix = np.ndarray((state_count, observation_count), dtype=float64)\n",
    "    path = np.ndarray((state_count, observation_count-1), dtype=int)\n",
    "    emission_matrix = norm(loc=gaussian_params[0,:], scale=gaussian_params[1,:]).pdf(observations).T\n",
    "    state_probability_matrix[:,0] = np.log(initial_state_probability) + np.log(emission_matrix[:,0])\n",
    "    for i in range(1, observation_count):\n",
    "        prob = state_probability_matrix[:,i-1] + np.log(state_transition_matrix) + np.log(emission_matrix[:,i].reshape(-1,1))\n",
    "        path[:,i-1] = np.argmax(prob, axis=1)\n",
    "        state_probability_matrix[:,i] = np.max(prob, axis=1)\n",
    "\n",
    "    out_path = ['' for _ in range(observation_count)]\n",
    "    sink_index = np.argmax(state_probability_matrix[:,-1])\n",
    "    out_path[-1] = state_converter[sink_index]\n",
    "    for i in range(observation_count-2,-1,-1):\n",
    "        sink_index = path[sink_index, i]\n",
    "        out_path[i] = state_converter[sink_index]\n",
    "\n",
    "    return path, state_probability_matrix, emission_matrix, out_path"
   ],
   "metadata": {
    "collapsed": false,
    "pycharm": {
     "name": "#%%\n"
    }
   }
  },
  {
   "cell_type": "code",
   "execution_count": 159,
   "outputs": [],
   "source": [
    "# Baum-Welch Learning\n",
    "def baum_welch():\n",
    "    pass"
   ],
   "metadata": {
    "collapsed": false,
    "pycharm": {
     "name": "#%%\n"
    }
   }
  },
  {
   "cell_type": "code",
   "execution_count": 160,
   "outputs": [
    {
     "data": {
      "text/plain": "(1000, 1)"
     },
     "execution_count": 160,
     "metadata": {},
     "output_type": "execute_result"
    }
   ],
   "source": [
    "# read data\n",
    "observed_states = np.loadtxt('./Input/data.txt', dtype=float).reshape(-1,1)\n",
    "observed_states.shape"
   ],
   "metadata": {
    "collapsed": false,
    "pycharm": {
     "name": "#%%\n"
    }
   }
  },
  {
   "cell_type": "code",
   "execution_count": 161,
   "outputs": [
    {
     "data": {
      "text/plain": "array([[200, 100],\n       [ 10,  10]])"
     },
     "execution_count": 161,
     "metadata": {},
     "output_type": "execute_result"
    }
   ],
   "source": [
    "# read parameters\n",
    "with open('./Input/parameters.txt.txt', 'r') as f:\n",
    "    no_of_states = int(f.readline())\n",
    "\n",
    "with open('./Input/parameters.txt.txt', 'r') as lines:\n",
    "    transition_matrix = np.genfromtxt(islice(lines, 1, 1+no_of_states))\n",
    "\n",
    "with open('./Input/parameters.txt.txt', 'r') as lines:\n",
    "    gaussian_parameters = np.genfromtxt(islice(lines, 1+no_of_states, 1+2*no_of_states), dtype=int)\n",
    "\n",
    "gaussian_parameters"
   ],
   "metadata": {
    "collapsed": false,
    "pycharm": {
     "name": "#%%\n"
    }
   }
  },
  {
   "cell_type": "code",
   "execution_count": 162,
   "outputs": [
    {
     "data": {
      "text/plain": "(2,)"
     },
     "execution_count": 162,
     "metadata": {},
     "output_type": "execute_result"
    }
   ],
   "source": [
    "initial_distribution = get_stationary_distibution(transition_matrix)\n",
    "index_state_map = {\n",
    "    0: '\\\"El Nino\\\"',\n",
    "    1: '\\\"La Nina\\\"'\n",
    "}\n",
    "initial_distribution.shape"
   ],
   "metadata": {
    "collapsed": false,
    "pycharm": {
     "name": "#%%\n"
    }
   }
  },
  {
   "cell_type": "code",
   "execution_count": 163,
   "outputs": [],
   "source": [
    "# estimate_sequence(transition_matrix, gaussian_parameters, initial_distribution, observed_states, no_of_states, index_state_map)"
   ],
   "metadata": {
    "collapsed": false,
    "pycharm": {
     "name": "#%%\n"
    }
   }
  },
  {
   "cell_type": "code",
   "execution_count": 164,
   "outputs": [],
   "source": [
    "a, b, c, hidden_path = viterbi(transition_matrix, gaussian_parameters, initial_distribution, observed_states, no_of_states, index_state_map)"
   ],
   "metadata": {
    "collapsed": false,
    "pycharm": {
     "name": "#%%\n"
    }
   }
  },
  {
   "cell_type": "code",
   "execution_count": 165,
   "outputs": [
    {
     "data": {
      "text/plain": "array([[1, 1],\n       [1, 1],\n       [1, 1],\n       ...,\n       [0, 1],\n       [0, 1],\n       [1, 1]])"
     },
     "execution_count": 165,
     "metadata": {},
     "output_type": "execute_result"
    }
   ],
   "source": [
    "# norm.pdf(104.524317662043, loc=gaussian_parameters[:,0], scale=gaussian_parameters[:,1])\n",
    "a.T"
   ],
   "metadata": {
    "collapsed": false,
    "pycharm": {
     "name": "#%%\n"
    }
   }
  },
  {
   "cell_type": "code",
   "execution_count": 166,
   "outputs": [
    {
     "data": {
      "text/plain": "array([[-5.01858476e+01, -3.61155295e+00],\n       [-5.97561869e+01, -6.95296555e+00],\n       [-6.01843770e+01, -1.02870653e+01],\n       ...,\n       [-1.02142021e+04, -1.02144021e+04],\n       [-1.02717469e+04, -1.02178047e+04],\n       [-1.02735158e+04, -1.02211398e+04]])"
     },
     "execution_count": 166,
     "metadata": {},
     "output_type": "execute_result"
    }
   ],
   "source": [
    "b.T"
   ],
   "metadata": {
    "collapsed": false,
    "pycharm": {
     "name": "#%%\n"
    }
   }
  },
  {
   "cell_type": "code",
   "execution_count": 167,
   "outputs": [
    {
     "data": {
      "text/plain": "array([[6.40653671e-22, 3.60131591e-02],\n       [1.37903101e-24, 3.93188164e-02],\n       [2.53963017e-23, 3.96074027e-02],\n       ...,\n       [8.51062085e-08, 2.56571442e-07],\n       [1.45716704e-25, 3.69858576e-02],\n       [2.12759494e-24, 3.95700812e-02]])"
     },
     "execution_count": 167,
     "metadata": {},
     "output_type": "execute_result"
    }
   ],
   "source": [
    "c.T"
   ],
   "metadata": {
    "collapsed": false,
    "pycharm": {
     "name": "#%%\n"
    }
   }
  },
  {
   "cell_type": "code",
   "execution_count": 168,
   "outputs": [
    {
     "name": "stdout",
     "output_type": "stream",
     "text": [
      "857\n"
     ]
    }
   ],
   "source": [
    "viterbi_output = []\n",
    "with open('./Output/states_Viterbi_wo_learning.txt', 'r') as f:\n",
    "    for line in f.readlines():\n",
    "        viterbi_output.append(line.rstrip('\\n'))\n",
    "\n",
    "match = 0\n",
    "\n",
    "for item1, item2 in zip(viterbi_output, hidden_path):\n",
    "    if item1 == item2:\n",
    "        match += 1\n",
    "\n",
    "print(match)\n",
    "\n",
    "pathlib.Path('./my_output').mkdir(parents=True, exist_ok=True)\n",
    "\n",
    "with open('./my_output/states_Viterbi_wo_learning.txt', 'w') as f:\n",
    "    for item in hidden_path:\n",
    "        f.write(item+'\\n')"
   ],
   "metadata": {
    "collapsed": false,
    "pycharm": {
     "name": "#%%\n"
    }
   }
  }
 ],
 "metadata": {
  "kernelspec": {
   "display_name": "Python 3",
   "language": "python",
   "name": "python3"
  },
  "language_info": {
   "codemirror_mode": {
    "name": "ipython",
    "version": 2
   },
   "file_extension": ".py",
   "mimetype": "text/x-python",
   "name": "python",
   "nbconvert_exporter": "python",
   "pygments_lexer": "ipython2",
   "version": "2.7.6"
  }
 },
 "nbformat": 4,
 "nbformat_minor": 0
}