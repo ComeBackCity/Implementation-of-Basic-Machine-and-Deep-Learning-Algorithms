{
 "cells": [
  {
   "cell_type": "code",
   "execution_count": 1,
   "metadata": {
    "collapsed": true
   },
   "outputs": [],
   "source": [
    "# package imports\n",
    "import numpy as np\n",
    "import pathlib\n",
    "from itertools import islice\n",
    "from scipy.linalg import eig\n",
    "from scipy.stats import norm\n",
    "from numpy import float64, longdouble\n",
    "from typing import List"
   ]
  },
  {
   "cell_type": "code",
   "execution_count": 2,
   "outputs": [],
   "source": [
    "# get stationary dustribution of transition matrix\n",
    "# from stack overflow\n",
    "def get_stationary_distibution(state_transition_matrix: np.ndarray) -> np.ndarray:\n",
    "    S, U = eig(state_transition_matrix.T)\n",
    "    stationary = np.array(U[:, np.where(np.abs(S - 1.) < 1e-8)[0][0]].flat)\n",
    "    stationary = stationary / np.sum(stationary)\n",
    "    return stationary"
   ],
   "metadata": {
    "collapsed": false,
    "pycharm": {
     "name": "#%%\n"
    }
   }
  },
  {
   "cell_type": "code",
   "execution_count": 3,
   "outputs": [],
   "source": [
    "def estimate_sequence(state_transition_matrix:np.ndarray, gaussian_params: np.ndarray, initial_state_probability:np.ndarray, observations:np.ndarray, state_count: int) -> List[int]:\n",
    "    observation_count = observations.shape[0]\n",
    "    state_probability_matrix = np.ndarray((state_count, observation_count), dtype=float64)\n",
    "    path = np.ndarray((state_count, observation_count-1), dtype=int)\n",
    "    emission_matrix = norm(loc=gaussian_params[0,:], scale=gaussian_params[1,:]).pdf(observations).T\n",
    "    state_probability_matrix[:,0] = np.log(initial_state_probability) + np.log(emission_matrix[:,0])\n",
    "    for i in range(1, observation_count):\n",
    "        prob = state_probability_matrix[:,i-1] + np.log(state_transition_matrix) + np.log(emission_matrix[:,i].reshape(-1,1))\n",
    "        path[:,i-1] = np.argmax(prob, axis=1)\n",
    "        state_probability_matrix[:,i] = np.max(prob, axis=1)\n",
    "\n",
    "    out_path = [-1] * observation_count\n",
    "    sink_index = np.argmax(state_probability_matrix[:,-1])\n",
    "    out_path[-1] = sink_index\n",
    "    for i in range(observation_count-2,-1,-1):\n",
    "        sink_index = path[sink_index, i]\n",
    "        out_path[i] = sink_index\n",
    "\n",
    "    return out_path"
   ],
   "metadata": {
    "collapsed": false,
    "pycharm": {
     "name": "#%%\n"
    }
   }
  },
  {
   "cell_type": "code",
   "execution_count": 4,
   "outputs": [],
   "source": [
    "# Viterbi algorithm\n",
    "def viterbi(state_transition_matrix:np.ndarray, gaussian_params: np.ndarray, initial_state_probability:np.ndarray, observations:np.ndarray, state_count: int, state_converter:dict) -> list:\n",
    "    path = estimate_sequence(state_transition_matrix, gaussian_params, initial_state_probability, observations, state_count)\n",
    "    return [state_converter[index] for index in path]"
   ],
   "metadata": {
    "collapsed": false,
    "pycharm": {
     "name": "#%%\n"
    }
   }
  },
  {
   "cell_type": "code",
   "execution_count": 5,
   "outputs": [],
   "source": [
    "def forward(state_transition_matrix: np.ndarray, state_count:int, observation_count:int , emission_matrix: np.ndarray, initial_transition_probability: np.ndarray) -> np.ndarray:\n",
    "    alpha = np.ndarray((state_count, observation_count), dtype=float64)\n",
    "    alpha[:,0] = initial_transition_probability * emission_matrix[:,0]\n",
    "    alpha[:,0] /= np.sum(alpha[:,0])\n",
    "\n",
    "    for i in range(1, observation_count):\n",
    "        prob = alpha[:,i-1] * state_transition_matrix * emission_matrix[:,i].reshape(-1,1)\n",
    "        alpha[:,i] = np.sum(prob, axis=1)\n",
    "        alpha[:,i] /= np.sum(alpha[:,i])\n",
    "\n",
    "    return alpha"
   ],
   "metadata": {
    "collapsed": false,
    "pycharm": {
     "name": "#%%\n"
    }
   }
  },
  {
   "cell_type": "code",
   "execution_count": 6,
   "outputs": [],
   "source": [
    "def backward(state_transition_matrix: np.ndarray, state_count:int, observation_count: int, emission_matrix: np.ndarray) -> np.ndarray:\n",
    "    beta = np.ndarray((state_count, observation_count), dtype=float64)\n",
    "    beta[:,-1] = 1\n",
    "\n",
    "    for i in range(observation_count-2, -1, -1):\n",
    "        for k in range(state_count):\n",
    "            prob = 0\n",
    "            for l in range(state_count):\n",
    "                prob += beta[l, i+1] * state_transition_matrix[k,l] * emission_matrix[l, i]\n",
    "            beta[k,i] = prob\n",
    "        beta[:,i] /= np.sum(beta[:,i])\n",
    "    # for i in range(observation_count-2, -1, -1):\n",
    "    #     prob = beta[:, i+1] * state_transition_matrix.T * emission_matrix[:, i+1].reshape(-1,1)\n",
    "    #     beta[:,i] = np.sum(prob, axis=1)\n",
    "    #     beta[:,i] /= np.sum(beta[:,i])\n",
    "\n",
    "    return beta"
   ],
   "metadata": {
    "collapsed": false,
    "pycharm": {
     "name": "#%%\n"
    }
   }
  },
  {
   "cell_type": "code",
   "execution_count": 7,
   "outputs": [],
   "source": [
    "# Baum-Welch Learning\n",
    "def baum_welch(state_transition_matrix: np.ndarray, state_count:int, observations: np.ndarray, gaussian_params:np.ndarray, initial_transition_probability: np.ndarray, no_of_iterations:int):\n",
    "    observation_count = observations.shape[0]\n",
    "\n",
    "    for _ in range(no_of_iterations):\n",
    "        emission_matrix = norm(loc=gaussian_params[0,:], scale=gaussian_params[1,:]).pdf(observations).T\n",
    "        alpha = forward(state_transition_matrix, state_count, observation_count, emission_matrix, initial_transition_probability)\n",
    "        beta = backward(state_transition_matrix, state_count, observation_count, emission_matrix)\n",
    "        gamma = alpha * beta\n",
    "        gamma /= np.sum(gamma, axis=0)\n",
    "\n",
    "        xi = np.ndarray((observation_count-1, state_count, state_count), dtype=longdouble)\n",
    "        for t in range(observation_count-1):\n",
    "            for i in range(state_count):\n",
    "                for j in range(state_count):\n",
    "                    xi[t,i,j] = alpha[i,t] * state_transition_matrix[i,j] * beta[j,t+1] * emission_matrix[j,t+1]\n",
    "\n",
    "        xi /= np.sum(xi, axis=(1,2)).reshape(-1,1)[:,np.newaxis]\n",
    "\n",
    "        state_transition_matrix = np.sum(xi, axis=0)\n",
    "        state_transition_matrix /= np.sum(state_transition_matrix, axis=1).reshape(-1,1)\n",
    "\n",
    "        gaussian_params[0,:] = np.sum(gamma * observations.T, axis=1) / np.sum(gamma, axis=1)\n",
    "        gaussian_params[1,:] = np.sqrt(np.sum(gamma * (observations.T - gaussian_params[0,:].reshape(-1,1)) ** 2, axis=1) / np.sum(gamma, axis=1))\n",
    "\n",
    "    return state_transition_matrix, gaussian_params"
   ],
   "metadata": {
    "collapsed": false,
    "pycharm": {
     "name": "#%%\n"
    }
   }
  },
  {
   "cell_type": "code",
   "execution_count": 8,
   "outputs": [
    {
     "data": {
      "text/plain": "(1000, 1)"
     },
     "execution_count": 8,
     "metadata": {},
     "output_type": "execute_result"
    }
   ],
   "source": [
    "# read data\n",
    "observed_states = np.loadtxt('./Input/data.txt', dtype=float).reshape(-1,1)\n",
    "observed_states.shape"
   ],
   "metadata": {
    "collapsed": false,
    "pycharm": {
     "name": "#%%\n"
    }
   }
  },
  {
   "cell_type": "code",
   "execution_count": 9,
   "outputs": [
    {
     "data": {
      "text/plain": "array([[200., 100.],\n       [ 10.,  10.]])"
     },
     "execution_count": 9,
     "metadata": {},
     "output_type": "execute_result"
    }
   ],
   "source": [
    "# read parameters\n",
    "with open('./Input/parameters.txt.txt', 'r') as f:\n",
    "    no_of_states = int(f.readline())\n",
    "\n",
    "with open('./Input/parameters.txt.txt', 'r') as lines:\n",
    "    transition_matrix = np.genfromtxt(islice(lines, 1, 1+no_of_states))\n",
    "\n",
    "with open('./Input/parameters.txt.txt', 'r') as lines:\n",
    "    gaussian_parameters = np.genfromtxt(islice(lines, 1+no_of_states, 1+2*no_of_states))\n",
    "\n",
    "# gaussian_parameters[1,:] = np.sqrt(gaussian_parameters[1,:])\n",
    "gaussian_parameters"
   ],
   "metadata": {
    "collapsed": false,
    "pycharm": {
     "name": "#%%\n"
    }
   }
  },
  {
   "cell_type": "code",
   "execution_count": 10,
   "outputs": [
    {
     "data": {
      "text/plain": "(2,)"
     },
     "execution_count": 10,
     "metadata": {},
     "output_type": "execute_result"
    }
   ],
   "source": [
    "initial_distribution = get_stationary_distibution(transition_matrix)\n",
    "index_state_map = {\n",
    "    0: '\\\"El Nino\\\"',\n",
    "    1: '\\\"La Nina\\\"'\n",
    "}\n",
    "initial_distribution.shape"
   ],
   "metadata": {
    "collapsed": false,
    "pycharm": {
     "name": "#%%\n"
    }
   }
  },
  {
   "cell_type": "code",
   "execution_count": 11,
   "outputs": [],
   "source": [
    "hidden_path = viterbi(transition_matrix, gaussian_parameters, initial_distribution, observed_states, no_of_states, index_state_map)"
   ],
   "metadata": {
    "collapsed": false,
    "pycharm": {
     "name": "#%%\n"
    }
   }
  },
  {
   "cell_type": "code",
   "execution_count": 12,
   "outputs": [
    {
     "name": "stdout",
     "output_type": "stream",
     "text": [
      "857\n"
     ]
    }
   ],
   "source": [
    "# matching output and writing to file\n",
    "viterbi_output = []\n",
    "with open('./Output/states_Viterbi_wo_learning.txt', 'r') as f:\n",
    "    for line in f.readlines():\n",
    "        viterbi_output.append(line.rstrip('\\n'))\n",
    "\n",
    "match = 0\n",
    "\n",
    "for item1, item2 in zip(viterbi_output, hidden_path):\n",
    "    if item1 == item2:\n",
    "        match += 1\n",
    "\n",
    "print(match)\n",
    "\n",
    "pathlib.Path('./my_output').mkdir(parents=True, exist_ok=True)\n",
    "\n",
    "with open('./my_output/states_Viterbi_wo_learning.txt', 'w') as f:\n",
    "    for item in hidden_path:\n",
    "        f.write(item+'\\n')"
   ],
   "metadata": {
    "collapsed": false,
    "pycharm": {
     "name": "#%%\n"
    }
   }
  },
  {
   "cell_type": "code",
   "execution_count": 13,
   "outputs": [],
   "source": [
    "a, b = baum_welch(transition_matrix, no_of_states, observed_states, gaussian_parameters, initial_distribution, 5)"
   ],
   "metadata": {
    "collapsed": false,
    "pycharm": {
     "name": "#%%\n"
    }
   }
  },
  {
   "cell_type": "code",
   "execution_count": 14,
   "outputs": [
    {
     "data": {
      "text/plain": "array([[0.82795699, 0.17204301],\n       [0.21768707, 0.78231293]], dtype=float128)"
     },
     "execution_count": 14,
     "metadata": {},
     "output_type": "execute_result"
    }
   ],
   "source": [
    "a"
   ],
   "metadata": {
    "collapsed": false,
    "pycharm": {
     "name": "#%%\n"
    }
   }
  },
  {
   "cell_type": "code",
   "execution_count": 15,
   "outputs": [
    {
     "data": {
      "text/plain": "array([[150.1898689 , 100.20940296],\n       [  2.24318457,   2.95185791]])"
     },
     "execution_count": 15,
     "metadata": {},
     "output_type": "execute_result"
    }
   ],
   "source": [
    "b"
   ],
   "metadata": {
    "collapsed": false,
    "pycharm": {
     "name": "#%%\n"
    }
   }
  },
  {
   "cell_type": "code",
   "execution_count": 16,
   "outputs": [],
   "source": [
    "hidden_path_after_learning = viterbi(a, b, initial_distribution, observed_states, no_of_states, index_state_map)"
   ],
   "metadata": {
    "collapsed": false,
    "pycharm": {
     "name": "#%%\n"
    }
   }
  },
  {
   "cell_type": "code",
   "execution_count": 17,
   "outputs": [
    {
     "name": "stdout",
     "output_type": "stream",
     "text": [
      "1000\n"
     ]
    }
   ],
   "source": [
    "# matching output and writing to file\n",
    "viterbi_output = []\n",
    "with open('./Output/states_Viterbi_after_learning.txt', 'r') as f:\n",
    "    for line in f.readlines():\n",
    "        viterbi_output.append(line.rstrip('\\n'))\n",
    "\n",
    "match = 0\n",
    "\n",
    "for item1, item2 in zip(viterbi_output, hidden_path_after_learning):\n",
    "    if item1 == item2:\n",
    "        match += 1\n",
    "\n",
    "print(match)\n",
    "\n",
    "pathlib.Path('./my_output').mkdir(parents=True, exist_ok=True)\n",
    "\n",
    "with open('./my_output/states_Viterbi_after_learning.txt', 'w') as f:\n",
    "    for item in hidden_path:\n",
    "        f.write(item+'\\n')\n",
    "\n",
    "with open('./my_output/learned_parameters.txt', 'w') as f:\n",
    "    f.write('Transition matrix:\\n')\n",
    "    np.savetxt(f, a, fmt='%1.7f')\n",
    "    f.write('\\nGaussian parameters:\\n')\n",
    "    np.savetxt(f, b, fmt='%1.6f')"
   ],
   "metadata": {
    "collapsed": false,
    "pycharm": {
     "name": "#%%\n"
    }
   }
  }
 ],
 "metadata": {
  "kernelspec": {
   "display_name": "Python 3",
   "language": "python",
   "name": "python3"
  },
  "language_info": {
   "codemirror_mode": {
    "name": "ipython",
    "version": 2
   },
   "file_extension": ".py",
   "mimetype": "text/x-python",
   "name": "python",
   "nbconvert_exporter": "python",
   "pygments_lexer": "ipython2",
   "version": "2.7.6"
  }
 },
 "nbformat": 4,
 "nbformat_minor": 0
}