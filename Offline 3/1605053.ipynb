{
 "cells": [
  {
   "cell_type": "markdown",
   "source": [
    "## Importing Libraries"
   ],
   "metadata": {
    "collapsed": false
   }
  },
  {
   "cell_type": "code",
   "execution_count": 1,
   "outputs": [],
   "source": [
    "import numpy as np\n",
    "import matplotlib.pyplot as plt\n",
    "from sklearn.preprocessing import LabelBinarizer\n",
    "import pickle\n",
    "from mlxtend.data import loadlocal_mnist"
   ],
   "metadata": {
    "collapsed": false,
    "pycharm": {
     "name": "#%%\n"
    }
   }
  },
  {
   "cell_type": "markdown",
   "source": [
    "## Setting Numpy Seed"
   ],
   "metadata": {
    "collapsed": false
   }
  },
  {
   "cell_type": "code",
   "execution_count": 2,
   "outputs": [],
   "source": [
    "np.random.seed(10)"
   ],
   "metadata": {
    "collapsed": false,
    "pycharm": {
     "name": "#%%\n"
    }
   }
  },
  {
   "cell_type": "markdown",
   "source": [
    "## Processing MNIST Dataset"
   ],
   "metadata": {
    "collapsed": false
   }
  },
  {
   "cell_type": "code",
   "execution_count": 3,
   "outputs": [],
   "source": [
    "def process_mnist_data() -> (np.ndarray, np.ndarray, np.ndarray, np.ndarray):\n",
    "    mnist_path = './MNIST/'\n",
    "    train_images, train_labels = loadlocal_mnist(\n",
    "        images_path = mnist_path + './train-images.idx3-ubyte',\n",
    "        labels_path = mnist_path + './train-labels.idx1-ubyte'\n",
    "    )\n",
    "    test_images, test_labels = loadlocal_mnist(\n",
    "        images_path = mnist_path + './t10k-images.idx3-ubyte',\n",
    "        labels_path = mnist_path + './t10k-labels.idx1-ubyte'\n",
    "    )\n",
    "    return train_images, train_labels, test_images, test_labels"
   ],
   "metadata": {
    "collapsed": false,
    "pycharm": {
     "name": "#%%\n"
    }
   }
  },
  {
   "cell_type": "markdown",
   "source": [
    "## Processing CIFAR-10 Dataset"
   ],
   "metadata": {
    "collapsed": false
   }
  },
  {
   "cell_type": "code",
   "execution_count": 4,
   "outputs": [],
   "source": [
    "def unpickle(file):\n",
    "    with open(file, 'rb') as fo:\n",
    "        data_dict = pickle.load(fo, encoding='bytes')\n",
    "    return data_dict"
   ],
   "metadata": {
    "collapsed": false,
    "pycharm": {
     "name": "#%%\n"
    }
   }
  },
  {
   "cell_type": "code",
   "execution_count": 5,
   "outputs": [],
   "source": [
    "def process_cifar_dataset() -> (np.ndarray, np.ndarray, np.ndarray, np.ndarray):\n",
    "    cifar_path = './cifar-10-python/cifar-10-batches-py'\n",
    "    data_batch = unpickle(cifar_path + '/data_batch_1')\n",
    "    train_images, train_labels = data_batch[b'data'], np.array(data_batch[b'labels'])\n",
    "    for i in range(2,6):\n",
    "        data_batch = unpickle(cifar_path + '/data_batch_' + str(i))\n",
    "        train_images = np.concatenate((train_images, data_batch[b'data']), axis=0)\n",
    "        train_labels = np.concatenate((train_labels, np.array(data_batch[b'labels'])), axis=0)\n",
    "    test_batch = unpickle(cifar_path + '/test_batch')\n",
    "    test_images, test_labels = test_batch[b'data'], np.array(test_batch[b'labels'])\n",
    "    return train_images, train_labels, test_images, test_labels"
   ],
   "metadata": {
    "collapsed": false,
    "pycharm": {
     "name": "#%%\n"
    }
   }
  },
  {
   "cell_type": "markdown",
   "source": [
    "## Processing Toy Dataset"
   ],
   "metadata": {
    "collapsed": false
   }
  },
  {
   "cell_type": "code",
   "execution_count": 6,
   "outputs": [],
   "source": [
    "def process_toy_dataset():\n",
    "    toy_dataset_path = './Toy Dataset/'\n",
    "    a = np.loadtxt(toy_dataset_path + 'trainNN.txt')\n",
    "    b = np.loadtxt(toy_dataset_path + 'testNN.txt')\n",
    "    train_x, train_y, test_x, test_y = a[:, 0:4], a[:, -1], b[:, 0:4], b[:, -1]\n",
    "    return train_x, train_y, test_x, test_y"
   ],
   "metadata": {
    "collapsed": false,
    "pycharm": {
     "name": "#%%\n"
    }
   }
  },
  {
   "cell_type": "code",
   "execution_count": 7,
   "outputs": [
    {
     "data": {
      "text/plain": "array([[ 9.21323266, 11.82445528],\n       [16.69098092, 19.56967227]])"
     },
     "execution_count": 7,
     "metadata": {},
     "output_type": "execute_result"
    }
   ],
   "source": [
    "x_train_toy, y_train_toy, x_test_toy, y_test_toy = process_toy_dataset()\n",
    "toy_batch_1 = x_train_toy[0:50].reshape(50, 2, 2, 1)\n",
    "toy_batch_1[0, :, :, 0]"
   ],
   "metadata": {
    "collapsed": false,
    "pycharm": {
     "name": "#%%\n"
    }
   }
  },
  {
   "cell_type": "code",
   "execution_count": 8,
   "outputs": [
    {
     "data": {
      "text/plain": "array([[1, 0, 0, 0],\n       [0, 1, 0, 0],\n       [0, 0, 0, 1],\n       [0, 0, 1, 0],\n       [0, 0, 0, 1],\n       [0, 1, 0, 0],\n       [1, 0, 0, 0],\n       [0, 0, 1, 0],\n       [1, 0, 0, 0],\n       [0, 0, 1, 0],\n       [0, 0, 1, 0],\n       [0, 0, 1, 0],\n       [0, 0, 1, 0],\n       [0, 1, 0, 0],\n       [1, 0, 0, 0],\n       [0, 1, 0, 0],\n       [1, 0, 0, 0],\n       [0, 0, 1, 0],\n       [0, 0, 0, 1],\n       [1, 0, 0, 0],\n       [1, 0, 0, 0],\n       [0, 0, 0, 1],\n       [1, 0, 0, 0],\n       [1, 0, 0, 0],\n       [0, 0, 0, 1],\n       [1, 0, 0, 0],\n       [0, 0, 0, 1],\n       [1, 0, 0, 0],\n       [0, 1, 0, 0],\n       [0, 0, 1, 0],\n       [0, 0, 1, 0],\n       [0, 0, 1, 0],\n       [0, 0, 1, 0],\n       [0, 1, 0, 0],\n       [1, 0, 0, 0],\n       [0, 0, 0, 1],\n       [1, 0, 0, 0],\n       [0, 0, 1, 0],\n       [0, 0, 0, 1],\n       [1, 0, 0, 0],\n       [0, 0, 0, 1],\n       [1, 0, 0, 0],\n       [0, 0, 0, 1],\n       [0, 0, 0, 1],\n       [1, 0, 0, 0],\n       [0, 0, 1, 0],\n       [0, 0, 0, 1],\n       [0, 1, 0, 0],\n       [0, 0, 0, 1],\n       [0, 0, 1, 0]])"
     },
     "execution_count": 8,
     "metadata": {},
     "output_type": "execute_result"
    }
   ],
   "source": [
    "label_binarizer = LabelBinarizer()\n",
    "label_binarizer.fit(range(1,5))\n",
    "toy_labels_1 = label_binarizer.transform(y_train_toy[0:50].T)\n",
    "toy_labels_1"
   ],
   "metadata": {
    "collapsed": false,
    "pycharm": {
     "name": "#%%\n"
    }
   }
  },
  {
   "cell_type": "markdown",
   "source": [
    "## Parsing Input Model"
   ],
   "metadata": {
    "collapsed": false
   }
  },
  {
   "cell_type": "code",
   "execution_count": 9,
   "outputs": [],
   "source": [
    "def parse_input_model():\n",
    "    path = './input_model.txt'\n",
    "    model = []\n",
    "    with open(path, 'r') as f:\n",
    "        lines = f.readlines()\n",
    "        for line in lines:\n",
    "            tokens = line.split()\n",
    "            if tokens[0] == 'Conv':\n",
    "                model.append(ConvolutionLayer(int(tokens[1]), int(tokens[2]), int(tokens[3]), int(tokens[4])))\n",
    "            if tokens[0] == 'ReLU':\n",
    "                model.append(ActivationLayer())\n",
    "            if tokens[0] == 'Pool':\n",
    "                model.append(MaxPoolingLayer(int(tokens[1]), int(tokens[2])))\n",
    "            if tokens[0] == 'FC':\n",
    "                model.append(FlatteningLayer())\n",
    "                model.append(FullyConnectedLayer(int(tokens[1])))\n",
    "            if tokens[0] == 'Softmax':\n",
    "                model.append(SoftmaxLayer())\n",
    "        return model"
   ],
   "metadata": {
    "collapsed": false,
    "pycharm": {
     "name": "#%%\n"
    }
   }
  },
  {
   "cell_type": "markdown",
   "source": [
    "## ReLU Function"
   ],
   "metadata": {
    "collapsed": false
   }
  },
  {
   "cell_type": "code",
   "execution_count": 10,
   "outputs": [],
   "source": [
    "def relu(matrix:np.ndarray) -> np.ndarray:\n",
    "    return matrix * (matrix > 0)"
   ],
   "metadata": {
    "collapsed": false,
    "pycharm": {
     "name": "#%%\n"
    }
   }
  },
  {
   "cell_type": "markdown",
   "source": [
    "## Convolution Layer"
   ],
   "metadata": {
    "collapsed": false
   }
  },
  {
   "cell_type": "code",
   "execution_count": 11,
   "outputs": [],
   "source": [
    "class ConvolutionLayer:\n",
    "    def __init__(self, output_channel_count: int, filter_dimension: int, stride: int, padding: int):\n",
    "        self.output_channel_count = output_channel_count\n",
    "        self.filter_dimension = filter_dimension\n",
    "        self.stride = stride\n",
    "        self.padding = padding\n",
    "\n",
    "    def forward(self, input_image: np.ndarray) -> np.ndarray:\n",
    "        input_dimentions = input_image.shape[0]\n",
    "        output_dimentions = (input_dimentions - self.filter_dimension + 2 * self.padding) // self.stride + 1\n",
    "        input_shape = input_image.shape\n",
    "\n",
    "        filters = np.random.rand(\n",
    "            self.output_channel_count,\n",
    "            self.filter_dimension,\n",
    "            self.filter_dimension,\n",
    "            input_shape[2]\n",
    "        )\n",
    "\n",
    "        bias = np.random.rand(self.output_channel_count)\n",
    "\n",
    "        padded_image = np.pad(input_image, [(self.padding,self.padding), (self.padding,self.padding), (0,0)], mode='constant') * 1.0\n",
    "        padded_image /= 255.0\n",
    "        padded_dimensions = padded_image.shape\n",
    "\n",
    "        output = np.zeros((output_dimentions, output_dimentions, self.output_channel_count))\n",
    "\n",
    "        image_y = out_y = 0\n",
    "        while image_y + self.filter_dimension <= padded_dimensions[1]:\n",
    "            image_x = out_x = 0\n",
    "            while image_x + self.filter_dimension <= padded_dimensions[0]:\n",
    "                image_slice = padded_image[image_x:image_x+self.filter_dimension, image_y:image_y+self.filter_dimension, :]\n",
    "                output[out_x, out_y, :] = np.sum(image_slice * filters) + bias\n",
    "                image_x += self.stride\n",
    "                out_x += 1\n",
    "            image_y += self.stride\n",
    "            out_y += 1\n",
    "\n",
    "        return output\n",
    "\n",
    "    def backward(self):\n",
    "        pass"
   ],
   "metadata": {
    "collapsed": false,
    "pycharm": {
     "name": "#%%\n"
    }
   }
  },
  {
   "cell_type": "code",
   "execution_count": 12,
   "outputs": [],
   "source": [
    "class ConvolutionLayerBatch:\n",
    "    def __init__(self, output_channel_count: int, filter_dimension: int, stride: int, padding: int):\n",
    "        self.output_channel_count = output_channel_count\n",
    "        self.filter_dimension = filter_dimension\n",
    "        self.stride = stride\n",
    "        self.padding = padding\n",
    "\n",
    "    def forward(self, input_batch: np.ndarray) -> np.ndarray:\n",
    "        input_dimentions = input_batch.shape\n",
    "        output_dimentions = (input_dimentions[1] - self.filter_dimension + 2 * self.padding) // self.stride + 1\n",
    "        input_shape = input_batch.shape\n",
    "\n",
    "        filters = np.random.rand(\n",
    "            self.output_channel_count,\n",
    "            self.filter_dimension,\n",
    "            self.filter_dimension,\n",
    "            input_shape[3],\n",
    "        )\n",
    "\n",
    "        bias = np.random.rand(self.output_channel_count)\n",
    "\n",
    "        padded_image = np.pad(input_batch, [(0, 0), (self.padding,self.padding), (self.padding,self.padding), (0,0)], mode='constant') * 1.0\n",
    "        padded_image /= 255.0\n",
    "        padded_dimensions = padded_image.shape\n",
    "\n",
    "        output = np.zeros((input_dimentions[0], output_dimentions, output_dimentions, self.output_channel_count))\n",
    "\n",
    "        for i in range(input_dimentions[0]):\n",
    "            image_y = out_y = 0\n",
    "            while image_y + self.filter_dimension <= padded_dimensions[2]:\n",
    "                image_x = out_x = 0\n",
    "                while image_x + self.filter_dimension <= padded_dimensions[1]:\n",
    "                    image_slice = padded_image[i, image_x:image_x+self.filter_dimension, image_y:image_y+self.filter_dimension, :]\n",
    "                    output[i, out_x, out_y, :] = np.sum(image_slice * filters) + bias\n",
    "                    image_x += self.stride\n",
    "                    out_x += 1\n",
    "                image_y += self.stride\n",
    "                out_y += 1\n",
    "\n",
    "        return output\n",
    "\n",
    "    def backward(self):\n",
    "        pass"
   ],
   "metadata": {
    "collapsed": false,
    "pycharm": {
     "name": "#%%\n"
    }
   }
  },
  {
   "cell_type": "code",
   "execution_count": 13,
   "outputs": [
    {
     "data": {
      "text/plain": "(50, 3, 3, 3)"
     },
     "execution_count": 13,
     "metadata": {},
     "output_type": "execute_result"
    }
   ],
   "source": [
    "test_conv = ConvolutionLayerBatch(3, 2, 2, 2)\n",
    "test_conv_out = test_conv.forward(toy_batch_1)\n",
    "test_conv_out.shape"
   ],
   "metadata": {
    "collapsed": false,
    "pycharm": {
     "name": "#%%\n"
    }
   }
  },
  {
   "cell_type": "code",
   "execution_count": 14,
   "outputs": [
    {
     "data": {
      "text/plain": "array([[0.00394827, 0.00394827, 0.00394827],\n       [0.00394827, 0.35971887, 0.00394827],\n       [0.00394827, 0.00394827, 0.00394827]])"
     },
     "execution_count": 14,
     "metadata": {},
     "output_type": "execute_result"
    }
   ],
   "source": [
    "test_conv_out[0, :, :, 0]"
   ],
   "metadata": {
    "collapsed": false,
    "pycharm": {
     "name": "#%%\n"
    }
   }
  },
  {
   "cell_type": "markdown",
   "source": [
    "## Activation Layer"
   ],
   "metadata": {
    "collapsed": false
   }
  },
  {
   "cell_type": "code",
   "execution_count": 15,
   "outputs": [],
   "source": [
    "class ActivationLayer:\n",
    "    def __init__(self):\n",
    "        pass\n",
    "\n",
    "    def forward(self, input_matrix: np.ndarray) -> np.ndarray:\n",
    "        return relu(input_matrix)\n",
    "\n",
    "    def backward(self):\n",
    "        pass"
   ],
   "metadata": {
    "collapsed": false,
    "pycharm": {
     "name": "#%%\n"
    }
   }
  },
  {
   "cell_type": "code",
   "execution_count": 16,
   "outputs": [
    {
     "data": {
      "text/plain": "(50, 3, 3, 3)"
     },
     "execution_count": 16,
     "metadata": {},
     "output_type": "execute_result"
    }
   ],
   "source": [
    "test_activation = ActivationLayer()\n",
    "test_activation_out = test_activation.forward(test_conv_out)\n",
    "test_activation_out.shape"
   ],
   "metadata": {
    "collapsed": false,
    "pycharm": {
     "name": "#%%\n"
    }
   }
  },
  {
   "cell_type": "code",
   "execution_count": 17,
   "outputs": [
    {
     "data": {
      "text/plain": "array([[0.00394827, 0.00394827, 0.00394827],\n       [0.00394827, 0.35971887, 0.00394827],\n       [0.00394827, 0.00394827, 0.00394827]])"
     },
     "execution_count": 17,
     "metadata": {},
     "output_type": "execute_result"
    }
   ],
   "source": [
    "test_activation_out[0, :, :, 0]"
   ],
   "metadata": {
    "collapsed": false,
    "pycharm": {
     "name": "#%%\n"
    }
   }
  },
  {
   "cell_type": "markdown",
   "source": [
    "## Max Pooling Layer"
   ],
   "metadata": {
    "collapsed": false
   }
  },
  {
   "cell_type": "code",
   "execution_count": 18,
   "outputs": [],
   "source": [
    "class MaxPoolingLayer:\n",
    "    def __init__(self, filter_dimension: int, stride: int):\n",
    "        self.filter_dimension = filter_dimension\n",
    "        self.stride = stride\n",
    "\n",
    "    def forward(self, image: np.ndarray) -> np.ndarray:\n",
    "        input_dimensions = image.shape\n",
    "        output_dimension = (input_dimensions[0] - self.filter_dimension) // self.stride + 1\n",
    "\n",
    "        output = np.zeros((output_dimension, output_dimension, input_dimensions[2]))\n",
    "\n",
    "        image_y = out_y = 0\n",
    "        while image_y + self.filter_dimension <= input_dimensions[1]:\n",
    "            image_x = out_x = 0\n",
    "            while image_x + self.filter_dimension <= input_dimensions[0]:\n",
    "                image_slice = image[image_x: image_x+self.filter_dimension, image_y: image_y+self.filter_dimension, :]\n",
    "                output[out_x, out_y, :] = np.max(image_slice, axis=(0, 1))\n",
    "                image_x += self.stride\n",
    "                out_x += 1\n",
    "            image_y += self.stride\n",
    "            out_y += 1\n",
    "\n",
    "        return output\n",
    "\n",
    "    def backward(self):\n",
    "        pass"
   ],
   "metadata": {
    "collapsed": false,
    "pycharm": {
     "name": "#%%\n"
    }
   }
  },
  {
   "cell_type": "code",
   "execution_count": 19,
   "outputs": [],
   "source": [
    "class MaxPoolingLayerBatch:\n",
    "    def __init__(self, filter_dimension: int, stride: int):\n",
    "        self.filter_dimension = filter_dimension\n",
    "        self.stride = stride\n",
    "\n",
    "    def forward(self, image: np.ndarray) -> np.ndarray:\n",
    "        input_dimensions = image.shape\n",
    "        output_dimension = (input_dimensions[1] - self.filter_dimension) // self.stride + 1\n",
    "\n",
    "        output = np.zeros((input_dimensions[0], output_dimension, output_dimension, input_dimensions[3]))\n",
    "\n",
    "        for i in range(input_dimensions[0]):\n",
    "            image_y = out_y = 0\n",
    "            while image_y + self.filter_dimension <= input_dimensions[2]:\n",
    "                image_x = out_x = 0\n",
    "                while image_x + self.filter_dimension <= input_dimensions[1]:\n",
    "                    image_slice = image[i, image_x: image_x+self.filter_dimension, image_y: image_y+self.filter_dimension, :]\n",
    "                    output[i, out_x, out_y, :] = np.max(image_slice, axis=(0, 1))\n",
    "                    image_x += self.stride\n",
    "                    out_x += 1\n",
    "                image_y += self.stride\n",
    "                out_y += 1\n",
    "\n",
    "        return output\n",
    "\n",
    "    def backward(self):\n",
    "        pass"
   ],
   "metadata": {
    "collapsed": false,
    "pycharm": {
     "name": "#%%\n"
    }
   }
  },
  {
   "cell_type": "code",
   "execution_count": 20,
   "outputs": [
    {
     "data": {
      "text/plain": "(50, 2, 2, 3)"
     },
     "execution_count": 20,
     "metadata": {},
     "output_type": "execute_result"
    }
   ],
   "source": [
    "test_maxpool = MaxPoolingLayerBatch(2, 1)\n",
    "test_maxpool_out = test_maxpool.forward(test_activation_out)\n",
    "test_maxpool_out.shape"
   ],
   "metadata": {
    "collapsed": false,
    "pycharm": {
     "name": "#%%\n"
    }
   }
  },
  {
   "cell_type": "code",
   "execution_count": 21,
   "outputs": [
    {
     "data": {
      "text/plain": "array([[0.35971887, 0.35971887],\n       [0.35971887, 0.35971887]])"
     },
     "execution_count": 21,
     "metadata": {},
     "output_type": "execute_result"
    }
   ],
   "source": [
    "test_maxpool_out[0, :, :, 0]"
   ],
   "metadata": {
    "collapsed": false,
    "pycharm": {
     "name": "#%%\n"
    }
   }
  },
  {
   "cell_type": "markdown",
   "source": [
    "## Flattening Layer"
   ],
   "metadata": {
    "collapsed": false
   }
  },
  {
   "cell_type": "code",
   "execution_count": 22,
   "outputs": [],
   "source": [
    "class FlatteningLayer:\n",
    "    def __init__(self):\n",
    "        pass\n",
    "\n",
    "    def forward(self, image: np.ndarray) -> np.ndarray:\n",
    "        return image.flatten().reshape(-1, 1)\n",
    "\n",
    "    def backward(self):\n",
    "        pass"
   ],
   "metadata": {
    "collapsed": false,
    "pycharm": {
     "name": "#%%\n"
    }
   }
  },
  {
   "cell_type": "code",
   "execution_count": 23,
   "outputs": [],
   "source": [
    "class FlatteningLayerBatch:\n",
    "    def __init__(self):\n",
    "        pass\n",
    "\n",
    "    def forward(self, input_batch: np.ndarray) -> np.ndarray:\n",
    "        input_shape = input_batch.shape\n",
    "        return input_batch.reshape((input_shape[0], -1))\n",
    "\n",
    "    def backward(self):\n",
    "        pass"
   ],
   "metadata": {
    "collapsed": false,
    "pycharm": {
     "name": "#%%\n"
    }
   }
  },
  {
   "cell_type": "code",
   "execution_count": 24,
   "outputs": [
    {
     "data": {
      "text/plain": "(50, 12)"
     },
     "execution_count": 24,
     "metadata": {},
     "output_type": "execute_result"
    }
   ],
   "source": [
    "test_flattening = FlatteningLayerBatch()\n",
    "test_flattening_out = test_flattening.forward(test_maxpool_out)\n",
    "test_flattening_out.shape"
   ],
   "metadata": {
    "collapsed": false,
    "pycharm": {
     "name": "#%%\n"
    }
   }
  },
  {
   "cell_type": "code",
   "execution_count": 25,
   "outputs": [
    {
     "data": {
      "text/plain": "array([[0.35971887, 0.86796287, 1.16839157, 0.35971887, 0.86796287,\n        1.16839157, 0.35971887, 0.86796287, 1.16839157, 0.35971887,\n        0.86796287, 1.16839157],\n       [0.70140189, 1.20964589, 1.51007459, 0.70140189, 1.20964589,\n        1.51007459, 0.70140189, 1.20964589, 1.51007459, 0.70140189,\n        1.20964589, 1.51007459],\n       [1.39542218, 1.90366618, 2.20409488, 1.39542218, 1.90366618,\n        2.20409488, 1.39542218, 1.90366618, 2.20409488, 1.39542218,\n        1.90366618, 2.20409488],\n       [1.04935128, 1.55759528, 1.85802398, 1.04935128, 1.55759528,\n        1.85802398, 1.04935128, 1.55759528, 1.85802398, 1.04935128,\n        1.55759528, 1.85802398],\n       [1.39503394, 1.90327794, 2.20370664, 1.39503394, 1.90327794,\n        2.20370664, 1.39503394, 1.90327794, 2.20370664, 1.39503394,\n        1.90327794, 2.20370664],\n       [0.69735835, 1.20560235, 1.50603105, 0.69735835, 1.20560235,\n        1.50603105, 0.69735835, 1.20560235, 1.50603105, 0.69735835,\n        1.20560235, 1.50603105],\n       [0.34775693, 0.85600092, 1.15642962, 0.34775693, 0.85600092,\n        1.15642962, 0.34775693, 0.85600092, 1.15642962, 0.34775693,\n        0.85600092, 1.15642962],\n       [1.05156466, 1.55980866, 1.86023735, 1.05156466, 1.55980866,\n        1.86023735, 1.05156466, 1.55980866, 1.86023735, 1.05156466,\n        1.55980866, 1.86023735],\n       [0.35026826, 0.85851226, 1.15894096, 0.35026826, 0.85851226,\n        1.15894096, 0.35026826, 0.85851226, 1.15894096, 0.35026826,\n        0.85851226, 1.15894096],\n       [1.05074442, 1.55898841, 1.85941711, 1.05074442, 1.55898841,\n        1.85941711, 1.05074442, 1.55898841, 1.85941711, 1.05074442,\n        1.55898841, 1.85941711],\n       [1.04429834, 1.55254233, 1.85297103, 1.04429834, 1.55254233,\n        1.85297103, 1.04429834, 1.55254233, 1.85297103, 1.04429834,\n        1.55254233, 1.85297103],\n       [1.05378054, 1.56202454, 1.86245323, 1.05378054, 1.56202454,\n        1.86245323, 1.05378054, 1.56202454, 1.86245323, 1.05378054,\n        1.56202454, 1.86245323],\n       [1.05341057, 1.56165456, 1.86208326, 1.05341057, 1.56165456,\n        1.86208326, 1.05341057, 1.56165456, 1.86208326, 1.05341057,\n        1.56165456, 1.86208326],\n       [0.69129175, 1.19953575, 1.49996445, 0.69129175, 1.19953575,\n        1.49996445, 0.69129175, 1.19953575, 1.49996445, 0.69129175,\n        1.19953575, 1.49996445],\n       [0.34133865, 0.84958264, 1.15001134, 0.34133865, 0.84958264,\n        1.15001134, 0.34133865, 0.84958264, 1.15001134, 0.34133865,\n        0.84958264, 1.15001134],\n       [0.70070918, 1.20895318, 1.50938188, 0.70070918, 1.20895318,\n        1.50938188, 0.70070918, 1.20895318, 1.50938188, 0.70070918,\n        1.20895318, 1.50938188],\n       [0.35498297, 0.86322697, 1.16365566, 0.35498297, 0.86322697,\n        1.16365566, 0.35498297, 0.86322697, 1.16365566, 0.35498297,\n        0.86322697, 1.16365566],\n       [1.05703195, 1.56527594, 1.86570464, 1.05703195, 1.56527594,\n        1.86570464, 1.05703195, 1.56527594, 1.86570464, 1.05703195,\n        1.56527594, 1.86570464],\n       [1.38712744, 1.89537144, 2.19580014, 1.38712744, 1.89537144,\n        2.19580014, 1.38712744, 1.89537144, 2.19580014, 1.38712744,\n        1.89537144, 2.19580014],\n       [0.3447199 , 0.8529639 , 1.1533926 , 0.3447199 , 0.8529639 ,\n        1.1533926 , 0.3447199 , 0.8529639 , 1.1533926 , 0.3447199 ,\n        0.8529639 , 1.1533926 ],\n       [0.35700214, 0.86524614, 1.16567484, 0.35700214, 0.86524614,\n        1.16567484, 0.35700214, 0.86524614, 1.16567484, 0.35700214,\n        0.86524614, 1.16567484],\n       [1.4009304 , 1.9091744 , 2.2096031 , 1.4009304 , 1.9091744 ,\n        2.2096031 , 1.4009304 , 1.9091744 , 2.2096031 , 1.4009304 ,\n        1.9091744 , 2.2096031 ],\n       [0.3572811 , 0.8655251 , 1.1659538 , 0.3572811 , 0.8655251 ,\n        1.1659538 , 0.3572811 , 0.8655251 , 1.1659538 , 0.3572811 ,\n        0.8655251 , 1.1659538 ],\n       [0.35907415, 0.86731814, 1.16774684, 0.35907415, 0.86731814,\n        1.16774684, 0.35907415, 0.86731814, 1.16774684, 0.35907415,\n        0.86731814, 1.16774684],\n       [1.39963453, 1.90787853, 2.20830722, 1.39963453, 1.90787853,\n        2.20830722, 1.39963453, 1.90787853, 2.20830722, 1.39963453,\n        1.90787853, 2.20830722],\n       [0.35140571, 0.85964971, 1.16007841, 0.35140571, 0.85964971,\n        1.16007841, 0.35140571, 0.85964971, 1.16007841, 0.35140571,\n        0.85964971, 1.16007841],\n       [1.40224769, 1.91049168, 2.21092038, 1.40224769, 1.91049168,\n        2.21092038, 1.40224769, 1.91049168, 2.21092038, 1.40224769,\n        1.91049168, 2.21092038],\n       [0.3458202 , 0.85406419, 1.15449289, 0.3458202 , 0.85406419,\n        1.15449289, 0.3458202 , 0.85406419, 1.15449289, 0.3458202 ,\n        0.85406419, 1.15449289],\n       [0.69902227, 1.20726626, 1.50769496, 0.69902227, 1.20726626,\n        1.50769496, 0.69902227, 1.20726626, 1.50769496, 0.69902227,\n        1.20726626, 1.50769496],\n       [1.05393304, 1.56217704, 1.86260574, 1.05393304, 1.56217704,\n        1.86260574, 1.05393304, 1.56217704, 1.86260574, 1.05393304,\n        1.56217704, 1.86260574],\n       [1.05085317, 1.55909716, 1.85952586, 1.05085317, 1.55909716,\n        1.85952586, 1.05085317, 1.55909716, 1.85952586, 1.05085317,\n        1.55909716, 1.85952586],\n       [1.05761478, 1.56585878, 1.86628748, 1.05761478, 1.56585878,\n        1.86628748, 1.05761478, 1.56585878, 1.86628748, 1.05761478,\n        1.56585878, 1.86628748],\n       [1.05768824, 1.56593223, 1.86636093, 1.05768824, 1.56593223,\n        1.86636093, 1.05768824, 1.56593223, 1.86636093, 1.05768824,\n        1.56593223, 1.86636093],\n       [0.71626414, 1.22450814, 1.52493684, 0.71626414, 1.22450814,\n        1.52493684, 0.71626414, 1.22450814, 1.52493684, 0.71626414,\n        1.22450814, 1.52493684],\n       [0.34597003, 0.85421403, 1.15464273, 0.34597003, 0.85421403,\n        1.15464273, 0.34597003, 0.85421403, 1.15464273, 0.34597003,\n        0.85421403, 1.15464273],\n       [1.39836519, 1.90660918, 2.20703788, 1.39836519, 1.90660918,\n        2.20703788, 1.39836519, 1.90660918, 2.20703788, 1.39836519,\n        1.90660918, 2.20703788],\n       [0.35530965, 0.86355364, 1.16398234, 0.35530965, 0.86355364,\n        1.16398234, 0.35530965, 0.86355364, 1.16398234, 0.35530965,\n        0.86355364, 1.16398234],\n       [1.05577213, 1.56401613, 1.86444482, 1.05577213, 1.56401613,\n        1.86444482, 1.05577213, 1.56401613, 1.86444482, 1.05577213,\n        1.56401613, 1.86444482],\n       [1.41059408, 1.91883808, 2.21926678, 1.41059408, 1.91883808,\n        2.21926678, 1.41059408, 1.91883808, 2.21926678, 1.41059408,\n        1.91883808, 2.21926678],\n       [0.3663733 , 0.8746173 , 1.175046  , 0.3663733 , 0.8746173 ,\n        1.175046  , 0.3663733 , 0.8746173 , 1.175046  , 0.3663733 ,\n        0.8746173 , 1.175046  ],\n       [1.39697907, 1.90522307, 2.20565176, 1.39697907, 1.90522307,\n        2.20565176, 1.39697907, 1.90522307, 2.20565176, 1.39697907,\n        1.90522307, 2.20565176],\n       [0.35174898, 0.85999298, 1.16042168, 0.35174898, 0.85999298,\n        1.16042168, 0.35174898, 0.85999298, 1.16042168, 0.35174898,\n        0.85999298, 1.16042168],\n       [1.39680758, 1.90505158, 2.20548028, 1.39680758, 1.90505158,\n        2.20548028, 1.39680758, 1.90505158, 2.20548028, 1.39680758,\n        1.90505158, 2.20548028],\n       [1.4003178 , 1.9085618 , 2.20899049, 1.4003178 , 1.9085618 ,\n        2.20899049, 1.4003178 , 1.9085618 , 2.20899049, 1.4003178 ,\n        1.9085618 , 2.20899049],\n       [0.36380378, 0.87204777, 1.17247647, 0.36380378, 0.87204777,\n        1.17247647, 0.36380378, 0.87204777, 1.17247647, 0.36380378,\n        0.87204777, 1.17247647],\n       [1.05147703, 1.55972102, 1.86014972, 1.05147703, 1.55972102,\n        1.86014972, 1.05147703, 1.55972102, 1.86014972, 1.05147703,\n        1.55972102, 1.86014972],\n       [1.40155833, 1.90980233, 2.21023103, 1.40155833, 1.90980233,\n        2.21023103, 1.40155833, 1.90980233, 2.21023103, 1.40155833,\n        1.90980233, 2.21023103],\n       [0.70173687, 1.20998087, 1.51040956, 0.70173687, 1.20998087,\n        1.51040956, 0.70173687, 1.20998087, 1.51040956, 0.70173687,\n        1.20998087, 1.51040956],\n       [1.39363284, 1.90187684, 2.20230554, 1.39363284, 1.90187684,\n        2.20230554, 1.39363284, 1.90187684, 2.20230554, 1.39363284,\n        1.90187684, 2.20230554],\n       [1.040373  , 1.548617  , 1.8490457 , 1.040373  , 1.548617  ,\n        1.8490457 , 1.040373  , 1.548617  , 1.8490457 , 1.040373  ,\n        1.548617  , 1.8490457 ]])"
     },
     "execution_count": 25,
     "metadata": {},
     "output_type": "execute_result"
    }
   ],
   "source": [
    "test_flattening_out"
   ],
   "metadata": {
    "collapsed": false,
    "pycharm": {
     "name": "#%%\n"
    }
   }
  },
  {
   "cell_type": "markdown",
   "source": [
    "## Fully Connected Layer"
   ],
   "metadata": {
    "collapsed": false
   }
  },
  {
   "cell_type": "code",
   "execution_count": 26,
   "outputs": [],
   "source": [
    "class FullyConnectedLayer:\n",
    "    def __init__(self, output_dimension: int):\n",
    "        self.output_dimension = output_dimension\n",
    "\n",
    "    def forward(self, flattened_input: np.ndarray) -> np.ndarray:\n",
    "        weights = np.random.rand(flattened_input.shape[0], self.output_dimension)\n",
    "        bias = np.random.rand(self.output_dimension, 1)\n",
    "\n",
    "        return weights.T @ flattened_input + bias\n",
    "\n",
    "    def backward(self):\n",
    "        pass"
   ],
   "metadata": {
    "collapsed": false,
    "pycharm": {
     "name": "#%%\n"
    }
   }
  },
  {
   "cell_type": "code",
   "execution_count": 27,
   "outputs": [],
   "source": [
    "class FullyConnectedLayerBatch:\n",
    "    def __init__(self, output_dimension: int):\n",
    "        self.output_dimension = output_dimension\n",
    "        self.input_matrix = None\n",
    "        self.weights = None\n",
    "        self.bias = None\n",
    "\n",
    "    def forward(self, flattened_input: np.ndarray) -> np.ndarray:\n",
    "        if not self.weights:\n",
    "            self.weights = np.random.rand(flattened_input.shape[1], self.output_dimension)\n",
    "        if not self.bias:\n",
    "            self.bias = np.random.rand(1, self.output_dimension)\n",
    "        self.input_matrix = flattened_input\n",
    "\n",
    "        return flattened_input @ self.weights + self.bias\n",
    "\n",
    "    def backward(self, d_theta: np.ndarray, learning_rate: int):\n",
    "        n = d_theta.shape[0]\n",
    "        dw = self.input_matrix.T @ d_theta\n",
    "        db = np.sum(d_theta, axis=0, keepdims=True)\n",
    "        self.weights = self.weights - learning_rate * dw / n\n",
    "        self.bias = self.bias - learning_rate * db / n\n"
   ],
   "metadata": {
    "collapsed": false,
    "pycharm": {
     "name": "#%%\n"
    }
   }
  },
  {
   "cell_type": "code",
   "execution_count": 28,
   "outputs": [
    {
     "data": {
      "text/plain": "(50, 4)"
     },
     "execution_count": 28,
     "metadata": {},
     "output_type": "execute_result"
    }
   ],
   "source": [
    "test_fc = FullyConnectedLayerBatch(4)\n",
    "test_fc_out = test_fc.forward(test_flattening_out)\n",
    "test_fc_out.shape"
   ],
   "metadata": {
    "collapsed": false,
    "pycharm": {
     "name": "#%%\n"
    }
   }
  },
  {
   "cell_type": "code",
   "execution_count": 29,
   "outputs": [
    {
     "data": {
      "text/plain": "array([[ 6.3557987 ,  5.17494228,  5.2019971 ,  4.14542299],\n       [ 8.74515052,  7.57014592,  7.20639698,  6.01910829],\n       [13.59835809, 12.43523958, 11.27769723,  9.82490349],\n       [11.17832234, 10.00927687,  9.24755695,  7.92715642],\n       [13.59564318, 12.43251802, 11.27541972,  9.82277451],\n       [ 8.71687449,  7.54180063,  7.18267654,  5.99693475],\n       [ 6.27215014,  5.09108886,  5.13182528,  4.07982734],\n       [11.19380024, 10.02479268,  9.26054119,  7.9392939 ],\n       [ 6.28971165,  5.10869338,  5.14655743,  4.09359875],\n       [11.18806437, 10.01904276,  9.25572943,  7.93479594],\n       [11.14298764,  9.97385563,  9.21791507,  7.8994476 ],\n       [11.20929564, 10.04032602,  9.2735401 ,  7.9514451 ],\n       [11.20670846, 10.03773251,  9.27136975,  7.94941629],\n       [ 8.67445141,  7.49927366,  7.14708831,  5.96366736],\n       [ 6.22726781,  5.04609661,  5.09417401,  4.04463145],\n       [ 8.74030647,  7.56529001,  7.20233337,  6.01530968],\n       [ 6.32268105,  5.14174353,  5.17421509,  4.11945274],\n       [11.23203237, 10.06311844,  9.29261368,  7.96927483],\n       [13.5403539 , 12.37709333, 11.22903818,  9.77941768],\n       [ 6.25091258,  5.06979929,  5.11400934,  4.06317324],\n       [ 6.3368009 ,  5.15589796,  5.18606006,  4.13052527],\n       [13.63687648, 12.47385231, 11.31000986,  9.8551089 ],\n       [ 6.33875164,  5.15785348,  5.18769652,  4.13205501],\n       [ 6.3512902 ,  5.17042275,  5.19821498,  4.14188751],\n       [13.62781458, 12.46476821, 11.30240794,  9.84800272],\n       [ 6.29766571,  5.11666692,  5.15323   ,  4.09983618],\n       [13.6460881 , 12.48308648, 11.31773738,  9.86233248],\n       [ 6.25860679,  5.07751234,  5.12046392,  4.0692069 ],\n       [ 8.72851005,  7.55346469,  7.19243748,  6.00605914],\n       [11.21036208, 10.04139508,  9.27443472,  7.95228139],\n       [11.18882485, 10.0198051 ,  9.25636739,  7.93539229],\n       [11.2361081 , 10.06720415,  9.29603276,  7.97247094],\n       [11.23662174, 10.06771905,  9.29646365,  7.97287372],\n       [ 8.8490806 ,  7.67433053,  7.29358273,  6.10060833],\n       [ 6.25965457,  5.07856269,  5.12134289,  4.07002855],\n       [13.6189382 , 12.4558701 , 11.29496165,  9.84104203],\n       [ 6.32496548,  5.14403355,  5.17613146,  4.12124415],\n       [11.22322261, 10.0542871 ,  9.28522327,  7.96236638],\n       [13.70445353, 12.54159486, 11.36669948,  9.90810157],\n       [ 6.40233242,  5.22158997,  5.24103371,  4.18191387],\n       [13.60924523, 12.44615339, 11.28683033,  9.83344099],\n       [ 6.30006613,  5.11907322,  5.15524369,  4.10171854],\n       [13.60804604, 12.44495126, 11.28582434,  9.8325006 ],\n       [13.63259261, 12.46955795, 11.30641617,  9.85174957],\n       [ 6.38436399,  5.20357754,  5.2259602 ,  4.16782336],\n       [11.19318742, 10.02417836,  9.2600271 ,  7.93881334],\n       [13.64126754, 12.47825412, 11.31369347,  9.85855228],\n       [ 8.74749296,  7.5724941 ,  7.20836203,  6.02094519],\n       [13.58584542, 12.42269627, 11.26720049,  9.81509129],\n       [11.1155382 ,  9.94633896,  9.19488805,  7.87792226]])"
     },
     "execution_count": 29,
     "metadata": {},
     "output_type": "execute_result"
    }
   ],
   "source": [
    "test_fc_out"
   ],
   "metadata": {
    "collapsed": false,
    "pycharm": {
     "name": "#%%\n"
    }
   }
  },
  {
   "cell_type": "markdown",
   "source": [
    "## Softmax Layer"
   ],
   "metadata": {
    "collapsed": false
   }
  },
  {
   "cell_type": "code",
   "execution_count": 30,
   "outputs": [],
   "source": [
    "class SoftmaxLayer:\n",
    "    def __init__(self):\n",
    "        pass\n",
    "\n",
    "    def forward(self, input_matrix: np.ndarray) -> np.ndarray:\n",
    "        exp = np.exp(input_matrix)\n",
    "        exp /= np.sum(exp)\n",
    "        return exp\n",
    "\n",
    "    def backward(self):\n",
    "        pass"
   ],
   "metadata": {
    "collapsed": false,
    "pycharm": {
     "name": "#%%\n"
    }
   }
  },
  {
   "cell_type": "code",
   "execution_count": 31,
   "outputs": [],
   "source": [
    "class SoftmaxLayerBatch:\n",
    "    def __init__(self):\n",
    "        self.input_matrix = None\n",
    "\n",
    "    def forward(self, input_matrix: np.ndarray) -> np.ndarray:\n",
    "        exp = np.exp(input_matrix)\n",
    "        exp_sum = np.sum(exp, axis=1).reshape(-1, 1)\n",
    "        exp /= exp_sum\n",
    "        self.input_matrix = exp\n",
    "        return exp\n",
    "\n",
    "    def backward(self, labels: np.ndarray) -> np.ndarray:\n",
    "        return labels - self.input_matrix"
   ],
   "metadata": {
    "collapsed": false,
    "pycharm": {
     "name": "#%%\n"
    }
   }
  },
  {
   "cell_type": "code",
   "execution_count": 32,
   "outputs": [
    {
     "data": {
      "text/plain": "(50, 4)"
     },
     "execution_count": 32,
     "metadata": {},
     "output_type": "execute_result"
    }
   ],
   "source": [
    "test_softmax = SoftmaxLayerBatch()\n",
    "test_softmax_out = test_softmax.forward(test_fc_out)\n",
    "test_softmax_out.shape"
   ],
   "metadata": {
    "collapsed": false,
    "pycharm": {
     "name": "#%%\n"
    }
   }
  },
  {
   "cell_type": "code",
   "execution_count": 33,
   "outputs": [
    {
     "data": {
      "text/plain": "array([[0.57733038, 0.17724949, 0.1821104 , 0.06330973],\n       [0.62934881, 0.19435396, 0.13508877, 0.04120845],\n       [0.69750021, 0.21797586, 0.06850056, 0.01602337],\n       [0.66915167, 0.20788089, 0.09705185, 0.02591559],\n       [0.69747377, 0.21796614, 0.06852793, 0.01603215],\n       [0.6288108 , 0.19417437, 0.13558957, 0.04142525],\n       [0.57526641, 0.17657964, 0.18392138, 0.06423257],\n       [0.66936604, 0.20795537, 0.09684115, 0.02583744],\n       [0.57570108, 0.17672066, 0.18354032, 0.06403794],\n       [0.66928665, 0.20792779, 0.09691919, 0.02586638],\n       [0.66866056, 0.20771034, 0.09753429, 0.02609481],\n       [0.66958019, 0.2080298 , 0.09663059, 0.02575942],\n       [0.66954447, 0.20801738, 0.09666572, 0.02577243],\n       [0.62800021, 0.19390391, 0.13634349, 0.04175238],\n       [0.57415223, 0.17621826, 0.18489734, 0.06473216],\n       [0.62925677, 0.19432324, 0.13517447, 0.04124552],\n       [0.57651518, 0.17698485, 0.18282615, 0.06367381],\n       [0.66989359, 0.20813875, 0.09632233, 0.02564533],\n       [0.69693289, 0.21776762, 0.06908747, 0.01621202],\n       [0.57473978, 0.17640881, 0.18438282, 0.06446858],\n       [0.57686306, 0.17709777, 0.18252079, 0.06351838],\n       [0.69787418, 0.2181133 , 0.06811328, 0.01589924],\n       [0.57691109, 0.17711336, 0.18247862, 0.06349693],\n       [0.57721956, 0.17721351, 0.18220774, 0.06335919],\n       [0.6977864 , 0.21808102, 0.06820422, 0.01592836],\n       [0.57589772, 0.17678447, 0.18336787, 0.06394994],\n       [0.69796329, 0.21814607, 0.06802095, 0.01586969],\n       [0.5749307 , 0.17647074, 0.18421557, 0.064383  ],\n       [0.62903241, 0.19424834, 0.13538333, 0.04133592],\n       [0.66959491, 0.20803491, 0.09661612, 0.02575406],\n       [0.66929718, 0.20793144, 0.09690884, 0.02586254],\n       [0.66994966, 0.20815826, 0.09626716, 0.02562492],\n       [0.66995673, 0.20816071, 0.09626021, 0.02562235],\n       [0.63131072, 0.19500947, 0.13325976, 0.04042005],\n       [0.57495668, 0.17647917, 0.1841928 , 0.06437135],\n       [0.69770029, 0.21804937, 0.0682934 , 0.01595693],\n       [0.5765715 , 0.17700313, 0.18277673, 0.06364864],\n       [0.66977227, 0.20809657, 0.09644168, 0.02568948],\n       [0.69852496, 0.21835283, 0.06743855, 0.01568365],\n       [0.57847149, 0.17762007, 0.18110746, 0.06280098],\n       [0.69760614, 0.21801477, 0.0683909 , 0.01598819],\n       [0.57595704, 0.17680371, 0.18331585, 0.0639234 ],\n       [0.69759448, 0.21801049, 0.06840297, 0.01599206],\n       [0.6978327 , 0.21809805, 0.06815626, 0.015913  ],\n       [0.57803147, 0.17747715, 0.18149435, 0.06299704],\n       [0.66935756, 0.20795242, 0.09684948, 0.02584053],\n       [0.69791667, 0.21812893, 0.06806926, 0.01588515],\n       [0.6293933 , 0.19436882, 0.13504734, 0.04119054],\n       [0.69737825, 0.21793106, 0.06862679, 0.01606389],\n       [0.66827738, 0.20757736, 0.09791044, 0.02623482]])"
     },
     "execution_count": 33,
     "metadata": {},
     "output_type": "execute_result"
    }
   ],
   "source": [
    "test_softmax_out"
   ],
   "metadata": {
    "collapsed": false,
    "pycharm": {
     "name": "#%%\n"
    }
   }
  },
  {
   "cell_type": "markdown",
   "source": [
    "## Backprop Test"
   ],
   "metadata": {
    "collapsed": false
   }
  },
  {
   "cell_type": "markdown",
   "source": [
    "#### Loss Function"
   ],
   "metadata": {
    "collapsed": false
   }
  },
  {
   "cell_type": "code",
   "execution_count": 34,
   "outputs": [],
   "source": [
    "def loss_function(y_true, y_pred):\n",
    "    labels = y_true * np.log(y_pred) * -1.0\n",
    "    return np.sum(labels) / y_true.shape[0]"
   ],
   "metadata": {
    "collapsed": false,
    "pycharm": {
     "name": "#%%\n"
    }
   }
  },
  {
   "cell_type": "code",
   "execution_count": 35,
   "outputs": [
    {
     "data": {
      "text/plain": "2.135417505373132"
     },
     "execution_count": 35,
     "metadata": {},
     "output_type": "execute_result"
    }
   ],
   "source": [
    "loss_function_test = loss_function(toy_labels_1, test_softmax_out)\n",
    "loss_function_test"
   ],
   "metadata": {
    "collapsed": false,
    "pycharm": {
     "name": "#%%\n"
    }
   }
  },
  {
   "cell_type": "markdown",
   "source": [
    "#### Softmax Layer"
   ],
   "metadata": {
    "collapsed": false
   }
  },
  {
   "cell_type": "code",
   "execution_count": 36,
   "outputs": [
    {
     "data": {
      "text/plain": "array([[ 0.42266962, -0.17724949, -0.1821104 , -0.06330973],\n       [-0.62934881,  0.80564604, -0.13508877, -0.04120845],\n       [-0.69750021, -0.21797586, -0.06850056,  0.98397663],\n       [-0.66915167, -0.20788089,  0.90294815, -0.02591559],\n       [-0.69747377, -0.21796614, -0.06852793,  0.98396785],\n       [-0.6288108 ,  0.80582563, -0.13558957, -0.04142525],\n       [ 0.42473359, -0.17657964, -0.18392138, -0.06423257],\n       [-0.66936604, -0.20795537,  0.90315885, -0.02583744],\n       [ 0.42429892, -0.17672066, -0.18354032, -0.06403794],\n       [-0.66928665, -0.20792779,  0.90308081, -0.02586638],\n       [-0.66866056, -0.20771034,  0.90246571, -0.02609481],\n       [-0.66958019, -0.2080298 ,  0.90336941, -0.02575942],\n       [-0.66954447, -0.20801738,  0.90333428, -0.02577243],\n       [-0.62800021,  0.80609609, -0.13634349, -0.04175238],\n       [ 0.42584777, -0.17621826, -0.18489734, -0.06473216],\n       [-0.62925677,  0.80567676, -0.13517447, -0.04124552],\n       [ 0.42348482, -0.17698485, -0.18282615, -0.06367381],\n       [-0.66989359, -0.20813875,  0.90367767, -0.02564533],\n       [-0.69693289, -0.21776762, -0.06908747,  0.98378798],\n       [ 0.42526022, -0.17640881, -0.18438282, -0.06446858],\n       [ 0.42313694, -0.17709777, -0.18252079, -0.06351838],\n       [-0.69787418, -0.2181133 , -0.06811328,  0.98410076],\n       [ 0.42308891, -0.17711336, -0.18247862, -0.06349693],\n       [ 0.42278044, -0.17721351, -0.18220774, -0.06335919],\n       [-0.6977864 , -0.21808102, -0.06820422,  0.98407164],\n       [ 0.42410228, -0.17678447, -0.18336787, -0.06394994],\n       [-0.69796329, -0.21814607, -0.06802095,  0.98413031],\n       [ 0.4250693 , -0.17647074, -0.18421557, -0.064383  ],\n       [-0.62903241,  0.80575166, -0.13538333, -0.04133592],\n       [-0.66959491, -0.20803491,  0.90338388, -0.02575406],\n       [-0.66929718, -0.20793144,  0.90309116, -0.02586254],\n       [-0.66994966, -0.20815826,  0.90373284, -0.02562492],\n       [-0.66995673, -0.20816071,  0.90373979, -0.02562235],\n       [-0.63131072,  0.80499053, -0.13325976, -0.04042005],\n       [ 0.42504332, -0.17647917, -0.1841928 , -0.06437135],\n       [-0.69770029, -0.21804937, -0.0682934 ,  0.98404307],\n       [ 0.4234285 , -0.17700313, -0.18277673, -0.06364864],\n       [-0.66977227, -0.20809657,  0.90355832, -0.02568948],\n       [-0.69852496, -0.21835283, -0.06743855,  0.98431635],\n       [ 0.42152851, -0.17762007, -0.18110746, -0.06280098],\n       [-0.69760614, -0.21801477, -0.0683909 ,  0.98401181],\n       [ 0.42404296, -0.17680371, -0.18331585, -0.0639234 ],\n       [-0.69759448, -0.21801049, -0.06840297,  0.98400794],\n       [-0.6978327 , -0.21809805, -0.06815626,  0.984087  ],\n       [ 0.42196853, -0.17747715, -0.18149435, -0.06299704],\n       [-0.66935756, -0.20795242,  0.90315052, -0.02584053],\n       [-0.69791667, -0.21812893, -0.06806926,  0.98411485],\n       [-0.6293933 ,  0.80563118, -0.13504734, -0.04119054],\n       [-0.69737825, -0.21793106, -0.06862679,  0.98393611],\n       [-0.66827738, -0.20757736,  0.90208956, -0.02623482]])"
     },
     "execution_count": 36,
     "metadata": {},
     "output_type": "execute_result"
    }
   ],
   "source": [
    "test_softmax_back = test_softmax.backward(toy_labels_1)\n",
    "test_softmax_back"
   ],
   "metadata": {
    "collapsed": false,
    "pycharm": {
     "name": "#%%\n"
    }
   }
  },
  {
   "cell_type": "markdown",
   "source": [
    "#### Fully Connected Layer"
   ],
   "metadata": {
    "collapsed": false
   }
  },
  {
   "cell_type": "code",
   "execution_count": 37,
   "outputs": [],
   "source": [
    "test_fc.backward(test_softmax_back, learning_rate=0.01)"
   ],
   "metadata": {
    "collapsed": false,
    "pycharm": {
     "name": "#%%\n"
    }
   }
  },
  {
   "cell_type": "markdown",
   "source": [
    "## Main Test"
   ],
   "metadata": {
    "collapsed": false
   }
  },
  {
   "cell_type": "code",
   "execution_count": 38,
   "outputs": [
    {
     "data": {
      "text/plain": "<matplotlib.image.AxesImage at 0x7f7e7335f850>"
     },
     "execution_count": 38,
     "metadata": {},
     "output_type": "execute_result"
    },
    {
     "data": {
      "text/plain": "<Figure size 432x288 with 1 Axes>",
      "image/png": "[encoded data removed]"
     },
     "metadata": {
      "needs_background": "light"
     },
     "output_type": "display_data"
    }
   ],
   "source": [
    "x_train, y_train, x_test, y_test = process_mnist_data()\n",
    "img = x_train[0].reshape(28, 28, 1)\n",
    "plt.imshow(img, cmap='gray')"
   ],
   "metadata": {
    "collapsed": false,
    "pycharm": {
     "name": "#%%\n"
    }
   }
  },
  {
   "cell_type": "code",
   "execution_count": 39,
   "outputs": [
    {
     "name": "stdout",
     "output_type": "stream",
     "text": [
      "(64, 28, 28, 6)\n"
     ]
    }
   ],
   "source": [
    "m = parse_input_model()\n",
    "c1 = ConvolutionLayerBatch(6, 5, 1, 2)\n",
    "mnist_batch_1 = x_train[0:64].reshape(64, 28, 28, 1)\n",
    "o = c1.forward(mnist_batch_1)\n",
    "print(o.shape)"
   ],
   "metadata": {
    "collapsed": false,
    "pycharm": {
     "name": "#%%\n"
    }
   }
  },
  {
   "cell_type": "code",
   "execution_count": 40,
   "outputs": [
    {
     "data": {
      "text/plain": "array([[4.91951578e-02, 4.91951578e-02, 4.91951578e-02, 4.91951578e-02,\n        4.91951578e-02, 4.91951578e-02, 4.91951578e-02, 4.91951578e-02,\n        4.91951578e-02, 4.91951578e-02, 4.91951578e-02, 4.91951578e-02,\n        4.91951578e-02, 4.91951578e-02, 4.91951578e-02, 4.91951578e-02,\n        4.91951578e-02, 4.91951578e-02, 4.91951578e-02, 4.91951578e-02,\n        4.91951578e-02, 4.91951578e-02, 4.91951578e-02, 4.91951578e-02,\n        4.91951578e-02, 4.91951578e-02, 4.91951578e-02, 4.91951578e-02],\n       [4.91951578e-02, 4.91951578e-02, 4.91951578e-02, 4.91951578e-02,\n        4.91951578e-02, 4.91951578e-02, 4.91951578e-02, 4.91951578e-02,\n        4.91951578e-02, 4.91951578e-02, 4.91951578e-02, 4.91951578e-02,\n        4.91951578e-02, 4.91951578e-02, 4.91951578e-02, 4.91951578e-02,\n        4.91951578e-02, 4.91951578e-02, 4.91951578e-02, 4.91951578e-02,\n        4.91951578e-02, 4.91951578e-02, 4.91951578e-02, 4.91951578e-02,\n        4.91951578e-02, 4.91951578e-02, 4.91951578e-02, 4.91951578e-02],\n       [4.91951578e-02, 4.91951578e-02, 4.91951578e-02, 4.91951578e-02,\n        4.91951578e-02, 4.91951578e-02, 4.91951578e-02, 4.91951578e-02,\n        4.91951578e-02, 4.91951578e-02, 4.91951578e-02, 4.91951578e-02,\n        4.91951578e-02, 4.91951578e-02, 4.91951578e-02, 4.91951578e-02,\n        4.91951578e-02, 4.91951578e-02, 4.91951578e-02, 4.91951578e-02,\n        4.91951578e-02, 4.91951578e-02, 4.91951578e-02, 4.91951578e-02,\n        4.91951578e-02, 4.91951578e-02, 4.91951578e-02, 4.91951578e-02],\n       [4.91951578e-02, 4.91951578e-02, 4.91951578e-02, 4.91951578e-02,\n        4.91951578e-02, 4.91951578e-02, 4.91951578e-02, 4.91951578e-02,\n        4.91951578e-02, 4.91951578e-02, 7.64754773e-02, 2.40503136e-01,\n        4.20315557e-01, 6.47766932e-01, 1.75873942e+00, 3.01259691e+00,\n        4.95988407e+00, 4.78850952e+00, 6.50720480e+00, 6.89531241e+00,\n        9.07941105e+00, 8.36704559e+00, 8.13245339e+00, 6.24397377e+00,\n        3.62799361e+00, 1.47485392e+00, 4.91951578e-02, 4.91951578e-02],\n       [4.91951578e-02, 4.91951578e-02, 4.91951578e-02, 4.91951578e-02,\n        4.91951578e-02, 4.91951578e-02, 3.21998353e-01, 6.52819603e-01,\n        1.65231239e+00, 3.00579486e+00, 4.91712980e+00, 7.28084629e+00,\n        9.49027925e+00, 1.16573060e+01, 1.36664336e+01, 1.59056065e+01,\n        1.77467127e+01, 1.66417301e+01, 1.81970238e+01, 1.84539610e+01,\n        2.05856450e+01, 1.82027279e+01, 1.58214942e+01, 1.07662185e+01,\n        5.78648947e+00, 1.94412987e+00, 4.91951578e-02, 4.91951578e-02],\n       [4.91951578e-02, 4.91951578e-02, 4.91951578e-02, 4.91951578e-02,\n        4.91951578e-02, 4.94773711e-01, 2.99079019e+00, 5.90805017e+00,\n        1.01096674e+01, 1.35782502e+01, 1.77668125e+01, 2.05792272e+01,\n        2.27770365e+01, 2.48298798e+01, 2.74473638e+01, 2.97922513e+01,\n        2.96950776e+01, 2.73067661e+01, 2.66507697e+01, 2.74226986e+01,\n        2.52300750e+01, 2.21434859e+01, 1.85148701e+01, 1.26161529e+01,\n        6.80671135e+00, 1.68387795e+00, 4.91951578e-02, 4.91951578e-02],\n       [4.91951578e-02, 4.91951578e-02, 4.91951578e-02, 4.91951578e-02,\n        4.91951578e-02, 7.45557189e-01, 5.73110907e+00, 1.13306475e+01,\n        1.90001518e+01, 2.50535654e+01, 3.12475236e+01, 3.49813126e+01,\n        3.72545249e+01, 3.82493782e+01, 4.11610075e+01, 4.31480525e+01,\n        4.04783046e+01, 3.54261422e+01, 3.28054656e+01, 3.15968396e+01,\n        2.59770105e+01, 2.24636234e+01, 1.88451041e+01, 1.37177636e+01,\n        7.41556213e+00, 1.91779054e+00, 4.91951578e-02, 4.91951578e-02],\n       [4.91951578e-02, 4.91951578e-02, 4.91951578e-02, 4.91951578e-02,\n        4.91951578e-02, 9.90598071e-01, 7.97608610e+00, 1.53517800e+01,\n        2.38610095e+01, 3.37846800e+01, 4.14583911e+01, 4.69785709e+01,\n        4.71282130e+01, 4.72945699e+01, 4.75217646e+01, 4.91260730e+01,\n        4.39795435e+01, 3.89881707e+01, 3.57575039e+01, 3.26027765e+01,\n        2.58218223e+01, 2.35929346e+01, 1.96610236e+01, 1.38906445e+01,\n        6.68014644e+00, 1.40128778e+00, 4.91951578e-02, 4.91951578e-02],\n       [4.91951578e-02, 4.91951578e-02, 4.91951578e-02, 4.91951578e-02,\n        4.91951578e-02, 1.01163331e+00, 8.74337887e+00, 1.64722923e+01,\n        2.40553619e+01, 3.72668054e+01, 4.76903771e+01, 5.48676265e+01,\n        5.41660823e+01, 5.27635946e+01, 5.05367339e+01, 4.79395283e+01,\n        3.85600148e+01, 3.39915009e+01, 3.00762950e+01, 2.29706997e+01,\n        1.64616517e+01, 1.38720599e+01, 1.03832719e+01, 6.42745930e+00,\n        2.53148671e+00, 3.89356249e-01, 4.91951578e-02, 4.91951578e-02],\n       [4.91951578e-02, 4.91951578e-02, 4.91951578e-02, 4.91951578e-02,\n        4.91951578e-02, 1.03458391e+00, 8.56552409e+00, 1.61743623e+01,\n        2.26688046e+01, 3.60159984e+01, 4.78987729e+01, 5.25966689e+01,\n        5.01971137e+01, 4.61587729e+01, 4.12531716e+01, 3.54183371e+01,\n        2.39989110e+01, 2.02339539e+01, 1.74605444e+01, 9.39186794e+00,\n        4.04854365e+00, 2.90787553e+00, 1.88403928e+00, 9.76481535e-01,\n        2.56480823e-01, 4.91951578e-02, 4.91951578e-02, 4.91951578e-02],\n       [4.91951578e-02, 4.91951578e-02, 4.91951578e-02, 4.91951578e-02,\n        4.91951578e-02, 3.18266107e-01, 4.62620672e+00, 9.42757408e+00,\n        1.33096464e+01, 2.43044573e+01, 3.66536513e+01, 4.23243696e+01,\n        4.10924113e+01, 3.88071692e+01, 3.15980358e+01, 2.36636214e+01,\n        1.23632142e+01, 9.95531836e+00, 7.83695141e+00, 2.95935114e+00,\n        4.91951578e-02, 4.91951578e-02, 4.91951578e-02, 4.91951578e-02,\n        4.91951578e-02, 4.91951578e-02, 4.91951578e-02, 4.91951578e-02],\n       [4.91951578e-02, 4.91951578e-02, 4.91951578e-02, 4.91951578e-02,\n        4.91951578e-02, 4.91951578e-02, 1.24506604e+00, 3.37446067e+00,\n        4.36819510e+00, 1.26944595e+01, 2.39544271e+01, 3.10875823e+01,\n        3.29287934e+01, 3.38531117e+01, 2.65622087e+01, 1.67642617e+01,\n        7.90270242e+00, 5.19313406e+00, 3.98275123e+00, 8.78933444e-01,\n        4.91951578e-02, 4.91951578e-02, 4.91951578e-02, 4.91951578e-02,\n        4.91951578e-02, 4.91951578e-02, 4.91951578e-02, 4.91951578e-02],\n       [4.91951578e-02, 4.91951578e-02, 4.91951578e-02, 4.91951578e-02,\n        4.91951578e-02, 4.91951578e-02, 4.91951578e-02, 2.58472563e-01,\n        2.03549142e-01, 4.65935812e+00, 1.39238669e+01, 2.22412327e+01,\n        2.68361469e+01, 3.22543688e+01, 3.08831410e+01, 2.22814051e+01,\n        1.45264860e+01, 8.60162680e+00, 4.99912887e+00, 1.55298570e+00,\n        3.29836646e-01, 4.91951578e-02, 4.91951578e-02, 4.91951578e-02,\n        4.91951578e-02, 4.91951578e-02, 4.91951578e-02, 4.91951578e-02],\n       [4.91951578e-02, 4.91951578e-02, 4.91951578e-02, 4.91951578e-02,\n        4.91951578e-02, 4.91951578e-02, 4.91951578e-02, 4.91951578e-02,\n        4.91951578e-02, 2.28158172e+00, 8.52514986e+00, 1.76538738e+01,\n        2.31244706e+01, 2.91179158e+01, 3.42582584e+01, 3.04204217e+01,\n        2.41412644e+01, 1.79794110e+01, 1.12380830e+01, 5.49515199e+00,\n        2.13600430e+00, 3.52287966e-01, 4.91951578e-02, 4.91951578e-02,\n        4.91951578e-02, 4.91951578e-02, 4.91951578e-02, 4.91951578e-02],\n       [4.91951578e-02, 4.91951578e-02, 4.91951578e-02, 4.91951578e-02,\n        4.91951578e-02, 4.91951578e-02, 4.91951578e-02, 4.91951578e-02,\n        4.91951578e-02, 2.13627405e-01, 3.49070615e+00, 1.08239315e+01,\n        1.71476588e+01, 2.41472119e+01, 3.12931720e+01, 3.38892898e+01,\n        3.15337495e+01, 2.79421852e+01, 1.98034248e+01, 1.22193823e+01,\n        5.85234930e+00, 2.39851395e+00, 4.91951578e-02, 4.91951578e-02,\n        4.91951578e-02, 4.91951578e-02, 4.91951578e-02, 4.91951578e-02],\n       [4.91951578e-02, 4.91951578e-02, 4.91951578e-02, 4.91951578e-02,\n        4.91951578e-02, 4.91951578e-02, 4.91951578e-02, 4.91951578e-02,\n        4.91951578e-02, 4.91951578e-02, 5.72388671e-01, 5.13840043e+00,\n        1.11056605e+01, 1.84435764e+01, 2.70454135e+01, 3.39863455e+01,\n        3.71447189e+01, 3.71763383e+01, 2.90372049e+01, 2.16107157e+01,\n        1.08922311e+01, 5.20438988e+00, 7.67637369e-01, 4.91951578e-02,\n        4.91951578e-02, 4.91951578e-02, 4.91951578e-02, 4.91951578e-02],\n       [4.91951578e-02, 4.91951578e-02, 4.91951578e-02, 4.91951578e-02,\n        4.91951578e-02, 4.91951578e-02, 4.91951578e-02, 4.91951578e-02,\n        4.91951578e-02, 4.91951578e-02, 4.91951578e-02, 1.26001443e+00,\n        5.49396158e+00, 1.21516055e+01, 2.15679154e+01, 3.39842954e+01,\n        4.16513573e+01, 4.56301380e+01, 3.82804182e+01, 2.94714443e+01,\n        1.63783662e+01, 6.94224425e+00, 6.64524586e-01, 4.91951578e-02,\n        4.91951578e-02, 4.91951578e-02, 4.91951578e-02, 4.91951578e-02],\n       [4.91951578e-02, 4.91951578e-02, 4.91951578e-02, 4.91951578e-02,\n        4.91951578e-02, 4.91951578e-02, 4.91951578e-02, 4.91951578e-02,\n        4.91951578e-02, 4.91951578e-02, 4.03839312e-01, 1.75416305e+00,\n        5.20909048e+00, 1.20803974e+01, 2.08421097e+01, 3.58219462e+01,\n        4.66734764e+01, 5.07455487e+01, 4.50767145e+01, 3.50390610e+01,\n        2.09396295e+01, 9.22424224e+00, 5.92726535e-01, 4.91951578e-02,\n        4.91951578e-02, 4.91951578e-02, 4.91951578e-02, 4.91951578e-02],\n       [4.91951578e-02, 4.91951578e-02, 4.91951578e-02, 4.91951578e-02,\n        4.91951578e-02, 4.91951578e-02, 4.91951578e-02, 4.91951578e-02,\n        2.67437714e-01, 1.30685579e+00, 3.86606249e+00, 8.11281069e+00,\n        1.39532547e+01, 2.10727979e+01, 2.85330060e+01, 4.03626145e+01,\n        4.80263420e+01, 5.08278184e+01, 4.36419729e+01, 3.41430992e+01,\n        2.09322899e+01, 7.97867494e+00, 7.42686982e-01, 4.91951578e-02,\n        4.91951578e-02, 4.91951578e-02, 4.91951578e-02, 4.91951578e-02],\n       [4.91951578e-02, 4.91951578e-02, 4.91951578e-02, 4.91951578e-02,\n        4.91951578e-02, 4.91951578e-02, 2.58344274e-01, 8.61161990e-01,\n        3.17433862e+00, 6.84907439e+00, 1.27805311e+01, 1.97577063e+01,\n        2.79144193e+01, 3.44544447e+01, 3.91326620e+01, 4.52882803e+01,\n        4.70465516e+01, 4.55883110e+01, 3.66756564e+01, 2.73219554e+01,\n        1.75023181e+01, 6.11647811e+00, 4.10515170e-01, 4.91951578e-02,\n        4.91951578e-02, 4.91951578e-02, 4.91951578e-02, 4.91951578e-02],\n       [4.91951578e-02, 4.91951578e-02, 4.91951578e-02, 4.91951578e-02,\n        2.12877075e-01, 1.76992974e+00, 4.11547018e+00, 7.79984403e+00,\n        1.26733612e+01, 1.94892383e+01, 2.67663692e+01, 3.34745092e+01,\n        3.97290023e+01, 4.40439387e+01, 4.59762834e+01, 4.60468889e+01,\n        4.29186006e+01, 3.72244020e+01, 2.72480752e+01, 1.87231441e+01,\n        1.05622137e+01, 3.10715495e+00, 5.98251919e-02, 4.91951578e-02,\n        4.91951578e-02, 4.91951578e-02, 4.91951578e-02, 4.91951578e-02],\n       [4.91951578e-02, 4.91951578e-02, 5.49334350e-01, 2.11974460e+00,\n        4.64805725e+00, 9.20542905e+00, 1.41998089e+01, 2.03573442e+01,\n        2.66645923e+01, 3.37740417e+01, 3.91860923e+01, 4.43021917e+01,\n        4.70179768e+01, 4.70411832e+01, 4.43638738e+01, 3.91773691e+01,\n        3.30048192e+01, 2.55677039e+01, 1.72732307e+01, 1.09609223e+01,\n        5.14149262e+00, 1.01652826e+00, 4.91951578e-02, 4.91951578e-02,\n        4.91951578e-02, 4.91951578e-02, 4.91951578e-02, 4.91951578e-02],\n       [4.91951578e-02, 4.91951578e-02, 1.88380923e+00, 6.01173408e+00,\n        1.17891895e+01, 1.97242732e+01, 2.70486714e+01, 3.26901427e+01,\n        3.85660564e+01, 4.29006424e+01, 4.56141230e+01, 4.57191228e+01,\n        4.46390681e+01, 3.97889327e+01, 3.35525225e+01, 2.59528284e+01,\n        1.87750013e+01, 1.21111746e+01, 6.51339057e+00, 2.39796335e+00,\n        4.63766488e-01, 4.91951578e-02, 4.91951578e-02, 4.91951578e-02,\n        4.91951578e-02, 4.91951578e-02, 4.91951578e-02, 4.91951578e-02],\n       [4.91951578e-02, 4.91951578e-02, 2.36469196e+00, 7.42343025e+00,\n        1.35388558e+01, 2.14706384e+01, 2.88867487e+01, 3.41598135e+01,\n        3.96147967e+01, 4.25588223e+01, 4.25642010e+01, 3.93465108e+01,\n        3.47735536e+01, 2.72954133e+01, 1.92756767e+01, 1.21627287e+01,\n        6.60914095e+00, 2.52988860e+00, 5.12001048e-01, 5.98251919e-02,\n        4.91951578e-02, 4.91951578e-02, 4.91951578e-02, 4.91951578e-02,\n        4.91951578e-02, 4.91951578e-02, 4.91951578e-02, 4.91951578e-02],\n       [4.91951578e-02, 4.91951578e-02, 2.89176561e+00, 8.51506799e+00,\n        1.37717166e+01, 2.21203889e+01, 2.98950394e+01, 3.46126142e+01,\n        3.77252594e+01, 3.67630399e+01, 3.26496180e+01, 2.71952959e+01,\n        2.04474460e+01, 1.35283677e+01, 7.20608219e+00, 2.60778709e+00,\n        6.19699312e-01, 9.70303113e-02, 4.91951578e-02, 4.91951578e-02,\n        4.91951578e-02, 4.91951578e-02, 4.91951578e-02, 4.91951578e-02,\n        4.91951578e-02, 4.91951578e-02, 4.91951578e-02, 4.91951578e-02],\n       [4.91951578e-02, 4.91951578e-02, 2.78229111e+00, 8.05279021e+00,\n        1.30136127e+01, 1.91942358e+01, 2.48099195e+01, 2.64011635e+01,\n        2.59833253e+01, 2.31170610e+01, 1.84854028e+01, 1.34517336e+01,\n        8.74820406e+00, 3.80217203e+00, 9.33684725e-01, 1.07660345e-01,\n        4.91951578e-02, 4.91951578e-02, 4.91951578e-02, 4.91951578e-02,\n        4.91951578e-02, 4.91951578e-02, 4.91951578e-02, 4.91951578e-02,\n        4.91951578e-02, 4.91951578e-02, 4.91951578e-02, 4.91951578e-02],\n       [4.91951578e-02, 4.91951578e-02, 2.08217566e+00, 5.18536264e+00,\n        8.07622286e+00, 1.17566289e+01, 1.37555236e+01, 1.28180957e+01,\n        1.14862334e+01, 8.08329003e+00, 5.18990938e+00, 3.10086860e+00,\n        1.00909348e+00, 1.34235431e-01, 4.91951578e-02, 4.91951578e-02,\n        4.91951578e-02, 4.91951578e-02, 4.91951578e-02, 4.91951578e-02,\n        4.91951578e-02, 4.91951578e-02, 4.91951578e-02, 4.91951578e-02,\n        4.91951578e-02, 4.91951578e-02, 4.91951578e-02, 4.91951578e-02],\n       [4.91951578e-02, 4.91951578e-02, 4.91951578e-02, 4.91951578e-02,\n        4.91951578e-02, 4.91951578e-02, 4.91951578e-02, 4.91951578e-02,\n        4.91951578e-02, 4.91951578e-02, 4.91951578e-02, 4.91951578e-02,\n        4.91951578e-02, 4.91951578e-02, 4.91951578e-02, 4.91951578e-02,\n        4.91951578e-02, 4.91951578e-02, 4.91951578e-02, 4.91951578e-02,\n        4.91951578e-02, 4.91951578e-02, 4.91951578e-02, 4.91951578e-02,\n        4.91951578e-02, 4.91951578e-02, 4.91951578e-02, 4.91951578e-02]])"
     },
     "execution_count": 40,
     "metadata": {},
     "output_type": "execute_result"
    }
   ],
   "source": [
    "o[0, :, :, 0]"
   ],
   "metadata": {
    "collapsed": false,
    "pycharm": {
     "name": "#%%\n"
    }
   }
  },
  {
   "cell_type": "code",
   "execution_count": 41,
   "outputs": [
    {
     "data": {
      "text/plain": "(64, 28, 28, 6)"
     },
     "execution_count": 41,
     "metadata": {},
     "output_type": "execute_result"
    }
   ],
   "source": [
    "a1 = ActivationLayer()\n",
    "o1 = a1.forward(o)\n",
    "o1.shape"
   ],
   "metadata": {
    "collapsed": false,
    "pycharm": {
     "name": "#%%\n"
    }
   }
  },
  {
   "cell_type": "code",
   "execution_count": 42,
   "outputs": [
    {
     "data": {
      "text/plain": "(64, 14, 14, 6)"
     },
     "execution_count": 42,
     "metadata": {},
     "output_type": "execute_result"
    }
   ],
   "source": [
    "m1 = MaxPoolingLayerBatch(2, 2)\n",
    "o2 = m1.forward(o1)\n",
    "o2.shape"
   ],
   "metadata": {
    "collapsed": false,
    "pycharm": {
     "name": "#%%\n"
    }
   }
  }
 ],
 "metadata": {
  "kernelspec": {
   "display_name": "Python 3",
   "language": "python",
   "name": "python3"
  },
  "language_info": {
   "codemirror_mode": {
    "name": "ipython",
    "version": 2
   },
   "file_extension": ".py",
   "mimetype": "text/x-python",
   "name": "python",
   "nbconvert_exporter": "python",
   "pygments_lexer": "ipython2",
   "version": "2.7.6"
  }
 },
 "nbformat": 4,
 "nbformat_minor": 0
}