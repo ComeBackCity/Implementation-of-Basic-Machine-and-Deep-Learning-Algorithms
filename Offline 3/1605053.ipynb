{
 "cells": [
  {
   "cell_type": "markdown",
   "source": [
    "## Importing Libraries"
   ],
   "metadata": {
    "collapsed": false
   }
  },
  {
   "cell_type": "code",
   "execution_count": 125,
   "outputs": [],
   "source": [
    "import numpy as np\n",
    "import matplotlib.pyplot as plt\n",
    "from sklearn.preprocessing import LabelBinarizer\n",
    "import pickle\n",
    "from mlxtend.data import loadlocal_mnist\n",
    "import random"
   ],
   "metadata": {
    "collapsed": false,
    "pycharm": {
     "name": "#%%\n"
    }
   }
  },
  {
   "cell_type": "markdown",
   "source": [
    "## Setting Numpy Seed"
   ],
   "metadata": {
    "collapsed": false
   }
  },
  {
   "cell_type": "markdown",
   "source": [
    "## Processing MNIST Dataset"
   ],
   "metadata": {
    "collapsed": false
   }
  },
  {
   "cell_type": "code",
   "execution_count": 126,
   "outputs": [],
   "source": [
    "def process_mnist_data() -> (np.ndarray, np.ndarray, np.ndarray, np.ndarray):\n",
    "    mnist_path = './MNIST/'\n",
    "    train_images, train_labels = loadlocal_mnist(\n",
    "        images_path = mnist_path + './train-images.idx3-ubyte',\n",
    "        labels_path = mnist_path + './train-labels.idx1-ubyte'\n",
    "    )\n",
    "    test_images, test_labels = loadlocal_mnist(\n",
    "        images_path = mnist_path + './t10k-images.idx3-ubyte',\n",
    "        labels_path = mnist_path + './t10k-labels.idx1-ubyte'\n",
    "    )\n",
    "    return train_images, train_labels, test_images, test_labels"
   ],
   "metadata": {
    "collapsed": false,
    "pycharm": {
     "name": "#%%\n"
    }
   }
  },
  {
   "cell_type": "markdown",
   "source": [
    "## Processing CIFAR-10 Dataset"
   ],
   "metadata": {
    "collapsed": false
   }
  },
  {
   "cell_type": "code",
   "execution_count": 127,
   "outputs": [],
   "source": [
    "def unpickle(file):\n",
    "    with open(file, 'rb') as fo:\n",
    "        data_dict = pickle.load(fo, encoding='bytes')\n",
    "    return data_dict"
   ],
   "metadata": {
    "collapsed": false,
    "pycharm": {
     "name": "#%%\n"
    }
   }
  },
  {
   "cell_type": "code",
   "execution_count": 128,
   "outputs": [],
   "source": [
    "def process_cifar_dataset() -> (np.ndarray, np.ndarray, np.ndarray, np.ndarray):\n",
    "    cifar_path = './cifar-10-python/cifar-10-batches-py'\n",
    "    data_batch = unpickle(cifar_path + '/data_batch_1')\n",
    "    train_images, train_labels = data_batch[b'data'], np.array(data_batch[b'labels'])\n",
    "    for i in range(2,6):\n",
    "        data_batch = unpickle(cifar_path + '/data_batch_' + str(i))\n",
    "        train_images = np.concatenate((train_images, data_batch[b'data']), axis=0)\n",
    "        train_labels = np.concatenate((train_labels, np.array(data_batch[b'labels'])), axis=0)\n",
    "    test_batch = unpickle(cifar_path + '/test_batch')\n",
    "    test_images, test_labels = test_batch[b'data'], np.array(test_batch[b'labels'])\n",
    "    return train_images, train_labels, test_images, test_labels"
   ],
   "metadata": {
    "collapsed": false,
    "pycharm": {
     "name": "#%%\n"
    }
   }
  },
  {
   "cell_type": "markdown",
   "source": [
    "## Processing Toy Dataset"
   ],
   "metadata": {
    "collapsed": false
   }
  },
  {
   "cell_type": "code",
   "execution_count": 129,
   "outputs": [],
   "source": [
    "def process_toy_dataset():\n",
    "    toy_dataset_path = './Toy Dataset/'\n",
    "    a = np.loadtxt(toy_dataset_path + 'trainNN.txt')\n",
    "    b = np.loadtxt(toy_dataset_path + 'testNN.txt')\n",
    "    train_x, train_y, test_x, test_y = a[:, 0:4], a[:, -1], b[:, 0:4], b[:, -1]\n",
    "    return train_x, train_y, test_x, test_y"
   ],
   "metadata": {
    "collapsed": false,
    "pycharm": {
     "name": "#%%\n"
    }
   }
  },
  {
   "cell_type": "code",
   "execution_count": 130,
   "outputs": [
    {
     "data": {
      "text/plain": "array([[ 9.21323266, 11.82445528],\n       [16.69098092, 19.56967227]])"
     },
     "execution_count": 130,
     "metadata": {},
     "output_type": "execute_result"
    }
   ],
   "source": [
    "x_train_toy, y_train_toy, x_test_toy, y_test_toy = process_toy_dataset()\n",
    "toy_batch_1 = x_train_toy[0:50].reshape(50, 1, 2, 2)\n",
    "toy_batch_1[0, 0, :, :]"
   ],
   "metadata": {
    "collapsed": false,
    "pycharm": {
     "name": "#%%\n"
    }
   }
  },
  {
   "cell_type": "code",
   "execution_count": 131,
   "outputs": [
    {
     "data": {
      "text/plain": "array([[1, 0, 0, 0],\n       [0, 1, 0, 0],\n       [0, 0, 0, 1],\n       [0, 0, 1, 0],\n       [0, 0, 0, 1],\n       [0, 1, 0, 0],\n       [1, 0, 0, 0],\n       [0, 0, 1, 0],\n       [1, 0, 0, 0],\n       [0, 0, 1, 0],\n       [0, 0, 1, 0],\n       [0, 0, 1, 0],\n       [0, 0, 1, 0],\n       [0, 1, 0, 0],\n       [1, 0, 0, 0],\n       [0, 1, 0, 0],\n       [1, 0, 0, 0],\n       [0, 0, 1, 0],\n       [0, 0, 0, 1],\n       [1, 0, 0, 0],\n       [1, 0, 0, 0],\n       [0, 0, 0, 1],\n       [1, 0, 0, 0],\n       [1, 0, 0, 0],\n       [0, 0, 0, 1],\n       [1, 0, 0, 0],\n       [0, 0, 0, 1],\n       [1, 0, 0, 0],\n       [0, 1, 0, 0],\n       [0, 0, 1, 0],\n       [0, 0, 1, 0],\n       [0, 0, 1, 0],\n       [0, 0, 1, 0],\n       [0, 1, 0, 0],\n       [1, 0, 0, 0],\n       [0, 0, 0, 1],\n       [1, 0, 0, 0],\n       [0, 0, 1, 0],\n       [0, 0, 0, 1],\n       [1, 0, 0, 0],\n       [0, 0, 0, 1],\n       [1, 0, 0, 0],\n       [0, 0, 0, 1],\n       [0, 0, 0, 1],\n       [1, 0, 0, 0],\n       [0, 0, 1, 0],\n       [0, 0, 0, 1],\n       [0, 1, 0, 0],\n       [0, 0, 0, 1],\n       [0, 0, 1, 0]])"
     },
     "execution_count": 131,
     "metadata": {},
     "output_type": "execute_result"
    }
   ],
   "source": [
    "label_binarizer = LabelBinarizer()\n",
    "label_binarizer.fit(range(1,5))\n",
    "toy_labels_1 = label_binarizer.transform(y_train_toy[0:50].T)\n",
    "toy_labels_1"
   ],
   "metadata": {
    "collapsed": false,
    "pycharm": {
     "name": "#%%\n"
    }
   }
  },
  {
   "cell_type": "markdown",
   "source": [
    "## Parsing Input Model"
   ],
   "metadata": {
    "collapsed": false
   }
  },
  {
   "cell_type": "code",
   "execution_count": 132,
   "outputs": [],
   "source": [
    "def parse_input_model():\n",
    "    path = './input_model.txt'\n",
    "    model = []\n",
    "    with open(path, 'r') as f:\n",
    "        lines = f.readlines()\n",
    "        for line in lines:\n",
    "            tokens = line.split()\n",
    "            if tokens[0] == 'Conv':\n",
    "                model.append(ConvolutionLayerBatch(int(tokens[1]), int(tokens[2]), int(tokens[3]), int(tokens[4])))\n",
    "            if tokens[0] == 'ReLU':\n",
    "                model.append(ActivationLayer())\n",
    "            if tokens[0] == 'Pool':\n",
    "                model.append(MaxPoolingLayerBatch(int(tokens[1]), int(tokens[2])))\n",
    "            if tokens[0] == 'FC':\n",
    "                model.append(FlatteningLayerBatch())\n",
    "                model.append(FullyConnectedLayerBatch(int(tokens[1])))\n",
    "            if tokens[0] == 'Softmax':\n",
    "                model.append(SoftmaxLayerBatch())\n",
    "        return model"
   ],
   "metadata": {
    "collapsed": false,
    "pycharm": {
     "name": "#%%\n"
    }
   }
  },
  {
   "cell_type": "markdown",
   "source": [
    "## ReLU and ReLU Derivative Functions"
   ],
   "metadata": {
    "collapsed": false
   }
  },
  {
   "cell_type": "code",
   "execution_count": 133,
   "outputs": [],
   "source": [
    "def relu(matrix:np.ndarray) -> np.ndarray:\n",
    "    return matrix * (matrix > 0)"
   ],
   "metadata": {
    "collapsed": false,
    "pycharm": {
     "name": "#%%\n"
    }
   }
  },
  {
   "cell_type": "code",
   "execution_count": 134,
   "outputs": [],
   "source": [
    "def relu_derivative(matrix: np.ndarray) -> np.ndarray:\n",
    "    return (matrix > 0) * 1.0"
   ],
   "metadata": {
    "collapsed": false,
    "pycharm": {
     "name": "#%%\n"
    }
   }
  },
  {
   "cell_type": "markdown",
   "source": [
    "## Convolution Layer"
   ],
   "metadata": {
    "collapsed": false
   }
  },
  {
   "cell_type": "code",
   "execution_count": 135,
   "outputs": [],
   "source": [
    "class ConvolutionLayer:\n",
    "    def __init__(self, output_channel_count: int, filter_dimension: int, stride: int, padding: int):\n",
    "        self.output_channel_count = output_channel_count\n",
    "        self.filter_dimension = filter_dimension\n",
    "        self.stride = stride\n",
    "        self.padding = padding\n",
    "\n",
    "    def forward(self, input_image: np.ndarray) -> np.ndarray:\n",
    "        input_dimentions = input_image.shape[0]\n",
    "        output_dimentions = (input_dimentions - self.filter_dimension + 2 * self.padding) // self.stride + 1\n",
    "        input_shape = input_image.shape\n",
    "\n",
    "        filters = np.random.rand(\n",
    "            self.output_channel_count,\n",
    "            self.filter_dimension,\n",
    "            self.filter_dimension,\n",
    "            input_shape[2]\n",
    "        )\n",
    "\n",
    "        bias = np.random.rand(self.output_channel_count)\n",
    "\n",
    "        padded_image = np.pad(input_image, [(self.padding,self.padding), (self.padding,self.padding), (0,0)], mode='constant') * 1.0\n",
    "        padded_image /= 255.0\n",
    "        padded_dimensions = padded_image.shape\n",
    "\n",
    "        output = np.zeros((output_dimentions, output_dimentions, self.output_channel_count))\n",
    "\n",
    "        image_y = out_y = 0\n",
    "        while image_y + self.filter_dimension <= padded_dimensions[1]:\n",
    "            image_x = out_x = 0\n",
    "            while image_x + self.filter_dimension <= padded_dimensions[0]:\n",
    "                image_slice = padded_image[image_x:image_x+self.filter_dimension, image_y:image_y+self.filter_dimension, :]\n",
    "                output[out_x, out_y, :] = np.sum(image_slice * filters) + bias\n",
    "                image_x += self.stride\n",
    "                out_x += 1\n",
    "            image_y += self.stride\n",
    "            out_y += 1\n",
    "\n",
    "        return output\n",
    "\n",
    "    def backward(self):\n",
    "        pass"
   ],
   "metadata": {
    "collapsed": false,
    "pycharm": {
     "name": "#%%\n"
    }
   }
  },
  {
   "cell_type": "code",
   "execution_count": 136,
   "outputs": [],
   "source": [
    "class ConvolutionLayerBatch:\n",
    "    def __init__(self, output_channel_count: int, filter_dimension: int, stride: int, padding: int):\n",
    "        self.output_channel_count = output_channel_count\n",
    "        self.filter_dimension = filter_dimension\n",
    "        self.stride = stride\n",
    "        self.padding = padding\n",
    "        self.bias = None\n",
    "        self.filters = None\n",
    "        self.input_batch = None\n",
    "\n",
    "    def forward(self, input_batch: np.ndarray) -> np.ndarray:\n",
    "        self.input_batch = input_batch\n",
    "\n",
    "        input_dimentions = input_batch.shape\n",
    "        output_dimentions = (input_dimentions[2] - self.filter_dimension + 2 * self.padding) // self.stride + 1\n",
    "        input_shape = input_batch.shape\n",
    "\n",
    "        if self.filters is None:\n",
    "            self.filters = np.random.randn(\n",
    "                self.output_channel_count,\n",
    "                input_shape[1],\n",
    "                self.filter_dimension,\n",
    "                self.filter_dimension\n",
    "            ) * np.sqrt(2/input_shape[1] * self.filter_dimension ** 2)\n",
    "\n",
    "        if self.bias is None:\n",
    "            self.bias = np.zeros(self.output_channel_count)\n",
    "\n",
    "        padded_image = np.pad(input_batch, [(0, 0), (0, 0), (self.padding,self.padding), (self.padding,self.padding)], mode='constant') * 1.0\n",
    "        padded_image /= 255.0\n",
    "        padded_dimensions = padded_image.shape\n",
    "\n",
    "        output = np.zeros((input_dimentions[0], self.output_channel_count, output_dimentions, output_dimentions))\n",
    "\n",
    "        for i in range(input_dimentions[0]):\n",
    "            image_y = out_y = 0\n",
    "            while image_y + self.filter_dimension <= padded_dimensions[3]:\n",
    "                image_x = out_x = 0\n",
    "                while image_x + self.filter_dimension <= padded_dimensions[2]:\n",
    "                    image_slice = padded_image[i, :, image_x:image_x+self.filter_dimension, image_y:image_y+self.filter_dimension]\n",
    "                    output[i, :, out_x, out_y] = np.sum(image_slice * self.filters) + self.bias\n",
    "                    image_x += self.stride\n",
    "                    out_x += 1\n",
    "                image_y += self.stride\n",
    "                out_y += 1\n",
    "\n",
    "        return output\n",
    "\n",
    "    def backward(self, dz: np.ndarray, learning_rate:float = 10e-6) -> np.ndarray:\n",
    "        batch_size = dz.shape[0]\n",
    "        db = np.sum(dz, axis=(0, 2, 3))\n",
    "        self.bias = self.bias - learning_rate * db / batch_size\n",
    "        padded_image = np.pad(self.input_batch, [(0, 0), (0, 0), (self.padding,self.padding), (self.padding,self.padding)], mode='constant') * 1.0\n",
    "        padded_dimensions = padded_image.shape\n",
    "\n",
    "        dw = np.zeros(self.filters.shape)\n",
    "        dz_prime_dim = (dz.shape[2] - 1) * self.stride + 1\n",
    "        dz_prime = np.zeros((dz.shape[0], dz.shape[1], dz_prime_dim, dz_prime_dim))\n",
    "        dz_prime[:, :, ::self.stride, ::self.stride] = dz\n",
    "\n",
    "        # calculate dw\n",
    "        for i in range(padded_dimensions[0]):\n",
    "            image_y = out_y = 0\n",
    "            while image_y + dz_prime_dim <= padded_dimensions[3]:\n",
    "                image_x = out_x = 0\n",
    "                while image_x + dz_prime_dim <= padded_dimensions[2]:\n",
    "                    image_slice = padded_image[i, :, image_x:image_x+dz_prime_dim, image_y:image_y+dz_prime_dim]\n",
    "                    dz_slice = dz_prime[i, :, :, :]\n",
    "                    dz_slice_shape = dz_slice.shape\n",
    "                    dz_slice = np.broadcast_to(dz_slice, (image_slice.shape[0], dz_slice_shape[0], dz_slice_shape[1], dz_slice_shape[2])).transpose((1, 0, 2, 3))\n",
    "                    dw[:, :, out_x, out_y] += np.sum(image_slice * dz_slice, axis=(2, 3))\n",
    "                    image_x += 1\n",
    "                    out_x += 1\n",
    "                image_y += 1\n",
    "                out_y += 1\n",
    "\n",
    "        rotated_filter = np.rot90(self.filters, 2, axes=(2, 3))\n",
    "        dx = np.zeros(self.input_batch.shape)\n",
    "        padding = self.filter_dimension - 1 - self.padding\n",
    "        if padding < 0:\n",
    "            dz_prime_padded = dz_prime[:, :, -padding:padding, -padding:padding]\n",
    "        else:\n",
    "            dz_prime_padded = np.pad(dz_prime, [(0, 0), (0, 0), (padding, padding), (padding, padding)], mode='constant')\n",
    "\n",
    "        dz_padded_dimensions = dz_prime_padded.shape\n",
    "\n",
    "        # calculate dx\n",
    "        for i in range(dz_padded_dimensions[0]):\n",
    "            dz_y = out_y = 0\n",
    "            while dz_y + self.filter_dimension <= dz_padded_dimensions[3]:\n",
    "                dz_x = out_x = 0\n",
    "                while dz_x + self.filter_dimension <= dz_padded_dimensions[2]:\n",
    "                    dzp_slice = dz_prime_padded[i, :, dz_x:dz_x+self.filter_dimension, dz_y:dz_y+self.filter_dimension]\n",
    "                    dzp_slice = dzp_slice.reshape(dz_padded_dimensions[1], 1, self.filter_dimension, self.filter_dimension)\n",
    "                    dx[i, :, out_x, out_y] = np.sum(dzp_slice * rotated_filter, axis=(0, 2, 3))\n",
    "                    dz_x += 1\n",
    "                    out_x += 1\n",
    "                dz_y += 1\n",
    "                out_y += 1\n",
    "\n",
    "        self.filters -= learning_rate * dw / batch_size\n",
    "        return dx"
   ],
   "metadata": {
    "collapsed": false,
    "pycharm": {
     "name": "#%%\n"
    }
   }
  },
  {
   "cell_type": "code",
   "execution_count": 137,
   "outputs": [
    {
     "data": {
      "text/plain": "(50, 4, 3, 3)"
     },
     "execution_count": 137,
     "metadata": {},
     "output_type": "execute_result"
    }
   ],
   "source": [
    "test_conv = ConvolutionLayerBatch(4, 2, 2, 2)\n",
    "test_conv_out = test_conv.forward(toy_batch_1)\n",
    "test_conv_out.shape"
   ],
   "metadata": {
    "collapsed": false,
    "pycharm": {
     "name": "#%%\n"
    }
   }
  },
  {
   "cell_type": "code",
   "execution_count": 138,
   "outputs": [
    {
     "data": {
      "text/plain": "array([[ 0.        ,  0.        ,  0.        ],\n       [ 0.        , -0.34705184,  0.        ],\n       [ 0.        ,  0.        ,  0.        ]])"
     },
     "execution_count": 138,
     "metadata": {},
     "output_type": "execute_result"
    }
   ],
   "source": [
    "test_conv_out[0, 0, :, :]"
   ],
   "metadata": {
    "collapsed": false,
    "pycharm": {
     "name": "#%%\n"
    }
   }
  },
  {
   "cell_type": "markdown",
   "source": [
    "## Activation Layer"
   ],
   "metadata": {
    "collapsed": false
   }
  },
  {
   "cell_type": "code",
   "execution_count": 139,
   "outputs": [],
   "source": [
    "class ActivationLayer:\n",
    "    def __init__(self):\n",
    "        pass\n",
    "\n",
    "    @staticmethod\n",
    "    def forward(input_matrix: np.ndarray) -> np.ndarray:\n",
    "        return relu(input_matrix)\n",
    "\n",
    "    @staticmethod\n",
    "    def backward(input_matrix: np.ndarray) -> np.ndarray:\n",
    "        return input_matrix * relu_derivative(input_matrix)"
   ],
   "metadata": {
    "collapsed": false,
    "pycharm": {
     "name": "#%%\n"
    }
   }
  },
  {
   "cell_type": "code",
   "execution_count": 140,
   "outputs": [
    {
     "data": {
      "text/plain": "(50, 4, 3, 3)"
     },
     "execution_count": 140,
     "metadata": {},
     "output_type": "execute_result"
    }
   ],
   "source": [
    "test_activation = ActivationLayer()\n",
    "test_activation_out = test_activation.forward(test_conv_out)\n",
    "test_activation_out.shape"
   ],
   "metadata": {
    "collapsed": false,
    "pycharm": {
     "name": "#%%\n"
    }
   }
  },
  {
   "cell_type": "code",
   "execution_count": 141,
   "outputs": [
    {
     "data": {
      "text/plain": "array([[ 0.,  0.,  0.],\n       [ 0., -0.,  0.],\n       [ 0.,  0.,  0.]])"
     },
     "execution_count": 141,
     "metadata": {},
     "output_type": "execute_result"
    }
   ],
   "source": [
    "test_activation_out[0, 0, :, :]"
   ],
   "metadata": {
    "collapsed": false,
    "pycharm": {
     "name": "#%%\n"
    }
   }
  },
  {
   "cell_type": "markdown",
   "source": [
    "## Max Pooling Layer"
   ],
   "metadata": {
    "collapsed": false
   }
  },
  {
   "cell_type": "code",
   "execution_count": 142,
   "outputs": [],
   "source": [
    "class MaxPoolingLayer:\n",
    "    def __init__(self, filter_dimension: int, stride: int):\n",
    "        self.filter_dimension = filter_dimension\n",
    "        self.stride = stride\n",
    "\n",
    "    def forward(self, image: np.ndarray) -> np.ndarray:\n",
    "        input_dimensions = image.shape\n",
    "        output_dimension = (input_dimensions[0] - self.filter_dimension) // self.stride + 1\n",
    "\n",
    "        output = np.zeros((output_dimension, output_dimension, input_dimensions[2]))\n",
    "\n",
    "        image_y = out_y = 0\n",
    "        while image_y + self.filter_dimension <= input_dimensions[1]:\n",
    "            image_x = out_x = 0\n",
    "            while image_x + self.filter_dimension <= input_dimensions[0]:\n",
    "                image_slice = image[image_x: image_x+self.filter_dimension, image_y: image_y+self.filter_dimension, :]\n",
    "                output[out_x, out_y, :] = np.max(image_slice, axis=(0, 1))\n",
    "                image_x += self.stride\n",
    "                out_x += 1\n",
    "            image_y += self.stride\n",
    "            out_y += 1\n",
    "\n",
    "        return output\n",
    "\n",
    "    def backward(self):\n",
    "        pass"
   ],
   "metadata": {
    "collapsed": false,
    "pycharm": {
     "name": "#%%\n"
    }
   }
  },
  {
   "cell_type": "code",
   "execution_count": 143,
   "outputs": [],
   "source": [
    "class MaxPoolingLayerBatch:\n",
    "    def __init__(self, filter_dimension: int, stride: int):\n",
    "        self.filter_dimension = filter_dimension\n",
    "        self.stride = stride\n",
    "        self.mask = None\n",
    "        self.input_dimensions = None\n",
    "\n",
    "    def forward(self, image: np.ndarray) -> np.ndarray:\n",
    "        input_dimensions = image.shape\n",
    "        self.input_dimensions = input_dimensions\n",
    "        output_dimension = (input_dimensions[2] - self.filter_dimension) // self.stride + 1\n",
    "\n",
    "        output = np.zeros((input_dimensions[0], input_dimensions[1], output_dimension, output_dimension))\n",
    "        self.mask = np.zeros(input_dimensions)\n",
    "\n",
    "        for i in range(input_dimensions[0]):\n",
    "            image_y = out_y = 0\n",
    "            while image_y + self.filter_dimension <= input_dimensions[3]:\n",
    "                image_x = out_x = 0\n",
    "                while image_x + self.filter_dimension <= input_dimensions[2]:\n",
    "                    image_slice = image[i, :, image_x: image_x+self.filter_dimension, image_y: image_y+self.filter_dimension]\n",
    "                    max_val = np.max(image_slice, axis=(1, 2))\n",
    "                    output[i, :, out_x, out_y] = max_val\n",
    "                    self.mask[i, :, image_x: image_x+self.filter_dimension, image_y: image_y+self.filter_dimension] = image_slice == max_val.reshape(input_dimensions[1], 1, 1)\n",
    "                    image_x += self.stride\n",
    "                    out_x += 1\n",
    "                image_y += self.stride\n",
    "                out_y += 1\n",
    "\n",
    "        return output\n",
    "\n",
    "    def backward(self, dh:np.ndarray) -> np.ndarray:\n",
    "        output = np.zeros(self.input_dimensions)\n",
    "\n",
    "        for i in range(self.input_dimensions[0]):\n",
    "            out_y = dh_y = 0\n",
    "            while out_y + self.filter_dimension <= self.input_dimensions[3]:\n",
    "                out_x = dh_x = 0\n",
    "                while out_x + self.filter_dimension <= self.input_dimensions[2]:\n",
    "                    mask_patch = self.mask[i, :, out_x: out_x+self.filter_dimension, out_y: out_y+self.filter_dimension]\n",
    "                    output[i, :, out_x: out_x+self.filter_dimension, out_y: out_y+self.filter_dimension] += mask_patch * dh[i, :, dh_x, dh_y].reshape(self.input_dimensions[1], 1, 1)\n",
    "                    out_x += self.stride\n",
    "                    dh_x += 1\n",
    "                out_y += self.stride\n",
    "                dh_y += 1\n",
    "\n",
    "        return output"
   ],
   "metadata": {
    "collapsed": false,
    "pycharm": {
     "name": "#%%\n"
    }
   }
  },
  {
   "cell_type": "code",
   "execution_count": 144,
   "outputs": [
    {
     "data": {
      "text/plain": "(50, 4, 2, 2)"
     },
     "execution_count": 144,
     "metadata": {},
     "output_type": "execute_result"
    }
   ],
   "source": [
    "test_maxpool = MaxPoolingLayerBatch(2, 1)\n",
    "test_maxpool_out = test_maxpool.forward(test_activation_out)\n",
    "test_maxpool_out.shape"
   ],
   "metadata": {
    "collapsed": false,
    "pycharm": {
     "name": "#%%\n"
    }
   }
  },
  {
   "cell_type": "code",
   "execution_count": 145,
   "outputs": [
    {
     "data": {
      "text/plain": "array([[ 0.,  0.],\n       [ 0., -0.]])"
     },
     "execution_count": 145,
     "metadata": {},
     "output_type": "execute_result"
    }
   ],
   "source": [
    "test_maxpool_out[0, 0, :, :]"
   ],
   "metadata": {
    "collapsed": false,
    "pycharm": {
     "name": "#%%\n"
    }
   }
  },
  {
   "cell_type": "markdown",
   "source": [
    "## Flattening Layer"
   ],
   "metadata": {
    "collapsed": false
   }
  },
  {
   "cell_type": "code",
   "execution_count": 146,
   "outputs": [],
   "source": [
    "class FlatteningLayer:\n",
    "    def __init__(self):\n",
    "        pass\n",
    "\n",
    "    @staticmethod\n",
    "    def forward(image: np.ndarray) -> np.ndarray:\n",
    "        return image.flatten().reshape(-1, 1)\n",
    "\n",
    "    def backward(self):\n",
    "        pass"
   ],
   "metadata": {
    "collapsed": false,
    "pycharm": {
     "name": "#%%\n"
    }
   }
  },
  {
   "cell_type": "code",
   "execution_count": 147,
   "outputs": [],
   "source": [
    "class FlatteningLayerBatch:\n",
    "    def __init__(self):\n",
    "        self.input_shape = None\n",
    "\n",
    "    def forward(self, input_batch: np.ndarray) -> np.ndarray:\n",
    "        input_shape = input_batch.shape\n",
    "        self.input_shape = input_shape\n",
    "        return input_batch.reshape((input_shape[0], -1))\n",
    "\n",
    "    def backward(self, dh_flattened: np.ndarray) -> np.ndarray:\n",
    "        return dh_flattened.reshape(self.input_shape)"
   ],
   "metadata": {
    "collapsed": false,
    "pycharm": {
     "name": "#%%\n"
    }
   }
  },
  {
   "cell_type": "code",
   "execution_count": 148,
   "outputs": [
    {
     "data": {
      "text/plain": "(50, 16)"
     },
     "execution_count": 148,
     "metadata": {},
     "output_type": "execute_result"
    }
   ],
   "source": [
    "test_flattening = FlatteningLayerBatch()\n",
    "test_flattening_out = test_flattening.forward(test_maxpool_out)\n",
    "test_flattening_out.shape"
   ],
   "metadata": {
    "collapsed": false,
    "pycharm": {
     "name": "#%%\n"
    }
   }
  },
  {
   "cell_type": "code",
   "execution_count": 149,
   "outputs": [
    {
     "data": {
      "text/plain": "array([[ 0.,  0.,  0., -0.,  0.,  0.,  0., -0.,  0.,  0.,  0., -0.,  0.,\n         0.,  0., -0.],\n       [ 0.,  0.,  0., -0.,  0.,  0.,  0., -0.,  0.,  0.,  0., -0.,  0.,\n         0.,  0., -0.],\n       [ 0.,  0.,  0., -0.,  0.,  0.,  0., -0.,  0.,  0.,  0., -0.,  0.,\n         0.,  0., -0.],\n       [ 0.,  0.,  0., -0.,  0.,  0.,  0., -0.,  0.,  0.,  0., -0.,  0.,\n         0.,  0., -0.],\n       [ 0.,  0.,  0., -0.,  0.,  0.,  0., -0.,  0.,  0.,  0., -0.,  0.,\n         0.,  0., -0.],\n       [ 0.,  0.,  0., -0.,  0.,  0.,  0., -0.,  0.,  0.,  0., -0.,  0.,\n         0.,  0., -0.],\n       [ 0.,  0.,  0., -0.,  0.,  0.,  0., -0.,  0.,  0.,  0., -0.,  0.,\n         0.,  0., -0.],\n       [ 0.,  0.,  0., -0.,  0.,  0.,  0., -0.,  0.,  0.,  0., -0.,  0.,\n         0.,  0., -0.],\n       [ 0.,  0.,  0., -0.,  0.,  0.,  0., -0.,  0.,  0.,  0., -0.,  0.,\n         0.,  0., -0.],\n       [ 0.,  0.,  0., -0.,  0.,  0.,  0., -0.,  0.,  0.,  0., -0.,  0.,\n         0.,  0., -0.],\n       [ 0.,  0.,  0., -0.,  0.,  0.,  0., -0.,  0.,  0.,  0., -0.,  0.,\n         0.,  0., -0.],\n       [ 0.,  0.,  0., -0.,  0.,  0.,  0., -0.,  0.,  0.,  0., -0.,  0.,\n         0.,  0., -0.],\n       [ 0.,  0.,  0., -0.,  0.,  0.,  0., -0.,  0.,  0.,  0., -0.,  0.,\n         0.,  0., -0.],\n       [ 0.,  0.,  0., -0.,  0.,  0.,  0., -0.,  0.,  0.,  0., -0.,  0.,\n         0.,  0., -0.],\n       [ 0.,  0.,  0., -0.,  0.,  0.,  0., -0.,  0.,  0.,  0., -0.,  0.,\n         0.,  0., -0.],\n       [ 0.,  0.,  0., -0.,  0.,  0.,  0., -0.,  0.,  0.,  0., -0.,  0.,\n         0.,  0., -0.],\n       [ 0.,  0.,  0., -0.,  0.,  0.,  0., -0.,  0.,  0.,  0., -0.,  0.,\n         0.,  0., -0.],\n       [ 0.,  0.,  0., -0.,  0.,  0.,  0., -0.,  0.,  0.,  0., -0.,  0.,\n         0.,  0., -0.],\n       [ 0.,  0.,  0., -0.,  0.,  0.,  0., -0.,  0.,  0.,  0., -0.,  0.,\n         0.,  0., -0.],\n       [ 0.,  0.,  0., -0.,  0.,  0.,  0., -0.,  0.,  0.,  0., -0.,  0.,\n         0.,  0., -0.],\n       [ 0.,  0.,  0., -0.,  0.,  0.,  0., -0.,  0.,  0.,  0., -0.,  0.,\n         0.,  0., -0.],\n       [ 0.,  0.,  0., -0.,  0.,  0.,  0., -0.,  0.,  0.,  0., -0.,  0.,\n         0.,  0., -0.],\n       [ 0.,  0.,  0., -0.,  0.,  0.,  0., -0.,  0.,  0.,  0., -0.,  0.,\n         0.,  0., -0.],\n       [ 0.,  0.,  0., -0.,  0.,  0.,  0., -0.,  0.,  0.,  0., -0.,  0.,\n         0.,  0., -0.],\n       [ 0.,  0.,  0., -0.,  0.,  0.,  0., -0.,  0.,  0.,  0., -0.,  0.,\n         0.,  0., -0.],\n       [ 0.,  0.,  0., -0.,  0.,  0.,  0., -0.,  0.,  0.,  0., -0.,  0.,\n         0.,  0., -0.],\n       [ 0.,  0.,  0., -0.,  0.,  0.,  0., -0.,  0.,  0.,  0., -0.,  0.,\n         0.,  0., -0.],\n       [ 0.,  0.,  0., -0.,  0.,  0.,  0., -0.,  0.,  0.,  0., -0.,  0.,\n         0.,  0., -0.],\n       [ 0.,  0.,  0., -0.,  0.,  0.,  0., -0.,  0.,  0.,  0., -0.,  0.,\n         0.,  0., -0.],\n       [ 0.,  0.,  0., -0.,  0.,  0.,  0., -0.,  0.,  0.,  0., -0.,  0.,\n         0.,  0., -0.],\n       [ 0.,  0.,  0., -0.,  0.,  0.,  0., -0.,  0.,  0.,  0., -0.,  0.,\n         0.,  0., -0.],\n       [ 0.,  0.,  0., -0.,  0.,  0.,  0., -0.,  0.,  0.,  0., -0.,  0.,\n         0.,  0., -0.],\n       [ 0.,  0.,  0., -0.,  0.,  0.,  0., -0.,  0.,  0.,  0., -0.,  0.,\n         0.,  0., -0.],\n       [ 0.,  0.,  0., -0.,  0.,  0.,  0., -0.,  0.,  0.,  0., -0.,  0.,\n         0.,  0., -0.],\n       [ 0.,  0.,  0., -0.,  0.,  0.,  0., -0.,  0.,  0.,  0., -0.,  0.,\n         0.,  0., -0.],\n       [ 0.,  0.,  0., -0.,  0.,  0.,  0., -0.,  0.,  0.,  0., -0.,  0.,\n         0.,  0., -0.],\n       [ 0.,  0.,  0., -0.,  0.,  0.,  0., -0.,  0.,  0.,  0., -0.,  0.,\n         0.,  0., -0.],\n       [ 0.,  0.,  0., -0.,  0.,  0.,  0., -0.,  0.,  0.,  0., -0.,  0.,\n         0.,  0., -0.],\n       [ 0.,  0.,  0., -0.,  0.,  0.,  0., -0.,  0.,  0.,  0., -0.,  0.,\n         0.,  0., -0.],\n       [ 0.,  0.,  0., -0.,  0.,  0.,  0., -0.,  0.,  0.,  0., -0.,  0.,\n         0.,  0., -0.],\n       [ 0.,  0.,  0., -0.,  0.,  0.,  0., -0.,  0.,  0.,  0., -0.,  0.,\n         0.,  0., -0.],\n       [ 0.,  0.,  0., -0.,  0.,  0.,  0., -0.,  0.,  0.,  0., -0.,  0.,\n         0.,  0., -0.],\n       [ 0.,  0.,  0., -0.,  0.,  0.,  0., -0.,  0.,  0.,  0., -0.,  0.,\n         0.,  0., -0.],\n       [ 0.,  0.,  0., -0.,  0.,  0.,  0., -0.,  0.,  0.,  0., -0.,  0.,\n         0.,  0., -0.],\n       [ 0.,  0.,  0., -0.,  0.,  0.,  0., -0.,  0.,  0.,  0., -0.,  0.,\n         0.,  0., -0.],\n       [ 0.,  0.,  0., -0.,  0.,  0.,  0., -0.,  0.,  0.,  0., -0.,  0.,\n         0.,  0., -0.],\n       [ 0.,  0.,  0., -0.,  0.,  0.,  0., -0.,  0.,  0.,  0., -0.,  0.,\n         0.,  0., -0.],\n       [ 0.,  0.,  0., -0.,  0.,  0.,  0., -0.,  0.,  0.,  0., -0.,  0.,\n         0.,  0., -0.],\n       [ 0.,  0.,  0., -0.,  0.,  0.,  0., -0.,  0.,  0.,  0., -0.,  0.,\n         0.,  0., -0.],\n       [ 0.,  0.,  0., -0.,  0.,  0.,  0., -0.,  0.,  0.,  0., -0.,  0.,\n         0.,  0., -0.]])"
     },
     "execution_count": 149,
     "metadata": {},
     "output_type": "execute_result"
    }
   ],
   "source": [
    "test_flattening_out"
   ],
   "metadata": {
    "collapsed": false,
    "pycharm": {
     "name": "#%%\n"
    }
   }
  },
  {
   "cell_type": "markdown",
   "source": [
    "## Fully Connected Layer"
   ],
   "metadata": {
    "collapsed": false
   }
  },
  {
   "cell_type": "code",
   "execution_count": 150,
   "outputs": [],
   "source": [
    "class FullyConnectedLayer:\n",
    "    def __init__(self, output_dimension: int):\n",
    "        self.output_dimension = output_dimension\n",
    "\n",
    "    def forward(self, flattened_input: np.ndarray) -> np.ndarray:\n",
    "        weights = np.random.rand(flattened_input.shape[0], self.output_dimension)\n",
    "        bias = np.random.rand(self.output_dimension, 1)\n",
    "\n",
    "        return weights.T @ flattened_input + bias\n",
    "\n",
    "    def backward(self):\n",
    "        pass"
   ],
   "metadata": {
    "collapsed": false,
    "pycharm": {
     "name": "#%%\n"
    }
   }
  },
  {
   "cell_type": "code",
   "execution_count": 151,
   "outputs": [],
   "source": [
    "class FullyConnectedLayerBatch:\n",
    "    def __init__(self, output_dimension: int):\n",
    "        self.output_dimension = output_dimension\n",
    "        self.input_matrix = None\n",
    "        self.weights = None\n",
    "        self.bias = None\n",
    "\n",
    "    def forward(self, flattened_input: np.ndarray) -> np.ndarray:\n",
    "        if self.weights is None:\n",
    "            self.weights = np.random.randn(flattened_input.shape[1], self.output_dimension) * np.sqrt(2/flattened_input.shape[1])\n",
    "            # self.weights = np.random.randn(flattened_input.shape[1], self.output_dimension) * 0.01\n",
    "        if self.bias is None:\n",
    "            self.bias = np.zeros((1, self.output_dimension))\n",
    "        self.input_matrix = flattened_input\n",
    "\n",
    "        return flattened_input @ self.weights + self.bias\n",
    "\n",
    "    def backward(self, d_theta: np.ndarray, learning_rate: float = 10e-4) -> np.ndarray:\n",
    "        n = d_theta.shape[0]\n",
    "        dw = self.input_matrix.T @ d_theta\n",
    "        db = np.sum(d_theta, axis=0, keepdims=True)\n",
    "        dh = d_theta @ self.weights.T\n",
    "        self.weights = self.weights - learning_rate * dw / n\n",
    "        self.bias = self.bias - learning_rate * db / n\n",
    "\n",
    "        return dh"
   ],
   "metadata": {
    "collapsed": false,
    "pycharm": {
     "name": "#%%\n"
    }
   }
  },
  {
   "cell_type": "code",
   "execution_count": 152,
   "outputs": [
    {
     "data": {
      "text/plain": "(50, 4)"
     },
     "execution_count": 152,
     "metadata": {},
     "output_type": "execute_result"
    }
   ],
   "source": [
    "test_fc = FullyConnectedLayerBatch(4)\n",
    "test_fc_out = test_fc.forward(test_flattening_out)\n",
    "test_fc_out.shape"
   ],
   "metadata": {
    "collapsed": false,
    "pycharm": {
     "name": "#%%\n"
    }
   }
  },
  {
   "cell_type": "code",
   "execution_count": 153,
   "outputs": [
    {
     "data": {
      "text/plain": "array([[0., 0., 0., 0.],\n       [0., 0., 0., 0.],\n       [0., 0., 0., 0.],\n       [0., 0., 0., 0.],\n       [0., 0., 0., 0.],\n       [0., 0., 0., 0.],\n       [0., 0., 0., 0.],\n       [0., 0., 0., 0.],\n       [0., 0., 0., 0.],\n       [0., 0., 0., 0.],\n       [0., 0., 0., 0.],\n       [0., 0., 0., 0.],\n       [0., 0., 0., 0.],\n       [0., 0., 0., 0.],\n       [0., 0., 0., 0.],\n       [0., 0., 0., 0.],\n       [0., 0., 0., 0.],\n       [0., 0., 0., 0.],\n       [0., 0., 0., 0.],\n       [0., 0., 0., 0.],\n       [0., 0., 0., 0.],\n       [0., 0., 0., 0.],\n       [0., 0., 0., 0.],\n       [0., 0., 0., 0.],\n       [0., 0., 0., 0.],\n       [0., 0., 0., 0.],\n       [0., 0., 0., 0.],\n       [0., 0., 0., 0.],\n       [0., 0., 0., 0.],\n       [0., 0., 0., 0.],\n       [0., 0., 0., 0.],\n       [0., 0., 0., 0.],\n       [0., 0., 0., 0.],\n       [0., 0., 0., 0.],\n       [0., 0., 0., 0.],\n       [0., 0., 0., 0.],\n       [0., 0., 0., 0.],\n       [0., 0., 0., 0.],\n       [0., 0., 0., 0.],\n       [0., 0., 0., 0.],\n       [0., 0., 0., 0.],\n       [0., 0., 0., 0.],\n       [0., 0., 0., 0.],\n       [0., 0., 0., 0.],\n       [0., 0., 0., 0.],\n       [0., 0., 0., 0.],\n       [0., 0., 0., 0.],\n       [0., 0., 0., 0.],\n       [0., 0., 0., 0.],\n       [0., 0., 0., 0.]])"
     },
     "execution_count": 153,
     "metadata": {},
     "output_type": "execute_result"
    }
   ],
   "source": [
    "test_fc_out"
   ],
   "metadata": {
    "collapsed": false,
    "pycharm": {
     "name": "#%%\n"
    }
   }
  },
  {
   "cell_type": "markdown",
   "source": [
    "## Softmax Layer"
   ],
   "metadata": {
    "collapsed": false
   }
  },
  {
   "cell_type": "code",
   "execution_count": 154,
   "outputs": [],
   "source": [
    "class SoftmaxLayer:\n",
    "    def __init__(self):\n",
    "        pass\n",
    "\n",
    "    @staticmethod\n",
    "    def forward(input_matrix: np.ndarray) -> np.ndarray:\n",
    "        exp = np.exp(input_matrix)\n",
    "        exp /= np.sum(exp)\n",
    "        return exp\n",
    "\n",
    "    def backward(self):\n",
    "        pass"
   ],
   "metadata": {
    "collapsed": false,
    "pycharm": {
     "name": "#%%\n"
    }
   }
  },
  {
   "cell_type": "code",
   "execution_count": 155,
   "outputs": [],
   "source": [
    "class SoftmaxLayerBatch:\n",
    "    def __init__(self):\n",
    "        self.y_hat = None\n",
    "\n",
    "    def forward(self, input_matrix: np.ndarray) -> np.ndarray:\n",
    "        input_matrix -= np.max(input_matrix)\n",
    "        exp = np.exp(input_matrix)\n",
    "        exp_sum = np.sum(exp, axis=1).reshape(-1, 1)\n",
    "        exp /= exp_sum\n",
    "        self.y_hat = exp\n",
    "        return exp\n",
    "\n",
    "    def backward(self, y: np.ndarray) -> np.ndarray:\n",
    "        return self.y_hat - y"
   ],
   "metadata": {
    "collapsed": false,
    "pycharm": {
     "name": "#%%\n"
    }
   }
  },
  {
   "cell_type": "code",
   "execution_count": 156,
   "outputs": [
    {
     "data": {
      "text/plain": "(50, 4)"
     },
     "execution_count": 156,
     "metadata": {},
     "output_type": "execute_result"
    }
   ],
   "source": [
    "test_softmax = SoftmaxLayerBatch()\n",
    "test_softmax_out = test_softmax.forward(test_fc_out)\n",
    "test_softmax_out.shape"
   ],
   "metadata": {
    "collapsed": false,
    "pycharm": {
     "name": "#%%\n"
    }
   }
  },
  {
   "cell_type": "code",
   "execution_count": 157,
   "outputs": [
    {
     "data": {
      "text/plain": "array([[0.25, 0.25, 0.25, 0.25],\n       [0.25, 0.25, 0.25, 0.25],\n       [0.25, 0.25, 0.25, 0.25],\n       [0.25, 0.25, 0.25, 0.25],\n       [0.25, 0.25, 0.25, 0.25],\n       [0.25, 0.25, 0.25, 0.25],\n       [0.25, 0.25, 0.25, 0.25],\n       [0.25, 0.25, 0.25, 0.25],\n       [0.25, 0.25, 0.25, 0.25],\n       [0.25, 0.25, 0.25, 0.25],\n       [0.25, 0.25, 0.25, 0.25],\n       [0.25, 0.25, 0.25, 0.25],\n       [0.25, 0.25, 0.25, 0.25],\n       [0.25, 0.25, 0.25, 0.25],\n       [0.25, 0.25, 0.25, 0.25],\n       [0.25, 0.25, 0.25, 0.25],\n       [0.25, 0.25, 0.25, 0.25],\n       [0.25, 0.25, 0.25, 0.25],\n       [0.25, 0.25, 0.25, 0.25],\n       [0.25, 0.25, 0.25, 0.25],\n       [0.25, 0.25, 0.25, 0.25],\n       [0.25, 0.25, 0.25, 0.25],\n       [0.25, 0.25, 0.25, 0.25],\n       [0.25, 0.25, 0.25, 0.25],\n       [0.25, 0.25, 0.25, 0.25],\n       [0.25, 0.25, 0.25, 0.25],\n       [0.25, 0.25, 0.25, 0.25],\n       [0.25, 0.25, 0.25, 0.25],\n       [0.25, 0.25, 0.25, 0.25],\n       [0.25, 0.25, 0.25, 0.25],\n       [0.25, 0.25, 0.25, 0.25],\n       [0.25, 0.25, 0.25, 0.25],\n       [0.25, 0.25, 0.25, 0.25],\n       [0.25, 0.25, 0.25, 0.25],\n       [0.25, 0.25, 0.25, 0.25],\n       [0.25, 0.25, 0.25, 0.25],\n       [0.25, 0.25, 0.25, 0.25],\n       [0.25, 0.25, 0.25, 0.25],\n       [0.25, 0.25, 0.25, 0.25],\n       [0.25, 0.25, 0.25, 0.25],\n       [0.25, 0.25, 0.25, 0.25],\n       [0.25, 0.25, 0.25, 0.25],\n       [0.25, 0.25, 0.25, 0.25],\n       [0.25, 0.25, 0.25, 0.25],\n       [0.25, 0.25, 0.25, 0.25],\n       [0.25, 0.25, 0.25, 0.25],\n       [0.25, 0.25, 0.25, 0.25],\n       [0.25, 0.25, 0.25, 0.25],\n       [0.25, 0.25, 0.25, 0.25],\n       [0.25, 0.25, 0.25, 0.25]])"
     },
     "execution_count": 157,
     "metadata": {},
     "output_type": "execute_result"
    }
   ],
   "source": [
    "test_softmax_out"
   ],
   "metadata": {
    "collapsed": false,
    "pycharm": {
     "name": "#%%\n"
    }
   }
  },
  {
   "cell_type": "markdown",
   "source": [
    "## Backprop Test"
   ],
   "metadata": {
    "collapsed": false
   }
  },
  {
   "cell_type": "markdown",
   "source": [
    "#### Loss Function"
   ],
   "metadata": {
    "collapsed": false
   }
  },
  {
   "cell_type": "code",
   "execution_count": 158,
   "outputs": [],
   "source": [
    "def loss_function(y_true, y_pred):\n",
    "    labels = y_true * np.log(y_pred) * -1.0\n",
    "    return np.sum(labels) / y_true.shape[0]"
   ],
   "metadata": {
    "collapsed": false,
    "pycharm": {
     "name": "#%%\n"
    }
   }
  },
  {
   "cell_type": "code",
   "execution_count": 159,
   "outputs": [
    {
     "data": {
      "text/plain": "1.3862943611198904"
     },
     "execution_count": 159,
     "metadata": {},
     "output_type": "execute_result"
    }
   ],
   "source": [
    "loss_function_test = loss_function(toy_labels_1, test_softmax_out)\n",
    "loss_function_test"
   ],
   "metadata": {
    "collapsed": false,
    "pycharm": {
     "name": "#%%\n"
    }
   }
  },
  {
   "cell_type": "markdown",
   "source": [
    "#### Softmax Layer"
   ],
   "metadata": {
    "collapsed": false
   }
  },
  {
   "cell_type": "code",
   "execution_count": 160,
   "outputs": [
    {
     "name": "stdout",
     "output_type": "stream",
     "text": [
      "(50, 4)\n"
     ]
    },
    {
     "data": {
      "text/plain": "array([[-0.75,  0.25,  0.25,  0.25],\n       [ 0.25, -0.75,  0.25,  0.25],\n       [ 0.25,  0.25,  0.25, -0.75],\n       [ 0.25,  0.25, -0.75,  0.25],\n       [ 0.25,  0.25,  0.25, -0.75],\n       [ 0.25, -0.75,  0.25,  0.25],\n       [-0.75,  0.25,  0.25,  0.25],\n       [ 0.25,  0.25, -0.75,  0.25],\n       [-0.75,  0.25,  0.25,  0.25],\n       [ 0.25,  0.25, -0.75,  0.25],\n       [ 0.25,  0.25, -0.75,  0.25],\n       [ 0.25,  0.25, -0.75,  0.25],\n       [ 0.25,  0.25, -0.75,  0.25],\n       [ 0.25, -0.75,  0.25,  0.25],\n       [-0.75,  0.25,  0.25,  0.25],\n       [ 0.25, -0.75,  0.25,  0.25],\n       [-0.75,  0.25,  0.25,  0.25],\n       [ 0.25,  0.25, -0.75,  0.25],\n       [ 0.25,  0.25,  0.25, -0.75],\n       [-0.75,  0.25,  0.25,  0.25],\n       [-0.75,  0.25,  0.25,  0.25],\n       [ 0.25,  0.25,  0.25, -0.75],\n       [-0.75,  0.25,  0.25,  0.25],\n       [-0.75,  0.25,  0.25,  0.25],\n       [ 0.25,  0.25,  0.25, -0.75],\n       [-0.75,  0.25,  0.25,  0.25],\n       [ 0.25,  0.25,  0.25, -0.75],\n       [-0.75,  0.25,  0.25,  0.25],\n       [ 0.25, -0.75,  0.25,  0.25],\n       [ 0.25,  0.25, -0.75,  0.25],\n       [ 0.25,  0.25, -0.75,  0.25],\n       [ 0.25,  0.25, -0.75,  0.25],\n       [ 0.25,  0.25, -0.75,  0.25],\n       [ 0.25, -0.75,  0.25,  0.25],\n       [-0.75,  0.25,  0.25,  0.25],\n       [ 0.25,  0.25,  0.25, -0.75],\n       [-0.75,  0.25,  0.25,  0.25],\n       [ 0.25,  0.25, -0.75,  0.25],\n       [ 0.25,  0.25,  0.25, -0.75],\n       [-0.75,  0.25,  0.25,  0.25],\n       [ 0.25,  0.25,  0.25, -0.75],\n       [-0.75,  0.25,  0.25,  0.25],\n       [ 0.25,  0.25,  0.25, -0.75],\n       [ 0.25,  0.25,  0.25, -0.75],\n       [-0.75,  0.25,  0.25,  0.25],\n       [ 0.25,  0.25, -0.75,  0.25],\n       [ 0.25,  0.25,  0.25, -0.75],\n       [ 0.25, -0.75,  0.25,  0.25],\n       [ 0.25,  0.25,  0.25, -0.75],\n       [ 0.25,  0.25, -0.75,  0.25]])"
     },
     "execution_count": 160,
     "metadata": {},
     "output_type": "execute_result"
    }
   ],
   "source": [
    "test_softmax_back = test_softmax.backward(toy_labels_1)\n",
    "print(test_softmax_back.shape)\n",
    "test_softmax_back"
   ],
   "metadata": {
    "collapsed": false,
    "pycharm": {
     "name": "#%%\n"
    }
   }
  },
  {
   "cell_type": "markdown",
   "source": [
    "#### Fully Connected Layer"
   ],
   "metadata": {
    "collapsed": false
   }
  },
  {
   "cell_type": "code",
   "execution_count": 161,
   "outputs": [
    {
     "name": "stdout",
     "output_type": "stream",
     "text": [
      "(50, 16)\n"
     ]
    },
    {
     "data": {
      "text/plain": "array([[-0.17882558,  0.22368029, -0.13573111,  0.07236715, -0.31792458,\n         0.20858897, -0.22713849, -0.19504869, -0.13525172, -0.30938507,\n         0.14336458, -0.29243851, -0.63778565,  0.27575066, -0.63413681,\n        -0.41074099],\n       [ 0.4699357 , -0.24439348,  0.57291641, -0.13981712,  0.22475302,\n         0.08249373, -0.20005411,  0.02328059,  0.05248093,  0.11655076,\n        -0.01385192,  0.32337023, -0.01794242,  0.20250966, -0.07631876,\n        -0.07433409],\n       [-0.43450874,  0.36310455, -0.3281631 ,  0.32941578, -0.20327875,\n        -0.38656347,  0.48400231,  0.01091864,  0.35476599, -0.00829376,\n        -0.12535082, -0.11264001,  0.38030633, -0.10344436,  0.60155579,\n         0.46925633],\n       [ 0.14339862, -0.34239136, -0.1090222 , -0.26196581,  0.2964503 ,\n         0.09548077, -0.05680971,  0.16084945, -0.2719952 ,  0.20112808,\n        -0.00416184,  0.08170829,  0.27542174, -0.37481596,  0.10889978,\n         0.01581875],\n       [-0.43450874,  0.36310455, -0.3281631 ,  0.32941578, -0.20327875,\n        -0.38656347,  0.48400231,  0.01091864,  0.35476599, -0.00829376,\n        -0.12535082, -0.11264001,  0.38030633, -0.10344436,  0.60155579,\n         0.46925633],\n       [ 0.4699357 , -0.24439348,  0.57291641, -0.13981712,  0.22475302,\n         0.08249373, -0.20005411,  0.02328059,  0.05248093,  0.11655076,\n        -0.01385192,  0.32337023, -0.01794242,  0.20250966, -0.07631876,\n        -0.07433409],\n       [-0.17882558,  0.22368029, -0.13573111,  0.07236715, -0.31792458,\n         0.20858897, -0.22713849, -0.19504869, -0.13525172, -0.30938507,\n         0.14336458, -0.29243851, -0.63778565,  0.27575066, -0.63413681,\n        -0.41074099],\n       [ 0.14339862, -0.34239136, -0.1090222 , -0.26196581,  0.2964503 ,\n         0.09548077, -0.05680971,  0.16084945, -0.2719952 ,  0.20112808,\n        -0.00416184,  0.08170829,  0.27542174, -0.37481596,  0.10889978,\n         0.01581875],\n       [-0.17882558,  0.22368029, -0.13573111,  0.07236715, -0.31792458,\n         0.20858897, -0.22713849, -0.19504869, -0.13525172, -0.30938507,\n         0.14336458, -0.29243851, -0.63778565,  0.27575066, -0.63413681,\n        -0.41074099],\n       [ 0.14339862, -0.34239136, -0.1090222 , -0.26196581,  0.2964503 ,\n         0.09548077, -0.05680971,  0.16084945, -0.2719952 ,  0.20112808,\n        -0.00416184,  0.08170829,  0.27542174, -0.37481596,  0.10889978,\n         0.01581875],\n       [ 0.14339862, -0.34239136, -0.1090222 , -0.26196581,  0.2964503 ,\n         0.09548077, -0.05680971,  0.16084945, -0.2719952 ,  0.20112808,\n        -0.00416184,  0.08170829,  0.27542174, -0.37481596,  0.10889978,\n         0.01581875],\n       [ 0.14339862, -0.34239136, -0.1090222 , -0.26196581,  0.2964503 ,\n         0.09548077, -0.05680971,  0.16084945, -0.2719952 ,  0.20112808,\n        -0.00416184,  0.08170829,  0.27542174, -0.37481596,  0.10889978,\n         0.01581875],\n       [ 0.14339862, -0.34239136, -0.1090222 , -0.26196581,  0.2964503 ,\n         0.09548077, -0.05680971,  0.16084945, -0.2719952 ,  0.20112808,\n        -0.00416184,  0.08170829,  0.27542174, -0.37481596,  0.10889978,\n         0.01581875],\n       [ 0.4699357 , -0.24439348,  0.57291641, -0.13981712,  0.22475302,\n         0.08249373, -0.20005411,  0.02328059,  0.05248093,  0.11655076,\n        -0.01385192,  0.32337023, -0.01794242,  0.20250966, -0.07631876,\n        -0.07433409],\n       [-0.17882558,  0.22368029, -0.13573111,  0.07236715, -0.31792458,\n         0.20858897, -0.22713849, -0.19504869, -0.13525172, -0.30938507,\n         0.14336458, -0.29243851, -0.63778565,  0.27575066, -0.63413681,\n        -0.41074099],\n       [ 0.4699357 , -0.24439348,  0.57291641, -0.13981712,  0.22475302,\n         0.08249373, -0.20005411,  0.02328059,  0.05248093,  0.11655076,\n        -0.01385192,  0.32337023, -0.01794242,  0.20250966, -0.07631876,\n        -0.07433409],\n       [-0.17882558,  0.22368029, -0.13573111,  0.07236715, -0.31792458,\n         0.20858897, -0.22713849, -0.19504869, -0.13525172, -0.30938507,\n         0.14336458, -0.29243851, -0.63778565,  0.27575066, -0.63413681,\n        -0.41074099],\n       [ 0.14339862, -0.34239136, -0.1090222 , -0.26196581,  0.2964503 ,\n         0.09548077, -0.05680971,  0.16084945, -0.2719952 ,  0.20112808,\n        -0.00416184,  0.08170829,  0.27542174, -0.37481596,  0.10889978,\n         0.01581875],\n       [-0.43450874,  0.36310455, -0.3281631 ,  0.32941578, -0.20327875,\n        -0.38656347,  0.48400231,  0.01091864,  0.35476599, -0.00829376,\n        -0.12535082, -0.11264001,  0.38030633, -0.10344436,  0.60155579,\n         0.46925633],\n       [-0.17882558,  0.22368029, -0.13573111,  0.07236715, -0.31792458,\n         0.20858897, -0.22713849, -0.19504869, -0.13525172, -0.30938507,\n         0.14336458, -0.29243851, -0.63778565,  0.27575066, -0.63413681,\n        -0.41074099],\n       [-0.17882558,  0.22368029, -0.13573111,  0.07236715, -0.31792458,\n         0.20858897, -0.22713849, -0.19504869, -0.13525172, -0.30938507,\n         0.14336458, -0.29243851, -0.63778565,  0.27575066, -0.63413681,\n        -0.41074099],\n       [-0.43450874,  0.36310455, -0.3281631 ,  0.32941578, -0.20327875,\n        -0.38656347,  0.48400231,  0.01091864,  0.35476599, -0.00829376,\n        -0.12535082, -0.11264001,  0.38030633, -0.10344436,  0.60155579,\n         0.46925633],\n       [-0.17882558,  0.22368029, -0.13573111,  0.07236715, -0.31792458,\n         0.20858897, -0.22713849, -0.19504869, -0.13525172, -0.30938507,\n         0.14336458, -0.29243851, -0.63778565,  0.27575066, -0.63413681,\n        -0.41074099],\n       [-0.17882558,  0.22368029, -0.13573111,  0.07236715, -0.31792458,\n         0.20858897, -0.22713849, -0.19504869, -0.13525172, -0.30938507,\n         0.14336458, -0.29243851, -0.63778565,  0.27575066, -0.63413681,\n        -0.41074099],\n       [-0.43450874,  0.36310455, -0.3281631 ,  0.32941578, -0.20327875,\n        -0.38656347,  0.48400231,  0.01091864,  0.35476599, -0.00829376,\n        -0.12535082, -0.11264001,  0.38030633, -0.10344436,  0.60155579,\n         0.46925633],\n       [-0.17882558,  0.22368029, -0.13573111,  0.07236715, -0.31792458,\n         0.20858897, -0.22713849, -0.19504869, -0.13525172, -0.30938507,\n         0.14336458, -0.29243851, -0.63778565,  0.27575066, -0.63413681,\n        -0.41074099],\n       [-0.43450874,  0.36310455, -0.3281631 ,  0.32941578, -0.20327875,\n        -0.38656347,  0.48400231,  0.01091864,  0.35476599, -0.00829376,\n        -0.12535082, -0.11264001,  0.38030633, -0.10344436,  0.60155579,\n         0.46925633],\n       [-0.17882558,  0.22368029, -0.13573111,  0.07236715, -0.31792458,\n         0.20858897, -0.22713849, -0.19504869, -0.13525172, -0.30938507,\n         0.14336458, -0.29243851, -0.63778565,  0.27575066, -0.63413681,\n        -0.41074099],\n       [ 0.4699357 , -0.24439348,  0.57291641, -0.13981712,  0.22475302,\n         0.08249373, -0.20005411,  0.02328059,  0.05248093,  0.11655076,\n        -0.01385192,  0.32337023, -0.01794242,  0.20250966, -0.07631876,\n        -0.07433409],\n       [ 0.14339862, -0.34239136, -0.1090222 , -0.26196581,  0.2964503 ,\n         0.09548077, -0.05680971,  0.16084945, -0.2719952 ,  0.20112808,\n        -0.00416184,  0.08170829,  0.27542174, -0.37481596,  0.10889978,\n         0.01581875],\n       [ 0.14339862, -0.34239136, -0.1090222 , -0.26196581,  0.2964503 ,\n         0.09548077, -0.05680971,  0.16084945, -0.2719952 ,  0.20112808,\n        -0.00416184,  0.08170829,  0.27542174, -0.37481596,  0.10889978,\n         0.01581875],\n       [ 0.14339862, -0.34239136, -0.1090222 , -0.26196581,  0.2964503 ,\n         0.09548077, -0.05680971,  0.16084945, -0.2719952 ,  0.20112808,\n        -0.00416184,  0.08170829,  0.27542174, -0.37481596,  0.10889978,\n         0.01581875],\n       [ 0.14339862, -0.34239136, -0.1090222 , -0.26196581,  0.2964503 ,\n         0.09548077, -0.05680971,  0.16084945, -0.2719952 ,  0.20112808,\n        -0.00416184,  0.08170829,  0.27542174, -0.37481596,  0.10889978,\n         0.01581875],\n       [ 0.4699357 , -0.24439348,  0.57291641, -0.13981712,  0.22475302,\n         0.08249373, -0.20005411,  0.02328059,  0.05248093,  0.11655076,\n        -0.01385192,  0.32337023, -0.01794242,  0.20250966, -0.07631876,\n        -0.07433409],\n       [-0.17882558,  0.22368029, -0.13573111,  0.07236715, -0.31792458,\n         0.20858897, -0.22713849, -0.19504869, -0.13525172, -0.30938507,\n         0.14336458, -0.29243851, -0.63778565,  0.27575066, -0.63413681,\n        -0.41074099],\n       [-0.43450874,  0.36310455, -0.3281631 ,  0.32941578, -0.20327875,\n        -0.38656347,  0.48400231,  0.01091864,  0.35476599, -0.00829376,\n        -0.12535082, -0.11264001,  0.38030633, -0.10344436,  0.60155579,\n         0.46925633],\n       [-0.17882558,  0.22368029, -0.13573111,  0.07236715, -0.31792458,\n         0.20858897, -0.22713849, -0.19504869, -0.13525172, -0.30938507,\n         0.14336458, -0.29243851, -0.63778565,  0.27575066, -0.63413681,\n        -0.41074099],\n       [ 0.14339862, -0.34239136, -0.1090222 , -0.26196581,  0.2964503 ,\n         0.09548077, -0.05680971,  0.16084945, -0.2719952 ,  0.20112808,\n        -0.00416184,  0.08170829,  0.27542174, -0.37481596,  0.10889978,\n         0.01581875],\n       [-0.43450874,  0.36310455, -0.3281631 ,  0.32941578, -0.20327875,\n        -0.38656347,  0.48400231,  0.01091864,  0.35476599, -0.00829376,\n        -0.12535082, -0.11264001,  0.38030633, -0.10344436,  0.60155579,\n         0.46925633],\n       [-0.17882558,  0.22368029, -0.13573111,  0.07236715, -0.31792458,\n         0.20858897, -0.22713849, -0.19504869, -0.13525172, -0.30938507,\n         0.14336458, -0.29243851, -0.63778565,  0.27575066, -0.63413681,\n        -0.41074099],\n       [-0.43450874,  0.36310455, -0.3281631 ,  0.32941578, -0.20327875,\n        -0.38656347,  0.48400231,  0.01091864,  0.35476599, -0.00829376,\n        -0.12535082, -0.11264001,  0.38030633, -0.10344436,  0.60155579,\n         0.46925633],\n       [-0.17882558,  0.22368029, -0.13573111,  0.07236715, -0.31792458,\n         0.20858897, -0.22713849, -0.19504869, -0.13525172, -0.30938507,\n         0.14336458, -0.29243851, -0.63778565,  0.27575066, -0.63413681,\n        -0.41074099],\n       [-0.43450874,  0.36310455, -0.3281631 ,  0.32941578, -0.20327875,\n        -0.38656347,  0.48400231,  0.01091864,  0.35476599, -0.00829376,\n        -0.12535082, -0.11264001,  0.38030633, -0.10344436,  0.60155579,\n         0.46925633],\n       [-0.43450874,  0.36310455, -0.3281631 ,  0.32941578, -0.20327875,\n        -0.38656347,  0.48400231,  0.01091864,  0.35476599, -0.00829376,\n        -0.12535082, -0.11264001,  0.38030633, -0.10344436,  0.60155579,\n         0.46925633],\n       [-0.17882558,  0.22368029, -0.13573111,  0.07236715, -0.31792458,\n         0.20858897, -0.22713849, -0.19504869, -0.13525172, -0.30938507,\n         0.14336458, -0.29243851, -0.63778565,  0.27575066, -0.63413681,\n        -0.41074099],\n       [ 0.14339862, -0.34239136, -0.1090222 , -0.26196581,  0.2964503 ,\n         0.09548077, -0.05680971,  0.16084945, -0.2719952 ,  0.20112808,\n        -0.00416184,  0.08170829,  0.27542174, -0.37481596,  0.10889978,\n         0.01581875],\n       [-0.43450874,  0.36310455, -0.3281631 ,  0.32941578, -0.20327875,\n        -0.38656347,  0.48400231,  0.01091864,  0.35476599, -0.00829376,\n        -0.12535082, -0.11264001,  0.38030633, -0.10344436,  0.60155579,\n         0.46925633],\n       [ 0.4699357 , -0.24439348,  0.57291641, -0.13981712,  0.22475302,\n         0.08249373, -0.20005411,  0.02328059,  0.05248093,  0.11655076,\n        -0.01385192,  0.32337023, -0.01794242,  0.20250966, -0.07631876,\n        -0.07433409],\n       [-0.43450874,  0.36310455, -0.3281631 ,  0.32941578, -0.20327875,\n        -0.38656347,  0.48400231,  0.01091864,  0.35476599, -0.00829376,\n        -0.12535082, -0.11264001,  0.38030633, -0.10344436,  0.60155579,\n         0.46925633],\n       [ 0.14339862, -0.34239136, -0.1090222 , -0.26196581,  0.2964503 ,\n         0.09548077, -0.05680971,  0.16084945, -0.2719952 ,  0.20112808,\n        -0.00416184,  0.08170829,  0.27542174, -0.37481596,  0.10889978,\n         0.01581875]])"
     },
     "execution_count": 161,
     "metadata": {},
     "output_type": "execute_result"
    }
   ],
   "source": [
    "test_fc_back = test_fc.backward(test_softmax_back, learning_rate=0.01)\n",
    "print(test_fc_back.shape)\n",
    "test_fc_back"
   ],
   "metadata": {
    "collapsed": false,
    "pycharm": {
     "name": "#%%\n"
    }
   }
  },
  {
   "cell_type": "markdown",
   "source": [
    "#### Flattening Layer"
   ],
   "metadata": {
    "collapsed": false
   }
  },
  {
   "cell_type": "code",
   "execution_count": 162,
   "outputs": [
    {
     "data": {
      "text/plain": "array([[-0.17882558,  0.22368029],\n       [-0.13573111,  0.07236715]])"
     },
     "execution_count": 162,
     "metadata": {},
     "output_type": "execute_result"
    }
   ],
   "source": [
    "test_flattening_back = test_flattening.backward(test_fc_back)\n",
    "test_flattening_back[0, 0, :, :]"
   ],
   "metadata": {
    "collapsed": false,
    "pycharm": {
     "name": "#%%\n"
    }
   }
  },
  {
   "cell_type": "markdown",
   "source": [
    "#### MaxPooling Layer"
   ],
   "metadata": {
    "collapsed": false
   }
  },
  {
   "cell_type": "code",
   "execution_count": 163,
   "outputs": [
    {
     "data": {
      "text/plain": "(50, 4, 2, 2)"
     },
     "execution_count": 163,
     "metadata": {},
     "output_type": "execute_result"
    }
   ],
   "source": [
    "test_maxpool_back = test_maxpool.backward(test_flattening_back)\n",
    "test_flattening_back.shape"
   ],
   "metadata": {
    "collapsed": false,
    "pycharm": {
     "name": "#%%\n"
    }
   }
  },
  {
   "cell_type": "code",
   "execution_count": 164,
   "outputs": [
    {
     "data": {
      "text/plain": "array([[-0.17882558,  0.04485471,  0.22368029],\n       [-0.31455669, -0.01850924,  0.29604745],\n       [-0.13573111, -0.06336395,  0.07236715]])"
     },
     "execution_count": 164,
     "metadata": {},
     "output_type": "execute_result"
    }
   ],
   "source": [
    "test_maxpool_back[0, 0, :, :]"
   ],
   "metadata": {
    "collapsed": false,
    "pycharm": {
     "name": "#%%\n"
    }
   }
  },
  {
   "cell_type": "markdown",
   "source": [
    "#### Activation Layer"
   ],
   "metadata": {
    "collapsed": false
   }
  },
  {
   "cell_type": "code",
   "execution_count": 165,
   "outputs": [
    {
     "data": {
      "text/plain": "(50, 4, 3, 3)"
     },
     "execution_count": 165,
     "metadata": {},
     "output_type": "execute_result"
    }
   ],
   "source": [
    "test_activation_back = test_activation.backward(test_maxpool_back)\n",
    "test_activation_back.shape"
   ],
   "metadata": {
    "collapsed": false,
    "pycharm": {
     "name": "#%%\n"
    }
   }
  },
  {
   "cell_type": "code",
   "execution_count": 166,
   "outputs": [
    {
     "data": {
      "text/plain": "array([[-0.        ,  0.04485471,  0.22368029],\n       [-0.        , -0.        ,  0.29604745],\n       [-0.        , -0.        ,  0.07236715]])"
     },
     "execution_count": 166,
     "metadata": {},
     "output_type": "execute_result"
    }
   ],
   "source": [
    "test_activation_back[0, 0, :, :]"
   ],
   "metadata": {
    "collapsed": false,
    "pycharm": {
     "name": "#%%\n"
    }
   }
  },
  {
   "cell_type": "markdown",
   "source": [
    "#### Convolution Layer"
   ],
   "metadata": {
    "collapsed": false
   }
  },
  {
   "cell_type": "code",
   "execution_count": 167,
   "outputs": [
    {
     "data": {
      "text/plain": "(50, 1, 2, 2)"
     },
     "execution_count": 167,
     "metadata": {},
     "output_type": "execute_result"
    }
   ],
   "source": [
    "test_conv_back = test_conv.backward(test_activation_back, learning_rate=0.01)\n",
    "test_conv_back.shape"
   ],
   "metadata": {
    "collapsed": false,
    "pycharm": {
     "name": "#%%\n"
    }
   }
  },
  {
   "cell_type": "code",
   "execution_count": 168,
   "outputs": [
    {
     "data": {
      "text/plain": "array([[0., 0.],\n       [0., 0.]])"
     },
     "execution_count": 168,
     "metadata": {},
     "output_type": "execute_result"
    }
   ],
   "source": [
    "test_conv_back[0, 0, :, :]"
   ],
   "metadata": {
    "collapsed": false,
    "pycharm": {
     "name": "#%%\n"
    }
   }
  },
  {
   "cell_type": "markdown",
   "source": [
    "## Main Test"
   ],
   "metadata": {
    "collapsed": false
   }
  },
  {
   "cell_type": "code",
   "execution_count": 169,
   "outputs": [
    {
     "data": {
      "text/plain": "<matplotlib.image.AxesImage at 0x7fe52083d820>"
     },
     "execution_count": 169,
     "metadata": {},
     "output_type": "execute_result"
    },
    {
     "data": {
      "text/plain": "<Figure size 432x288 with 1 Axes>",
      "image/png": "[encoded data removed]"
     },
     "metadata": {
      "needs_background": "light"
     },
     "output_type": "display_data"
    }
   ],
   "source": [
    "x_train, y_train, x_test, y_test = process_mnist_data()\n",
    "img = x_train[0].reshape(28, 28, 1)\n",
    "plt.imshow(img, cmap='gray')"
   ],
   "metadata": {
    "collapsed": false,
    "pycharm": {
     "name": "#%%\n"
    }
   }
  },
  {
   "cell_type": "code",
   "execution_count": 170,
   "outputs": [
    {
     "data": {
      "text/plain": "(32, 1, 28, 28)"
     },
     "execution_count": 170,
     "metadata": {},
     "output_type": "execute_result"
    }
   ],
   "source": [
    "model = parse_input_model()\n",
    "mnist_batch_1 = x_train[0:32].reshape(32, 1, 28, 28)\n",
    "mnist_labels_1 = y_train[0:32]\n",
    "mnist_batch_1.shape"
   ],
   "metadata": {
    "collapsed": false,
    "pycharm": {
     "name": "#%%\n"
    }
   }
  },
  {
   "cell_type": "code",
   "execution_count": 171,
   "outputs": [],
   "source": [
    "# train\n",
    "random_index = random.sample(range(0, 10000), 4992)\n",
    "mnist_subsample_x = x_train[random_index]\n",
    "mnist_subsample_y = y_train[random_index]\n",
    "# validation\n",
    "mnist_validation_x = x_test[:2000]\n",
    "mnist_validation_y = y_test[:2000]\n",
    "# test\n",
    "mnist_test_x = x_test[5001:7001]\n",
    "mnist_test_y = y_test[5001:7001]"
   ],
   "metadata": {
    "collapsed": false,
    "pycharm": {
     "name": "#%%\n"
    }
   }
  },
  {
   "cell_type": "code",
   "execution_count": 172,
   "outputs": [
    {
     "data": {
      "text/plain": "LabelBinarizer()"
     },
     "execution_count": 172,
     "metadata": {},
     "output_type": "execute_result"
    }
   ],
   "source": [
    "label_binarizer = LabelBinarizer()\n",
    "label_binarizer.fit(range(0,10))"
   ],
   "metadata": {
    "collapsed": false,
    "pycharm": {
     "name": "#%%\n"
    }
   }
  },
  {
   "cell_type": "code",
   "execution_count": 173,
   "outputs": [],
   "source": [
    "validation_batch = mnist_validation_x.reshape(2000, 1, 28, 28)\n",
    "validation_labels = label_binarizer.transform(mnist_validation_y)"
   ],
   "metadata": {
    "collapsed": false,
    "pycharm": {
     "name": "#%%\n"
    }
   }
  },
  {
   "cell_type": "code",
   "execution_count": 174,
   "outputs": [
    {
     "data": {
      "text/plain": "array([[0, 0, 0, 0, 0, 0, 0, 1, 0, 0],\n       [0, 0, 1, 0, 0, 0, 0, 0, 0, 0],\n       [0, 1, 0, 0, 0, 0, 0, 0, 0, 0],\n       [1, 0, 0, 0, 0, 0, 0, 0, 0, 0],\n       [0, 0, 0, 0, 1, 0, 0, 0, 0, 0],\n       [0, 1, 0, 0, 0, 0, 0, 0, 0, 0],\n       [0, 0, 0, 0, 1, 0, 0, 0, 0, 0],\n       [0, 0, 0, 0, 0, 0, 0, 0, 0, 1],\n       [0, 0, 0, 0, 0, 1, 0, 0, 0, 0],\n       [0, 0, 0, 0, 0, 0, 0, 0, 0, 1],\n       [1, 0, 0, 0, 0, 0, 0, 0, 0, 0],\n       [0, 0, 0, 0, 0, 0, 1, 0, 0, 0],\n       [0, 0, 0, 0, 0, 0, 0, 0, 0, 1],\n       [1, 0, 0, 0, 0, 0, 0, 0, 0, 0],\n       [0, 1, 0, 0, 0, 0, 0, 0, 0, 0],\n       [0, 0, 0, 0, 0, 1, 0, 0, 0, 0],\n       [0, 0, 0, 0, 0, 0, 0, 0, 0, 1],\n       [0, 0, 0, 0, 0, 0, 0, 1, 0, 0],\n       [0, 0, 0, 1, 0, 0, 0, 0, 0, 0],\n       [0, 0, 0, 0, 1, 0, 0, 0, 0, 0],\n       [0, 0, 0, 0, 0, 0, 0, 0, 0, 1],\n       [0, 0, 0, 0, 0, 0, 1, 0, 0, 0],\n       [0, 0, 0, 0, 0, 0, 1, 0, 0, 0],\n       [0, 0, 0, 0, 0, 1, 0, 0, 0, 0],\n       [0, 0, 0, 0, 1, 0, 0, 0, 0, 0],\n       [1, 0, 0, 0, 0, 0, 0, 0, 0, 0],\n       [0, 0, 0, 0, 0, 0, 0, 1, 0, 0],\n       [0, 0, 0, 0, 1, 0, 0, 0, 0, 0],\n       [1, 0, 0, 0, 0, 0, 0, 0, 0, 0],\n       [0, 1, 0, 0, 0, 0, 0, 0, 0, 0],\n       [0, 0, 0, 1, 0, 0, 0, 0, 0, 0],\n       [0, 1, 0, 0, 0, 0, 0, 0, 0, 0],\n       [0, 0, 0, 1, 0, 0, 0, 0, 0, 0],\n       [0, 0, 0, 0, 1, 0, 0, 0, 0, 0],\n       [0, 0, 0, 0, 0, 0, 0, 1, 0, 0],\n       [0, 0, 1, 0, 0, 0, 0, 0, 0, 0],\n       [0, 0, 0, 0, 0, 0, 0, 1, 0, 0],\n       [0, 1, 0, 0, 0, 0, 0, 0, 0, 0],\n       [0, 0, 1, 0, 0, 0, 0, 0, 0, 0],\n       [0, 1, 0, 0, 0, 0, 0, 0, 0, 0],\n       [0, 1, 0, 0, 0, 0, 0, 0, 0, 0],\n       [0, 0, 0, 0, 0, 0, 0, 1, 0, 0],\n       [0, 0, 0, 0, 1, 0, 0, 0, 0, 0],\n       [0, 0, 1, 0, 0, 0, 0, 0, 0, 0],\n       [0, 0, 0, 1, 0, 0, 0, 0, 0, 0],\n       [0, 0, 0, 0, 0, 1, 0, 0, 0, 0],\n       [0, 1, 0, 0, 0, 0, 0, 0, 0, 0],\n       [0, 0, 1, 0, 0, 0, 0, 0, 0, 0],\n       [0, 0, 0, 0, 1, 0, 0, 0, 0, 0],\n       [0, 0, 0, 0, 1, 0, 0, 0, 0, 0],\n       [0, 0, 0, 0, 0, 0, 1, 0, 0, 0],\n       [0, 0, 0, 1, 0, 0, 0, 0, 0, 0],\n       [0, 0, 0, 0, 0, 1, 0, 0, 0, 0],\n       [0, 0, 0, 0, 0, 1, 0, 0, 0, 0],\n       [0, 0, 0, 0, 0, 0, 1, 0, 0, 0],\n       [1, 0, 0, 0, 0, 0, 0, 0, 0, 0],\n       [0, 0, 0, 0, 1, 0, 0, 0, 0, 0],\n       [0, 1, 0, 0, 0, 0, 0, 0, 0, 0],\n       [0, 0, 0, 0, 0, 0, 0, 0, 0, 1],\n       [0, 0, 0, 0, 0, 1, 0, 0, 0, 0],\n       [0, 0, 0, 0, 0, 0, 0, 1, 0, 0],\n       [0, 0, 0, 0, 0, 0, 0, 0, 1, 0],\n       [0, 0, 0, 0, 0, 0, 0, 0, 0, 1],\n       [0, 0, 0, 1, 0, 0, 0, 0, 0, 0],\n       [0, 0, 0, 0, 0, 0, 0, 1, 0, 0],\n       [0, 0, 0, 0, 1, 0, 0, 0, 0, 0],\n       [0, 0, 0, 0, 0, 0, 1, 0, 0, 0],\n       [0, 0, 0, 0, 1, 0, 0, 0, 0, 0],\n       [0, 0, 0, 1, 0, 0, 0, 0, 0, 0],\n       [1, 0, 0, 0, 0, 0, 0, 0, 0, 0],\n       [0, 0, 0, 0, 0, 0, 0, 1, 0, 0],\n       [1, 0, 0, 0, 0, 0, 0, 0, 0, 0],\n       [0, 0, 1, 0, 0, 0, 0, 0, 0, 0],\n       [0, 0, 0, 0, 0, 0, 0, 0, 0, 1],\n       [0, 1, 0, 0, 0, 0, 0, 0, 0, 0],\n       [0, 0, 0, 0, 0, 0, 0, 1, 0, 0],\n       [0, 0, 0, 1, 0, 0, 0, 0, 0, 0],\n       [0, 0, 1, 0, 0, 0, 0, 0, 0, 0],\n       [0, 0, 0, 0, 0, 0, 0, 0, 0, 1],\n       [0, 0, 0, 0, 0, 0, 0, 1, 0, 0],\n       [0, 0, 0, 0, 0, 0, 0, 1, 0, 0],\n       [0, 0, 0, 0, 0, 0, 1, 0, 0, 0],\n       [0, 0, 1, 0, 0, 0, 0, 0, 0, 0],\n       [0, 0, 0, 0, 0, 0, 0, 1, 0, 0],\n       [0, 0, 0, 0, 0, 0, 0, 0, 1, 0],\n       [0, 0, 0, 0, 1, 0, 0, 0, 0, 0],\n       [0, 0, 0, 0, 0, 0, 0, 1, 0, 0],\n       [0, 0, 0, 1, 0, 0, 0, 0, 0, 0],\n       [0, 0, 0, 0, 0, 0, 1, 0, 0, 0],\n       [0, 1, 0, 0, 0, 0, 0, 0, 0, 0],\n       [0, 0, 0, 1, 0, 0, 0, 0, 0, 0],\n       [0, 0, 0, 0, 0, 0, 1, 0, 0, 0],\n       [0, 0, 0, 0, 0, 0, 0, 0, 0, 1],\n       [0, 0, 0, 1, 0, 0, 0, 0, 0, 0],\n       [0, 1, 0, 0, 0, 0, 0, 0, 0, 0],\n       [0, 0, 0, 0, 1, 0, 0, 0, 0, 0],\n       [0, 1, 0, 0, 0, 0, 0, 0, 0, 0],\n       [0, 0, 0, 0, 0, 0, 0, 1, 0, 0],\n       [0, 0, 0, 0, 0, 0, 1, 0, 0, 0],\n       [0, 0, 0, 0, 0, 0, 0, 0, 0, 1]])"
     },
     "execution_count": 174,
     "metadata": {},
     "output_type": "execute_result"
    }
   ],
   "source": [
    "validation_labels[0:100]"
   ],
   "metadata": {
    "collapsed": false,
    "pycharm": {
     "name": "#%%\n"
    }
   }
  },
  {
   "cell_type": "code",
   "execution_count": 175,
   "outputs": [],
   "source": [
    "test_batch = mnist_test_x.reshape(2000, 1, 28, 28)\n",
    "test_labels = label_binarizer.transform(mnist_test_y)"
   ],
   "metadata": {
    "collapsed": false,
    "pycharm": {
     "name": "#%%\n"
    }
   }
  },
  {
   "cell_type": "code",
   "execution_count": 176,
   "outputs": [
    {
     "data": {
      "text/plain": "array([[0, 0, 0, 0, 0, 0, 0, 0, 0, 1],\n       [0, 0, 0, 0, 0, 0, 0, 0, 0, 1],\n       [0, 0, 0, 0, 0, 0, 0, 0, 1, 0],\n       [0, 0, 0, 0, 1, 0, 0, 0, 0, 0],\n       [0, 1, 0, 0, 0, 0, 0, 0, 0, 0],\n       [1, 0, 0, 0, 0, 0, 0, 0, 0, 0],\n       [0, 0, 0, 0, 0, 0, 1, 0, 0, 0],\n       [1, 0, 0, 0, 0, 0, 0, 0, 0, 0],\n       [0, 0, 0, 0, 0, 0, 0, 0, 0, 1],\n       [0, 0, 0, 0, 0, 0, 1, 0, 0, 0],\n       [0, 0, 0, 0, 0, 0, 0, 0, 1, 0],\n       [0, 0, 0, 0, 0, 0, 1, 0, 0, 0],\n       [0, 1, 0, 0, 0, 0, 0, 0, 0, 0],\n       [0, 1, 0, 0, 0, 0, 0, 0, 0, 0],\n       [0, 0, 0, 0, 0, 0, 0, 0, 0, 1],\n       [0, 0, 0, 0, 0, 0, 0, 0, 1, 0],\n       [0, 0, 0, 0, 0, 0, 0, 0, 0, 1],\n       [0, 0, 1, 0, 0, 0, 0, 0, 0, 0],\n       [0, 0, 0, 1, 0, 0, 0, 0, 0, 0],\n       [0, 0, 0, 0, 0, 1, 0, 0, 0, 0],\n       [0, 0, 0, 0, 0, 1, 0, 0, 0, 0],\n       [0, 0, 0, 0, 0, 0, 0, 0, 0, 1],\n       [0, 0, 0, 0, 1, 0, 0, 0, 0, 0],\n       [0, 0, 1, 0, 0, 0, 0, 0, 0, 0],\n       [0, 1, 0, 0, 0, 0, 0, 0, 0, 0],\n       [0, 0, 0, 0, 0, 0, 0, 0, 0, 1],\n       [0, 0, 0, 0, 1, 0, 0, 0, 0, 0],\n       [0, 0, 0, 1, 0, 0, 0, 0, 0, 0],\n       [0, 0, 0, 0, 0, 0, 0, 0, 0, 1],\n       [0, 0, 0, 0, 0, 0, 1, 0, 0, 0],\n       [1, 0, 0, 0, 0, 0, 0, 0, 0, 0],\n       [0, 0, 0, 0, 1, 0, 0, 0, 0, 0],\n       [1, 0, 0, 0, 0, 0, 0, 0, 0, 0],\n       [0, 0, 0, 0, 0, 0, 1, 0, 0, 0],\n       [1, 0, 0, 0, 0, 0, 0, 0, 0, 0],\n       [0, 1, 0, 0, 0, 0, 0, 0, 0, 0],\n       [0, 0, 1, 0, 0, 0, 0, 0, 0, 0],\n       [0, 0, 0, 1, 0, 0, 0, 0, 0, 0],\n       [0, 0, 0, 0, 1, 0, 0, 0, 0, 0],\n       [0, 0, 0, 0, 0, 0, 0, 1, 0, 0],\n       [0, 0, 0, 0, 0, 0, 0, 0, 1, 0],\n       [0, 0, 0, 0, 0, 0, 0, 0, 0, 1],\n       [1, 0, 0, 0, 0, 0, 0, 0, 0, 0],\n       [0, 1, 0, 0, 0, 0, 0, 0, 0, 0],\n       [0, 0, 1, 0, 0, 0, 0, 0, 0, 0],\n       [0, 0, 0, 1, 0, 0, 0, 0, 0, 0],\n       [0, 0, 0, 0, 1, 0, 0, 0, 0, 0],\n       [0, 0, 0, 0, 0, 0, 0, 1, 0, 0],\n       [0, 0, 0, 0, 0, 0, 0, 0, 1, 0],\n       [0, 0, 0, 0, 0, 0, 0, 0, 0, 1],\n       [1, 0, 0, 0, 0, 0, 0, 0, 0, 0],\n       [0, 1, 0, 0, 0, 0, 0, 0, 0, 0],\n       [0, 0, 1, 0, 0, 0, 0, 0, 0, 0],\n       [0, 0, 0, 1, 0, 0, 0, 0, 0, 0],\n       [0, 0, 0, 0, 1, 0, 0, 0, 0, 0],\n       [0, 0, 0, 0, 0, 1, 0, 0, 0, 0],\n       [0, 0, 0, 0, 0, 0, 1, 0, 0, 0],\n       [0, 0, 0, 0, 0, 0, 0, 1, 0, 0],\n       [0, 0, 0, 0, 0, 0, 0, 0, 1, 0],\n       [0, 0, 0, 0, 0, 0, 0, 0, 0, 1],\n       [0, 0, 0, 0, 0, 0, 0, 0, 1, 0],\n       [0, 0, 0, 1, 0, 0, 0, 0, 0, 0],\n       [0, 0, 0, 0, 1, 0, 0, 0, 0, 0],\n       [0, 0, 0, 0, 0, 0, 0, 1, 0, 0],\n       [0, 0, 0, 0, 0, 0, 0, 0, 1, 0],\n       [0, 0, 0, 0, 0, 0, 1, 0, 0, 0],\n       [0, 0, 0, 1, 0, 0, 0, 0, 0, 0],\n       [0, 0, 0, 0, 1, 0, 0, 0, 0, 0],\n       [1, 0, 0, 0, 0, 0, 0, 0, 0, 0],\n       [0, 0, 0, 0, 0, 0, 0, 0, 0, 1],\n       [0, 0, 0, 0, 0, 0, 0, 1, 0, 0],\n       [0, 1, 0, 0, 0, 0, 0, 0, 0, 0],\n       [0, 0, 0, 0, 0, 0, 0, 0, 0, 1],\n       [0, 0, 0, 1, 0, 0, 0, 0, 0, 0],\n       [0, 0, 0, 0, 0, 0, 0, 0, 1, 0],\n       [0, 0, 0, 0, 1, 0, 0, 0, 0, 0],\n       [0, 0, 0, 0, 0, 0, 0, 1, 0, 0],\n       [0, 0, 0, 1, 0, 0, 0, 0, 0, 0],\n       [1, 0, 0, 0, 0, 0, 0, 0, 0, 0],\n       [0, 0, 0, 0, 0, 0, 0, 0, 0, 1],\n       [0, 1, 0, 0, 0, 0, 0, 0, 0, 0],\n       [0, 0, 0, 0, 1, 0, 0, 0, 0, 0],\n       [0, 0, 0, 0, 0, 1, 0, 0, 0, 0],\n       [0, 0, 0, 0, 1, 0, 0, 0, 0, 0],\n       [0, 0, 0, 0, 0, 0, 1, 0, 0, 0],\n       [0, 0, 1, 0, 0, 0, 0, 0, 0, 0],\n       [1, 0, 0, 0, 0, 0, 0, 0, 0, 0],\n       [0, 0, 0, 0, 0, 0, 1, 0, 0, 0],\n       [0, 0, 1, 0, 0, 0, 0, 0, 0, 0],\n       [0, 1, 0, 0, 0, 0, 0, 0, 0, 0],\n       [0, 1, 0, 0, 0, 0, 0, 0, 0, 0],\n       [0, 1, 0, 0, 0, 0, 0, 0, 0, 0],\n       [0, 1, 0, 0, 0, 0, 0, 0, 0, 0],\n       [0, 0, 0, 0, 0, 0, 0, 1, 0, 0],\n       [0, 0, 1, 0, 0, 0, 0, 0, 0, 0],\n       [0, 0, 0, 0, 1, 0, 0, 0, 0, 0],\n       [0, 0, 0, 0, 0, 0, 0, 1, 0, 0],\n       [0, 0, 0, 0, 0, 1, 0, 0, 0, 0],\n       [0, 0, 1, 0, 0, 0, 0, 0, 0, 0],\n       [0, 0, 0, 0, 0, 0, 0, 0, 0, 1]])"
     },
     "execution_count": 176,
     "metadata": {},
     "output_type": "execute_result"
    }
   ],
   "source": [
    "test_labels[0:100]"
   ],
   "metadata": {
    "collapsed": false,
    "pycharm": {
     "name": "#%%\n"
    }
   }
  },
  {
   "cell_type": "code",
   "execution_count": 177,
   "outputs": [],
   "source": [
    "def measure_accuracy(y_true, y_pred):\n",
    "    accurate = np.sum(np.all(y_true == y_pred, axis=1))\n",
    "    total = y_true.shape[0]\n",
    "    return accurate / total"
   ],
   "metadata": {
    "collapsed": false,
    "pycharm": {
     "name": "#%%\n"
    }
   }
  },
  {
   "cell_type": "code",
   "execution_count": 178,
   "outputs": [],
   "source": [
    "def predict_labels(a):\n",
    "    return (a == a.max(axis=1)[:,None]).astype(int)"
   ],
   "metadata": {
    "collapsed": false,
    "pycharm": {
     "name": "#%%\n"
    }
   }
  },
  {
   "cell_type": "code",
   "execution_count": 179,
   "outputs": [],
   "source": [
    "# %%timeit\n",
    "# inp = mnist_batch_1\n",
    "# for layer in model:\n",
    "#     inp = layer.forward(inp)\n",
    "#\n",
    "# labels_true = label_binarizer.transform(mnist_labels_1)\n",
    "# l = loss_function(labels_true, inp)\n",
    "#\n",
    "# out = labels_true\n",
    "# for layer in reversed(model):\n",
    "#     out = layer.backward(out)"
   ],
   "metadata": {
    "collapsed": false,
    "pycharm": {
     "name": "#%%\n"
    }
   }
  },
  {
   "cell_type": "code",
   "execution_count": 180,
   "outputs": [],
   "source": [
    "# for i in range(10):\n",
    "#     losses = []\n",
    "#     index = [i for i in range(1,157)]\n",
    "#     for j in range(0, 4992, 32):\n",
    "#         batch_x = mnist_subsample_x[j:j+32].reshape(32, 1, 28, 28)\n",
    "#         batch_y = mnist_subsample_y[j:j+32]\n",
    "#         model_out = batch_x\n",
    "#         # train\n",
    "#         for layer in model:\n",
    "#             # print(layer)\n",
    "#             model_out = layer.forward(model_out)\n",
    "#             # print(model_out.shape)\n",
    "#\n",
    "#         true_labels = label_binarizer.transform(batch_y)\n",
    "#         l = loss_function(true_labels, model_out)\n",
    "#         losses.append(l)\n",
    "#         # print(\"Epoc {} batch {} loss = {}\".format(i, j//32, l))\n",
    "#\n",
    "#\n",
    "#         model_back = true_labels\n",
    "#         for layer in reversed(model):\n",
    "#             # print(layer)\n",
    "#             model_back = layer.backward(model_back)\n",
    "#             # print(model_back.shape)\n",
    "#\n",
    "#     plt.plot(index, losses)\n",
    "#     plt.show()\n",
    "#\n",
    "#     #validation\n",
    "#     validation_out = validation_batch\n",
    "#     for layer in model:\n",
    "#         validation_out = layer.forward(validation_out)\n",
    "#     validation_loss = loss_function(validation_labels, validation_out)\n",
    "#     print('Validation loss after epoc {} is {}'.format(i, validation_loss))\n",
    "#     validation_predictions = predict_labels(validation_out)\n",
    "#     accuracy = measure_accuracy(validation_labels, validation_predictions)\n",
    "#     print('Validation accuracy after epoc {} is {}'.format(i, accuracy))"
   ],
   "metadata": {
    "collapsed": false,
    "pycharm": {
     "name": "#%%\n"
    }
   }
  },
  {
   "cell_type": "code",
   "execution_count": 181,
   "outputs": [
    {
     "data": {
      "text/plain": "LabelBinarizer()"
     },
     "execution_count": 181,
     "metadata": {},
     "output_type": "execute_result"
    }
   ],
   "source": [
    "label_binarizer_toy = LabelBinarizer()\n",
    "label_binarizer_toy.fit(range(1,5))"
   ],
   "metadata": {
    "collapsed": false,
    "pycharm": {
     "name": "#%%\n"
    }
   }
  },
  {
   "cell_type": "code",
   "execution_count": 182,
   "outputs": [],
   "source": [
    "toy_model = [FullyConnectedLayerBatch(4), SoftmaxLayerBatch()]\n",
    "x_train, y_train, x_test, y_test = process_toy_dataset()\n",
    "x_validation, y_validation = x_test[:250], y_test[:250]\n",
    "x_test, y_test = x_test[250:], y_test[250:]"
   ],
   "metadata": {
    "collapsed": false,
    "pycharm": {
     "name": "#%%\n"
    }
   }
  },
  {
   "cell_type": "code",
   "execution_count": 183,
   "outputs": [],
   "source": [
    "y_validation = label_binarizer_toy.transform(y_validation)\n",
    "y_test = label_binarizer_toy.transform(y_test)"
   ],
   "metadata": {
    "collapsed": false,
    "pycharm": {
     "name": "#%%\n"
    }
   }
  },
  {
   "cell_type": "code",
   "execution_count": 184,
   "outputs": [
    {
     "data": {
      "text/plain": "<Figure size 432x288 with 1 Axes>",
      "image/png": "[encoded data removed]"
     },
     "metadata": {
      "needs_background": "light"
     },
     "output_type": "display_data"
    },
    {
     "data": {
      "text/plain": "<Figure size 432x288 with 1 Axes>",
      "image/png": "[encoded data removed]"
     },
     "metadata": {
      "needs_background": "light"
     },
     "output_type": "display_data"
    }
   ],
   "source": [
    "validation_losses = []\n",
    "validation_accuracy = []\n",
    "validation_index = [i for i in range(1,12001)]\n",
    "for i in range(12000):\n",
    "    losses = []\n",
    "    index = [i for i in range(1,21)]\n",
    "    for j in range(0, 500, 25):\n",
    "        batch_x = x_train[j:j+25]\n",
    "        batch_y = y_train[j:j+25]\n",
    "        model_out = batch_x\n",
    "        # train\n",
    "        for layer in toy_model:\n",
    "            model_out = layer.forward(model_out)\n",
    "\n",
    "        true_labels = label_binarizer_toy.transform(batch_y)\n",
    "        l = loss_function(true_labels, model_out)\n",
    "        losses.append(l)\n",
    "\n",
    "        model_back_toy = true_labels\n",
    "        for layer in reversed(toy_model):\n",
    "            model_back_toy = layer.backward(model_back_toy)\n",
    "\n",
    "    #validation\n",
    "    validation_out = x_validation\n",
    "    for layer in toy_model:\n",
    "        validation_out = layer.forward(validation_out)\n",
    "    validation_loss = loss_function(y_validation, validation_out)\n",
    "    validation_losses.append(validation_loss)\n",
    "    validation_predictions = predict_labels(validation_out)\n",
    "    accuracy = measure_accuracy(y_validation, validation_predictions)\n",
    "    validation_accuracy.append(accuracy*100)\n",
    "\n",
    "# print(validation_losses)\n",
    "plt.plot(validation_index, validation_losses)\n",
    "plt.show()\n",
    "plt.plot(validation_index, validation_accuracy)\n",
    "plt.show()"
   ],
   "metadata": {
    "collapsed": false,
    "pycharm": {
     "name": "#%%\n"
    }
   }
  },
  {
   "cell_type": "code",
   "execution_count": 185,
   "outputs": [
    {
     "data": {
      "text/plain": "1.0"
     },
     "execution_count": 185,
     "metadata": {},
     "output_type": "execute_result"
    }
   ],
   "source": [
    "test_out = x_test\n",
    "for layer in toy_model:\n",
    "    test_out = layer.forward(test_out)\n",
    "test_prediction = predict_labels(test_out)\n",
    "accuracy = measure_accuracy(y_test, test_prediction)\n",
    "accuracy"
   ],
   "metadata": {
    "collapsed": false,
    "pycharm": {
     "name": "#%%\n"
    }
   }
  }
 ],
 "metadata": {
  "kernelspec": {
   "display_name": "Python 3",
   "language": "python",
   "name": "python3"
  },
  "language_info": {
   "codemirror_mode": {
    "name": "ipython",
    "version": 2
   },
   "file_extension": ".py",
   "mimetype": "text/x-python",
   "name": "python",
   "nbconvert_exporter": "python",
   "pygments_lexer": "ipython2",
   "version": "2.7.6"
  }
 },
 "nbformat": 4,
 "nbformat_minor": 0
}