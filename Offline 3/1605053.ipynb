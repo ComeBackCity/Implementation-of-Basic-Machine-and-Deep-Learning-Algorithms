{
 "cells": [
  {
   "cell_type": "code",
   "execution_count": 1,
   "metadata": {
    "collapsed": true
   },
   "outputs": [],
   "source": [
    "import numpy as np\n",
    "import matplotlib.pyplot as plt\n",
    "import pandas as pd\n",
    "import pickle\n",
    "from mlxtend.data import loadlocal_mnist"
   ]
  },
  {
   "cell_type": "code",
   "execution_count": 2,
   "outputs": [],
   "source": [
    "np.random.seed(10)"
   ],
   "metadata": {
    "collapsed": false,
    "pycharm": {
     "name": "#%%\n"
    }
   }
  },
  {
   "cell_type": "code",
   "execution_count": 3,
   "outputs": [],
   "source": [
    "def process_mnist_data() -> (np.ndarray, np.ndarray, np.ndarray, np.ndarray):\n",
    "    mnist_path = './MNIST/'\n",
    "    train_images, train_labels = loadlocal_mnist(\n",
    "        images_path = mnist_path + './train-images.idx3-ubyte',\n",
    "        labels_path = mnist_path + './train-labels.idx1-ubyte'\n",
    "    )\n",
    "    test_images, test_labels = loadlocal_mnist(\n",
    "        images_path = mnist_path + './t10k-images.idx3-ubyte',\n",
    "        labels_path = mnist_path + './t10k-labels.idx1-ubyte'\n",
    "    )\n",
    "    return train_images, train_labels, test_images, test_labels"
   ],
   "metadata": {
    "collapsed": false,
    "pycharm": {
     "name": "#%%\n"
    }
   }
  },
  {
   "cell_type": "code",
   "execution_count": 4,
   "outputs": [],
   "source": [
    "def unpickle(file):\n",
    "    with open(file, 'rb') as fo:\n",
    "        data_dict = pickle.load(fo, encoding='bytes')\n",
    "    return data_dict"
   ],
   "metadata": {
    "collapsed": false,
    "pycharm": {
     "name": "#%%\n"
    }
   }
  },
  {
   "cell_type": "code",
   "execution_count": 5,
   "outputs": [],
   "source": [
    "def process_cifar_dataset() -> (np.ndarray, np.ndarray, np.ndarray, np.ndarray):\n",
    "    cifar_path = './cifar-10-python/cifar-10-batches-py'\n",
    "    data_batch = unpickle(cifar_path + '/data_batch_1')\n",
    "    train_images, train_labels = data_batch[b'data'], np.array(data_batch[b'labels'])\n",
    "    for i in range(2,6):\n",
    "        data_batch = unpickle(cifar_path + '/data_batch_' + str(i))\n",
    "        train_images = np.concatenate((train_images, data_batch[b'data']), axis=0)\n",
    "        train_labels = np.concatenate((train_labels, np.array(data_batch[b'labels'])), axis=0)\n",
    "    test_batch = unpickle(cifar_path + '/test_batch')\n",
    "    test_images, test_labels = test_batch[b'data'], np.array(test_batch[b'labels'])\n",
    "    return train_images, train_labels, test_images, test_labels"
   ],
   "metadata": {
    "collapsed": false,
    "pycharm": {
     "name": "#%%\n"
    }
   }
  },
  {
   "cell_type": "code",
   "execution_count": 6,
   "outputs": [],
   "source": [
    "def process_toy_dataset():\n",
    "    toy_dataset_path = './Toy Dataset/'"
   ],
   "metadata": {
    "collapsed": false,
    "pycharm": {
     "name": "#%%\n"
    }
   }
  },
  {
   "cell_type": "code",
   "execution_count": 7,
   "outputs": [],
   "source": [
    "def relu(matrix:np.ndarray) -> np.ndarray:\n",
    "    return matrix * (matrix > 0)"
   ],
   "metadata": {
    "collapsed": false,
    "pycharm": {
     "name": "#%%\n"
    }
   }
  },
  {
   "cell_type": "code",
   "execution_count": 8,
   "outputs": [],
   "source": [
    "class ConvolutionLayer:\n",
    "    def __init__(self, output_channel_count: int, filter_dimension: int, stride: int, padding: int):\n",
    "        self.output_channel_count = output_channel_count\n",
    "        self.filter_dimension = filter_dimension\n",
    "        self.stride = stride\n",
    "        self.padding = padding\n",
    "\n",
    "    def forward(self, input_image: np.ndarray) -> np.ndarray:\n",
    "        input_dimentions = input_image.shape[0]\n",
    "        output_dimentions = (input_dimentions - self.filter_dimension + 2 * self.padding) // self.stride + 1\n",
    "        input_shape = input_image.shape\n",
    "\n",
    "        filters = np.random.rand(\n",
    "            self.output_channel_count,\n",
    "            self.filter_dimension,\n",
    "            self.filter_dimension,\n",
    "            input_shape[2]\n",
    "        )\n",
    "\n",
    "        bias = np.random.rand(self.output_channel_count)\n",
    "\n",
    "        padded_image = np.pad(input_image, [(self.padding,self.padding), (self.padding,self.padding), (0,0)], mode='constant') * 1.0\n",
    "        padded_image /= 255.0\n",
    "        padded_dimensions = padded_image.shape\n",
    "\n",
    "        output = np.zeros((output_dimentions, output_dimentions, self.output_channel_count))\n",
    "\n",
    "        for i in range(self.output_channel_count):\n",
    "            image_y = out_y = 0\n",
    "            while image_y + self.filter_dimension <= padded_dimensions[1]:\n",
    "                image_x = out_x = 0\n",
    "                while image_x + self.filter_dimension <= padded_dimensions[0]:\n",
    "                    image_slice = padded_image[image_x:image_x+self.filter_dimension, image_y:image_y+self.filter_dimension, :]\n",
    "                    output[out_x, out_y, i] = np.sum(image_slice * filters[i, :, :, :]) + bias[i]\n",
    "                    image_x += self.stride\n",
    "                    out_x += 1\n",
    "                image_y += self.stride\n",
    "                out_y += 1\n",
    "\n",
    "        return output\n",
    "\n",
    "    def backward(self):\n",
    "        pass"
   ],
   "metadata": {
    "collapsed": false,
    "pycharm": {
     "name": "#%%\n"
    }
   }
  },
  {
   "cell_type": "code",
   "execution_count": 9,
   "outputs": [],
   "source": [
    "class ActivationLayer:\n",
    "    def __init__(self):\n",
    "        pass\n",
    "\n",
    "    def forward(self, input_matrix: np.ndarray) -> np.ndarray:\n",
    "        return relu(input_matrix)\n",
    "\n",
    "    def backward(self):\n",
    "        pass"
   ],
   "metadata": {
    "collapsed": false,
    "pycharm": {
     "name": "#%%\n"
    }
   }
  },
  {
   "cell_type": "code",
   "execution_count": 10,
   "outputs": [],
   "source": [
    "class MaxPoolingLayer:\n",
    "    def __init__(self, filter_dimension: int, stride: int):\n",
    "        self.filter_dimension = filter_dimension\n",
    "        self.stride = stride\n",
    "\n",
    "    def forward(self, image: np.ndarray) -> np.ndarray:\n",
    "        input_dimensions = image.shape\n",
    "\n",
    "        output_dimension = (input_dimensions[0] - self.filter_dimension) // self.stride + 1\n",
    "\n",
    "        output = np.zeros((output_dimension, output_dimension, input_dimensions[2]))\n",
    "\n",
    "        image_y = out_y = 0\n",
    "        while image_y + self.filter_dimension <= input_dimensions[1]:\n",
    "            image_x = out_x = 0\n",
    "            while image_x + self.filter_dimension <= input_dimensions[0]:\n",
    "                image_slice = image[image_x: image_x+self.filter_dimension, image_y: image_y+self.filter_dimension, :]\n",
    "                output[out_x, out_y, :] = np.max(image_slice, axis=(0, 1))\n",
    "                image_x += self.stride\n",
    "                out_x += 1\n",
    "            image_y += self.stride\n",
    "            out_y += 1\n",
    "\n",
    "        return output\n",
    "\n",
    "    def backward(self):\n",
    "        pass"
   ],
   "metadata": {
    "collapsed": false,
    "pycharm": {
     "name": "#%%\n"
    }
   }
  },
  {
   "cell_type": "code",
   "execution_count": 11,
   "outputs": [],
   "source": [
    "class FlatteningLayer:\n",
    "    def __init__(self):\n",
    "        pass\n",
    "\n",
    "    def forward(self, image: np.ndarray) -> np.ndarray:\n",
    "        return image.flatten().reshape(-1, 1)\n",
    "\n",
    "    def backward(self):\n",
    "        pass"
   ],
   "metadata": {
    "collapsed": false,
    "pycharm": {
     "name": "#%%\n"
    }
   }
  },
  {
   "cell_type": "code",
   "execution_count": 12,
   "outputs": [],
   "source": [
    "class FullyConnectedLayer:\n",
    "    def __init__(self, output_dimension: int):\n",
    "        self.output_dimension = output_dimension\n",
    "\n",
    "    def forward(self, flattened_input: np.ndarray) -> np.ndarray:\n",
    "        weights = np.random.rand(flattened_input.shape[0], self.output_dimension)\n",
    "        bias = np.random.rand(self.output_dimension, 1)\n",
    "\n",
    "        return weights.T @ flattened_input + bias\n",
    "\n",
    "    def backward(self):\n",
    "        pass"
   ],
   "metadata": {
    "collapsed": false,
    "pycharm": {
     "name": "#%%\n"
    }
   }
  },
  {
   "cell_type": "code",
   "execution_count": 13,
   "outputs": [],
   "source": [
    "class SoftmaxLayer:\n",
    "    def __init__(self):\n",
    "        pass\n",
    "\n",
    "    def forward(self, input_matrix: np.ndarray):\n",
    "        exp = np.exp(input_matrix)\n",
    "        exp /= np.sum(exp)\n",
    "        return exp\n",
    "\n",
    "    def backward(self):\n",
    "        pass"
   ],
   "metadata": {
    "collapsed": false,
    "pycharm": {
     "name": "#%%\n"
    }
   }
  },
  {
   "cell_type": "code",
   "execution_count": 14,
   "outputs": [
    {
     "name": "stdout",
     "output_type": "stream",
     "text": [
      "(28, 28, 10)\n"
     ]
    },
    {
     "data": {
      "text/plain": "array([[0.47513225, 0.47513225, 0.47513225, 0.47513225, 0.47513225,\n        0.47513225, 0.47513225, 0.47513225, 0.47513225, 0.47513225,\n        0.47513225, 0.47513225, 0.47513225, 0.47513225, 0.47513225,\n        0.47513225, 0.47513225, 0.47513225, 0.47513225, 0.47513225,\n        0.47513225, 0.47513225, 0.47513225, 0.47513225, 0.47513225,\n        0.47513225, 0.47513225, 0.47513225],\n       [0.47513225, 0.47513225, 0.47513225, 0.47513225, 0.47513225,\n        0.47513225, 0.47513225, 0.47513225, 0.47513225, 0.47513225,\n        0.47513225, 0.47513225, 0.47513225, 0.47513225, 0.47513225,\n        0.47513225, 0.47513225, 0.47513225, 0.47513225, 0.47513225,\n        0.47513225, 0.47513225, 0.47513225, 0.47513225, 0.47513225,\n        0.47513225, 0.47513225, 0.47513225],\n       [0.47513225, 0.47513225, 0.47513225, 0.47513225, 0.47513225,\n        0.47513225, 0.47513225, 0.47513225, 0.47513225, 0.47513225,\n        0.47513225, 0.47513225, 0.47513225, 0.47513225, 0.47513225,\n        0.47513225, 0.47513225, 0.47513225, 0.47513225, 0.47513225,\n        0.47513225, 0.47513225, 0.47513225, 0.47513225, 0.47513225,\n        0.47513225, 0.47513225, 0.47513225],\n       [0.47513225, 0.47513225, 0.47513225, 0.47513225, 0.47513225,\n        0.47513225, 0.47513225, 0.47513225, 0.47513225, 0.47513225,\n        0.47513225, 0.47513225, 0.47513225, 0.47513225, 0.47513225,\n        0.47513225, 0.47513225, 0.47513225, 0.47513225, 0.47513225,\n        0.47513225, 0.47513225, 0.47513225, 0.47513225, 0.47513225,\n        0.47513225, 0.47513225, 0.47513225],\n       [0.47513225, 0.47513225, 0.47513225, 0.47513225, 0.47513225,\n        0.47513225, 0.47513225, 0.47513225, 0.47513225, 0.47513225,\n        0.47513225, 0.47712179, 0.4960169 , 0.54308416, 0.55473491,\n        0.62635833, 0.95509725, 1.09467144, 1.11994129, 0.79868989,\n        1.15952831, 1.5284034 , 1.49408987, 1.04575549, 0.57377532,\n        0.47513225, 0.47513225, 0.47513225],\n       [0.47513225, 0.47513225, 0.47513225, 0.47513225, 0.47513225,\n        0.47513225, 0.47513225, 0.49502764, 0.58848092, 0.6681417 ,\n        0.88557624, 1.12282978, 1.29128442, 1.58939059, 1.69790539,\n        1.79311338, 2.01306132, 2.36556271, 2.22116027, 2.04171489,\n        2.14944642, 2.72642815, 2.63075261, 1.79105842, 0.89777584,\n        0.47513225, 0.47513225, 0.47513225],\n       [0.47513225, 0.47513225, 0.47513225, 0.47513225, 0.47513225,\n        0.47513225, 0.50762806, 0.80555689, 1.48118841, 1.82367941,\n        2.01922832, 2.32839984, 2.64655453, 2.86609251, 3.15519264,\n        3.4235613 , 3.45587295, 3.74484374, 2.8264764 , 3.01024736,\n        2.75933488, 3.25626837, 2.89020845, 1.96061207, 1.04721527,\n        0.47513225, 0.47513225, 0.47513225],\n       [0.47513225, 0.47513225, 0.47513225, 0.47513225, 0.47513225,\n        0.47513225, 0.5302657 , 1.05420173, 2.23415148, 3.31135128,\n        3.55376942, 3.77384819, 4.16288377, 4.18156003, 4.25797042,\n        4.21063809, 4.3863292 , 4.04632197, 2.86445856, 2.30407007,\n        2.06779253, 2.12930041, 1.62271854, 1.18469696, 0.6687186 ,\n        0.47513225, 0.47513225, 0.47513225],\n       [0.47513225, 0.47513225, 0.47513225, 0.47513225, 0.47513225,\n        0.47513225, 0.6127601 , 1.35182866, 2.31746748, 3.80338368,\n        3.95830955, 4.35569152, 4.43725959, 4.11695845, 3.37215521,\n        3.08169712, 3.34484006, 3.18107472, 2.27299101, 0.96687199,\n        0.86899207, 0.82463297, 0.64769414, 0.59309893, 0.47513225,\n        0.47513225, 0.47513225, 0.47513225],\n       [0.47513225, 0.47513225, 0.47513225, 0.47513225, 0.47513225,\n        0.47513225, 0.51986036, 1.09131354, 1.47928064, 2.4634603 ,\n        2.89595992, 3.54936772, 4.24178427, 3.37132232, 2.40215585,\n        1.77282854, 1.86442557, 1.66919525, 1.65632469, 0.47513225,\n        0.47513225, 0.47513225, 0.47513225, 0.47513225, 0.47513225,\n        0.47513225, 0.47513225, 0.47513225],\n       [0.47513225, 0.47513225, 0.47513225, 0.47513225, 0.47513225,\n        0.47513225, 0.47513225, 0.67392385, 0.88162807, 1.02394484,\n        1.85539238, 2.55742951, 3.78508555, 2.9678004 , 1.51393365,\n        0.61680882, 0.86130543, 0.61773063, 0.94094942, 0.47513225,\n        0.47513225, 0.47513225, 0.47513225, 0.47513225, 0.47513225,\n        0.47513225, 0.47513225, 0.47513225],\n       [0.47513225, 0.47513225, 0.47513225, 0.47513225, 0.47513225,\n        0.47513225, 0.47513225, 0.47513225, 0.50992078, 0.47875647,\n        1.03006567, 1.77294812, 2.99844169, 3.31242275, 1.71448779,\n        0.53537542, 0.47513225, 0.47513225, 0.47513225, 0.47513225,\n        0.47513225, 0.47513225, 0.47513225, 0.47513225, 0.47513225,\n        0.47513225, 0.47513225, 0.47513225],\n       [0.47513225, 0.47513225, 0.47513225, 0.47513225, 0.47513225,\n        0.47513225, 0.47513225, 0.47513225, 0.47513225, 0.47513225,\n        0.83022977, 1.32733359, 2.27928123, 3.27025031, 2.89413458,\n        1.41031633, 0.92217729, 0.56200017, 0.47590896, 0.47513225,\n        0.47513225, 0.47513225, 0.47513225, 0.47513225, 0.47513225,\n        0.47513225, 0.47513225, 0.47513225],\n       [0.47513225, 0.47513225, 0.47513225, 0.47513225, 0.47513225,\n        0.47513225, 0.47513225, 0.47513225, 0.47513225, 0.47513225,\n        0.50246609, 0.97901193, 1.48714054, 2.41738206, 3.48119319,\n        2.86433569, 2.1869775 , 1.3622309 , 0.6450599 , 0.49455018,\n        0.47513225, 0.47513225, 0.47513225, 0.47513225, 0.47513225,\n        0.47513225, 0.47513225, 0.47513225],\n       [0.47513225, 0.47513225, 0.47513225, 0.47513225, 0.47513225,\n        0.47513225, 0.47513225, 0.47513225, 0.47513225, 0.47513225,\n        0.47513225, 0.56210357, 1.14824625, 1.55947949, 2.80763432,\n        3.61696286, 3.37962489, 2.85004917, 1.53825837, 0.74557874,\n        0.49610361, 0.47513225, 0.47513225, 0.47513225, 0.47513225,\n        0.47513225, 0.47513225, 0.47513225],\n       [0.47513225, 0.47513225, 0.47513225, 0.47513225, 0.47513225,\n        0.47513225, 0.47513225, 0.47513225, 0.47513225, 0.47513225,\n        0.47513225, 0.47513225, 0.67640875, 1.11776885, 1.63090169,\n        2.67853629, 3.27743086, 3.67357378, 2.97140181, 1.79823984,\n        0.69966347, 0.47513225, 0.47513225, 0.47513225, 0.47513225,\n        0.47513225, 0.47513225, 0.47513225],\n       [0.47513225, 0.47513225, 0.47513225, 0.47513225, 0.47513225,\n        0.47513225, 0.47513225, 0.47513225, 0.47513225, 0.47513225,\n        0.47513225, 0.47513225, 0.47513225, 0.58695252, 0.95508972,\n        1.36832635, 2.30308618, 3.53291605, 3.83224505, 3.02113906,\n        1.4902052 , 0.52484214, 0.47513225, 0.47513225, 0.47513225,\n        0.47513225, 0.47513225, 0.47513225],\n       [0.47513225, 0.47513225, 0.47513225, 0.47513225, 0.47513225,\n        0.47513225, 0.47513225, 0.47513225, 0.47513225, 0.47513225,\n        0.47513225, 0.47513225, 0.47513225, 0.50563852, 0.73829771,\n        1.25234199, 2.19134839, 3.17992412, 4.25628593, 3.35695709,\n        2.06381323, 0.66462077, 0.47513225, 0.47513225, 0.47513225,\n        0.47513225, 0.47513225, 0.47513225],\n       [0.47513225, 0.47513225, 0.47513225, 0.47513225, 0.47513225,\n        0.47513225, 0.47513225, 0.47513225, 0.47513225, 0.47513225,\n        0.47513225, 0.50099626, 0.68959931, 1.13924999, 1.64538623,\n        2.12589454, 3.17525957, 3.49595209, 4.35046876, 3.30605412,\n        1.98663744, 0.67459158, 0.47513225, 0.47513225, 0.47513225,\n        0.47513225, 0.47513225, 0.47513225],\n       [0.47513225, 0.47513225, 0.47513225, 0.47513225, 0.47513225,\n        0.47513225, 0.47513225, 0.47513225, 0.47513225, 0.49104856,\n        0.6223141 , 1.01471881, 1.59730155, 2.28917085, 3.02608405,\n        3.58853327, 4.05686148, 3.98356741, 3.55622522, 2.41272136,\n        1.6358663 , 0.48118182, 0.47513225, 0.47513225, 0.47513225,\n        0.47513225, 0.47513225, 0.47513225],\n       [0.47513225, 0.47513225, 0.47513225, 0.47513225, 0.47513225,\n        0.47513225, 0.47513225, 0.49038538, 0.587499  , 0.8522546 ,\n        1.47686252, 2.14799552, 2.95476254, 3.65963789, 4.11306159,\n        4.11839439, 3.70108836, 3.15572836, 2.45727084, 1.47518605,\n        1.02564345, 0.47513225, 0.47513225, 0.47513225, 0.47513225,\n        0.47513225, 0.47513225, 0.47513225],\n       [0.47513225, 0.47513225, 0.47513225, 0.47513225, 0.47513225,\n        0.48706948, 0.64222051, 1.16462825, 1.53204306, 2.01155685,\n        2.71246465, 3.56812812, 4.00757826, 4.08458549, 3.69777332,\n        3.18006352, 2.50898345, 1.69234776, 1.09533503, 0.71106562,\n        0.47513225, 0.47513225, 0.47513225, 0.47513225, 0.47513225,\n        0.47513225, 0.47513225, 0.47513225],\n       [0.47513225, 0.47513225, 0.47513225, 0.51160713, 0.7532352 ,\n        1.19658373, 1.63648577, 2.21038348, 2.9131689 , 3.55893683,\n        3.89423326, 4.24167692, 3.89258525, 3.22044813, 2.4984887 ,\n        1.71030632, 1.11203   , 0.72030274, 0.48118182, 0.47513225,\n        0.47513225, 0.47513225, 0.47513225, 0.47513225, 0.47513225,\n        0.47513225, 0.47513225, 0.47513225],\n       [0.47513225, 0.47513225, 0.47513225, 0.61381024, 1.30768177,\n        2.24483025, 3.19029697, 3.56063222, 4.01775616, 3.90222746,\n        3.85145272, 3.37709776, 2.74417978, 1.8671209 , 1.1261415 ,\n        0.71784762, 0.50235533, 0.47513225, 0.47513225, 0.47513225,\n        0.47513225, 0.47513225, 0.47513225, 0.47513225, 0.47513225,\n        0.47513225, 0.47513225, 0.47513225],\n       [0.47513225, 0.47513225, 0.47513225, 0.73169302, 1.39591405,\n        2.33407195, 3.10302755, 3.23241953, 3.1660569 , 2.89248674,\n        2.53588806, 2.00964612, 1.29832142, 0.87832408, 0.5084049 ,\n        0.47513225, 0.47513225, 0.47513225, 0.47513225, 0.47513225,\n        0.47513225, 0.47513225, 0.47513225, 0.47513225, 0.47513225,\n        0.47513225, 0.47513225, 0.47513225],\n       [0.47513225, 0.47513225, 0.47513225, 0.81307797, 1.1148784 ,\n        1.53577089, 1.88967095, 1.78779025, 1.59311675, 1.45537953,\n        0.93397898, 0.87570619, 0.52352884, 0.47513225, 0.47513225,\n        0.47513225, 0.47513225, 0.47513225, 0.47513225, 0.47513225,\n        0.47513225, 0.47513225, 0.47513225, 0.47513225, 0.47513225,\n        0.47513225, 0.47513225, 0.47513225],\n       [0.47513225, 0.47513225, 0.47513225, 0.47513225, 0.47513225,\n        0.47513225, 0.47513225, 0.47513225, 0.47513225, 0.47513225,\n        0.47513225, 0.47513225, 0.47513225, 0.47513225, 0.47513225,\n        0.47513225, 0.47513225, 0.47513225, 0.47513225, 0.47513225,\n        0.47513225, 0.47513225, 0.47513225, 0.47513225, 0.47513225,\n        0.47513225, 0.47513225, 0.47513225],\n       [0.47513225, 0.47513225, 0.47513225, 0.47513225, 0.47513225,\n        0.47513225, 0.47513225, 0.47513225, 0.47513225, 0.47513225,\n        0.47513225, 0.47513225, 0.47513225, 0.47513225, 0.47513225,\n        0.47513225, 0.47513225, 0.47513225, 0.47513225, 0.47513225,\n        0.47513225, 0.47513225, 0.47513225, 0.47513225, 0.47513225,\n        0.47513225, 0.47513225, 0.47513225]])"
     },
     "execution_count": 14,
     "metadata": {},
     "output_type": "execute_result"
    },
    {
     "data": {
      "text/plain": "<Figure size 432x288 with 1 Axes>",
      "image/png": "[encoded data removed]"
     },
     "metadata": {
      "needs_background": "light"
     },
     "output_type": "display_data"
    }
   ],
   "source": [
    "x_train, y_train, x_test, y_test = process_mnist_data()\n",
    "c = ConvolutionLayer(10, 3, 1, 1)\n",
    "img = x_train[0].reshape(28, 28, 1)\n",
    "plt.imshow(img, cmap='gray')\n",
    "o = c.forward(img)\n",
    "print(o.shape)\n",
    "o [:, :, 0]"
   ],
   "metadata": {
    "collapsed": false,
    "pycharm": {
     "name": "#%%\n"
    }
   }
  },
  {
   "cell_type": "code",
   "execution_count": 15,
   "outputs": [
    {
     "data": {
      "text/plain": "array([[0.47513225, 0.47513225, 0.47513225, 0.47513225, 0.47513225,\n        0.47513225, 0.47513225, 0.47513225, 0.47513225, 0.47513225,\n        0.47513225, 0.47513225, 0.47513225, 0.47513225],\n       [0.47513225, 0.47513225, 0.47513225, 0.47513225, 0.47513225,\n        0.47513225, 0.47513225, 0.47513225, 0.47513225, 0.47513225,\n        0.47513225, 0.47513225, 0.47513225, 0.47513225],\n       [0.47513225, 0.47513225, 0.47513225, 0.49502764, 0.6681417 ,\n        1.12282978, 1.58939059, 1.79311338, 2.36556271, 2.22116027,\n        2.72642815, 2.63075261, 0.89777584, 0.47513225],\n       [0.47513225, 0.47513225, 0.47513225, 1.05420173, 3.31135128,\n        3.77384819, 4.18156003, 4.25797042, 4.3863292 , 3.01024736,\n        3.25626837, 2.89020845, 1.04721527, 0.47513225],\n       [0.47513225, 0.47513225, 0.47513225, 1.35182866, 3.80338368,\n        4.35569152, 4.43725959, 3.37215521, 3.34484006, 2.27299101,\n        0.86899207, 0.64769414, 0.47513225, 0.47513225],\n       [0.47513225, 0.47513225, 0.47513225, 0.67392385, 1.02394484,\n        2.55742951, 3.78508555, 1.71448779, 0.86130543, 0.94094942,\n        0.47513225, 0.47513225, 0.47513225, 0.47513225],\n       [0.47513225, 0.47513225, 0.47513225, 0.47513225, 0.47513225,\n        1.32733359, 3.27025031, 3.48119319, 2.1869775 , 0.6450599 ,\n        0.47513225, 0.47513225, 0.47513225, 0.47513225],\n       [0.47513225, 0.47513225, 0.47513225, 0.47513225, 0.47513225,\n        0.56210357, 1.55947949, 3.61696286, 3.67357378, 2.97140181,\n        0.69966347, 0.47513225, 0.47513225, 0.47513225],\n       [0.47513225, 0.47513225, 0.47513225, 0.47513225, 0.47513225,\n        0.47513225, 0.58695252, 1.36832635, 3.53291605, 4.25628593,\n        2.06381323, 0.47513225, 0.47513225, 0.47513225],\n       [0.47513225, 0.47513225, 0.47513225, 0.47513225, 0.49104856,\n        1.01471881, 2.28917085, 3.58853327, 4.05686148, 4.35046876,\n        1.98663744, 0.47513225, 0.47513225, 0.47513225],\n       [0.47513225, 0.47513225, 0.48706948, 1.16462825, 2.01155685,\n        3.56812812, 4.08458549, 4.11839439, 3.70108836, 2.45727084,\n        1.02564345, 0.47513225, 0.47513225, 0.47513225],\n       [0.47513225, 0.61381024, 2.24483025, 3.56063222, 4.01775616,\n        4.24167692, 3.89258525, 2.4984887 , 1.11203   , 0.48118182,\n        0.47513225, 0.47513225, 0.47513225, 0.47513225],\n       [0.47513225, 0.81307797, 2.33407195, 3.23241953, 3.1660569 ,\n        2.53588806, 1.29832142, 0.5084049 , 0.47513225, 0.47513225,\n        0.47513225, 0.47513225, 0.47513225, 0.47513225],\n       [0.47513225, 0.47513225, 0.47513225, 0.47513225, 0.47513225,\n        0.47513225, 0.47513225, 0.47513225, 0.47513225, 0.47513225,\n        0.47513225, 0.47513225, 0.47513225, 0.47513225]])"
     },
     "execution_count": 15,
     "metadata": {},
     "output_type": "execute_result"
    }
   ],
   "source": [
    "m = MaxPoolingLayer(2, 2)\n",
    "o1 = m.forward(o)\n",
    "o1[:, :, 0]"
   ],
   "metadata": {
    "collapsed": false,
    "pycharm": {
     "name": "#%%\n"
    }
   }
  },
  {
   "cell_type": "code",
   "execution_count": 16,
   "outputs": [
    {
     "data": {
      "text/plain": "array([[0.47513225],\n       [0.29279798],\n       [0.06425106],\n       ...,\n       [0.44077382],\n       [0.31827281],\n       [0.51979699]])"
     },
     "execution_count": 16,
     "metadata": {},
     "output_type": "execute_result"
    }
   ],
   "source": [
    "f = FlatteningLayer()\n",
    "o2 = f.forward(o1)\n",
    "o2"
   ],
   "metadata": {
    "collapsed": false,
    "pycharm": {
     "name": "#%%\n"
    }
   }
  },
  {
   "cell_type": "code",
   "execution_count": 17,
   "outputs": [
    {
     "data": {
      "text/plain": "array([[1305.949087  ],\n       [1361.06197694],\n       [1325.32926031],\n       [1324.71246488],\n       [1296.24591396],\n       [1275.11060115],\n       [1298.03139898],\n       [1292.31739477],\n       [1344.6868206 ],\n       [1321.2595372 ]])"
     },
     "execution_count": 17,
     "metadata": {},
     "output_type": "execute_result"
    }
   ],
   "source": [
    "fc = FullyConnectedLayer(10)\n",
    "o3 = fc.forward(o2)\n",
    "o3"
   ],
   "metadata": {
    "collapsed": false,
    "pycharm": {
     "name": "#%%\n"
    }
   }
  },
  {
   "cell_type": "code",
   "execution_count": 18,
   "outputs": [
    {
     "data": {
      "text/plain": "array([[7.80134161e-05],\n       [2.12062451e-04],\n       [5.76445508e-04],\n       [1.56694135e-03],\n       [4.25938820e-03],\n       [1.15782175e-02],\n       [3.14728583e-02],\n       [8.55520989e-02],\n       [2.32554716e-01],\n       [6.32149258e-01]])"
     },
     "execution_count": 18,
     "metadata": {},
     "output_type": "execute_result"
    }
   ],
   "source": [
    "s = SoftmaxLayer()\n",
    "o3 = np.arange(1, 11).reshape(10, 1)\n",
    "o4 = s.forward(o3)\n",
    "o4"
   ],
   "metadata": {
    "collapsed": false,
    "pycharm": {
     "name": "#%%\n"
    }
   }
  },
  {
   "cell_type": "code",
   "execution_count": 19,
   "outputs": [
    {
     "name": "stdout",
     "output_type": "stream",
     "text": [
      "(32, 32, 10)\n"
     ]
    },
    {
     "data": {
      "text/plain": "array([[1.19259592, 1.45127543, 1.52284702, ..., 4.53990309, 4.45026228,\n        2.61804771],\n       [1.05532045, 1.57874008, 1.85158113, ..., 5.56015654, 5.41716475,\n        3.57212635],\n       [0.87353687, 1.48017553, 2.03028299, ..., 4.97818222, 4.62529817,\n        3.00530919],\n       ...,\n       [5.27581968, 7.29816021, 6.69712611, ..., 5.28154562, 4.06422914,\n        1.71167961],\n       [5.17659854, 7.37055649, 7.00512997, ..., 6.18981284, 5.31111439,\n        2.64343457],\n       [3.44989009, 4.89043487, 4.67587802, ..., 4.51865428, 4.05212684,\n        2.01301236]])"
     },
     "execution_count": 19,
     "metadata": {},
     "output_type": "execute_result"
    },
    {
     "data": {
      "text/plain": "<Figure size 432x288 with 1 Axes>",
      "image/png": "[encoded data removed]"
     },
     "metadata": {
      "needs_background": "light"
     },
     "output_type": "display_data"
    }
   ],
   "source": [
    "x_train, y_train, x_test, y_test = process_cifar_dataset()\n",
    "c = ConvolutionLayer(10, 3, 1, 1)\n",
    "img = x_train[0].reshape(3, 32, 32)\n",
    "img = img.transpose(1, 2, 0)\n",
    "plt.imshow(img)\n",
    "o = c.forward(img)\n",
    "print(o.shape)\n",
    "o[:, :, 0]"
   ],
   "metadata": {
    "collapsed": false,
    "pycharm": {
     "name": "#%%\n"
    }
   }
  },
  {
   "cell_type": "code",
   "execution_count": 20,
   "outputs": [
    {
     "data": {
      "text/plain": "array([[ 1.57874008,  2.78351272,  4.72645153,  5.21375463,  5.11362216,\n         4.75518921,  4.89593573,  5.01262264,  4.94878451,  5.02008552,\n         5.33305063,  5.24641477,  5.56122462,  5.93081587,  5.77694137,\n         5.41716475],\n       [ 2.18370519,  3.73958593,  4.48784013,  4.63765716,  4.63204741,\n         4.56652407,  4.72339966,  4.89304656,  4.68167321,  4.85964271,\n         5.41555479,  5.42959275,  5.11660315,  5.28386482,  5.17444631,\n         4.62529817],\n       [ 3.56016209,  4.67071644,  4.79959965,  4.52386223,  4.68082805,\n         4.54758704,  4.4861253 ,  4.44726313,  4.10064782,  4.4753744 ,\n         4.86651621,  5.37027905,  5.53355455,  4.80045718,  3.949032  ,\n         2.89083049],\n       [ 4.76145042,  4.97969176,  4.94084731,  4.82091624,  5.04031337,\n         4.68028518,  3.42009031,  3.71256923,  5.4654016 ,  4.50067081,\n         3.93877439,  5.03658726,  5.4856853 ,  5.16762042,  4.41024119,\n         4.32803707],\n       [ 6.24835751,  5.88786647,  5.25614548,  5.33853971,  5.39308525,\n         4.14428116,  2.99283811,  4.3032841 ,  6.01622394,  5.26416603,\n         4.56976883,  3.85935016,  5.12242075,  5.28130211,  5.18536377,\n         5.08702015],\n       [ 6.45751399,  6.14136652,  5.60959475,  5.31923057,  5.28016201,\n         4.64399732,  6.0648035 ,  6.83898241,  7.00233264,  7.20697172,\n         7.54794158,  6.36839314,  4.87693862,  5.31050336,  5.28666701,\n         5.19506487],\n       [ 6.26890411,  5.97563488,  5.27072856,  3.91119372,  4.79143908,\n         7.00648282,  8.59003275, 10.33644564, 10.12485821,  9.72282655,\n         9.17908449,  8.69148999,  6.99251348,  5.40370367,  5.37444761,\n         5.30528443],\n       [ 6.14919572,  5.89390557,  4.60972956,  4.00239696,  7.81345378,\n         7.79234415,  8.48932406, 11.83592037, 12.53993166, 11.74599799,\n        10.28471743, 11.51024043,  9.90714201,  5.92062187,  5.414913  ,\n         5.19189534],\n       [ 5.70785549,  5.55719304,  4.83800572,  6.89458481,  9.90736979,\n         8.92130569, 10.18526276, 11.6245503 , 12.11947229, 11.04461653,\n         9.38171363, 11.12805563, 10.03634354,  6.03309918,  5.45931062,\n         5.1246606 ],\n       [ 5.26488736,  5.22064943,  6.13097251, 10.36102917, 11.33686689,\n         8.94158682,  9.53756067,  8.81777574,  7.70828345,  7.33143977,\n         9.25827964, 11.00686436,  9.58313325,  5.15009916,  4.5143708 ,\n         4.9956865 ],\n       [ 5.15079013,  4.94431161,  6.64762374,  9.75629589, 10.29732796,\n         7.78463877,  7.76806661,  6.45262892,  5.92423024,  5.88124215,\n         7.59910342,  8.86910957,  7.89913443,  5.00862899,  5.00390508,\n         6.03235262],\n       [ 5.2732083 ,  5.57602052,  5.87826733,  6.63312145,  7.88408875,\n         8.86343993,  9.3453482 ,  7.34104821,  5.75414457,  5.95949889,\n         5.75125527,  5.29762893,  4.98915354,  5.17227064,  5.45723122,\n         6.66748326],\n       [ 5.75697976,  5.40094371,  5.88342849,  6.57014235,  7.22396822,\n         8.39463108,  8.72925652,  7.67524581,  5.87975723,  5.5773948 ,\n         5.27201304,  5.13713212,  5.33949608,  5.24037096,  7.36233312,\n         7.04329219],\n       [ 6.92088942,  5.92792729,  5.12025115,  5.84216456,  5.99346321,\n         5.6984018 ,  6.17945373,  5.83347389,  5.62990289,  5.81176091,\n         5.46385607,  5.89651659,  5.91510487,  6.23805565,  7.59686283,\n         6.55227749],\n       [ 7.33653696,  6.69712611,  6.45019803,  6.06733087,  5.62418303,\n         5.39460664,  5.52707878,  5.30864521,  5.54338481,  5.90089737,\n         5.49770329,  5.36998972,  5.7017214 ,  5.43979464,  6.28417001,\n         4.06422914],\n       [ 7.37055649,  7.11578535,  7.31238605,  7.10864288,  6.3075735 ,\n         6.04580421,  6.06216517,  5.8586172 ,  5.94642668,  5.8870677 ,\n         5.59075832,  4.77319708,  4.78949971,  4.12671698,  6.18981284,\n         5.31111439]])"
     },
     "execution_count": 20,
     "metadata": {},
     "output_type": "execute_result"
    }
   ],
   "source": [
    "o1 = m.forward(o)\n",
    "o1[:, :, 0]"
   ],
   "metadata": {
    "collapsed": false,
    "pycharm": {
     "name": "#%%\n"
    }
   }
  }
 ],
 "metadata": {
  "kernelspec": {
   "display_name": "Python 3",
   "language": "python",
   "name": "python3"
  },
  "language_info": {
   "codemirror_mode": {
    "name": "ipython",
    "version": 2
   },
   "file_extension": ".py",
   "mimetype": "text/x-python",
   "name": "python",
   "nbconvert_exporter": "python",
   "pygments_lexer": "ipython2",
   "version": "2.7.6"
  }
 },
 "nbformat": 4,
 "nbformat_minor": 0
}