{
 "cells": [
  {
   "cell_type": "code",
   "execution_count": 1,
   "metadata": {
    "collapsed": true
   },
   "outputs": [],
   "source": [
    "import numpy as np\n",
    "import matplotlib.pyplot as plt\n",
    "import pandas as pd\n",
    "import pickle\n",
    "from mlxtend.data import loadlocal_mnist"
   ]
  },
  {
   "cell_type": "code",
   "execution_count": 2,
   "outputs": [],
   "source": [
    "def process_mnist_data() -> (np.ndarray, np.ndarray, np.ndarray, np.ndarray):\n",
    "    mnist_path = './MNIST/'\n",
    "    train_images, train_labels = loadlocal_mnist(\n",
    "        images_path = mnist_path + './train-images.idx3-ubyte',\n",
    "        labels_path = mnist_path + './train-labels.idx1-ubyte'\n",
    "    )\n",
    "    test_images, test_labels = loadlocal_mnist(\n",
    "        images_path = mnist_path + './t10k-images.idx3-ubyte',\n",
    "        labels_path = mnist_path + './t10k-labels.idx1-ubyte'\n",
    "    )\n",
    "    return train_images, train_labels, test_images, test_labels"
   ],
   "metadata": {
    "collapsed": false,
    "pycharm": {
     "name": "#%%\n"
    }
   }
  },
  {
   "cell_type": "code",
   "execution_count": 3,
   "outputs": [],
   "source": [
    "def unpickle(file):\n",
    "    with open(file, 'rb') as fo:\n",
    "        data_dict = pickle.load(fo, encoding='bytes')\n",
    "    return data_dict"
   ],
   "metadata": {
    "collapsed": false,
    "pycharm": {
     "name": "#%%\n"
    }
   }
  },
  {
   "cell_type": "code",
   "execution_count": 4,
   "outputs": [],
   "source": [
    "def process_cifar_dataset() -> (np.ndarray, np.ndarray, np.ndarray, np.ndarray):\n",
    "    cifar_path = './cifar-10-python/cifar-10-batches-py'\n",
    "    data_batch = unpickle(cifar_path + '/data_batch_1')\n",
    "    train_images, train_labels = data_batch[b'data'], np.array(data_batch[b'labels'])\n",
    "    for i in range(2,6):\n",
    "        data_batch = unpickle(cifar_path + '/data_batch_' + str(i))\n",
    "        train_images = np.concatenate((train_images, data_batch[b'data']), axis=0)\n",
    "        train_labels = np.concatenate((train_labels, np.array(data_batch[b'labels'])), axis=0)\n",
    "    test_batch = unpickle(cifar_path + '/test_batch')\n",
    "    test_images, test_labels = test_batch[b'data'], np.array(test_batch[b'labels'])\n",
    "    return train_images, train_labels, test_images, test_labels"
   ],
   "metadata": {
    "collapsed": false,
    "pycharm": {
     "name": "#%%\n"
    }
   }
  },
  {
   "cell_type": "code",
   "execution_count": 5,
   "outputs": [],
   "source": [
    "def process_toy_dataset():\n",
    "    toy_dataset_path = './Toy Dataset/'"
   ],
   "metadata": {
    "collapsed": false,
    "pycharm": {
     "name": "#%%\n"
    }
   }
  },
  {
   "cell_type": "code",
   "execution_count": 6,
   "outputs": [],
   "source": [
    "def relu(matrix:np.ndarray) -> np.ndarray:\n",
    "    return matrix * (matrix > 0)"
   ],
   "metadata": {
    "collapsed": false,
    "pycharm": {
     "name": "#%%\n"
    }
   }
  },
  {
   "cell_type": "code",
   "execution_count": 7,
   "outputs": [],
   "source": [
    "class ConvolutionLayer:\n",
    "    def __init__(self, output_channel_count: int, filter_dimension: int, stride: int, padding: int):\n",
    "        self.output_channel_count = output_channel_count\n",
    "        self.filter_dimension = filter_dimension\n",
    "        self.stride = stride\n",
    "        self.padding = padding\n",
    "\n",
    "    def forward(self, input_image: np.ndarray) -> np.ndarray:\n",
    "        input_dimentions = input_image.shape[0]\n",
    "        output_dimentions = (input_dimentions - self.filter_dimension + 2 * self.padding) // self.stride + 1\n",
    "        input_shape = input_image.shape\n",
    "\n",
    "        filters = np.random.rand(\n",
    "            self.output_channel_count,\n",
    "            self.filter_dimension,\n",
    "            self.filter_dimension,\n",
    "            input_shape[2]\n",
    "        )\n",
    "\n",
    "        bias = np.random.rand(self.output_channel_count)\n",
    "\n",
    "        # Pad the image\n",
    "        padded_image = np.zeros((\n",
    "            input_shape[0]+ 2*self.padding,\n",
    "            input_shape[1]+ 2*self.padding,\n",
    "            input_shape[2]\n",
    "        ))\n",
    "\n",
    "        # Padding variables\n",
    "        x_min = self.padding\n",
    "        x_max = x_min + input_shape[0]\n",
    "        y_min = self.padding\n",
    "        y_max = y_min + input_shape[1]\n",
    "\n",
    "        padded_image[x_min:x_max, y_min:y_max, :] = input_image\n",
    "        padded_image /= 255.0\n",
    "        padded_dimensions = padded_image.shape\n",
    "\n",
    "        output = np.zeros((output_dimentions, output_dimentions, self.output_channel_count))\n",
    "\n",
    "        for i in range(self.output_channel_count):\n",
    "            image_y = out_y = 0\n",
    "            while image_y + self.filter_dimension <= padded_dimensions[1]:\n",
    "                image_x = out_x = 0\n",
    "                while image_x + self.filter_dimension <= padded_dimensions[0]:\n",
    "                    image_slice = padded_image[image_x:image_x+self.filter_dimension, image_y:image_y+self.filter_dimension, :]\n",
    "                    output[out_x, out_y, i] = np.sum(image_slice * filters[i, :, :, :]) + bias[i]\n",
    "                    image_x += self.stride\n",
    "                    out_x += 1\n",
    "                image_y += self.stride\n",
    "                out_y += 1\n",
    "\n",
    "        return output\n",
    "\n",
    "    def backward(self):\n",
    "        pass"
   ],
   "metadata": {
    "collapsed": false,
    "pycharm": {
     "name": "#%%\n"
    }
   }
  },
  {
   "cell_type": "code",
   "execution_count": 8,
   "outputs": [],
   "source": [
    "class ActivationLayer:\n",
    "    def __init__(self):\n",
    "        pass\n",
    "\n",
    "    def forward(self, input_matrix: np.ndarray) -> np.ndarray:\n",
    "        return relu(input_matrix)\n",
    "\n",
    "    def backward(self):\n",
    "        pass"
   ],
   "metadata": {
    "collapsed": false,
    "pycharm": {
     "name": "#%%\n"
    }
   }
  },
  {
   "cell_type": "code",
   "execution_count": 9,
   "outputs": [],
   "source": [
    "class MaxPoolingLayer:\n",
    "    def __init__(self, filter_dimension: int, stride: int):\n",
    "        self.filter_dimension = filter_dimension\n",
    "        self.stride = stride\n",
    "\n",
    "    def forward(self, image: np.ndarray) -> np.ndarray:\n",
    "        input_dimensions = image.shape\n",
    "\n",
    "        output_dimension = (input_dimensions[0] - self.filter_dimension) // self.stride + 1\n",
    "\n",
    "        output = np.zeros((output_dimension, output_dimension, input_dimensions[2]))\n",
    "\n",
    "        image_y = out_y = 0\n",
    "        while image_y + self.filter_dimension <= input_dimensions[1]:\n",
    "            image_x = out_x = 0\n",
    "            while image_x + self.filter_dimension <= input_dimensions[0]:\n",
    "                image_slice = image[image_x: image_x+self.filter_dimension, image_y: image_y+self.filter_dimension, :]\n",
    "                output[out_x, out_y, :] = np.max(image_slice, axis=(0, 1))\n",
    "                image_x += self.stride\n",
    "                out_x += 1\n",
    "            image_y += self.stride\n",
    "            out_y += 1\n",
    "\n",
    "        return output\n",
    "\n",
    "    def backward(self):\n",
    "        pass"
   ],
   "metadata": {
    "collapsed": false,
    "pycharm": {
     "name": "#%%\n"
    }
   }
  },
  {
   "cell_type": "code",
   "execution_count": 10,
   "outputs": [],
   "source": [
    "class FlatteningLayer:\n",
    "    def __init__(self):\n",
    "        pass\n",
    "\n",
    "    def forward(self, image: np.ndarray) -> np.ndarray:\n",
    "        return image.flatten().reshape(-1, 1)\n",
    "\n",
    "    def backward(self):\n",
    "        pass"
   ],
   "metadata": {
    "collapsed": false,
    "pycharm": {
     "name": "#%%\n"
    }
   }
  },
  {
   "cell_type": "code",
   "execution_count": 11,
   "outputs": [],
   "source": [
    "class FullyConnectedLayer:\n",
    "    pass"
   ],
   "metadata": {
    "collapsed": false,
    "pycharm": {
     "name": "#%%\n"
    }
   }
  },
  {
   "cell_type": "code",
   "execution_count": 12,
   "outputs": [],
   "source": [
    "class SoftmaxLayer:\n",
    "    pass"
   ],
   "metadata": {
    "collapsed": false,
    "pycharm": {
     "name": "#%%\n"
    }
   }
  },
  {
   "cell_type": "code",
   "execution_count": 13,
   "outputs": [
    {
     "name": "stdout",
     "output_type": "stream",
     "text": [
      "(28, 28, 10)\n"
     ]
    },
    {
     "data": {
      "text/plain": "array([[0.62949683, 0.62949683, 0.62949683, 0.62949683, 0.62949683,\n        0.62949683, 0.62949683, 0.62949683, 0.62949683, 0.62949683,\n        0.62949683, 0.62949683, 0.62949683, 0.62949683, 0.62949683,\n        0.62949683, 0.62949683, 0.62949683, 0.62949683, 0.62949683,\n        0.62949683, 0.62949683, 0.62949683, 0.62949683, 0.62949683,\n        0.62949683, 0.62949683, 0.62949683],\n       [0.62949683, 0.62949683, 0.62949683, 0.62949683, 0.62949683,\n        0.62949683, 0.62949683, 0.62949683, 0.62949683, 0.62949683,\n        0.62949683, 0.62949683, 0.62949683, 0.62949683, 0.62949683,\n        0.62949683, 0.62949683, 0.62949683, 0.62949683, 0.62949683,\n        0.62949683, 0.62949683, 0.62949683, 0.62949683, 0.62949683,\n        0.62949683, 0.62949683, 0.62949683],\n       [0.62949683, 0.62949683, 0.62949683, 0.62949683, 0.62949683,\n        0.62949683, 0.62949683, 0.62949683, 0.62949683, 0.62949683,\n        0.62949683, 0.62949683, 0.62949683, 0.62949683, 0.62949683,\n        0.62949683, 0.62949683, 0.62949683, 0.62949683, 0.62949683,\n        0.62949683, 0.62949683, 0.62949683, 0.62949683, 0.62949683,\n        0.62949683, 0.62949683, 0.62949683],\n       [0.62949683, 0.62949683, 0.62949683, 0.62949683, 0.62949683,\n        0.62949683, 0.62949683, 0.62949683, 0.62949683, 0.62949683,\n        0.62949683, 0.62949683, 0.62949683, 0.62949683, 0.62949683,\n        0.62949683, 0.62949683, 0.62949683, 0.62949683, 0.62949683,\n        0.62949683, 0.62949683, 0.62949683, 0.62949683, 0.62949683,\n        0.62949683, 0.62949683, 0.62949683],\n       [0.62949683, 0.62949683, 0.62949683, 0.62949683, 0.62949683,\n        0.62949683, 0.62949683, 0.62949683, 0.62949683, 0.62949683,\n        0.62949683, 0.63721156, 0.67979377, 0.7021872 , 0.71394011,\n        0.99167039, 1.1616946 , 1.35996894, 1.03675067, 1.22823677,\n        1.52742801, 1.73547008, 1.4859253 , 0.99272413, 0.72900481,\n        0.62949683, 0.62949683, 0.62949683],\n       [0.62949683, 0.62949683, 0.62949683, 0.62949683, 0.62949683,\n        0.62949683, 0.62949683, 0.70664413, 0.76215926, 0.94283367,\n        1.17932841, 1.34861996, 1.64435934, 1.78077494, 1.87928609,\n        1.97037966, 2.02402864, 2.23015024, 1.96941435, 2.22770416,\n        2.0672484 , 2.33812915, 2.02390701, 1.47224688, 0.96309286,\n        0.62949683, 0.62949683, 0.62949683],\n       [0.62949683, 0.62949683, 0.62949683, 0.62949683, 0.62949683,\n        0.62949683, 0.75550408, 1.33230911, 1.67943569, 1.9659545 ,\n        2.0659881 , 2.23689742, 2.46636132, 2.56915197, 2.80057961,\n        2.90300422, 3.07363709, 3.02592323, 2.67805438, 2.5466181 ,\n        2.21872292, 2.83726986, 2.68705275, 2.07805512, 1.16333373,\n        0.62949683, 0.62949683, 0.62949683],\n       [0.62949683, 0.62949683, 0.62949683, 0.62949683, 0.62949683,\n        0.62949683, 0.71711469, 1.46643196, 2.08956545, 2.87719774,\n        3.10199596, 3.38811959, 3.67619312, 3.71181441, 3.85271147,\n        3.95539092, 4.01259041, 3.27509424, 2.77510589, 2.13803995,\n        2.04267479, 2.20531548, 1.87680334, 1.41543209, 0.82653409,\n        0.62949683, 0.62949683, 0.62949683],\n       [0.62949683, 0.62949683, 0.62949683, 0.62949683, 0.62949683,\n        0.62949683, 0.69114951, 1.3286371 , 2.24006651, 3.3461081 ,\n        3.83769803, 3.99438883, 3.98534815, 3.37593495, 3.01429637,\n        2.88354411, 3.20237105, 2.77472151, 2.28176448, 1.11984238,\n        1.06131882, 1.0051631 , 0.86195442, 0.74956641, 0.62949683,\n        0.62949683, 0.62949683, 0.62949683],\n       [0.62949683, 0.62949683, 0.62949683, 0.62949683, 0.62949683,\n        0.62949683, 0.64656759, 0.93238326, 1.46313026, 2.28861725,\n        3.0525983 , 3.45319596, 3.57156159, 2.96400305, 2.41854384,\n        1.81438254, 1.94659144, 1.92145937, 1.71517663, 0.62949683,\n        0.62949683, 0.62949683, 0.62949683, 0.62949683, 0.62949683,\n        0.62949683, 0.62949683, 0.62949683],\n       [0.62949683, 0.62949683, 0.62949683, 0.62949683, 0.62949683,\n        0.62949683, 0.62949683, 0.70536691, 0.91243137, 1.22417416,\n        2.03347378, 2.70485125, 3.45348922, 2.79408814, 1.62998185,\n        0.70570983, 0.84175569, 0.99900169, 1.10361774, 0.62949683,\n        0.62949683, 0.62949683, 0.62949683, 0.62949683, 0.62949683,\n        0.62949683, 0.62949683, 0.62949683],\n       [0.62949683, 0.62949683, 0.62949683, 0.62949683, 0.62949683,\n        0.62949683, 0.62949683, 0.62949683, 0.64277409, 0.65200161,\n        0.96571651, 1.88452048, 3.06803937, 2.85982255, 1.62324294,\n        0.68880753, 0.62949683, 0.62949683, 0.62949683, 0.62949683,\n        0.62949683, 0.62949683, 0.62949683, 0.62949683, 0.62949683,\n        0.62949683, 0.62949683, 0.62949683],\n       [0.62949683, 0.62949683, 0.62949683, 0.62949683, 0.62949683,\n        0.62949683, 0.62949683, 0.62949683, 0.62949683, 0.62949683,\n        0.77059914, 1.33832781, 2.61118997, 3.21992806, 2.71242995,\n        1.45970091, 0.90174123, 0.71545397, 0.63028035, 0.62949683,\n        0.62949683, 0.62949683, 0.62949683, 0.62949683, 0.62949683,\n        0.62949683, 0.62949683, 0.62949683],\n       [0.62949683, 0.62949683, 0.62949683, 0.62949683, 0.62949683,\n        0.62949683, 0.62949683, 0.62949683, 0.62949683, 0.62949683,\n        0.63992896, 0.85614651, 1.62207707, 2.76459185, 3.31798788,\n        2.68197124, 1.87496334, 1.29248818, 0.75837321, 0.64908501,\n        0.62949683, 0.62949683, 0.62949683, 0.62949683, 0.62949683,\n        0.62949683, 0.62949683, 0.62949683],\n       [0.62949683, 0.62949683, 0.62949683, 0.62949683, 0.62949683,\n        0.62949683, 0.62949683, 0.62949683, 0.62949683, 0.62949683,\n        0.62949683, 0.66268999, 0.98026663, 1.67377618, 2.90274423,\n        3.46035641, 3.1946907 , 2.52113648, 1.37673037, 0.83890035,\n        0.65065207, 0.62949683, 0.62949683, 0.62949683, 0.62949683,\n        0.62949683, 0.62949683, 0.62949683],\n       [0.62949683, 0.62949683, 0.62949683, 0.62949683, 0.62949683,\n        0.62949683, 0.62949683, 0.62949683, 0.62949683, 0.62949683,\n        0.62949683, 0.62949683, 0.70631528, 1.01978192, 1.70521753,\n        2.65011587, 3.43010682, 3.47265166, 2.70098603, 1.50065173,\n        0.83627753, 0.62949683, 0.62949683, 0.62949683, 0.62949683,\n        0.62949683, 0.62949683, 0.62949683],\n       [0.62949683, 0.62949683, 0.62949683, 0.62949683, 0.62949683,\n        0.62949683, 0.62949683, 0.62949683, 0.62949683, 0.62949683,\n        0.62949683, 0.62949683, 0.62949683, 0.67217375, 0.88867855,\n        1.37951013, 2.75914966, 3.45000254, 3.6645367 , 2.47135701,\n        1.41060016, 0.67964258, 0.62949683, 0.62949683, 0.62949683,\n        0.62949683, 0.62949683, 0.62949683],\n       [0.62949683, 0.62949683, 0.62949683, 0.62949683, 0.62949683,\n        0.62949683, 0.62949683, 0.62949683, 0.62949683, 0.62949683,\n        0.62949683, 0.62949683, 0.62949683, 0.74778935, 1.04044052,\n        1.42267708, 2.26795438, 2.99346073, 3.91251837, 2.89920285,\n        1.95261245, 0.77390497, 0.62949683, 0.62949683, 0.62949683,\n        0.62949683, 0.62949683, 0.62949683],\n       [0.62949683, 0.62949683, 0.62949683, 0.62949683, 0.62949683,\n        0.62949683, 0.62949683, 0.62949683, 0.62949683, 0.62949683,\n        0.62949683, 0.72978832, 1.06220155, 1.48550057, 1.83096277,\n        2.10903414, 2.63269402, 3.15976475, 3.86728587, 2.9445867 ,\n        2.10007942, 0.83099787, 0.62949683, 0.62949683, 0.62949683,\n        0.62949683, 0.62949683, 0.62949683],\n       [0.62949683, 0.62949683, 0.62949683, 0.62949683, 0.62949683,\n        0.62949683, 0.62949683, 0.62949683, 0.62949683, 0.69121467,\n        0.95472511, 1.4018404 , 1.80588502, 2.17710281, 2.6500975 ,\n        3.16215128, 3.48859882, 3.37123618, 3.07883155, 2.42431612,\n        1.67607305, 0.63565424, 0.62949683, 0.62949683, 0.62949683,\n        0.62949683, 0.62949683, 0.62949683],\n       [0.62949683, 0.62949683, 0.62949683, 0.62949683, 0.62949683,\n        0.62949683, 0.62949683, 0.68864309, 0.82995324, 1.30369529,\n        1.72262881, 2.10973575, 2.57715652, 3.19408587, 3.60712901,\n        3.51909326, 3.14653966, 2.81580437, 2.44878218, 1.85349447,\n        1.18982155, 0.62949683, 0.62949683, 0.62949683, 0.62949683,\n        0.62949683, 0.62949683, 0.62949683],\n       [0.62949683, 0.62949683, 0.62949683, 0.62949683, 0.62949683,\n        0.67578521, 1.09328784, 1.45466353, 1.77201164, 2.07113642,\n        2.41133556, 3.07011185, 3.48242029, 3.48788345, 3.15832354,\n        2.82849372, 2.47315244, 1.97349202, 1.37288074, 0.86963599,\n        0.62949683, 0.62949683, 0.62949683, 0.62949683, 0.62949683,\n        0.62949683, 0.62949683, 0.62949683],\n       [0.62949683, 0.62949683, 0.62949683, 0.77093354, 1.14529842,\n        1.49877398, 1.86861842, 2.11353247, 2.60113434, 2.99892981,\n        3.44833165, 3.66502063, 3.2701472 , 2.87059364, 2.47066425,\n        1.97241659, 1.38578384, 0.8819516 , 0.63565424, 0.62949683,\n        0.62949683, 0.62949683, 0.62949683, 0.62949683, 0.62949683,\n        0.62949683, 0.62949683, 0.62949683],\n       [0.62949683, 0.62949683, 0.62949683, 1.02562149, 1.62992825,\n        2.12717599, 2.69817756, 3.06108817, 3.44574876, 3.50315204,\n        3.23759389, 2.94170832, 2.60497493, 2.08597657, 1.38611039,\n        0.88965109, 0.65720519, 0.62949683, 0.62949683, 0.62949683,\n        0.62949683, 0.62949683, 0.62949683, 0.62949683, 0.62949683,\n        0.62949683, 0.62949683, 0.62949683],\n       [0.62949683, 0.62949683, 0.62949683, 0.79636792, 1.14763513,\n        1.90084586, 2.63093825, 2.8041797 , 2.80519373, 2.67891959,\n        2.39943134, 2.21154928, 1.63162965, 1.05590207, 0.66336261,\n        0.62949683, 0.62949683, 0.62949683, 0.62949683, 0.62949683,\n        0.62949683, 0.62949683, 0.62949683, 0.62949683, 0.62949683,\n        0.62949683, 0.62949683, 0.62949683],\n       [0.62949683, 0.62949683, 0.62949683, 0.75847596, 1.07884103,\n        1.67769517, 2.03790392, 1.99902051, 1.86286608, 1.61523373,\n        1.26354242, 1.06052207, 0.67875614, 0.62949683, 0.62949683,\n        0.62949683, 0.62949683, 0.62949683, 0.62949683, 0.62949683,\n        0.62949683, 0.62949683, 0.62949683, 0.62949683, 0.62949683,\n        0.62949683, 0.62949683, 0.62949683],\n       [0.62949683, 0.62949683, 0.62949683, 0.62949683, 0.62949683,\n        0.62949683, 0.62949683, 0.62949683, 0.62949683, 0.62949683,\n        0.62949683, 0.62949683, 0.62949683, 0.62949683, 0.62949683,\n        0.62949683, 0.62949683, 0.62949683, 0.62949683, 0.62949683,\n        0.62949683, 0.62949683, 0.62949683, 0.62949683, 0.62949683,\n        0.62949683, 0.62949683, 0.62949683],\n       [0.62949683, 0.62949683, 0.62949683, 0.62949683, 0.62949683,\n        0.62949683, 0.62949683, 0.62949683, 0.62949683, 0.62949683,\n        0.62949683, 0.62949683, 0.62949683, 0.62949683, 0.62949683,\n        0.62949683, 0.62949683, 0.62949683, 0.62949683, 0.62949683,\n        0.62949683, 0.62949683, 0.62949683, 0.62949683, 0.62949683,\n        0.62949683, 0.62949683, 0.62949683]])"
     },
     "execution_count": 13,
     "metadata": {},
     "output_type": "execute_result"
    },
    {
     "data": {
      "text/plain": "<Figure size 432x288 with 1 Axes>",
      "image/png": "[encoded data removed]"
     },
     "metadata": {
      "needs_background": "light"
     },
     "output_type": "display_data"
    }
   ],
   "source": [
    "x_train, y_train, x_test, y_test = process_mnist_data()\n",
    "c = ConvolutionLayer(10, 3, 1, 1)\n",
    "img = x_train[0].reshape(28, 28, 1)\n",
    "plt.imshow(img, cmap='gray')\n",
    "o = c.forward(img)\n",
    "print(o.shape)\n",
    "o [:, :, 0]"
   ],
   "metadata": {
    "collapsed": false,
    "pycharm": {
     "name": "#%%\n"
    }
   }
  },
  {
   "cell_type": "code",
   "execution_count": 14,
   "outputs": [
    {
     "data": {
      "text/plain": "array([[0.62949683, 0.62949683, 0.62949683, 0.62949683, 0.62949683,\n        0.62949683, 0.62949683, 0.62949683, 0.62949683, 0.62949683,\n        0.62949683, 0.62949683, 0.62949683, 0.62949683],\n       [0.62949683, 0.62949683, 0.62949683, 0.62949683, 0.62949683,\n        0.62949683, 0.62949683, 0.62949683, 0.62949683, 0.62949683,\n        0.62949683, 0.62949683, 0.62949683, 0.62949683],\n       [0.62949683, 0.62949683, 0.62949683, 0.70664413, 0.94283367,\n        1.34861996, 1.78077494, 1.97037966, 2.23015024, 2.22770416,\n        2.33812915, 2.02390701, 0.96309286, 0.62949683],\n       [0.62949683, 0.62949683, 0.62949683, 1.46643196, 2.87719774,\n        3.38811959, 3.71181441, 3.95539092, 4.01259041, 2.77510589,\n        2.83726986, 2.68705275, 1.16333373, 0.62949683],\n       [0.62949683, 0.62949683, 0.62949683, 1.3286371 , 3.3461081 ,\n        3.99438883, 3.98534815, 3.01429637, 3.20237105, 2.28176448,\n        1.06131882, 0.86195442, 0.62949683, 0.62949683],\n       [0.62949683, 0.62949683, 0.62949683, 0.70536691, 1.22417416,\n        2.70485125, 3.45348922, 1.62998185, 0.99900169, 1.10361774,\n        0.62949683, 0.62949683, 0.62949683, 0.62949683],\n       [0.62949683, 0.62949683, 0.62949683, 0.62949683, 0.62949683,\n        1.33832781, 3.21992806, 3.31798788, 1.87496334, 0.75837321,\n        0.62949683, 0.62949683, 0.62949683, 0.62949683],\n       [0.62949683, 0.62949683, 0.62949683, 0.62949683, 0.62949683,\n        0.66268999, 1.67377618, 3.46035641, 3.47265166, 2.70098603,\n        0.83627753, 0.62949683, 0.62949683, 0.62949683],\n       [0.62949683, 0.62949683, 0.62949683, 0.62949683, 0.62949683,\n        0.62949683, 0.74778935, 1.42267708, 3.45000254, 3.91251837,\n        1.95261245, 0.62949683, 0.62949683, 0.62949683],\n       [0.62949683, 0.62949683, 0.62949683, 0.62949683, 0.69121467,\n        1.4018404 , 2.17710281, 3.16215128, 3.48859882, 3.86728587,\n        2.10007942, 0.62949683, 0.62949683, 0.62949683],\n       [0.62949683, 0.62949683, 0.67578521, 1.45466353, 2.07113642,\n        3.07011185, 3.48788345, 3.60712901, 3.14653966, 2.44878218,\n        1.18982155, 0.62949683, 0.62949683, 0.62949683],\n       [0.62949683, 1.02562149, 2.12717599, 3.06108817, 3.50315204,\n        3.66502063, 3.2701472 , 2.47066425, 1.38578384, 0.63565424,\n        0.62949683, 0.62949683, 0.62949683, 0.62949683],\n       [0.62949683, 0.79636792, 1.90084586, 2.8041797 , 2.80519373,\n        2.39943134, 1.63162965, 0.66336261, 0.62949683, 0.62949683,\n        0.62949683, 0.62949683, 0.62949683, 0.62949683],\n       [0.62949683, 0.62949683, 0.62949683, 0.62949683, 0.62949683,\n        0.62949683, 0.62949683, 0.62949683, 0.62949683, 0.62949683,\n        0.62949683, 0.62949683, 0.62949683, 0.62949683]])"
     },
     "execution_count": 14,
     "metadata": {},
     "output_type": "execute_result"
    }
   ],
   "source": [
    "m = MaxPoolingLayer(2, 2)\n",
    "o1 = m.forward(o)\n",
    "o1[:, :, 0]"
   ],
   "metadata": {
    "collapsed": false,
    "pycharm": {
     "name": "#%%\n"
    }
   }
  },
  {
   "cell_type": "code",
   "execution_count": 15,
   "outputs": [
    {
     "data": {
      "text/plain": "array([[0.62949683],\n       [0.82506871],\n       [0.61674648],\n       ...,\n       [0.33084907],\n       [0.33588899],\n       [0.24708561]])"
     },
     "execution_count": 15,
     "metadata": {},
     "output_type": "execute_result"
    }
   ],
   "source": [
    "f = FlatteningLayer()\n",
    "o2 = f.forward(o1)\n",
    "o2"
   ],
   "metadata": {
    "collapsed": false,
    "pycharm": {
     "name": "#%%\n"
    }
   }
  },
  {
   "cell_type": "code",
   "execution_count": 16,
   "outputs": [
    {
     "name": "stdout",
     "output_type": "stream",
     "text": [
      "(32, 32, 10)\n"
     ]
    },
    {
     "data": {
      "text/plain": "array([[1.07208829, 1.31624314, 1.28114285, ..., 3.79631922, 3.70923101,\n        2.97936817],\n       [1.01714897, 1.3861713 , 1.47852527, ..., 4.67500869, 4.51061115,\n        3.63084945],\n       [0.88964202, 1.25026648, 1.60269277, ..., 4.21667507, 3.98601052,\n        3.12144264],\n       ...,\n       [4.20336974, 6.30838999, 5.81649086, ..., 5.04744472, 3.7949862 ,\n        1.82191246],\n       [4.15123382, 6.33832617, 6.10085804, ..., 5.68223945, 4.91184548,\n        2.79595464],\n       [2.66403084, 4.14699867, 4.09740877, ..., 4.09504293, 3.78868258,\n        2.35544483]])"
     },
     "execution_count": 16,
     "metadata": {},
     "output_type": "execute_result"
    },
    {
     "data": {
      "text/plain": "<Figure size 432x288 with 1 Axes>",
      "image/png": "[encoded data removed]"
     },
     "metadata": {
      "needs_background": "light"
     },
     "output_type": "display_data"
    }
   ],
   "source": [
    "x_train, y_train, x_test, y_test = process_cifar_dataset()\n",
    "c = ConvolutionLayer(10, 3, 1, 1)\n",
    "img = x_train[0].reshape(3, 32, 32)\n",
    "img = img.transpose(1, 2, 0)\n",
    "plt.imshow(img)\n",
    "o = c.forward(img)\n",
    "print(o.shape)\n",
    "o[:, :, 0]"
   ],
   "metadata": {
    "collapsed": false,
    "pycharm": {
     "name": "#%%\n"
    }
   }
  },
  {
   "cell_type": "code",
   "execution_count": 17,
   "outputs": [
    {
     "data": {
      "text/plain": "array([[ 1.3861713 ,  2.19163719,  3.87771698,  4.3926711 ,  4.32013074,\n         4.05606504,  4.12924175,  4.18978392,  4.20873846,  4.17807422,\n         4.49584662,  4.47882409,  4.61639432,  4.93633452,  4.86696006,\n         4.51061115],\n       [ 1.72701755,  3.11610216,  3.76934383,  3.96094987,  3.85945939,\n         3.95433907,  4.00751499,  4.15983016,  3.96747851,  4.05414113,\n         4.55627745,  4.62683946,  4.3204645 ,  4.45659864,  4.41330243,\n         3.98601052],\n       [ 2.91033126,  3.89535417,  4.07282703,  3.86513166,  3.94699492,\n         3.9630778 ,  3.79746241,  3.8867337 ,  3.46213142,  3.75769031,\n         4.15428655,  4.38199322,  4.58259961,  4.15830523,  3.47088407,\n         2.57215249],\n       [ 3.99420272,  4.25554452,  4.22668005,  4.09483726,  4.25660204,\n         4.12249357,  3.13154672,  2.79604784,  4.80406471,  4.07397643,\n         3.03374579,  4.08072891,  4.62556516,  4.50395415,  3.67333749,\n         3.69734483],\n       [ 5.24893582,  5.04232355,  4.48224184,  4.48393088,  4.57865651,\n         3.8484066 ,  2.41990206,  3.49828272,  5.07938549,  4.63205682,\n         3.87263033,  3.39935373,  4.1995022 ,  4.48887327,  4.38626243,\n         4.27613466],\n       [ 5.39723673,  5.18550224,  4.74756261,  4.3981443 ,  4.50296437,\n         3.90570509,  4.95535868,  5.71742988,  5.79591379,  5.83281293,\n         6.32688349,  5.75942527,  4.05488609,  4.46537635,  4.48314077,\n         4.36327407],\n       [ 5.30322643,  5.03699487,  4.57135263,  3.35207931,  3.77646648,\n         6.08328101,  6.79617702,  8.6997942 ,  8.57204705,  8.22313759,\n         7.73007484,  7.50966699,  6.19506352,  4.594428  ,  4.50509036,\n         4.46553553],\n       [ 5.17592217,  4.92552045,  4.22682258,  3.28681153,  6.02180311,\n         6.92153751,  6.69300186,  9.4518824 , 10.27994985,  9.89622507,\n         8.61240885,  9.49246684,  8.84559077,  5.06232235,  4.59974351,\n         4.37473544],\n       [ 4.86007713,  4.7289214 ,  4.29910446,  5.2339464 ,  8.65110692,\n         7.90152996,  8.38339264,  9.35564352,  9.91550104,  9.09720438,\n         7.96764476,  9.11566627,  8.81665733,  5.13787373,  4.63349866,\n         4.43952946],\n       [ 4.47997027,  4.35308603,  4.82040508,  8.19040376,  9.37246276,\n         7.75225783,  8.05919774,  7.32479601,  6.39117162,  5.8636147 ,\n         7.55532257,  9.17523025,  8.582324  ,  4.55227223,  3.8653114 ,\n         4.17285065],\n       [ 4.36459524,  4.18104481,  4.98254419,  7.92263724,  8.55749383,\n         6.70357754,  6.49877509,  5.50320514,  5.00800647,  5.00996721,\n         5.91063168,  7.17159953,  6.71836164,  4.29056011,  4.29939897,\n         4.88598908],\n       [ 4.50208098,  4.59986458,  4.94458377,  5.22521147,  6.38345872,\n         7.23105393,  7.75801163,  6.45458315,  4.93454864,  5.01394415,\n         4.89117056,  4.49625601,  4.13494985,  4.50141312,  4.58626325,\n         5.53008118],\n       [ 4.95495536,  4.46622658,  4.88403959,  5.39028556,  6.08809436,\n         6.58394203,  7.16925326,  6.47605758,  5.14038138,  4.66500474,\n         4.57971966,  4.29355901,  4.5484207 ,  4.54310592,  5.97799524,\n         6.36264143],\n       [ 6.10784451,  5.18464995,  4.36808676,  4.86829417,  5.01611521,\n         4.68723352,  5.2476708 ,  4.9700488 ,  4.68489473,  4.8711314 ,\n         4.6301993 ,  4.92676446,  4.965363  ,  4.90788288,  6.46892602,\n         6.03187299],\n       [ 6.40184151,  5.81649086,  5.63383807,  5.19829878,  4.75774049,\n         4.55615045,  4.65686217,  4.49554403,  4.59552032,  4.95969623,\n         4.76832074,  4.43605826,  4.74850288,  4.26918387,  5.46697447,\n         3.85429232],\n       [ 6.33832617,  6.23219718,  6.40450181,  6.28149039,  5.55614284,\n         5.16068712,  5.16244449,  4.99131112,  5.0407233 ,  5.01171826,\n         4.83997121,  4.11540987,  4.18288507,  3.20555703,  5.68223945,\n         4.91184548]])"
     },
     "execution_count": 17,
     "metadata": {},
     "output_type": "execute_result"
    }
   ],
   "source": [
    "o1 = m.forward(o)\n",
    "o1[:, :, 0]"
   ],
   "metadata": {
    "collapsed": false,
    "pycharm": {
     "name": "#%%\n"
    }
   }
  }
 ],
 "metadata": {
  "kernelspec": {
   "display_name": "Python 3",
   "language": "python",
   "name": "python3"
  },
  "language_info": {
   "codemirror_mode": {
    "name": "ipython",
    "version": 2
   },
   "file_extension": ".py",
   "mimetype": "text/x-python",
   "name": "python",
   "nbconvert_exporter": "python",
   "pygments_lexer": "ipython2",
   "version": "2.7.6"
  }
 },
 "nbformat": 4,
 "nbformat_minor": 0
}