{
 "cells": [
  {
   "cell_type": "code",
   "execution_count": 1,
   "metadata": {
    "collapsed": true
   },
   "outputs": [],
   "source": [
    "import numpy as np\n",
    "import matplotlib.pyplot as plt\n",
    "import pandas as pd\n",
    "import pickle\n",
    "from mlxtend.data import loadlocal_mnist"
   ]
  },
  {
   "cell_type": "code",
   "execution_count": 2,
   "outputs": [],
   "source": [
    "def process_mnist_data() -> (np.ndarray, np.ndarray, np.ndarray, np.ndarray):\n",
    "    mnist_path = './MNIST/'\n",
    "    train_images, train_labels = loadlocal_mnist(\n",
    "        images_path = mnist_path + './train-images.idx3-ubyte',\n",
    "        labels_path = mnist_path + './train-labels.idx1-ubyte'\n",
    "    )\n",
    "    test_images, test_labels = loadlocal_mnist(\n",
    "        images_path = mnist_path + './t10k-images.idx3-ubyte',\n",
    "        labels_path = mnist_path + './t10k-labels.idx1-ubyte'\n",
    "    )\n",
    "    return train_images, train_labels, test_images, test_labels"
   ],
   "metadata": {
    "collapsed": false,
    "pycharm": {
     "name": "#%%\n"
    }
   }
  },
  {
   "cell_type": "code",
   "execution_count": 3,
   "outputs": [],
   "source": [
    "def unpickle(file):\n",
    "    with open(file, 'rb') as fo:\n",
    "        data_dict = pickle.load(fo, encoding='bytes')\n",
    "    return data_dict"
   ],
   "metadata": {
    "collapsed": false,
    "pycharm": {
     "name": "#%%\n"
    }
   }
  },
  {
   "cell_type": "code",
   "execution_count": 4,
   "outputs": [],
   "source": [
    "def process_cifar_dataset() -> (np.ndarray, np.ndarray, np.ndarray, np.ndarray):\n",
    "    cifar_path = './cifar-10-python/cifar-10-batches-py'\n",
    "    data_batch = unpickle(cifar_path + '/data_batch_1')\n",
    "    train_images, train_labels = data_batch[b'data'], np.array(data_batch[b'labels'])\n",
    "    for i in range(2,6):\n",
    "        data_batch = unpickle(cifar_path + '/data_batch_' + str(i))\n",
    "        train_images = np.concatenate((train_images, data_batch[b'data']), axis=0)\n",
    "        train_labels = np.concatenate((train_labels, np.array(data_batch[b'labels'])), axis=0)\n",
    "    test_batch = unpickle(cifar_path + '/test_batch')\n",
    "    test_images, test_labels = test_batch[b'data'], np.array(test_batch[b'labels'])\n",
    "    return train_images, train_labels, test_images, test_labels"
   ],
   "metadata": {
    "collapsed": false,
    "pycharm": {
     "name": "#%%\n"
    }
   }
  },
  {
   "cell_type": "code",
   "execution_count": 5,
   "outputs": [],
   "source": [
    "def process_toy_dataset():\n",
    "    toy_dataset_path = './Toy Dataset/'"
   ],
   "metadata": {
    "collapsed": false,
    "pycharm": {
     "name": "#%%\n"
    }
   }
  },
  {
   "cell_type": "code",
   "execution_count": 6,
   "outputs": [],
   "source": [
    "def relu(matrix:np.ndarray) -> np.ndarray:\n",
    "    return matrix * (matrix > 0)"
   ],
   "metadata": {
    "collapsed": false,
    "pycharm": {
     "name": "#%%\n"
    }
   }
  },
  {
   "cell_type": "code",
   "execution_count": 7,
   "outputs": [],
   "source": [
    "class ConvolutionLayer:\n",
    "    def __init__(self, output_channel_count: int, filter_dimension: int, stride: int, padding: int):\n",
    "        self.output_channel_count = output_channel_count\n",
    "        self.filter_dimension = filter_dimension\n",
    "        self.stride = stride\n",
    "        self.padding = padding\n",
    "\n",
    "    def forward(self, input_image: np.ndarray) -> np.ndarray:\n",
    "        input_dimentions = input_image.shape[0]\n",
    "        output_dimentions = (input_dimentions - self.filter_dimension + 2 * self.padding) // self.stride + 1\n",
    "        input_shape = input_image.shape\n",
    "\n",
    "        filters = np.random.rand(\n",
    "            self.output_channel_count,\n",
    "            self.filter_dimension,\n",
    "            self.filter_dimension,\n",
    "            input_shape[2]\n",
    "        )\n",
    "\n",
    "        bias = np.random.rand(self.output_channel_count)\n",
    "\n",
    "        # Pad the image\n",
    "        padded_image = np.zeros((\n",
    "            input_shape[0]+ 2*self.padding,\n",
    "            input_shape[1]+ 2*self.padding,\n",
    "            input_shape[2]\n",
    "        ))\n",
    "\n",
    "        # Padding variables\n",
    "        x_min = self.padding\n",
    "        x_max = x_min + input_shape[0]\n",
    "        y_min = self.padding\n",
    "        y_max = y_min + input_shape[1]\n",
    "\n",
    "        padded_image[x_min:x_max, y_min:y_max, :] = input_image\n",
    "        padded_image /= 255.0\n",
    "        padded_dimensions = padded_image.shape\n",
    "\n",
    "        output = np.zeros((output_dimentions, output_dimentions, self.output_channel_count))\n",
    "\n",
    "        for i in range(self.output_channel_count):\n",
    "            image_y = out_y = 0\n",
    "            while image_y + self.filter_dimension <= padded_dimensions[1]:\n",
    "                image_x = out_x = 0\n",
    "                while image_x + self.filter_dimension <= padded_dimensions[0]:\n",
    "                    image_slice = padded_image[image_x:image_x+self.filter_dimension, image_y:image_y+self.filter_dimension, :]\n",
    "                    output[out_x, out_y, i] = np.sum(image_slice * filters[i, :, :, :]) + bias[i]\n",
    "                    image_x += self.stride\n",
    "                    out_x += 1\n",
    "                image_y += self.stride\n",
    "                out_y += 1\n",
    "\n",
    "        return output\n",
    "\n",
    "    def backward(self):\n",
    "        pass"
   ],
   "metadata": {
    "collapsed": false,
    "pycharm": {
     "name": "#%%\n"
    }
   }
  },
  {
   "cell_type": "code",
   "execution_count": 8,
   "outputs": [],
   "source": [
    "class ActivationLayer:\n",
    "    def __init__(self):\n",
    "        pass\n",
    "\n",
    "    def forward(self, input_matrix: np.ndarray) -> np.ndarray:\n",
    "        return relu(input_matrix)\n",
    "\n",
    "    def backward(self):\n",
    "        pass"
   ],
   "metadata": {
    "collapsed": false,
    "pycharm": {
     "name": "#%%\n"
    }
   }
  },
  {
   "cell_type": "code",
   "execution_count": 9,
   "outputs": [],
   "source": [
    "class MaxPoolingLayer:\n",
    "    def __init__(self, filter_dimension: int, stride: int):\n",
    "        self.filter_dimension = filter_dimension\n",
    "        self.stride = stride\n",
    "\n",
    "    def forward(self, image: np.ndarray) -> np.ndarray:\n",
    "        input_dimensions = image.shape\n",
    "\n",
    "        output_dimension = (input_dimensions[0] - self.filter_dimension) // self.stride + 1\n",
    "\n",
    "        output = np.zeros((output_dimension, output_dimension, input_dimensions[2]))\n",
    "\n",
    "        image_y = out_y = 0\n",
    "        while image_y + self.filter_dimension <= input_dimensions[1]:\n",
    "            image_x = out_x = 0\n",
    "            while image_x + self.filter_dimension <= input_dimensions[0]:\n",
    "                image_slice = image[image_x: image_x+self.filter_dimension, image_y: image_y+self.filter_dimension, :]\n",
    "                output[out_x, out_y, :] = np.max(image_slice, axis=(0, 1))\n",
    "                image_x += self.stride\n",
    "                out_x += 1\n",
    "            image_y += self.stride\n",
    "            out_y += 1\n",
    "\n",
    "        return output\n",
    "\n",
    "    def backward(self):\n",
    "        pass"
   ],
   "metadata": {
    "collapsed": false,
    "pycharm": {
     "name": "#%%\n"
    }
   }
  },
  {
   "cell_type": "code",
   "execution_count": 10,
   "outputs": [],
   "source": [
    "class FullyConnectedLayer:\n",
    "    pass"
   ],
   "metadata": {
    "collapsed": false,
    "pycharm": {
     "name": "#%%\n"
    }
   }
  },
  {
   "cell_type": "code",
   "execution_count": 11,
   "outputs": [],
   "source": [
    "class FlatteningLayer:\n",
    "    pass"
   ],
   "metadata": {
    "collapsed": false,
    "pycharm": {
     "name": "#%%\n"
    }
   }
  },
  {
   "cell_type": "code",
   "execution_count": 12,
   "outputs": [],
   "source": [
    "class SoftmaxLayer:\n",
    "    pass"
   ],
   "metadata": {
    "collapsed": false,
    "pycharm": {
     "name": "#%%\n"
    }
   }
  },
  {
   "cell_type": "code",
   "execution_count": 13,
   "outputs": [
    {
     "name": "stdout",
     "output_type": "stream",
     "text": [
      "(28, 28, 10)\n"
     ]
    },
    {
     "data": {
      "text/plain": "array([[0.01692755, 0.01692755, 0.01692755, 0.01692755, 0.01692755,\n        0.01692755, 0.01692755, 0.01692755, 0.01692755, 0.01692755,\n        0.01692755, 0.01692755, 0.01692755, 0.01692755, 0.01692755,\n        0.01692755, 0.01692755, 0.01692755, 0.01692755, 0.01692755,\n        0.01692755, 0.01692755, 0.01692755, 0.01692755, 0.01692755,\n        0.01692755, 0.01692755, 0.01692755],\n       [0.01692755, 0.01692755, 0.01692755, 0.01692755, 0.01692755,\n        0.01692755, 0.01692755, 0.01692755, 0.01692755, 0.01692755,\n        0.01692755, 0.01692755, 0.01692755, 0.01692755, 0.01692755,\n        0.01692755, 0.01692755, 0.01692755, 0.01692755, 0.01692755,\n        0.01692755, 0.01692755, 0.01692755, 0.01692755, 0.01692755,\n        0.01692755, 0.01692755, 0.01692755],\n       [0.01692755, 0.01692755, 0.01692755, 0.01692755, 0.01692755,\n        0.01692755, 0.01692755, 0.01692755, 0.01692755, 0.01692755,\n        0.01692755, 0.01692755, 0.01692755, 0.01692755, 0.01692755,\n        0.01692755, 0.01692755, 0.01692755, 0.01692755, 0.01692755,\n        0.01692755, 0.01692755, 0.01692755, 0.01692755, 0.01692755,\n        0.01692755, 0.01692755, 0.01692755],\n       [0.01692755, 0.01692755, 0.01692755, 0.01692755, 0.01692755,\n        0.01692755, 0.01692755, 0.01692755, 0.01692755, 0.01692755,\n        0.01692755, 0.01692755, 0.01692755, 0.01692755, 0.01692755,\n        0.01692755, 0.01692755, 0.01692755, 0.01692755, 0.01692755,\n        0.01692755, 0.01692755, 0.01692755, 0.01692755, 0.01692755,\n        0.01692755, 0.01692755, 0.01692755],\n       [0.01692755, 0.01692755, 0.01692755, 0.01692755, 0.01692755,\n        0.01692755, 0.01692755, 0.01692755, 0.01692755, 0.01692755,\n        0.01692755, 0.02016653, 0.04343686, 0.08717783, 0.12899598,\n        0.24559898, 0.51111246, 0.87789465, 0.83688557, 0.74534978,\n        0.7562343 , 1.34780534, 1.44749953, 1.00506124, 0.37098785,\n        0.01692755, 0.01692755, 0.01692755],\n       [0.01692755, 0.01692755, 0.01692755, 0.01692755, 0.01692755,\n        0.01692755, 0.01692755, 0.04931727, 0.12654992, 0.28695727,\n        0.50525639, 0.82722345, 1.13778491, 1.4215041 , 1.65694227,\n        1.71044948, 2.0217611 , 2.06833906, 1.98458466, 1.52619358,\n        1.95864658, 2.39402288, 2.05292346, 1.13835853, 0.22959449,\n        0.01692755, 0.01692755, 0.01692755],\n       [0.01692755, 0.01692755, 0.01692755, 0.01692755, 0.01692755,\n        0.01692755, 0.06983076, 0.40431513, 1.09094239, 1.70707243,\n        1.94475977, 2.1429683 , 2.2752175 , 2.55703384, 2.60619522,\n        2.76620086, 3.04313018, 3.12903644, 2.52579723, 1.85405733,\n        2.21374396, 2.55731601, 2.16298777, 1.11155663, 0.26093969,\n        0.01692755, 0.01692755, 0.01692755],\n       [0.01692755, 0.01692755, 0.01692755, 0.01692755, 0.01692755,\n        0.01692755, 0.0606378 , 0.5971808 , 1.79719441, 2.68543085,\n        3.02579253, 3.29987338, 3.56912105, 3.74140649, 3.74260982,\n        3.62171851, 3.72294551, 3.50437382, 2.31803553, 1.51267406,\n        1.58410447, 1.55000439, 1.14672009, 0.53221797, 0.13119824,\n        0.01692755, 0.01692755, 0.01692755],\n       [0.01692755, 0.01692755, 0.01692755, 0.01692755, 0.01692755,\n        0.01692755, 0.09844057, 0.73536721, 2.1701532 , 3.04432676,\n        3.3342189 , 3.54195249, 3.89715889, 3.5472488 , 2.78006519,\n        2.23168663, 2.59640895, 2.45394218, 1.30845083, 0.50511486,\n        0.44695471, 0.35814729, 0.21234643, 0.08656125, 0.01692755,\n        0.01692755, 0.01692755, 0.01692755],\n       [0.01692755, 0.01692755, 0.01692755, 0.01692755, 0.01692755,\n        0.01692755, 0.04359516, 0.42506395, 1.27911642, 1.95305688,\n        2.14115084, 2.9735813 , 3.47321754, 2.95385635, 1.56017986,\n        1.20601048, 1.50161015, 1.49609874, 0.48875093, 0.01692755,\n        0.01692755, 0.01692755, 0.01692755, 0.01692755, 0.01692755,\n        0.01692755, 0.01692755, 0.01692755],\n       [0.01692755, 0.01692755, 0.01692755, 0.01692755, 0.01692755,\n        0.01692755, 0.01692755, 0.13545025, 0.45074093, 0.74022653,\n        1.16509784, 2.36532794, 3.38458301, 2.46569951, 0.96854765,\n        0.10584953, 0.35030367, 0.47053732, 0.29189139, 0.01692755,\n        0.01692755, 0.01692755, 0.01692755, 0.01692755, 0.01692755,\n        0.01692755, 0.01692755, 0.01692755],\n       [0.01692755, 0.01692755, 0.01692755, 0.01692755, 0.01692755,\n        0.01692755, 0.01692755, 0.01692755, 0.03766902, 0.05266674,\n        0.35326942, 1.52109222, 2.64552882, 2.49902087, 1.10495047,\n        0.21261816, 0.01692755, 0.01692755, 0.01692755, 0.01692755,\n        0.01692755, 0.01692755, 0.01692755, 0.01692755, 0.01692755,\n        0.01692755, 0.01692755, 0.01692755],\n       [0.01692755, 0.01692755, 0.01692755, 0.01692755, 0.01692755,\n        0.01692755, 0.01692755, 0.01692755, 0.01692755, 0.01692755,\n        0.22831054, 0.89500922, 2.17570319, 2.64901712, 2.00312718,\n        1.16060609, 0.71878434, 0.32037669, 0.01971543, 0.01692755,\n        0.01692755, 0.01692755, 0.01692755, 0.01692755, 0.01692755,\n        0.01692755, 0.01692755, 0.01692755],\n       [0.01692755, 0.01692755, 0.01692755, 0.01692755, 0.01692755,\n        0.01692755, 0.01692755, 0.01692755, 0.01692755, 0.01692755,\n        0.03322442, 0.34267598, 1.18245614, 2.33365703, 2.48744573,\n        2.24888898, 1.79743074, 1.06186856, 0.40791672, 0.08662446,\n        0.01692755, 0.01692755, 0.01692755, 0.01692755, 0.01692755,\n        0.01692755, 0.01692755, 0.01692755],\n       [0.01692755, 0.01692755, 0.01692755, 0.01692755, 0.01692755,\n        0.01692755, 0.01692755, 0.01692755, 0.01692755, 0.01692755,\n        0.01692755, 0.06878123, 0.4997517 , 1.39974282, 2.3697706 ,\n        2.71519567, 2.80159869, 2.09434789, 1.20997184, 0.50552896,\n        0.09220022, 0.01692755, 0.01692755, 0.01692755, 0.01692755,\n        0.01692755, 0.01692755, 0.01692755],\n       [0.01692755, 0.01692755, 0.01692755, 0.01692755, 0.01692755,\n        0.01692755, 0.01692755, 0.01692755, 0.01692755, 0.01692755,\n        0.01692755, 0.01692755, 0.13693178, 0.59299528, 1.36072809,\n        2.24259345, 2.69322705, 2.78384937, 2.29880177, 1.3249685 ,\n        0.54554041, 0.01692755, 0.01692755, 0.01692755, 0.01692755,\n        0.01692755, 0.01692755, 0.01692755],\n       [0.01692755, 0.01692755, 0.01692755, 0.01692755, 0.01692755,\n        0.01692755, 0.01692755, 0.01692755, 0.01692755, 0.01692755,\n        0.01692755, 0.01692755, 0.01692755, 0.08359657, 0.41053369,\n        1.01870142, 2.00474597, 3.03564055, 3.31367879, 2.31118056,\n        0.96068064, 0.19535164, 0.01692755, 0.01692755, 0.01692755,\n        0.01692755, 0.01692755, 0.01692755],\n       [0.01692755, 0.01692755, 0.01692755, 0.01692755, 0.01692755,\n        0.01692755, 0.01692755, 0.01692755, 0.01692755, 0.01692755,\n        0.01692755, 0.01692755, 0.01692755, 0.06659179, 0.28947809,\n        0.82628509, 1.83695514, 3.38614477, 3.79669123, 2.92818535,\n        1.1813022 , 0.03975954, 0.01692755, 0.01692755, 0.01692755,\n        0.01692755, 0.01692755, 0.01692755],\n       [0.01692755, 0.01692755, 0.01692755, 0.01692755, 0.01692755,\n        0.01692755, 0.01692755, 0.01692755, 0.01692755, 0.01692755,\n        0.01692755, 0.05903419, 0.26869795, 0.74474289, 1.43767309,\n        1.99703378, 2.6405161 , 3.46535525, 3.82939314, 2.95537473,\n        1.18699828, 0.1317375 , 0.01692755, 0.01692755, 0.01692755,\n        0.01692755, 0.01692755, 0.01692755],\n       [0.01692755, 0.01692755, 0.01692755, 0.01692755, 0.01692755,\n        0.01692755, 0.01692755, 0.01692755, 0.01692755, 0.04283933,\n        0.19661225, 0.61063076, 1.31307875, 2.11484357, 2.71211326,\n        3.16823181, 3.50193803, 3.51093105, 3.00628731, 1.77927099,\n        0.44048818, 0.02049851, 0.01692755, 0.01692755, 0.01692755,\n        0.01692755, 0.01692755, 0.01692755],\n       [0.01692755, 0.01692755, 0.01692755, 0.01692755, 0.01692755,\n        0.01692755, 0.01692755, 0.04175967, 0.14243021, 0.47856656,\n        1.10099829, 1.9777161 , 2.68979153, 3.26577253, 3.64339854,\n        3.59071292, 3.09323224, 2.36568197, 1.63106589, 0.92967792,\n        0.34188482, 0.01692755, 0.01692755, 0.01692755, 0.01692755,\n        0.01692755, 0.01692755, 0.01692755],\n       [0.01692755, 0.01692755, 0.01692755, 0.01692755, 0.01692755,\n        0.03636139, 0.24400178, 0.71825112, 1.38125862, 1.83182845,\n        2.56707945, 3.14178388, 3.55987746, 3.56827396, 3.08858141,\n        2.37682452, 1.694763  , 1.10356868, 0.56721224, 0.15619495,\n        0.01692755, 0.01692755, 0.01692755, 0.01692755, 0.01692755,\n        0.01692755, 0.01692755, 0.01692755],\n       [0.01692755, 0.01692755, 0.01692755, 0.07630871, 0.33234557,\n        0.82884146, 1.43839362, 2.14933385, 2.53884972, 3.01230911,\n        3.50750186, 3.72677797, 3.35086032, 2.52029358, 1.69571668,\n        1.12025921, 0.57404719, 0.16644534, 0.02049851, 0.01692755,\n        0.01692755, 0.01692755, 0.01692755, 0.01692755, 0.01692755,\n        0.01692755, 0.01692755, 0.01692755],\n       [0.01692755, 0.01692755, 0.01692755, 0.19101   , 0.85206595,\n        1.90729827, 2.702302  , 3.22682474, 3.49527831, 3.36503285,\n        3.07429801, 2.69455174, 1.86975613, 1.13140036, 0.57715377,\n        0.18178869, 0.03299687, 0.01692755, 0.01692755, 0.01692755,\n        0.01692755, 0.01692755, 0.01692755, 0.01692755, 0.01692755,\n        0.01692755, 0.01692755, 0.01692755],\n       [0.01692755, 0.01692755, 0.01692755, 0.16579135, 0.91746377,\n        1.75052056, 2.16310628, 2.30527758, 2.19903458, 1.96807211,\n        1.86799627, 1.343737  , 0.79864315, 0.28131305, 0.03656783,\n        0.01692755, 0.01692755, 0.01692755, 0.01692755, 0.01692755,\n        0.01692755, 0.01692755, 0.01692755, 0.01692755, 0.01692755,\n        0.01692755, 0.01692755, 0.01692755],\n       [0.01692755, 0.01692755, 0.01692755, 0.21841613, 0.72454418,\n        1.25366546, 1.46256656, 1.40182368, 1.18741961, 0.92135328,\n        0.60467252, 0.29176245, 0.04549522, 0.01692755, 0.01692755,\n        0.01692755, 0.01692755, 0.01692755, 0.01692755, 0.01692755,\n        0.01692755, 0.01692755, 0.01692755, 0.01692755, 0.01692755,\n        0.01692755, 0.01692755, 0.01692755],\n       [0.01692755, 0.01692755, 0.01692755, 0.01692755, 0.01692755,\n        0.01692755, 0.01692755, 0.01692755, 0.01692755, 0.01692755,\n        0.01692755, 0.01692755, 0.01692755, 0.01692755, 0.01692755,\n        0.01692755, 0.01692755, 0.01692755, 0.01692755, 0.01692755,\n        0.01692755, 0.01692755, 0.01692755, 0.01692755, 0.01692755,\n        0.01692755, 0.01692755, 0.01692755],\n       [0.01692755, 0.01692755, 0.01692755, 0.01692755, 0.01692755,\n        0.01692755, 0.01692755, 0.01692755, 0.01692755, 0.01692755,\n        0.01692755, 0.01692755, 0.01692755, 0.01692755, 0.01692755,\n        0.01692755, 0.01692755, 0.01692755, 0.01692755, 0.01692755,\n        0.01692755, 0.01692755, 0.01692755, 0.01692755, 0.01692755,\n        0.01692755, 0.01692755, 0.01692755]])"
     },
     "execution_count": 13,
     "metadata": {},
     "output_type": "execute_result"
    },
    {
     "data": {
      "text/plain": "<Figure size 432x288 with 1 Axes>",
      "image/png": "[encoded data removed]"
     },
     "metadata": {
      "needs_background": "light"
     },
     "output_type": "display_data"
    }
   ],
   "source": [
    "x_train, y_train, x_test, y_test = process_mnist_data()\n",
    "c = ConvolutionLayer(10, 3, 1, 1)\n",
    "img = x_train[0].reshape(28, 28, 1)\n",
    "plt.imshow(img, cmap='gray')\n",
    "o = c.forward(img)\n",
    "print(o.shape)\n",
    "o [:, :, 0]"
   ],
   "metadata": {
    "collapsed": false,
    "pycharm": {
     "name": "#%%\n"
    }
   }
  },
  {
   "cell_type": "code",
   "execution_count": 14,
   "outputs": [
    {
     "data": {
      "text/plain": "array([[0.01692755, 0.01692755, 0.01692755, 0.01692755, 0.01692755,\n        0.01692755, 0.01692755, 0.01692755, 0.01692755, 0.01692755,\n        0.01692755, 0.01692755, 0.01692755, 0.01692755],\n       [0.01692755, 0.01692755, 0.01692755, 0.01692755, 0.01692755,\n        0.01692755, 0.01692755, 0.01692755, 0.01692755, 0.01692755,\n        0.01692755, 0.01692755, 0.01692755, 0.01692755],\n       [0.01692755, 0.01692755, 0.01692755, 0.04931727, 0.28695727,\n        0.82722345, 1.4215041 , 1.71044948, 2.06833906, 1.98458466,\n        2.39402288, 2.05292346, 0.37098785, 0.01692755],\n       [0.01692755, 0.01692755, 0.01692755, 0.5971808 , 2.68543085,\n        3.29987338, 3.74140649, 3.74260982, 3.72294551, 2.52579723,\n        2.55731601, 2.16298777, 0.26093969, 0.01692755],\n       [0.01692755, 0.01692755, 0.01692755, 0.73536721, 3.04432676,\n        3.54195249, 3.89715889, 2.78006519, 2.59640895, 1.30845083,\n        0.44695471, 0.21234643, 0.01692755, 0.01692755],\n       [0.01692755, 0.01692755, 0.01692755, 0.13545025, 0.74022653,\n        2.36532794, 3.38458301, 1.10495047, 0.47053732, 0.29189139,\n        0.01692755, 0.01692755, 0.01692755, 0.01692755],\n       [0.01692755, 0.01692755, 0.01692755, 0.01692755, 0.01692755,\n        0.89500922, 2.64901712, 2.48744573, 1.79743074, 0.40791672,\n        0.01692755, 0.01692755, 0.01692755, 0.01692755],\n       [0.01692755, 0.01692755, 0.01692755, 0.01692755, 0.01692755,\n        0.06878123, 1.39974282, 2.71519567, 2.80159869, 2.29880177,\n        0.54554041, 0.01692755, 0.01692755, 0.01692755],\n       [0.01692755, 0.01692755, 0.01692755, 0.01692755, 0.01692755,\n        0.01692755, 0.08359657, 1.01870142, 3.38614477, 3.79669123,\n        1.1813022 , 0.01692755, 0.01692755, 0.01692755],\n       [0.01692755, 0.01692755, 0.01692755, 0.01692755, 0.04283933,\n        0.61063076, 2.11484357, 3.16823181, 3.51093105, 3.82939314,\n        1.18699828, 0.01692755, 0.01692755, 0.01692755],\n       [0.01692755, 0.01692755, 0.03636139, 0.71825112, 1.83182845,\n        3.14178388, 3.56827396, 3.64339854, 3.09323224, 1.63106589,\n        0.34188482, 0.01692755, 0.01692755, 0.01692755],\n       [0.01692755, 0.19101   , 1.90729827, 3.22682474, 3.49527831,\n        3.72677797, 3.35086032, 1.69571668, 0.57404719, 0.02049851,\n        0.01692755, 0.01692755, 0.01692755, 0.01692755],\n       [0.01692755, 0.21841613, 1.75052056, 2.30527758, 2.19903458,\n        1.86799627, 0.79864315, 0.03656783, 0.01692755, 0.01692755,\n        0.01692755, 0.01692755, 0.01692755, 0.01692755],\n       [0.01692755, 0.01692755, 0.01692755, 0.01692755, 0.01692755,\n        0.01692755, 0.01692755, 0.01692755, 0.01692755, 0.01692755,\n        0.01692755, 0.01692755, 0.01692755, 0.01692755]])"
     },
     "execution_count": 14,
     "metadata": {},
     "output_type": "execute_result"
    }
   ],
   "source": [
    "m = MaxPoolingLayer(2, 2)\n",
    "o1 = m.forward(o)\n",
    "o1[:, :, 0]"
   ],
   "metadata": {
    "collapsed": false,
    "pycharm": {
     "name": "#%%\n"
    }
   }
  },
  {
   "cell_type": "code",
   "execution_count": 15,
   "outputs": [
    {
     "name": "stdout",
     "output_type": "stream",
     "text": [
      "(32, 32, 10)\n"
     ]
    },
    {
     "data": {
      "text/plain": "array([[1.66983951, 1.88973346, 1.9103344 , ..., 4.82934025, 4.73217909,\n        3.2601653 ],\n       [1.38641036, 1.86654922, 2.08852888, ..., 5.35144075, 5.20672197,\n        3.60095899],\n       [1.32193353, 1.90836062, 2.3774391 , ..., 4.92101127, 4.64015056,\n        3.21813599],\n       ...,\n       [4.87147116, 6.94638904, 6.40814856, ..., 5.18324266, 4.30523529,\n        2.21477081],\n       [4.82657438, 7.07920903, 6.77957322, ..., 6.17528342, 5.59704004,\n        3.13977865],\n       [3.25044307, 4.46995758, 4.37842726, ..., 4.26020615, 3.99650265,\n        2.26475485]])"
     },
     "execution_count": 15,
     "metadata": {},
     "output_type": "execute_result"
    },
    {
     "data": {
      "text/plain": "<Figure size 432x288 with 1 Axes>",
      "image/png": "[encoded data removed]"
     },
     "metadata": {
      "needs_background": "light"
     },
     "output_type": "display_data"
    }
   ],
   "source": [
    "x_train, y_train, x_test, y_test = process_cifar_dataset()\n",
    "c = ConvolutionLayer(10, 3, 1, 1)\n",
    "img = x_train[0].reshape(3, 32, 32)\n",
    "img = img.transpose(1, 2, 0)\n",
    "plt.imshow(img)\n",
    "o = c.forward(img)\n",
    "print(o.shape)\n",
    "o[:, :, 0]"
   ],
   "metadata": {
    "collapsed": false,
    "pycharm": {
     "name": "#%%\n"
    }
   }
  },
  {
   "cell_type": "code",
   "execution_count": 16,
   "outputs": [
    {
     "data": {
      "text/plain": "array([[ 1.88973346,  2.96248831,  4.71648781,  5.09870946,  4.97518921,\n         4.68345391,  4.76521449,  4.94363777,  4.89385124,  4.91451698,\n         5.24815697,  5.17083951,  5.35510503,  5.69071716,  5.59009704,\n         5.20672197],\n       [ 2.52523564,  3.88409368,  4.4624093 ,  4.58464571,  4.62077944,\n         4.59210201,  4.70010308,  4.90299493,  4.64576783,  4.80335678,\n         5.33813102,  5.34992593,  5.05110799,  5.18975411,  5.0919464 ,\n         4.64015056],\n       [ 3.77166451,  4.63502247,  4.75914684,  4.51564768,  4.65067061,\n         4.54718094,  4.39374504,  4.41559174,  4.12570376,  4.44023521,\n         4.77229279,  5.22582034,  5.40361072,  4.79287348,  3.94783458,\n         2.94760927],\n       [ 4.78901139,  4.94906841,  4.89252811,  4.79160275,  4.93699635,\n         4.68013681,  3.5709969 ,  3.65469791,  5.58955671,  4.76465181,\n         3.88764272,  4.92362805,  5.3782151 ,  5.10912204,  4.44738646,\n         4.43957728],\n       [ 6.13915702,  5.81508809,  5.25200496,  5.30546916,  5.37379943,\n         4.20787995,  3.23767027,  4.45325392,  5.63733469,  5.12776707,\n         4.73498487,  4.10866524,  4.92818401,  5.17542169,  5.11283531,\n         5.04790917],\n       [ 6.23696623,  5.91553812,  5.50815206,  5.22782961,  5.16766649,\n         4.70218631,  6.13837228,  6.76136657,  6.89627152,  7.05038379,\n         7.30640757,  6.29130725,  4.84799582,  5.22122533,  5.1977074 ,\n         5.12960046],\n       [ 6.11841926,  5.81603921,  5.2344866 ,  3.87611895,  4.7662865 ,\n         6.79834117,  8.09048053,  9.94563862,  9.78373269,  9.26103407,\n         8.80095442,  8.55443168,  7.04506456,  5.36374089,  5.27726015,\n         5.22194769],\n       [ 5.92532535,  5.68427257,  4.6407501 ,  4.04060203,  7.64928977,\n         7.57858664,  8.05247271, 11.03801863, 11.73106096, 11.07644725,\n         9.82074339, 10.7852571 ,  9.45944241,  5.8285952 ,  5.34322338,\n         5.11135344],\n       [ 5.59033792,  5.42200829,  4.7939571 ,  6.7830936 ,  9.52669622,\n         8.45082175,  9.74046078, 10.86866026, 11.22377651, 10.19826164,\n         8.74622329, 10.28542839,  9.3359508 ,  5.92454711,  5.37979459,\n         5.10625204],\n       [ 5.17841279,  5.08533572,  6.00935669,  9.9832959 , 10.71334842,\n         8.47646894,  8.94224638,  8.20103881,  7.06260493,  6.91253519,\n         8.8300468 , 10.39460494,  9.06760007,  5.01565058,  4.40735455,\n         4.89693375],\n       [ 5.08241525,  4.89108814,  6.33926816,  9.08737368,  9.44748816,\n         7.53458421,  7.46011051,  6.29316702,  5.77126956,  5.70382213,\n         7.07642965,  8.02393615,  7.21666501,  5.00266167,  4.96240971,\n         5.9217283 ],\n       [ 5.23523282,  5.42749259,  5.70714432,  6.30073699,  7.37764   ,\n         8.38042942,  8.85789459,  7.2054849 ,  5.66523213,  5.77146804,\n         5.6471967 ,  5.17348671,  4.84268143,  5.14449799,  5.42375972,\n         6.50445422],\n       [ 5.67471985,  5.27214332,  5.67898265,  6.34839719,  6.98529583,\n         7.77383869,  8.12066872,  7.33842506,  5.75587354,  5.36949075,\n         5.1616166 ,  5.24744673,  5.33925539,  5.16321055,  7.18207511,\n         6.90014648],\n       [ 6.69489242,  5.82335779,  5.0479658 ,  5.63183036,  5.76191689,\n         5.48082949,  5.94625468,  5.62307699,  5.48391734,  5.62212228,\n         5.40453554,  5.71343799,  5.71593253,  6.05627424,  7.36260922,\n         6.29654364],\n       [ 7.02333074,  6.40814856,  6.27294139,  5.95089516,  5.45380434,\n         5.32903895,  5.39462415,  5.2159756 ,  5.45460884,  5.724809  ,\n         5.39828214,  5.2040298 ,  5.52144093,  5.20775171,  5.82480013,\n         4.30523529],\n       [ 7.07920903,  6.89347073,  7.16595507,  7.03725048,  6.29655787,\n         5.97057558,  5.98837613,  5.8108008 ,  5.89006979,  5.77967839,\n         5.4665575 ,  4.8181465 ,  4.78864659,  4.25808534,  6.17528342,\n         5.59704004]])"
     },
     "execution_count": 16,
     "metadata": {},
     "output_type": "execute_result"
    }
   ],
   "source": [
    "o1 = m.forward(o)\n",
    "o1[:, :, 0]"
   ],
   "metadata": {
    "collapsed": false,
    "pycharm": {
     "name": "#%%\n"
    }
   }
  }
 ],
 "metadata": {
  "kernelspec": {
   "display_name": "Python 3",
   "language": "python",
   "name": "python3"
  },
  "language_info": {
   "codemirror_mode": {
    "name": "ipython",
    "version": 2
   },
   "file_extension": ".py",
   "mimetype": "text/x-python",
   "name": "python",
   "nbconvert_exporter": "python",
   "pygments_lexer": "ipython2",
   "version": "2.7.6"
  }
 },
 "nbformat": 4,
 "nbformat_minor": 0
}