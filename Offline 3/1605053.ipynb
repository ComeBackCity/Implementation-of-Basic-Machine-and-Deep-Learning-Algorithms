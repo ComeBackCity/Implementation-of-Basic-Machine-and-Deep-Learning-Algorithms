{
 "cells": [
  {
   "cell_type": "code",
   "execution_count": 1,
   "metadata": {
    "collapsed": true
   },
   "outputs": [],
   "source": [
    "import numpy as np\n",
    "import matplotlib.pyplot as plt\n",
    "import pandas as pd\n",
    "import pickle\n",
    "from mlxtend.data import loadlocal_mnist"
   ]
  },
  {
   "cell_type": "code",
   "execution_count": 2,
   "outputs": [],
   "source": [
    "def process_mnist_data() -> (np.ndarray, np.ndarray, np.ndarray, np.ndarray):\n",
    "    mnist_path = './MNIST/'\n",
    "    train_images, train_labels = loadlocal_mnist(\n",
    "        images_path = mnist_path + './train-images.idx3-ubyte',\n",
    "        labels_path = mnist_path + './train-labels.idx1-ubyte'\n",
    "    )\n",
    "    test_images, test_labels = loadlocal_mnist(\n",
    "        images_path = mnist_path + './t10k-images.idx3-ubyte',\n",
    "        labels_path = mnist_path + './t10k-labels.idx1-ubyte'\n",
    "    )\n",
    "    return train_images, train_labels, test_images, test_labels"
   ],
   "metadata": {
    "collapsed": false,
    "pycharm": {
     "name": "#%%\n"
    }
   }
  },
  {
   "cell_type": "code",
   "execution_count": 3,
   "outputs": [],
   "source": [
    "def unpickle(file):\n",
    "    with open(file, 'rb') as fo:\n",
    "        data_dict = pickle.load(fo, encoding='bytes')\n",
    "    return data_dict"
   ],
   "metadata": {
    "collapsed": false,
    "pycharm": {
     "name": "#%%\n"
    }
   }
  },
  {
   "cell_type": "code",
   "execution_count": 4,
   "outputs": [],
   "source": [
    "def process_cifar_dataset() -> (np.ndarray, np.ndarray, np.ndarray, np.ndarray):\n",
    "    cifar_path = './cifar-10-python/cifar-10-batches-py'\n",
    "    data_batch = unpickle(cifar_path + '/data_batch_1')\n",
    "    train_images, train_labels = data_batch[b'data'], np.array(data_batch[b'labels'])\n",
    "    for i in range(2,6):\n",
    "        data_batch = unpickle(cifar_path + '/data_batch_' + str(i))\n",
    "        train_images = np.concatenate((train_images, data_batch[b'data']), axis=0)\n",
    "        train_labels = np.concatenate((train_labels, np.array(data_batch[b'labels'])), axis=0)\n",
    "    test_batch = unpickle(cifar_path + '/test_batch')\n",
    "    test_images, test_labels = test_batch[b'data'], np.array(test_batch[b'labels'])\n",
    "    return train_images, train_labels, test_images, test_labels"
   ],
   "metadata": {
    "collapsed": false,
    "pycharm": {
     "name": "#%%\n"
    }
   }
  },
  {
   "cell_type": "code",
   "execution_count": 5,
   "outputs": [],
   "source": [
    "def process_toy_dataset():\n",
    "    toy_dataset_path = './Toy Dataset/'"
   ],
   "metadata": {
    "collapsed": false,
    "pycharm": {
     "name": "#%%\n"
    }
   }
  },
  {
   "cell_type": "code",
   "execution_count": 6,
   "outputs": [],
   "source": [
    "def relu(matrix:np.ndarray) -> np.ndarray:\n",
    "    return matrix * (matrix > 0)"
   ],
   "metadata": {
    "collapsed": false,
    "pycharm": {
     "name": "#%%\n"
    }
   }
  },
  {
   "cell_type": "code",
   "execution_count": 7,
   "outputs": [],
   "source": [
    "class ConvolutionLayer:\n",
    "    def __init__(self, output_channel_count: int, filter_dimension: int, stride: int, padding: int):\n",
    "        self.output_channel_count = output_channel_count\n",
    "        self.filter_dimension = filter_dimension\n",
    "        self.stride = stride\n",
    "        self.padding = padding\n",
    "\n",
    "    def forward(self, input_image: np.ndarray) -> np.ndarray:\n",
    "        input_dimentions = input_image.shape[0]\n",
    "        output_dimentions = (input_dimentions - self.filter_dimension + 2 * self.padding) // self.stride + 1\n",
    "        input_shape = input_image.shape\n",
    "\n",
    "        filters = np.random.rand(\n",
    "            self.output_channel_count,\n",
    "            self.filter_dimension,\n",
    "            self.filter_dimension,\n",
    "            input_shape[2]\n",
    "        )\n",
    "\n",
    "        bias = np.random.rand(self.output_channel_count)\n",
    "\n",
    "        # Pad the image\n",
    "        padded_image = np.zeros((\n",
    "            input_shape[0]+ 2*self.padding,\n",
    "            input_shape[1]+ 2*self.padding,\n",
    "            input_shape[2]\n",
    "        ))\n",
    "\n",
    "        # Padding variables\n",
    "        x_min = self.padding\n",
    "        x_max = x_min + input_shape[0]\n",
    "        y_min = self.padding\n",
    "        y_max = y_min + input_shape[1]\n",
    "\n",
    "        padded_image[x_min:x_max, y_min:y_max, :] = input_image\n",
    "        padded_image /= 255.0\n",
    "        padded_dimensions = padded_image.shape\n",
    "\n",
    "        output = np.zeros((output_dimentions, output_dimentions, self.output_channel_count))\n",
    "\n",
    "        for i in range(self.output_channel_count):\n",
    "            image_y = out_y = 0\n",
    "            while image_y + self.filter_dimension <= padded_dimensions[1]:\n",
    "                image_x = out_x = 0\n",
    "                while image_x + self.filter_dimension <= padded_dimensions[0]:\n",
    "                    image_slice = padded_image[image_x:image_x+self.filter_dimension, image_y:image_y+self.filter_dimension, :]\n",
    "                    output[out_x, out_y, i] = np.sum(image_slice * filters[i, :, :, :]) + bias[i]\n",
    "                    image_x += self.stride\n",
    "                    out_x += 1\n",
    "                image_y += self.stride\n",
    "                out_y += 1\n",
    "\n",
    "        return output\n",
    "\n",
    "    def backward(self):\n",
    "        pass"
   ],
   "metadata": {
    "collapsed": false,
    "pycharm": {
     "name": "#%%\n"
    }
   }
  },
  {
   "cell_type": "code",
   "execution_count": 8,
   "outputs": [],
   "source": [
    "class ActivationLayer:\n",
    "    def __init__(self):\n",
    "        pass\n",
    "\n",
    "    def forward(self, input_matrix: np.ndarray) -> np.ndarray:\n",
    "        return relu(input_matrix)\n",
    "\n",
    "    def backward(self):\n",
    "        pass"
   ],
   "metadata": {
    "collapsed": false,
    "pycharm": {
     "name": "#%%\n"
    }
   }
  },
  {
   "cell_type": "code",
   "execution_count": 9,
   "outputs": [],
   "source": [
    "class MaxPoolingLayer:\n",
    "    def __init__(self, filter_dimension: int, stride: int):\n",
    "        self.filter_dimension = filter_dimension\n",
    "        self.stride = stride\n",
    "\n",
    "    def forward(self, image: np.ndarray) -> np.ndarray:\n",
    "        input_dimensions = image.shape\n",
    "\n",
    "        output_dimension = (input_dimensions[0] - self.filter_dimension) // self.stride + 1\n",
    "\n",
    "        output = np.zeros((output_dimension, output_dimension, input_dimensions[2]))\n",
    "\n",
    "        image_y = out_y = 0\n",
    "        while image_y + self.filter_dimension <= input_dimensions[1]:\n",
    "            image_x = out_x = 0\n",
    "            while image_x + self.filter_dimension <= input_dimensions[0]:\n",
    "                image_slice = image[image_x: image_x+self.filter_dimension, image_y: image_y+self.filter_dimension, :]\n",
    "                output[out_x, out_y, :] = np.max(image_slice, axis=(0, 1))\n",
    "                image_x += self.stride\n",
    "                out_x += 1\n",
    "            image_y += self.stride\n",
    "            out_y += 1\n",
    "\n",
    "        return output\n",
    "\n",
    "    def backward(self):\n",
    "        pass"
   ],
   "metadata": {
    "collapsed": false,
    "pycharm": {
     "name": "#%%\n"
    }
   }
  },
  {
   "cell_type": "code",
   "execution_count": 10,
   "outputs": [],
   "source": [
    "class FlatteningLayer:\n",
    "    def __init__(self):\n",
    "        pass\n",
    "\n",
    "    def forward(self, image: np.ndarray) -> np.ndarray:\n",
    "        return image.flatten().reshape(-1, 1)\n",
    "\n",
    "    def backward(self):\n",
    "        pass"
   ],
   "metadata": {
    "collapsed": false,
    "pycharm": {
     "name": "#%%\n"
    }
   }
  },
  {
   "cell_type": "code",
   "execution_count": 11,
   "outputs": [],
   "source": [
    "class FullyConnectedLayer:\n",
    "    def __init__(self, output_dimension: int):\n",
    "        self.output_dimension = output_dimension\n",
    "\n",
    "    def forward(self, flattened_input: np.ndarray) -> np.ndarray:\n",
    "        weights = np.random.rand(flattened_input.shape[0], self.output_dimension)\n",
    "        bias = np.random.rand(self.output_dimension, 1)\n",
    "\n",
    "        return weights.T @ flattened_input + bias\n",
    "\n",
    "    def backward(self):\n",
    "        pass"
   ],
   "metadata": {
    "collapsed": false,
    "pycharm": {
     "name": "#%%\n"
    }
   }
  },
  {
   "cell_type": "code",
   "execution_count": 12,
   "outputs": [],
   "source": [
    "class SoftmaxLayer:\n",
    "    def __init__(self):\n",
    "        pass\n",
    "\n",
    "    def forward(self, input_matrix: np.ndarray):\n",
    "        exp = np.exp(input_matrix)\n",
    "        exp /= np.sum(exp)\n",
    "        return exp\n",
    "\n",
    "    def backward(self):\n",
    "        pass"
   ],
   "metadata": {
    "collapsed": false,
    "pycharm": {
     "name": "#%%\n"
    }
   }
  },
  {
   "cell_type": "code",
   "execution_count": 13,
   "outputs": [
    {
     "name": "stdout",
     "output_type": "stream",
     "text": [
      "(28, 28, 10)\n"
     ]
    },
    {
     "data": {
      "text/plain": "array([[0.2086563 , 0.2086563 , 0.2086563 , 0.2086563 , 0.2086563 ,\n        0.2086563 , 0.2086563 , 0.2086563 , 0.2086563 , 0.2086563 ,\n        0.2086563 , 0.2086563 , 0.2086563 , 0.2086563 , 0.2086563 ,\n        0.2086563 , 0.2086563 , 0.2086563 , 0.2086563 , 0.2086563 ,\n        0.2086563 , 0.2086563 , 0.2086563 , 0.2086563 , 0.2086563 ,\n        0.2086563 , 0.2086563 , 0.2086563 ],\n       [0.2086563 , 0.2086563 , 0.2086563 , 0.2086563 , 0.2086563 ,\n        0.2086563 , 0.2086563 , 0.2086563 , 0.2086563 , 0.2086563 ,\n        0.2086563 , 0.2086563 , 0.2086563 , 0.2086563 , 0.2086563 ,\n        0.2086563 , 0.2086563 , 0.2086563 , 0.2086563 , 0.2086563 ,\n        0.2086563 , 0.2086563 , 0.2086563 , 0.2086563 , 0.2086563 ,\n        0.2086563 , 0.2086563 , 0.2086563 ],\n       [0.2086563 , 0.2086563 , 0.2086563 , 0.2086563 , 0.2086563 ,\n        0.2086563 , 0.2086563 , 0.2086563 , 0.2086563 , 0.2086563 ,\n        0.2086563 , 0.2086563 , 0.2086563 , 0.2086563 , 0.2086563 ,\n        0.2086563 , 0.2086563 , 0.2086563 , 0.2086563 , 0.2086563 ,\n        0.2086563 , 0.2086563 , 0.2086563 , 0.2086563 , 0.2086563 ,\n        0.2086563 , 0.2086563 , 0.2086563 ],\n       [0.2086563 , 0.2086563 , 0.2086563 , 0.2086563 , 0.2086563 ,\n        0.2086563 , 0.2086563 , 0.2086563 , 0.2086563 , 0.2086563 ,\n        0.2086563 , 0.2086563 , 0.2086563 , 0.2086563 , 0.2086563 ,\n        0.2086563 , 0.2086563 , 0.2086563 , 0.2086563 , 0.2086563 ,\n        0.2086563 , 0.2086563 , 0.2086563 , 0.2086563 , 0.2086563 ,\n        0.2086563 , 0.2086563 , 0.2086563 ],\n       [0.2086563 , 0.2086563 , 0.2086563 , 0.2086563 , 0.2086563 ,\n        0.2086563 , 0.2086563 , 0.2086563 , 0.2086563 , 0.2086563 ,\n        0.2086563 , 0.21847429, 0.27584925, 0.3243965 , 0.36000674,\n        0.71345419, 1.04444226, 1.45608654, 1.09990565, 1.23917454,\n        1.56334832, 2.11531874, 1.91179329, 1.14577153, 0.51015628,\n        0.2086563 , 0.2086563 , 0.2086563 ],\n       [0.2086563 , 0.2086563 , 0.2086563 , 0.2086563 , 0.2086563 ,\n        0.2086563 , 0.2086563 , 0.30683615, 0.40932253, 0.68692745,\n        1.05770868, 1.41900419, 1.90902947, 2.20588351, 2.44941679,\n        2.6488286 , 2.81382947, 3.14250093, 2.70051779, 2.92996611,\n        2.88432476, 3.43231898, 2.89110454, 1.78618851, 0.75420856,\n        0.2086563 , 0.2086563 , 0.2086563 ],\n       [0.2086563 , 0.2086563 , 0.2086563 , 0.2086563 , 0.2086563 ,\n        0.2086563 , 0.36901672, 1.17826425, 1.91742159, 2.61574818,\n        2.85943445, 3.16092867, 3.58304342, 3.78588022, 4.06406869,\n        4.45218808, 4.74396534, 4.48490699, 3.44521561, 3.22618538,\n        3.49223593, 3.89708834, 2.99462622, 1.64587083, 0.58433818,\n        0.2086563 , 0.2086563 , 0.2086563 ],\n       [0.2086563 , 0.2086563 , 0.2086563 , 0.2086563 , 0.2086563 ,\n        0.2086563 , 0.35803809, 1.5888192 , 2.82836959, 4.27046923,\n        4.76258596, 5.04683779, 5.46776206, 5.51175398, 5.42338828,\n        5.46135354, 5.57954972, 4.53350994, 3.35432196, 2.40079564,\n        2.40195337, 2.2527556 , 1.47677755, 0.75728807, 0.29801672,\n        0.2086563 , 0.2086563 , 0.2086563 ],\n       [0.2086563 , 0.2086563 , 0.2086563 , 0.2086563 , 0.2086563 ,\n        0.2086563 , 0.41798281, 1.87360031, 3.31604095, 4.52492224,\n        5.17415484, 5.46103338, 5.6505519 , 4.7815426 , 3.9916569 ,\n        3.56928775, 4.04552957, 3.12583751, 2.19228068, 0.8324101 ,\n        0.72361513, 0.59935536, 0.38159703, 0.26311031, 0.2086563 ,\n        0.2086563 , 0.2086563 , 0.2086563 ],\n       [0.2086563 , 0.2086563 , 0.2086563 , 0.2086563 , 0.2086563 ,\n        0.2086563 , 0.27334287, 1.18711956, 2.11745656, 2.73741717,\n        3.72158169, 4.48347882, 4.95054081, 3.81989139, 2.56095219,\n        1.92841495, 2.27163164, 1.48126225, 1.02245137, 0.2086563 ,\n        0.2086563 , 0.2086563 , 0.2086563 , 0.2086563 , 0.2086563 ,\n        0.2086563 , 0.2086563 , 0.2086563 ],\n       [0.2086563 , 0.2086563 , 0.2086563 , 0.2086563 , 0.2086563 ,\n        0.2086563 , 0.2086563 , 0.49615215, 0.98948259, 1.10472587,\n        2.37962794, 3.77297146, 4.55052864, 3.13762233, 1.25713961,\n        0.38329217, 0.86655415, 0.64283777, 0.42367981, 0.2086563 ,\n        0.2086563 , 0.2086563 , 0.2086563 , 0.2086563 , 0.2086563 ,\n        0.2086563 , 0.2086563 , 0.2086563 ],\n       [0.2086563 , 0.2086563 , 0.2086563 , 0.2086563 , 0.2086563 ,\n        0.2086563 , 0.2086563 , 0.2086563 , 0.25896808, 0.24626295,\n        1.07671254, 2.80132372, 3.86549238, 3.20503848, 1.71984981,\n        0.38103606, 0.2086563 , 0.2086563 , 0.2086563 , 0.2086563 ,\n        0.2086563 , 0.2086563 , 0.2086563 , 0.2086563 , 0.2086563 ,\n        0.2086563 , 0.2086563 , 0.2086563 ],\n       [0.2086563 , 0.2086563 , 0.2086563 , 0.2086563 , 0.2086563 ,\n        0.2086563 , 0.2086563 , 0.2086563 , 0.2086563 , 0.2086563 ,\n        0.7284908 , 1.93584717, 3.34460095, 3.57710291, 3.07505443,\n        1.75787189, 0.89003291, 0.46781167, 0.21103032, 0.2086563 ,\n        0.2086563 , 0.2086563 , 0.2086563 , 0.2086563 , 0.2086563 ,\n        0.2086563 , 0.2086563 , 0.2086563 ],\n       [0.2086563 , 0.2086563 , 0.2086563 , 0.2086563 , 0.2086563 ,\n        0.2086563 , 0.2086563 , 0.2086563 , 0.2086563 , 0.2086563 ,\n        0.24818698, 0.98280759, 2.35238316, 3.20021346, 3.76270495,\n        3.51669971, 2.54171052, 1.55582348, 0.56330549, 0.26800669,\n        0.2086563 , 0.2086563 , 0.2086563 , 0.2086563 , 0.2086563 ,\n        0.2086563 , 0.2086563 , 0.2086563 ],\n       [0.2086563 , 0.2086563 , 0.2086563 , 0.2086563 , 0.2086563 ,\n        0.2086563 , 0.2086563 , 0.2086563 , 0.2086563 , 0.2086563 ,\n        0.2086563 , 0.33443574, 1.30932876, 2.35192569, 3.4435971 ,\n        4.30239596, 4.01342153, 3.14386495, 1.71603354, 0.71680732,\n        0.27275472, 0.2086563 , 0.2086563 , 0.2086563 , 0.2086563 ,\n        0.2086563 , 0.2086563 , 0.2086563 ],\n       [0.2086563 , 0.2086563 , 0.2086563 , 0.2086563 , 0.2086563 ,\n        0.2086563 , 0.2086563 , 0.2086563 , 0.2086563 , 0.2086563 ,\n        0.2086563 , 0.2086563 , 0.49974585, 1.35102129, 2.27088885,\n        3.27515002, 4.11064565, 4.08994004, 3.38200045, 1.86215696,\n        0.7362792 , 0.2086563 , 0.2086563 , 0.2086563 , 0.2086563 ,\n        0.2086563 , 0.2086563 , 0.2086563 ],\n       [0.2086563 , 0.2086563 , 0.2086563 , 0.2086563 , 0.2086563 ,\n        0.2086563 , 0.2086563 , 0.2086563 , 0.2086563 , 0.2086563 ,\n        0.2086563 , 0.2086563 , 0.2086563 , 0.37037272, 1.01595397,\n        1.82600466, 3.44818895, 4.32856603, 4.59767696, 3.0192828 ,\n        1.59380786, 0.3605933 , 0.2086563 , 0.2086563 , 0.2086563 ,\n        0.2086563 , 0.2086563 , 0.2086563 ],\n       [0.2086563 , 0.2086563 , 0.2086563 , 0.2086563 , 0.2086563 ,\n        0.2086563 , 0.2086563 , 0.2086563 , 0.2086563 , 0.2086563 ,\n        0.2086563 , 0.2086563 , 0.2086563 , 0.35919874, 0.81863876,\n        1.64886237, 3.46429934, 4.62606955, 5.39873394, 3.435214  ,\n        1.82527135, 0.41176163, 0.2086563 , 0.2086563 , 0.2086563 ,\n        0.2086563 , 0.2086563 , 0.2086563 ],\n       [0.2086563 , 0.2086563 , 0.2086563 , 0.2086563 , 0.2086563 ,\n        0.2086563 , 0.2086563 , 0.2086563 , 0.2086563 , 0.2086563 ,\n        0.2086563 , 0.33629011, 0.80071574, 1.54434573, 2.3228653 ,\n        2.93584277, 4.34915389, 5.2178975 , 5.46210117, 3.56166639,\n        1.7881583 , 0.30421539, 0.2086563 , 0.2086563 , 0.2086563 ,\n        0.2086563 , 0.2086563 , 0.2086563 ],\n       [0.2086563 , 0.2086563 , 0.2086563 , 0.2086563 , 0.2086563 ,\n        0.2086563 , 0.2086563 , 0.2086563 , 0.2086563 , 0.28720018,\n        0.64802005, 1.37573224, 2.24379287, 3.16982289, 4.15146247,\n        4.89384366, 5.29565696, 4.98803934, 4.07243807, 2.27895043,\n        1.06661895, 0.21144882, 0.2086563 , 0.2086563 , 0.2086563 ,\n        0.2086563 , 0.2086563 , 0.2086563 ],\n       [0.2086563 , 0.2086563 , 0.2086563 , 0.2086563 , 0.2086563 ,\n        0.2086563 , 0.2086563 , 0.28392752, 0.48817061, 1.1869202 ,\n        2.02461656, 3.01828168, 4.08291067, 5.06831624, 5.42272842,\n        5.0593393 , 4.28460867, 3.47368705, 2.5568824 , 1.24163672,\n        0.46277499, 0.2086563 , 0.2086563 , 0.2086563 , 0.2086563 ,\n        0.2086563 , 0.2086563 , 0.2086563 ],\n       [0.2086563 , 0.2086563 , 0.2086563 , 0.2086563 , 0.2086563 ,\n        0.26756421, 0.81799168, 1.4828161 , 2.20047398, 2.89562224,\n        3.76465994, 4.91122527, 5.34600175, 5.03661155, 4.29209436,\n        3.50289463, 2.64753454, 1.58430601, 0.68500324, 0.31756431,\n        0.2086563 , 0.2086563 , 0.2086563 , 0.2086563 , 0.2086563 ,\n        0.2086563 , 0.2086563 , 0.2086563 ],\n       [0.2086563 , 0.2086563 , 0.2086563 , 0.38865269, 0.9234465 ,\n        1.58709296, 2.40926823, 3.04669478, 3.92330381, 4.7830596 ,\n        5.41990588, 5.33421488, 4.55579627, 3.62832395, 2.6437715 ,\n        1.59419704, 0.71698569, 0.32661207, 0.21144882, 0.2086563 ,\n        0.2086563 , 0.2086563 , 0.2086563 , 0.2086563 , 0.2086563 ,\n        0.2086563 , 0.2086563 , 0.2086563 ],\n       [0.2086563 , 0.2086563 , 0.2086563 , 0.75529059, 1.80443518,\n        2.94402186, 4.30109172, 4.94025383, 5.11114079, 4.94096199,\n        4.40110408, 3.80410213, 2.87233219, 1.75029314, 0.74172197,\n        0.34222229, 0.22122261, 0.2086563 , 0.2086563 , 0.2086563 ,\n        0.2086563 , 0.2086563 , 0.2086563 , 0.2086563 , 0.2086563 ,\n        0.2086563 , 0.2086563 , 0.2086563 ],\n       [0.2086563 , 0.2086563 , 0.2086563 , 0.65742086, 1.61206313,\n        2.74742549, 3.50163208, 3.56692371, 3.40681968, 3.1697325 ,\n        2.68048708, 2.06348924, 0.96158591, 0.42108288, 0.22401513,\n        0.2086563 , 0.2086563 , 0.2086563 , 0.2086563 , 0.2086563 ,\n        0.2086563 , 0.2086563 , 0.2086563 , 0.2086563 , 0.2086563 ,\n        0.2086563 , 0.2086563 , 0.2086563 ],\n       [0.2086563 , 0.2086563 , 0.2086563 , 0.69739924, 1.44827342,\n        1.92241538, 2.08577739, 1.93843577, 1.56211167, 1.30701284,\n        0.77534362, 0.4318341 , 0.23099641, 0.2086563 , 0.2086563 ,\n        0.2086563 , 0.2086563 , 0.2086563 , 0.2086563 , 0.2086563 ,\n        0.2086563 , 0.2086563 , 0.2086563 , 0.2086563 , 0.2086563 ,\n        0.2086563 , 0.2086563 , 0.2086563 ],\n       [0.2086563 , 0.2086563 , 0.2086563 , 0.2086563 , 0.2086563 ,\n        0.2086563 , 0.2086563 , 0.2086563 , 0.2086563 , 0.2086563 ,\n        0.2086563 , 0.2086563 , 0.2086563 , 0.2086563 , 0.2086563 ,\n        0.2086563 , 0.2086563 , 0.2086563 , 0.2086563 , 0.2086563 ,\n        0.2086563 , 0.2086563 , 0.2086563 , 0.2086563 , 0.2086563 ,\n        0.2086563 , 0.2086563 , 0.2086563 ],\n       [0.2086563 , 0.2086563 , 0.2086563 , 0.2086563 , 0.2086563 ,\n        0.2086563 , 0.2086563 , 0.2086563 , 0.2086563 , 0.2086563 ,\n        0.2086563 , 0.2086563 , 0.2086563 , 0.2086563 , 0.2086563 ,\n        0.2086563 , 0.2086563 , 0.2086563 , 0.2086563 , 0.2086563 ,\n        0.2086563 , 0.2086563 , 0.2086563 , 0.2086563 , 0.2086563 ,\n        0.2086563 , 0.2086563 , 0.2086563 ]])"
     },
     "execution_count": 13,
     "metadata": {},
     "output_type": "execute_result"
    },
    {
     "data": {
      "text/plain": "<Figure size 432x288 with 1 Axes>",
      "image/png": "[encoded data removed]"
     },
     "metadata": {
      "needs_background": "light"
     },
     "output_type": "display_data"
    }
   ],
   "source": [
    "x_train, y_train, x_test, y_test = process_mnist_data()\n",
    "c = ConvolutionLayer(10, 3, 1, 1)\n",
    "img = x_train[0].reshape(28, 28, 1)\n",
    "plt.imshow(img, cmap='gray')\n",
    "o = c.forward(img)\n",
    "print(o.shape)\n",
    "o [:, :, 0]"
   ],
   "metadata": {
    "collapsed": false,
    "pycharm": {
     "name": "#%%\n"
    }
   }
  },
  {
   "cell_type": "code",
   "execution_count": 14,
   "outputs": [
    {
     "data": {
      "text/plain": "array([[0.2086563 , 0.2086563 , 0.2086563 , 0.2086563 , 0.2086563 ,\n        0.2086563 , 0.2086563 , 0.2086563 , 0.2086563 , 0.2086563 ,\n        0.2086563 , 0.2086563 , 0.2086563 , 0.2086563 ],\n       [0.2086563 , 0.2086563 , 0.2086563 , 0.2086563 , 0.2086563 ,\n        0.2086563 , 0.2086563 , 0.2086563 , 0.2086563 , 0.2086563 ,\n        0.2086563 , 0.2086563 , 0.2086563 , 0.2086563 ],\n       [0.2086563 , 0.2086563 , 0.2086563 , 0.30683615, 0.68692745,\n        1.41900419, 2.20588351, 2.6488286 , 3.14250093, 2.92996611,\n        3.43231898, 2.89110454, 0.75420856, 0.2086563 ],\n       [0.2086563 , 0.2086563 , 0.2086563 , 1.5888192 , 4.27046923,\n        5.04683779, 5.51175398, 5.46135354, 5.57954972, 3.44521561,\n        3.89708834, 2.99462622, 0.58433818, 0.2086563 ],\n       [0.2086563 , 0.2086563 , 0.2086563 , 1.87360031, 4.52492224,\n        5.46103338, 5.6505519 , 3.9916569 , 4.04552957, 2.19228068,\n        0.72361513, 0.38159703, 0.2086563 , 0.2086563 ],\n       [0.2086563 , 0.2086563 , 0.2086563 , 0.49615215, 1.10472587,\n        3.77297146, 4.55052864, 1.71984981, 0.86655415, 0.42367981,\n        0.2086563 , 0.2086563 , 0.2086563 , 0.2086563 ],\n       [0.2086563 , 0.2086563 , 0.2086563 , 0.2086563 , 0.2086563 ,\n        1.93584717, 3.57710291, 3.76270495, 2.54171052, 0.56330549,\n        0.2086563 , 0.2086563 , 0.2086563 , 0.2086563 ],\n       [0.2086563 , 0.2086563 , 0.2086563 , 0.2086563 , 0.2086563 ,\n        0.33443574, 2.35192569, 4.30239596, 4.11064565, 3.38200045,\n        0.7362792 , 0.2086563 , 0.2086563 , 0.2086563 ],\n       [0.2086563 , 0.2086563 , 0.2086563 , 0.2086563 , 0.2086563 ,\n        0.2086563 , 0.37037272, 1.82600466, 4.62606955, 5.39873394,\n        1.82527135, 0.2086563 , 0.2086563 , 0.2086563 ],\n       [0.2086563 , 0.2086563 , 0.2086563 , 0.2086563 , 0.28720018,\n        1.37573224, 3.16982289, 4.89384366, 5.29565696, 5.46210117,\n        1.7881583 , 0.2086563 , 0.2086563 , 0.2086563 ],\n       [0.2086563 , 0.2086563 , 0.26756421, 1.4828161 , 2.89562224,\n        4.91122527, 5.34600175, 5.42272842, 4.28460867, 2.5568824 ,\n        0.46277499, 0.2086563 , 0.2086563 , 0.2086563 ],\n       [0.2086563 , 0.75529059, 2.94402186, 4.94025383, 5.11114079,\n        5.41990588, 4.55579627, 2.6437715 , 0.71698569, 0.21144882,\n        0.2086563 , 0.2086563 , 0.2086563 , 0.2086563 ],\n       [0.2086563 , 0.69739924, 2.74742549, 3.56692371, 3.40681968,\n        2.68048708, 0.96158591, 0.22401513, 0.2086563 , 0.2086563 ,\n        0.2086563 , 0.2086563 , 0.2086563 , 0.2086563 ],\n       [0.2086563 , 0.2086563 , 0.2086563 , 0.2086563 , 0.2086563 ,\n        0.2086563 , 0.2086563 , 0.2086563 , 0.2086563 , 0.2086563 ,\n        0.2086563 , 0.2086563 , 0.2086563 , 0.2086563 ]])"
     },
     "execution_count": 14,
     "metadata": {},
     "output_type": "execute_result"
    }
   ],
   "source": [
    "m = MaxPoolingLayer(2, 2)\n",
    "o1 = m.forward(o)\n",
    "o1[:, :, 0]"
   ],
   "metadata": {
    "collapsed": false,
    "pycharm": {
     "name": "#%%\n"
    }
   }
  },
  {
   "cell_type": "code",
   "execution_count": 15,
   "outputs": [
    {
     "data": {
      "text/plain": "array([[0.2086563 ],\n       [0.79036034],\n       [0.3854135 ],\n       ...,\n       [0.89679375],\n       [0.48449396],\n       [0.22178741]])"
     },
     "execution_count": 15,
     "metadata": {},
     "output_type": "execute_result"
    }
   ],
   "source": [
    "f = FlatteningLayer()\n",
    "o2 = f.forward(o1)\n",
    "o2"
   ],
   "metadata": {
    "collapsed": false,
    "pycharm": {
     "name": "#%%\n"
    }
   }
  },
  {
   "cell_type": "code",
   "execution_count": 16,
   "outputs": [
    {
     "data": {
      "text/plain": "array([[1488.99514374],\n       [1435.25537592],\n       [1459.56712431],\n       [1462.9758307 ],\n       [1484.73735746],\n       [1454.18000156],\n       [1465.20843982],\n       [1445.76490326],\n       [1436.53270312],\n       [1457.5992538 ]])"
     },
     "execution_count": 16,
     "metadata": {},
     "output_type": "execute_result"
    }
   ],
   "source": [
    "fc = FullyConnectedLayer(10)\n",
    "o3 = fc.forward(o2)\n",
    "o3"
   ],
   "metadata": {
    "collapsed": false,
    "pycharm": {
     "name": "#%%\n"
    }
   }
  },
  {
   "cell_type": "code",
   "execution_count": 17,
   "outputs": [
    {
     "data": {
      "text/plain": "array([[7.80134161e-05],\n       [2.12062451e-04],\n       [5.76445508e-04],\n       [1.56694135e-03],\n       [4.25938820e-03],\n       [1.15782175e-02],\n       [3.14728583e-02],\n       [8.55520989e-02],\n       [2.32554716e-01],\n       [6.32149258e-01]])"
     },
     "execution_count": 17,
     "metadata": {},
     "output_type": "execute_result"
    }
   ],
   "source": [
    "s = SoftmaxLayer()\n",
    "o3 = np.arange(1, 11).reshape(10, 1)\n",
    "o4 = s.forward(o3)\n",
    "o4"
   ],
   "metadata": {
    "collapsed": false,
    "pycharm": {
     "name": "#%%\n"
    }
   }
  },
  {
   "cell_type": "code",
   "execution_count": 18,
   "outputs": [
    {
     "name": "stdout",
     "output_type": "stream",
     "text": [
      "(32, 32, 10)\n"
     ]
    },
    {
     "data": {
      "text/plain": "array([[1.52152808, 1.96643033, 1.90516528, ..., 4.73927418, 4.64530332,\n        3.69138818],\n       [1.79643964, 2.44402125, 2.43424072, ..., 6.43976695, 6.23435148,\n        4.96189837],\n       [1.46392305, 1.9911288 , 2.25805257, ..., 5.61186672, 5.27760122,\n        4.16556934],\n       ...,\n       [5.12048081, 7.92081402, 7.105016  , ..., 6.48126773, 5.14183588,\n        2.49937522],\n       [5.05993216, 7.95848639, 7.39300447, ..., 6.98697885, 6.27786227,\n        3.59686117],\n       [3.3717981 , 5.40819435, 5.06072237, ..., 5.20047503, 4.99603202,\n        3.17025004]])"
     },
     "execution_count": 18,
     "metadata": {},
     "output_type": "execute_result"
    },
    {
     "data": {
      "text/plain": "<Figure size 432x288 with 1 Axes>",
      "image/png": "[encoded data removed]"
     },
     "metadata": {
      "needs_background": "light"
     },
     "output_type": "display_data"
    }
   ],
   "source": [
    "x_train, y_train, x_test, y_test = process_cifar_dataset()\n",
    "c = ConvolutionLayer(10, 3, 1, 1)\n",
    "img = x_train[0].reshape(3, 32, 32)\n",
    "img = img.transpose(1, 2, 0)\n",
    "plt.imshow(img)\n",
    "o = c.forward(img)\n",
    "print(o.shape)\n",
    "o[:, :, 0]"
   ],
   "metadata": {
    "collapsed": false,
    "pycharm": {
     "name": "#%%\n"
    }
   }
  },
  {
   "cell_type": "code",
   "execution_count": 19,
   "outputs": [
    {
     "data": {
      "text/plain": "array([[ 2.44402125,  3.20643232,  5.17454759,  5.90424264,  5.8801886 ,\n         5.57412696,  5.65659028,  5.7044555 ,  5.67929015,  5.58785847,\n         5.97041746,  5.9809918 ,  6.26369791,  6.70059591,  6.61982133,\n         6.23435148],\n       [ 2.51151777,  4.08371002,  5.04251589,  5.20863878,  5.08947627,\n         5.19065739,  5.17837698,  5.46226751,  5.21381288,  5.35371192,\n         5.93738155,  6.01946075,  5.67463154,  5.84182322,  5.84997835,\n         5.27760122],\n       [ 3.88108372,  5.06364969,  5.28530775,  5.09079539,  5.1941793 ,\n         5.23307347,  5.00585271,  5.14622109,  4.54863593,  4.96207347,\n         5.42847382,  5.78544605,  6.06788421,  5.4697534 ,  4.70600144,\n         3.64411452],\n       [ 5.21012152,  5.47962179,  5.46954766,  5.29656958,  5.54705286,\n         5.3154548 ,  4.14353248,  3.83580876,  5.97536929,  5.38668822,\n         4.13173335,  5.56979541,  6.16160523,  5.89843058,  4.83642275,\n         4.82375232],\n       [ 6.71476881,  6.43136774,  5.83716938,  5.76226037,  5.8362152 ,\n         5.04319853,  3.37506975,  4.5554078 ,  6.56776513,  6.14233458,\n         5.13524438,  4.51096154,  5.55815806,  5.89883975,  5.7082673 ,\n         5.57531406],\n       [ 7.08976217,  6.8163712 ,  6.21333412,  5.74966565,  5.87086536,\n         5.00810567,  6.17613821,  7.27073716,  7.31198124,  7.46944974,\n         8.12460185,  7.38399003,  5.1794835 ,  5.82612968,  5.85998055,\n         5.70925642],\n       [ 6.93884077,  6.61569956,  5.93261505,  4.70923426,  4.96913295,\n         7.37149761,  8.47713285, 10.94656602, 10.68980134, 10.34655718,\n         9.69208499,  9.2708495 ,  7.67907821,  6.00824339,  5.88889158,\n         5.8125393 ],\n       [ 6.85622385,  6.5428713 ,  5.56292798,  4.39430128,  7.43142525,\n         8.72529312,  8.56680639, 12.17250633, 13.21866629, 12.57209128,\n        11.07051286, 12.23402948, 11.45757507,  6.63246686,  6.04040072,\n         5.74526242],\n       [ 6.34876322,  6.06580553,  5.59246   ,  6.50668768, 10.88480662,\n        10.38370127, 10.53312717, 12.1169713 , 13.07684949, 12.06108793,\n        10.66761654, 12.00623887, 11.68986347,  6.69814037,  6.04298795,\n         5.64257618],\n       [ 5.99706083,  5.79883388,  6.16680494, 10.21782888, 12.20360971,\n        10.33259562, 10.61562937, 10.0317725 ,  9.02430384,  8.06903024,\n         9.55682927, 11.62077383, 11.11877868,  5.94609196,  4.98357314,\n         5.30318027],\n       [ 5.77263129,  5.51602516,  6.45959755, 10.44197628, 11.58902704,\n         8.97668533,  8.57725841,  7.35783693,  6.50091915,  6.56195659,\n         7.91695846,  9.96295315,  9.15549883,  5.71921811,  5.43728212,\n         6.12400487],\n       [ 5.87632809,  5.91114762,  6.45045206,  7.0886385 ,  8.56000713,\n         9.29045216,  9.89081532,  8.25513383,  6.35223765,  6.49517274,\n         6.36214645,  5.91237061,  5.60633048,  5.64076016,  5.5325836 ,\n         6.67763761],\n       [ 6.4646846 ,  5.84419606,  6.39205878,  6.92415335,  7.86375507,\n         8.67083102,  9.41805101,  8.43247139,  6.68675514,  6.11274455,\n         6.03493301,  5.45285879,  5.87418914,  5.80707599,  7.33113166,\n         7.88478431],\n       [ 7.6538323 ,  6.42893625,  5.64784694,  6.42992604,  6.65142505,\n         6.41910927,  6.96128246,  6.66496237,  6.18063695,  6.34276007,\n         6.05611117,  6.40697636,  6.45859024,  6.30480237,  8.05046046,\n         7.74362412],\n       [ 7.98708723,  7.105016  ,  6.91058494,  6.596254  ,  6.32262029,\n         5.8901008 ,  6.0929086 ,  5.90766521,  5.98039005,  6.46990741,\n         6.22188459,  5.82308827,  6.18652582,  5.67454062,  7.10315193,\n         5.39215504],\n       [ 7.95848639,  7.47097548,  7.73035317,  7.62632887,  6.89436673,\n         6.58223556,  6.60913608,  6.38017559,  6.47451825,  6.45797861,\n         6.26894505,  5.36890234,  5.40996622,  4.39018289,  6.98697885,\n         6.27786227]])"
     },
     "execution_count": 19,
     "metadata": {},
     "output_type": "execute_result"
    }
   ],
   "source": [
    "o1 = m.forward(o)\n",
    "o1[:, :, 0]"
   ],
   "metadata": {
    "collapsed": false,
    "pycharm": {
     "name": "#%%\n"
    }
   }
  }
 ],
 "metadata": {
  "kernelspec": {
   "display_name": "Python 3",
   "language": "python",
   "name": "python3"
  },
  "language_info": {
   "codemirror_mode": {
    "name": "ipython",
    "version": 2
   },
   "file_extension": ".py",
   "mimetype": "text/x-python",
   "name": "python",
   "nbconvert_exporter": "python",
   "pygments_lexer": "ipython2",
   "version": "2.7.6"
  }
 },
 "nbformat": 4,
 "nbformat_minor": 0
}