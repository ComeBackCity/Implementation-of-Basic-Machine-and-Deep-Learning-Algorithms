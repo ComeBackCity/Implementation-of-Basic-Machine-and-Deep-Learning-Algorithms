{
 "cells": [
  {
   "cell_type": "code",
   "execution_count": 20,
   "metadata": {},
   "outputs": [],
   "source": [
    "# Imports\n",
    "import pandas as pd\n",
    "from IPython.display import display\n",
    "from sklearn.preprocessing import MinMaxScaler\n",
    "import utils"
   ]
  },
  {
   "cell_type": "code",
   "execution_count": 21,
   "metadata": {
    "pycharm": {
     "name": "#%%\n"
    }
   },
   "outputs": [],
   "source": [
    "# Reading data\n",
    "column_names = ['C'+str(i) for i in range(15)]\n",
    "adult_data = pd.read_csv('adult.csv',\n",
    "                         names=column_names,\n",
    "                         header=None,\n",
    "                         sep=' *, * ',\n",
    "                         engine=\"python\",\n",
    "                         converters={\n",
    "                            'C9': lambda x: float(x == 'Male'),\n",
    "                            'C14': lambda x: float(x == '>50K')\n",
    "                         })"
   ]
  },
  {
   "cell_type": "code",
   "execution_count": 22,
   "metadata": {
    "pycharm": {
     "name": "#%%\n"
    }
   },
   "outputs": [
    {
     "data": {
      "text/plain": "       C0                C1      C2          C3  C4                  C5  \\\n0      39         State-gov   77516   Bachelors  13       Never-married   \n1      50  Self-emp-not-inc   83311   Bachelors  13  Married-civ-spouse   \n2      38           Private  215646     HS-grad   9            Divorced   \n3      53           Private  234721        11th   7  Married-civ-spouse   \n4      28           Private  338409   Bachelors  13  Married-civ-spouse   \n...    ..               ...     ...         ...  ..                 ...   \n32556  27           Private  257302  Assoc-acdm  12  Married-civ-spouse   \n32557  40           Private  154374     HS-grad   9  Married-civ-spouse   \n32558  58           Private  151910     HS-grad   9             Widowed   \n32559  22           Private  201490     HS-grad   9       Never-married   \n32560  52      Self-emp-inc  287927     HS-grad   9  Married-civ-spouse   \n\n                      C6             C7     C8   C9    C10  C11  C12  \\\n0           Adm-clerical  Not-in-family  White  1.0   2174    0   40   \n1        Exec-managerial        Husband  White  1.0      0    0   13   \n2      Handlers-cleaners  Not-in-family  White  1.0      0    0   40   \n3      Handlers-cleaners        Husband  Black  1.0      0    0   40   \n4         Prof-specialty           Wife  Black  0.0      0    0   40   \n...                  ...            ...    ...  ...    ...  ...  ...   \n32556       Tech-support           Wife  White  0.0      0    0   38   \n32557  Machine-op-inspct        Husband  White  1.0      0    0   40   \n32558       Adm-clerical      Unmarried  White  0.0      0    0   40   \n32559       Adm-clerical      Own-child  White  1.0      0    0   20   \n32560    Exec-managerial           Wife  White  0.0  15024    0   40   \n\n                 C13  C14  \n0      United-States  0.0  \n1      United-States  0.0  \n2      United-States  0.0  \n3      United-States  0.0  \n4               Cuba  0.0  \n...              ...  ...  \n32556  United-States  0.0  \n32557  United-States  1.0  \n32558  United-States  0.0  \n32559  United-States  0.0  \n32560  United-States  1.0  \n\n[32561 rows x 15 columns]",
      "text/html": "<div>\n<style scoped>\n    .dataframe tbody tr th:only-of-type {\n        vertical-align: middle;\n    }\n\n    .dataframe tbody tr th {\n        vertical-align: top;\n    }\n\n    .dataframe thead th {\n        text-align: right;\n    }\n</style>\n<table border=\"1\" class=\"dataframe\">\n  <thead>\n    <tr style=\"text-align: right;\">\n      <th></th>\n      <th>C0</th>\n      <th>C1</th>\n      <th>C2</th>\n      <th>C3</th>\n      <th>C4</th>\n      <th>C5</th>\n      <th>C6</th>\n      <th>C7</th>\n      <th>C8</th>\n      <th>C9</th>\n      <th>C10</th>\n      <th>C11</th>\n      <th>C12</th>\n      <th>C13</th>\n      <th>C14</th>\n    </tr>\n  </thead>\n  <tbody>\n    <tr>\n      <th>0</th>\n      <td>39</td>\n      <td>State-gov</td>\n      <td>77516</td>\n      <td>Bachelors</td>\n      <td>13</td>\n      <td>Never-married</td>\n      <td>Adm-clerical</td>\n      <td>Not-in-family</td>\n      <td>White</td>\n      <td>1.0</td>\n      <td>2174</td>\n      <td>0</td>\n      <td>40</td>\n      <td>United-States</td>\n      <td>0.0</td>\n    </tr>\n    <tr>\n      <th>1</th>\n      <td>50</td>\n      <td>Self-emp-not-inc</td>\n      <td>83311</td>\n      <td>Bachelors</td>\n      <td>13</td>\n      <td>Married-civ-spouse</td>\n      <td>Exec-managerial</td>\n      <td>Husband</td>\n      <td>White</td>\n      <td>1.0</td>\n      <td>0</td>\n      <td>0</td>\n      <td>13</td>\n      <td>United-States</td>\n      <td>0.0</td>\n    </tr>\n    <tr>\n      <th>2</th>\n      <td>38</td>\n      <td>Private</td>\n      <td>215646</td>\n      <td>HS-grad</td>\n      <td>9</td>\n      <td>Divorced</td>\n      <td>Handlers-cleaners</td>\n      <td>Not-in-family</td>\n      <td>White</td>\n      <td>1.0</td>\n      <td>0</td>\n      <td>0</td>\n      <td>40</td>\n      <td>United-States</td>\n      <td>0.0</td>\n    </tr>\n    <tr>\n      <th>3</th>\n      <td>53</td>\n      <td>Private</td>\n      <td>234721</td>\n      <td>11th</td>\n      <td>7</td>\n      <td>Married-civ-spouse</td>\n      <td>Handlers-cleaners</td>\n      <td>Husband</td>\n      <td>Black</td>\n      <td>1.0</td>\n      <td>0</td>\n      <td>0</td>\n      <td>40</td>\n      <td>United-States</td>\n      <td>0.0</td>\n    </tr>\n    <tr>\n      <th>4</th>\n      <td>28</td>\n      <td>Private</td>\n      <td>338409</td>\n      <td>Bachelors</td>\n      <td>13</td>\n      <td>Married-civ-spouse</td>\n      <td>Prof-specialty</td>\n      <td>Wife</td>\n      <td>Black</td>\n      <td>0.0</td>\n      <td>0</td>\n      <td>0</td>\n      <td>40</td>\n      <td>Cuba</td>\n      <td>0.0</td>\n    </tr>\n    <tr>\n      <th>...</th>\n      <td>...</td>\n      <td>...</td>\n      <td>...</td>\n      <td>...</td>\n      <td>...</td>\n      <td>...</td>\n      <td>...</td>\n      <td>...</td>\n      <td>...</td>\n      <td>...</td>\n      <td>...</td>\n      <td>...</td>\n      <td>...</td>\n      <td>...</td>\n      <td>...</td>\n    </tr>\n    <tr>\n      <th>32556</th>\n      <td>27</td>\n      <td>Private</td>\n      <td>257302</td>\n      <td>Assoc-acdm</td>\n      <td>12</td>\n      <td>Married-civ-spouse</td>\n      <td>Tech-support</td>\n      <td>Wife</td>\n      <td>White</td>\n      <td>0.0</td>\n      <td>0</td>\n      <td>0</td>\n      <td>38</td>\n      <td>United-States</td>\n      <td>0.0</td>\n    </tr>\n    <tr>\n      <th>32557</th>\n      <td>40</td>\n      <td>Private</td>\n      <td>154374</td>\n      <td>HS-grad</td>\n      <td>9</td>\n      <td>Married-civ-spouse</td>\n      <td>Machine-op-inspct</td>\n      <td>Husband</td>\n      <td>White</td>\n      <td>1.0</td>\n      <td>0</td>\n      <td>0</td>\n      <td>40</td>\n      <td>United-States</td>\n      <td>1.0</td>\n    </tr>\n    <tr>\n      <th>32558</th>\n      <td>58</td>\n      <td>Private</td>\n      <td>151910</td>\n      <td>HS-grad</td>\n      <td>9</td>\n      <td>Widowed</td>\n      <td>Adm-clerical</td>\n      <td>Unmarried</td>\n      <td>White</td>\n      <td>0.0</td>\n      <td>0</td>\n      <td>0</td>\n      <td>40</td>\n      <td>United-States</td>\n      <td>0.0</td>\n    </tr>\n    <tr>\n      <th>32559</th>\n      <td>22</td>\n      <td>Private</td>\n      <td>201490</td>\n      <td>HS-grad</td>\n      <td>9</td>\n      <td>Never-married</td>\n      <td>Adm-clerical</td>\n      <td>Own-child</td>\n      <td>White</td>\n      <td>1.0</td>\n      <td>0</td>\n      <td>0</td>\n      <td>20</td>\n      <td>United-States</td>\n      <td>0.0</td>\n    </tr>\n    <tr>\n      <th>32560</th>\n      <td>52</td>\n      <td>Self-emp-inc</td>\n      <td>287927</td>\n      <td>HS-grad</td>\n      <td>9</td>\n      <td>Married-civ-spouse</td>\n      <td>Exec-managerial</td>\n      <td>Wife</td>\n      <td>White</td>\n      <td>0.0</td>\n      <td>15024</td>\n      <td>0</td>\n      <td>40</td>\n      <td>United-States</td>\n      <td>1.0</td>\n    </tr>\n  </tbody>\n</table>\n<p>32561 rows × 15 columns</p>\n</div>"
     },
     "metadata": {},
     "output_type": "display_data"
    }
   ],
   "source": [
    "# Preprocessing\n",
    "display(adult_data)\n",
    "# Find out which columns have missing values\n",
    "all_columns = list(adult_data.columns)\n",
    "missing_value_columns = []\n",
    "for column in all_columns:\n",
    "    if '?' in adult_data[column].values.tolist():\n",
    "        missing_value_columns.append(column)\n",
    "\n",
    "for column in missing_value_columns:\n",
    "    adult_data[column].replace(['?'], adult_data[column].mode(), inplace=True)\n",
    "\n",
    "columns_to_encode = ['C1', 'C3', 'C5', 'C6', 'C7', 'C8', 'C13']\n",
    "\n",
    "for column in columns_to_encode:\n",
    "    adult_data = utils.encode_and_bind(adult_data, column)\n",
    "\n",
    "adult_data.insert(len(adult_data.columns)-1, 'C14', adult_data.pop('C14'))\n",
    "\n",
    "all_columns = list(adult_data.columns)\n",
    "adult_data[all_columns] = MinMaxScaler().fit_transform(adult_data[all_columns])"
   ]
  },
  {
   "cell_type": "code",
   "execution_count": 23,
   "metadata": {
    "pycharm": {
     "name": "#%%\n"
    }
   },
   "outputs": [
    {
     "data": {
      "text/plain": "             C0        C2        C4   C9       C10  C11       C12  \\\n0      0.301370  0.044302  0.800000  1.0  0.021740  0.0  0.397959   \n1      0.452055  0.048238  0.800000  1.0  0.000000  0.0  0.122449   \n2      0.287671  0.138113  0.533333  1.0  0.000000  0.0  0.397959   \n3      0.493151  0.151068  0.400000  1.0  0.000000  0.0  0.397959   \n4      0.150685  0.221488  0.800000  0.0  0.000000  0.0  0.397959   \n...         ...       ...       ...  ...       ...  ...       ...   \n32556  0.136986  0.166404  0.733333  0.0  0.000000  0.0  0.377551   \n32557  0.315068  0.096500  0.533333  1.0  0.000000  0.0  0.397959   \n32558  0.561644  0.094827  0.533333  0.0  0.000000  0.0  0.397959   \n32559  0.068493  0.128499  0.533333  1.0  0.000000  0.0  0.193878   \n32560  0.479452  0.187203  0.533333  0.0  0.150242  0.0  0.397959   \n\n       C1_Federal-gov  C1_Local-gov  C1_Never-worked  ...  C13_Portugal  \\\n0                 0.0           0.0              0.0  ...           0.0   \n1                 0.0           0.0              0.0  ...           0.0   \n2                 0.0           0.0              0.0  ...           0.0   \n3                 0.0           0.0              0.0  ...           0.0   \n4                 0.0           0.0              0.0  ...           0.0   \n...               ...           ...              ...  ...           ...   \n32556             0.0           0.0              0.0  ...           0.0   \n32557             0.0           0.0              0.0  ...           0.0   \n32558             0.0           0.0              0.0  ...           0.0   \n32559             0.0           0.0              0.0  ...           0.0   \n32560             0.0           0.0              0.0  ...           0.0   \n\n       C13_Puerto-Rico  C13_Scotland  C13_South  C13_Taiwan  C13_Thailand  \\\n0                  0.0           0.0        0.0         0.0           0.0   \n1                  0.0           0.0        0.0         0.0           0.0   \n2                  0.0           0.0        0.0         0.0           0.0   \n3                  0.0           0.0        0.0         0.0           0.0   \n4                  0.0           0.0        0.0         0.0           0.0   \n...                ...           ...        ...         ...           ...   \n32556              0.0           0.0        0.0         0.0           0.0   \n32557              0.0           0.0        0.0         0.0           0.0   \n32558              0.0           0.0        0.0         0.0           0.0   \n32559              0.0           0.0        0.0         0.0           0.0   \n32560              0.0           0.0        0.0         0.0           0.0   \n\n       C13_Trinadad&Tobago  C13_United-States  C13_Vietnam  C14  \n0                      0.0                1.0          0.0  0.0  \n1                      0.0                1.0          0.0  0.0  \n2                      0.0                1.0          0.0  0.0  \n3                      0.0                1.0          0.0  0.0  \n4                      0.0                0.0          0.0  0.0  \n...                    ...                ...          ...  ...  \n32556                  0.0                1.0          0.0  0.0  \n32557                  0.0                1.0          0.0  1.0  \n32558                  0.0                1.0          0.0  0.0  \n32559                  0.0                1.0          0.0  0.0  \n32560                  0.0                1.0          0.0  1.0  \n\n[32561 rows x 98 columns]",
      "text/html": "<div>\n<style scoped>\n    .dataframe tbody tr th:only-of-type {\n        vertical-align: middle;\n    }\n\n    .dataframe tbody tr th {\n        vertical-align: top;\n    }\n\n    .dataframe thead th {\n        text-align: right;\n    }\n</style>\n<table border=\"1\" class=\"dataframe\">\n  <thead>\n    <tr style=\"text-align: right;\">\n      <th></th>\n      <th>C0</th>\n      <th>C2</th>\n      <th>C4</th>\n      <th>C9</th>\n      <th>C10</th>\n      <th>C11</th>\n      <th>C12</th>\n      <th>C1_Federal-gov</th>\n      <th>C1_Local-gov</th>\n      <th>C1_Never-worked</th>\n      <th>...</th>\n      <th>C13_Portugal</th>\n      <th>C13_Puerto-Rico</th>\n      <th>C13_Scotland</th>\n      <th>C13_South</th>\n      <th>C13_Taiwan</th>\n      <th>C13_Thailand</th>\n      <th>C13_Trinadad&amp;Tobago</th>\n      <th>C13_United-States</th>\n      <th>C13_Vietnam</th>\n      <th>C14</th>\n    </tr>\n  </thead>\n  <tbody>\n    <tr>\n      <th>0</th>\n      <td>0.301370</td>\n      <td>0.044302</td>\n      <td>0.800000</td>\n      <td>1.0</td>\n      <td>0.021740</td>\n      <td>0.0</td>\n      <td>0.397959</td>\n      <td>0.0</td>\n      <td>0.0</td>\n      <td>0.0</td>\n      <td>...</td>\n      <td>0.0</td>\n      <td>0.0</td>\n      <td>0.0</td>\n      <td>0.0</td>\n      <td>0.0</td>\n      <td>0.0</td>\n      <td>0.0</td>\n      <td>1.0</td>\n      <td>0.0</td>\n      <td>0.0</td>\n    </tr>\n    <tr>\n      <th>1</th>\n      <td>0.452055</td>\n      <td>0.048238</td>\n      <td>0.800000</td>\n      <td>1.0</td>\n      <td>0.000000</td>\n      <td>0.0</td>\n      <td>0.122449</td>\n      <td>0.0</td>\n      <td>0.0</td>\n      <td>0.0</td>\n      <td>...</td>\n      <td>0.0</td>\n      <td>0.0</td>\n      <td>0.0</td>\n      <td>0.0</td>\n      <td>0.0</td>\n      <td>0.0</td>\n      <td>0.0</td>\n      <td>1.0</td>\n      <td>0.0</td>\n      <td>0.0</td>\n    </tr>\n    <tr>\n      <th>2</th>\n      <td>0.287671</td>\n      <td>0.138113</td>\n      <td>0.533333</td>\n      <td>1.0</td>\n      <td>0.000000</td>\n      <td>0.0</td>\n      <td>0.397959</td>\n      <td>0.0</td>\n      <td>0.0</td>\n      <td>0.0</td>\n      <td>...</td>\n      <td>0.0</td>\n      <td>0.0</td>\n      <td>0.0</td>\n      <td>0.0</td>\n      <td>0.0</td>\n      <td>0.0</td>\n      <td>0.0</td>\n      <td>1.0</td>\n      <td>0.0</td>\n      <td>0.0</td>\n    </tr>\n    <tr>\n      <th>3</th>\n      <td>0.493151</td>\n      <td>0.151068</td>\n      <td>0.400000</td>\n      <td>1.0</td>\n      <td>0.000000</td>\n      <td>0.0</td>\n      <td>0.397959</td>\n      <td>0.0</td>\n      <td>0.0</td>\n      <td>0.0</td>\n      <td>...</td>\n      <td>0.0</td>\n      <td>0.0</td>\n      <td>0.0</td>\n      <td>0.0</td>\n      <td>0.0</td>\n      <td>0.0</td>\n      <td>0.0</td>\n      <td>1.0</td>\n      <td>0.0</td>\n      <td>0.0</td>\n    </tr>\n    <tr>\n      <th>4</th>\n      <td>0.150685</td>\n      <td>0.221488</td>\n      <td>0.800000</td>\n      <td>0.0</td>\n      <td>0.000000</td>\n      <td>0.0</td>\n      <td>0.397959</td>\n      <td>0.0</td>\n      <td>0.0</td>\n      <td>0.0</td>\n      <td>...</td>\n      <td>0.0</td>\n      <td>0.0</td>\n      <td>0.0</td>\n      <td>0.0</td>\n      <td>0.0</td>\n      <td>0.0</td>\n      <td>0.0</td>\n      <td>0.0</td>\n      <td>0.0</td>\n      <td>0.0</td>\n    </tr>\n    <tr>\n      <th>...</th>\n      <td>...</td>\n      <td>...</td>\n      <td>...</td>\n      <td>...</td>\n      <td>...</td>\n      <td>...</td>\n      <td>...</td>\n      <td>...</td>\n      <td>...</td>\n      <td>...</td>\n      <td>...</td>\n      <td>...</td>\n      <td>...</td>\n      <td>...</td>\n      <td>...</td>\n      <td>...</td>\n      <td>...</td>\n      <td>...</td>\n      <td>...</td>\n      <td>...</td>\n      <td>...</td>\n    </tr>\n    <tr>\n      <th>32556</th>\n      <td>0.136986</td>\n      <td>0.166404</td>\n      <td>0.733333</td>\n      <td>0.0</td>\n      <td>0.000000</td>\n      <td>0.0</td>\n      <td>0.377551</td>\n      <td>0.0</td>\n      <td>0.0</td>\n      <td>0.0</td>\n      <td>...</td>\n      <td>0.0</td>\n      <td>0.0</td>\n      <td>0.0</td>\n      <td>0.0</td>\n      <td>0.0</td>\n      <td>0.0</td>\n      <td>0.0</td>\n      <td>1.0</td>\n      <td>0.0</td>\n      <td>0.0</td>\n    </tr>\n    <tr>\n      <th>32557</th>\n      <td>0.315068</td>\n      <td>0.096500</td>\n      <td>0.533333</td>\n      <td>1.0</td>\n      <td>0.000000</td>\n      <td>0.0</td>\n      <td>0.397959</td>\n      <td>0.0</td>\n      <td>0.0</td>\n      <td>0.0</td>\n      <td>...</td>\n      <td>0.0</td>\n      <td>0.0</td>\n      <td>0.0</td>\n      <td>0.0</td>\n      <td>0.0</td>\n      <td>0.0</td>\n      <td>0.0</td>\n      <td>1.0</td>\n      <td>0.0</td>\n      <td>1.0</td>\n    </tr>\n    <tr>\n      <th>32558</th>\n      <td>0.561644</td>\n      <td>0.094827</td>\n      <td>0.533333</td>\n      <td>0.0</td>\n      <td>0.000000</td>\n      <td>0.0</td>\n      <td>0.397959</td>\n      <td>0.0</td>\n      <td>0.0</td>\n      <td>0.0</td>\n      <td>...</td>\n      <td>0.0</td>\n      <td>0.0</td>\n      <td>0.0</td>\n      <td>0.0</td>\n      <td>0.0</td>\n      <td>0.0</td>\n      <td>0.0</td>\n      <td>1.0</td>\n      <td>0.0</td>\n      <td>0.0</td>\n    </tr>\n    <tr>\n      <th>32559</th>\n      <td>0.068493</td>\n      <td>0.128499</td>\n      <td>0.533333</td>\n      <td>1.0</td>\n      <td>0.000000</td>\n      <td>0.0</td>\n      <td>0.193878</td>\n      <td>0.0</td>\n      <td>0.0</td>\n      <td>0.0</td>\n      <td>...</td>\n      <td>0.0</td>\n      <td>0.0</td>\n      <td>0.0</td>\n      <td>0.0</td>\n      <td>0.0</td>\n      <td>0.0</td>\n      <td>0.0</td>\n      <td>1.0</td>\n      <td>0.0</td>\n      <td>0.0</td>\n    </tr>\n    <tr>\n      <th>32560</th>\n      <td>0.479452</td>\n      <td>0.187203</td>\n      <td>0.533333</td>\n      <td>0.0</td>\n      <td>0.150242</td>\n      <td>0.0</td>\n      <td>0.397959</td>\n      <td>0.0</td>\n      <td>0.0</td>\n      <td>0.0</td>\n      <td>...</td>\n      <td>0.0</td>\n      <td>0.0</td>\n      <td>0.0</td>\n      <td>0.0</td>\n      <td>0.0</td>\n      <td>0.0</td>\n      <td>0.0</td>\n      <td>1.0</td>\n      <td>0.0</td>\n      <td>1.0</td>\n    </tr>\n  </tbody>\n</table>\n<p>32561 rows × 98 columns</p>\n</div>"
     },
     "metadata": {},
     "output_type": "display_data"
    }
   ],
   "source": [
    "display(adult_data)\n",
    "adult_data.to_csv('adult-data.csv')"
   ]
  },
  {
   "cell_type": "code",
   "execution_count": 24,
   "metadata": {
    "pycharm": {
     "name": "#%%\n"
    }
   },
   "outputs": [
    {
     "name": "stdout",
     "output_type": "stream",
     "text": [
      "(32561, 98)\n"
     ]
    }
   ],
   "source": [
    "print(adult_data.shape)\n"
   ]
  },
  {
   "cell_type": "code",
   "execution_count": 24,
   "metadata": {},
   "outputs": [],
   "source": []
  }
 ],
 "metadata": {
  "kernelspec": {
   "display_name": "Python 3 (ipykernel)",
   "language": "python",
   "name": "python3"
  },
  "language_info": {
   "codemirror_mode": {
    "name": "ipython",
    "version": 3
   },
   "file_extension": ".py",
   "mimetype": "text/x-python",
   "name": "python",
   "nbconvert_exporter": "python",
   "pygments_lexer": "ipython3",
   "version": "3.8.10"
  }
 },
 "nbformat": 4,
 "nbformat_minor": 1
}