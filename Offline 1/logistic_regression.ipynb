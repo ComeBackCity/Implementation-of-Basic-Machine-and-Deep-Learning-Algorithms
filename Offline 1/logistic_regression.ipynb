{
 "cells": [
  {
   "cell_type": "code",
   "execution_count": 1,
   "metadata": {},
   "outputs": [],
   "source": [
    "#imports\n",
    "import numpy as np\n",
    "import pandas as pd\n",
    "\n",
    "from preprocessor_1 import preprocess\n",
    "from sklearn.model_selection import train_test_split\n",
    "from IPython.core.display import display\n"
   ]
  },
  {
   "cell_type": "code",
   "execution_count": 2,
   "metadata": {
    "pycharm": {
     "name": "#%%\n"
    }
   },
   "outputs": [],
   "source": [
    "# tanh function\n",
    "def tanh_function(z):\n",
    "    return (np.exp(z) - np.exp(-z)) / (np.exp(z) + np.exp(-z))"
   ]
  },
  {
   "cell_type": "code",
   "execution_count": 3,
   "metadata": {
    "pycharm": {
     "name": "#%%\n"
    }
   },
   "outputs": [],
   "source": [
    "# loss function\n",
    "def loss(h, y, size):\n",
    "    error = np.sum((y-h) ** 2) / size\n",
    "    return error"
   ]
  },
  {
   "cell_type": "code",
   "execution_count": 4,
   "metadata": {
    "pycharm": {
     "name": "#%%\n"
    }
   },
   "outputs": [],
   "source": [
    "# training function\n",
    "def train(x, y, early_terminate_threshold=0.0, learning_rate=0.00005, no_of_iterations=5000):\n",
    "    no_of_data, no_of_features = x.shape\n",
    "    w = np.random.rand(no_of_features, 1)\n",
    "    for i in range(no_of_iterations):\n",
    "        z = np.dot(x, w)\n",
    "        h = tanh_function(z)\n",
    "        error = loss(h, y, no_of_data)\n",
    "        if error < early_terminate_threshold:\n",
    "            return w\n",
    "        gradient = np.dot(x.T, (y - h) * (1 - h ** 2))\n",
    "        w += learning_rate * gradient\n",
    "\n",
    "    return w"
   ]
  },
  {
   "cell_type": "code",
   "execution_count": 5,
   "metadata": {
    "pycharm": {
     "name": "#%%\n"
    }
   },
   "outputs": [],
   "source": [
    "def logistic_regression(max_parameters_to_use=100):\n",
    "    data = preprocess()\n",
    "    data.insert(0, 'Ones', 1)\n",
    "\n",
    "    training_set, test_set = train_test_split(data, test_size=0.2, random_state=44)\n",
    "\n",
    "    display(training_set)\n",
    "    display(test_set)\n",
    "\n",
    "    y_training = training_set.pop('Churn').to_frame().to_numpy()\n",
    "    x_training = training_set.to_numpy()\n",
    "\n",
    "    y_test = test_set.pop('Churn').to_frame().to_numpy()\n",
    "    x_test = test_set.to_numpy()\n",
    "\n",
    "    w = train(x_training, y_training, no_of_iterations=100000, early_terminate_threshold=0.5)\n",
    "    z = np.dot(x_test, w)\n",
    "    h_test = tanh_function(z)\n",
    "    test_set_error = loss(h_test, y_test, y_test.shape[0])\n",
    "    display(test_set_error)\n"
   ]
  },
  {
   "cell_type": "code",
   "execution_count": 6,
   "metadata": {
    "pycharm": {
     "name": "#%%\n"
    }
   },
   "outputs": [
    {
     "data": {
      "text/plain": "      Ones  gender  SeniorCitizen  Partner  Dependents    tenure  \\\n3505     1     0.0            0.0      0.0         0.0  0.125000   \n6514     1     0.0            0.0      1.0         0.0  1.000000   \n5519     1     0.0            0.0      1.0         0.0  0.013889   \n4767     1     0.0            0.0      1.0         1.0  0.013889   \n1058     1     0.0            0.0      1.0         1.0  0.027778   \n...    ...     ...            ...      ...         ...       ...   \n571      1     0.0            1.0      0.0         0.0  0.652778   \n1197     1     0.0            0.0      1.0         0.0  0.208333   \n2801     1     1.0            0.0      1.0         1.0  0.861111   \n3491     1     0.0            0.0      1.0         0.0  0.611111   \n5908     1     0.0            0.0      0.0         0.0  0.013889   \n\n      PhoneService  MultipleLines  OnlineSecurity  OnlineBackup  ...  \\\n3505           0.0            0.0             0.0           0.0  ...   \n6514           0.0            0.0             1.0           1.0  ...   \n5519           1.0            0.0             1.0           0.0  ...   \n4767           1.0            0.0             0.0           0.0  ...   \n1058           1.0            0.0             0.0           0.0  ...   \n...            ...            ...             ...           ...  ...   \n571            1.0            1.0             0.0           1.0  ...   \n1197           1.0            0.0             0.0           0.0  ...   \n2801           1.0            1.0             0.0           1.0  ...   \n3491           1.0            0.0             0.0           1.0  ...   \n5908           1.0            0.0             0.0           0.0  ...   \n\n      MonthlyCharges  TotalCharges  InternetService_DSL  \\\n3505        0.066667      0.019784                  1.0   \n6514        0.462189      0.545494                  1.0   \n5519        0.372637      0.004258                  1.0   \n4767        0.015920      0.000121                  0.0   \n1058        0.709453      0.019242                  0.0   \n...              ...           ...                  ...   \n571         0.411443      0.315624                  1.0   \n1197        0.011940      0.037162                  0.0   \n2801        0.873632      0.771371                  0.0   \n3491        0.524378      0.372911                  1.0   \n5908        0.019403      0.000162                  0.0   \n\n      InternetService_Fiber optic  Contract_Month-to-month  Contract_One year  \\\n3505                          0.0                      1.0                0.0   \n6514                          0.0                      0.0                0.0   \n5519                          0.0                      1.0                0.0   \n4767                          0.0                      0.0                1.0   \n1058                          1.0                      1.0                0.0   \n...                           ...                      ...                ...   \n571                           0.0                      0.0                0.0   \n1197                          0.0                      1.0                0.0   \n2801                          1.0                      0.0                1.0   \n3491                          0.0                      0.0                1.0   \n5908                          0.0                      1.0                0.0   \n\n      PaymentMethod_Bank transfer (automatic)  \\\n3505                                      0.0   \n6514                                      0.0   \n5519                                      0.0   \n4767                                      0.0   \n1058                                      1.0   \n...                                       ...   \n571                                       1.0   \n1197                                      0.0   \n2801                                      0.0   \n3491                                      0.0   \n5908                                      0.0   \n\n      PaymentMethod_Credit card (automatic)  PaymentMethod_Electronic check  \\\n3505                                    0.0                             1.0   \n6514                                    0.0                             1.0   \n5519                                    0.0                             0.0   \n4767                                    1.0                             0.0   \n1058                                    0.0                             0.0   \n...                                     ...                             ...   \n571                                     0.0                             0.0   \n1197                                    1.0                             0.0   \n2801                                    1.0                             0.0   \n3491                                    0.0                             1.0   \n5908                                    0.0                             0.0   \n\n      Churn  \n3505    0.0  \n6514    0.0  \n5519    0.0  \n4767    0.0  \n1058    1.0  \n...     ...  \n571     0.0  \n1197    0.0  \n2801    0.0  \n3491    0.0  \n5908    1.0  \n\n[5634 rows x 25 columns]",
      "text/html": "<div>\n<style scoped>\n    .dataframe tbody tr th:only-of-type {\n        vertical-align: middle;\n    }\n\n    .dataframe tbody tr th {\n        vertical-align: top;\n    }\n\n    .dataframe thead th {\n        text-align: right;\n    }\n</style>\n<table border=\"1\" class=\"dataframe\">\n  <thead>\n    <tr style=\"text-align: right;\">\n      <th></th>\n      <th>Ones</th>\n      <th>gender</th>\n      <th>SeniorCitizen</th>\n      <th>Partner</th>\n      <th>Dependents</th>\n      <th>tenure</th>\n      <th>PhoneService</th>\n      <th>MultipleLines</th>\n      <th>OnlineSecurity</th>\n      <th>OnlineBackup</th>\n      <th>...</th>\n      <th>MonthlyCharges</th>\n      <th>TotalCharges</th>\n      <th>InternetService_DSL</th>\n      <th>InternetService_Fiber optic</th>\n      <th>Contract_Month-to-month</th>\n      <th>Contract_One year</th>\n      <th>PaymentMethod_Bank transfer (automatic)</th>\n      <th>PaymentMethod_Credit card (automatic)</th>\n      <th>PaymentMethod_Electronic check</th>\n      <th>Churn</th>\n    </tr>\n  </thead>\n  <tbody>\n    <tr>\n      <th>3505</th>\n      <td>1</td>\n      <td>0.0</td>\n      <td>0.0</td>\n      <td>0.0</td>\n      <td>0.0</td>\n      <td>0.125000</td>\n      <td>0.0</td>\n      <td>0.0</td>\n      <td>0.0</td>\n      <td>0.0</td>\n      <td>...</td>\n      <td>0.066667</td>\n      <td>0.019784</td>\n      <td>1.0</td>\n      <td>0.0</td>\n      <td>1.0</td>\n      <td>0.0</td>\n      <td>0.0</td>\n      <td>0.0</td>\n      <td>1.0</td>\n      <td>0.0</td>\n    </tr>\n    <tr>\n      <th>6514</th>\n      <td>1</td>\n      <td>0.0</td>\n      <td>0.0</td>\n      <td>1.0</td>\n      <td>0.0</td>\n      <td>1.000000</td>\n      <td>0.0</td>\n      <td>0.0</td>\n      <td>1.0</td>\n      <td>1.0</td>\n      <td>...</td>\n      <td>0.462189</td>\n      <td>0.545494</td>\n      <td>1.0</td>\n      <td>0.0</td>\n      <td>0.0</td>\n      <td>0.0</td>\n      <td>0.0</td>\n      <td>0.0</td>\n      <td>1.0</td>\n      <td>0.0</td>\n    </tr>\n    <tr>\n      <th>5519</th>\n      <td>1</td>\n      <td>0.0</td>\n      <td>0.0</td>\n      <td>1.0</td>\n      <td>0.0</td>\n      <td>0.013889</td>\n      <td>1.0</td>\n      <td>0.0</td>\n      <td>1.0</td>\n      <td>0.0</td>\n      <td>...</td>\n      <td>0.372637</td>\n      <td>0.004258</td>\n      <td>1.0</td>\n      <td>0.0</td>\n      <td>1.0</td>\n      <td>0.0</td>\n      <td>0.0</td>\n      <td>0.0</td>\n      <td>0.0</td>\n      <td>0.0</td>\n    </tr>\n    <tr>\n      <th>4767</th>\n      <td>1</td>\n      <td>0.0</td>\n      <td>0.0</td>\n      <td>1.0</td>\n      <td>1.0</td>\n      <td>0.013889</td>\n      <td>1.0</td>\n      <td>0.0</td>\n      <td>0.0</td>\n      <td>0.0</td>\n      <td>...</td>\n      <td>0.015920</td>\n      <td>0.000121</td>\n      <td>0.0</td>\n      <td>0.0</td>\n      <td>0.0</td>\n      <td>1.0</td>\n      <td>0.0</td>\n      <td>1.0</td>\n      <td>0.0</td>\n      <td>0.0</td>\n    </tr>\n    <tr>\n      <th>1058</th>\n      <td>1</td>\n      <td>0.0</td>\n      <td>0.0</td>\n      <td>1.0</td>\n      <td>1.0</td>\n      <td>0.027778</td>\n      <td>1.0</td>\n      <td>0.0</td>\n      <td>0.0</td>\n      <td>0.0</td>\n      <td>...</td>\n      <td>0.709453</td>\n      <td>0.019242</td>\n      <td>0.0</td>\n      <td>1.0</td>\n      <td>1.0</td>\n      <td>0.0</td>\n      <td>1.0</td>\n      <td>0.0</td>\n      <td>0.0</td>\n      <td>1.0</td>\n    </tr>\n    <tr>\n      <th>...</th>\n      <td>...</td>\n      <td>...</td>\n      <td>...</td>\n      <td>...</td>\n      <td>...</td>\n      <td>...</td>\n      <td>...</td>\n      <td>...</td>\n      <td>...</td>\n      <td>...</td>\n      <td>...</td>\n      <td>...</td>\n      <td>...</td>\n      <td>...</td>\n      <td>...</td>\n      <td>...</td>\n      <td>...</td>\n      <td>...</td>\n      <td>...</td>\n      <td>...</td>\n      <td>...</td>\n    </tr>\n    <tr>\n      <th>571</th>\n      <td>1</td>\n      <td>0.0</td>\n      <td>1.0</td>\n      <td>0.0</td>\n      <td>0.0</td>\n      <td>0.652778</td>\n      <td>1.0</td>\n      <td>1.0</td>\n      <td>0.0</td>\n      <td>1.0</td>\n      <td>...</td>\n      <td>0.411443</td>\n      <td>0.315624</td>\n      <td>1.0</td>\n      <td>0.0</td>\n      <td>0.0</td>\n      <td>0.0</td>\n      <td>1.0</td>\n      <td>0.0</td>\n      <td>0.0</td>\n      <td>0.0</td>\n    </tr>\n    <tr>\n      <th>1197</th>\n      <td>1</td>\n      <td>0.0</td>\n      <td>0.0</td>\n      <td>1.0</td>\n      <td>0.0</td>\n      <td>0.208333</td>\n      <td>1.0</td>\n      <td>0.0</td>\n      <td>0.0</td>\n      <td>0.0</td>\n      <td>...</td>\n      <td>0.011940</td>\n      <td>0.037162</td>\n      <td>0.0</td>\n      <td>0.0</td>\n      <td>1.0</td>\n      <td>0.0</td>\n      <td>0.0</td>\n      <td>1.0</td>\n      <td>0.0</td>\n      <td>0.0</td>\n    </tr>\n    <tr>\n      <th>2801</th>\n      <td>1</td>\n      <td>1.0</td>\n      <td>0.0</td>\n      <td>1.0</td>\n      <td>1.0</td>\n      <td>0.861111</td>\n      <td>1.0</td>\n      <td>1.0</td>\n      <td>0.0</td>\n      <td>1.0</td>\n      <td>...</td>\n      <td>0.873632</td>\n      <td>0.771371</td>\n      <td>0.0</td>\n      <td>1.0</td>\n      <td>0.0</td>\n      <td>1.0</td>\n      <td>0.0</td>\n      <td>1.0</td>\n      <td>0.0</td>\n      <td>0.0</td>\n    </tr>\n    <tr>\n      <th>3491</th>\n      <td>1</td>\n      <td>0.0</td>\n      <td>0.0</td>\n      <td>1.0</td>\n      <td>0.0</td>\n      <td>0.611111</td>\n      <td>1.0</td>\n      <td>0.0</td>\n      <td>0.0</td>\n      <td>1.0</td>\n      <td>...</td>\n      <td>0.524378</td>\n      <td>0.372911</td>\n      <td>1.0</td>\n      <td>0.0</td>\n      <td>0.0</td>\n      <td>1.0</td>\n      <td>0.0</td>\n      <td>0.0</td>\n      <td>1.0</td>\n      <td>0.0</td>\n    </tr>\n    <tr>\n      <th>5908</th>\n      <td>1</td>\n      <td>0.0</td>\n      <td>0.0</td>\n      <td>0.0</td>\n      <td>0.0</td>\n      <td>0.013889</td>\n      <td>1.0</td>\n      <td>0.0</td>\n      <td>0.0</td>\n      <td>0.0</td>\n      <td>...</td>\n      <td>0.019403</td>\n      <td>0.000162</td>\n      <td>0.0</td>\n      <td>0.0</td>\n      <td>1.0</td>\n      <td>0.0</td>\n      <td>0.0</td>\n      <td>0.0</td>\n      <td>0.0</td>\n      <td>1.0</td>\n    </tr>\n  </tbody>\n</table>\n<p>5634 rows × 25 columns</p>\n</div>"
     },
     "metadata": {},
     "output_type": "display_data"
    },
    {
     "data": {
      "text/plain": "      Ones  gender  SeniorCitizen  Partner  Dependents    tenure  \\\n5616     1     1.0            0.0      1.0         1.0  0.527778   \n2937     1     1.0            0.0      1.0         1.0  0.888889   \n1355     1     1.0            0.0      0.0         0.0  0.125000   \n5441     1     1.0            0.0      1.0         0.0  0.972222   \n3333     1     0.0            0.0      0.0         1.0  0.166667   \n...    ...     ...            ...      ...         ...       ...   \n3001     1     0.0            0.0      0.0         0.0  0.125000   \n4912     1     0.0            1.0      0.0         0.0  0.500000   \n4951     1     0.0            1.0      1.0         0.0  0.402778   \n2639     1     0.0            0.0      0.0         0.0  0.305556   \n2501     1     0.0            0.0      1.0         1.0  1.000000   \n\n      PhoneService  MultipleLines  OnlineSecurity  OnlineBackup  ...  \\\n5616           1.0            0.0             1.0           1.0  ...   \n2937           1.0            1.0             0.0           1.0  ...   \n1355           1.0            0.0             0.0           0.0  ...   \n5441           1.0            1.0             1.0           0.0  ...   \n3333           1.0            0.0             0.0           0.0  ...   \n...            ...            ...             ...           ...  ...   \n3001           1.0            0.0             0.0           0.0  ...   \n4912           1.0            1.0             1.0           0.0  ...   \n4951           1.0            1.0             0.0           0.0  ...   \n2639           1.0            1.0             1.0           0.0  ...   \n2501           1.0            0.0             0.0           0.0  ...   \n\n      MonthlyCharges  TotalCharges  InternetService_DSL  \\\n5616        0.360697      0.237393                  1.0   \n2937        0.742289      0.687970                  0.0   \n1355        0.012438      0.018469                  0.0   \n5441        0.468159      0.547075                  1.0   \n3333        0.010945      0.022329                  0.0   \n...              ...           ...                  ...   \n3001        0.021393      0.018809                  0.0   \n4912        0.722388      0.365555                  0.0   \n4951        0.657214      0.269900                  0.0   \n2639        0.360199      0.127919                  1.0   \n2501        0.020896      0.154120                  0.0   \n\n      InternetService_Fiber optic  Contract_Month-to-month  Contract_One year  \\\n5616                          0.0                      1.0                0.0   \n2937                          1.0                      0.0                1.0   \n1355                          0.0                      1.0                0.0   \n5441                          0.0                      0.0                0.0   \n3333                          0.0                      0.0                0.0   \n...                           ...                      ...                ...   \n3001                          0.0                      1.0                0.0   \n4912                          1.0                      1.0                0.0   \n4951                          1.0                      1.0                0.0   \n2639                          0.0                      1.0                0.0   \n2501                          0.0                      0.0                0.0   \n\n      PaymentMethod_Bank transfer (automatic)  \\\n5616                                      0.0   \n2937                                      0.0   \n1355                                      0.0   \n5441                                      0.0   \n3333                                      1.0   \n...                                       ...   \n3001                                      0.0   \n4912                                      0.0   \n4951                                      0.0   \n2639                                      0.0   \n2501                                      0.0   \n\n      PaymentMethod_Credit card (automatic)  PaymentMethod_Electronic check  \\\n5616                                    0.0                             1.0   \n2937                                    0.0                             1.0   \n1355                                    0.0                             1.0   \n5441                                    1.0                             0.0   \n3333                                    0.0                             0.0   \n...                                     ...                             ...   \n3001                                    0.0                             0.0   \n4912                                    0.0                             1.0   \n4951                                    0.0                             1.0   \n2639                                    0.0                             1.0   \n2501                                    0.0                             1.0   \n\n      Churn  \n5616    0.0  \n2937    0.0  \n1355    0.0  \n5441    1.0  \n3333    0.0  \n...     ...  \n3001    0.0  \n4912    1.0  \n4951    0.0  \n2639    1.0  \n2501    0.0  \n\n[1409 rows x 25 columns]",
      "text/html": "<div>\n<style scoped>\n    .dataframe tbody tr th:only-of-type {\n        vertical-align: middle;\n    }\n\n    .dataframe tbody tr th {\n        vertical-align: top;\n    }\n\n    .dataframe thead th {\n        text-align: right;\n    }\n</style>\n<table border=\"1\" class=\"dataframe\">\n  <thead>\n    <tr style=\"text-align: right;\">\n      <th></th>\n      <th>Ones</th>\n      <th>gender</th>\n      <th>SeniorCitizen</th>\n      <th>Partner</th>\n      <th>Dependents</th>\n      <th>tenure</th>\n      <th>PhoneService</th>\n      <th>MultipleLines</th>\n      <th>OnlineSecurity</th>\n      <th>OnlineBackup</th>\n      <th>...</th>\n      <th>MonthlyCharges</th>\n      <th>TotalCharges</th>\n      <th>InternetService_DSL</th>\n      <th>InternetService_Fiber optic</th>\n      <th>Contract_Month-to-month</th>\n      <th>Contract_One year</th>\n      <th>PaymentMethod_Bank transfer (automatic)</th>\n      <th>PaymentMethod_Credit card (automatic)</th>\n      <th>PaymentMethod_Electronic check</th>\n      <th>Churn</th>\n    </tr>\n  </thead>\n  <tbody>\n    <tr>\n      <th>5616</th>\n      <td>1</td>\n      <td>1.0</td>\n      <td>0.0</td>\n      <td>1.0</td>\n      <td>1.0</td>\n      <td>0.527778</td>\n      <td>1.0</td>\n      <td>0.0</td>\n      <td>1.0</td>\n      <td>1.0</td>\n      <td>...</td>\n      <td>0.360697</td>\n      <td>0.237393</td>\n      <td>1.0</td>\n      <td>0.0</td>\n      <td>1.0</td>\n      <td>0.0</td>\n      <td>0.0</td>\n      <td>0.0</td>\n      <td>1.0</td>\n      <td>0.0</td>\n    </tr>\n    <tr>\n      <th>2937</th>\n      <td>1</td>\n      <td>1.0</td>\n      <td>0.0</td>\n      <td>1.0</td>\n      <td>1.0</td>\n      <td>0.888889</td>\n      <td>1.0</td>\n      <td>1.0</td>\n      <td>0.0</td>\n      <td>1.0</td>\n      <td>...</td>\n      <td>0.742289</td>\n      <td>0.687970</td>\n      <td>0.0</td>\n      <td>1.0</td>\n      <td>0.0</td>\n      <td>1.0</td>\n      <td>0.0</td>\n      <td>0.0</td>\n      <td>1.0</td>\n      <td>0.0</td>\n    </tr>\n    <tr>\n      <th>1355</th>\n      <td>1</td>\n      <td>1.0</td>\n      <td>0.0</td>\n      <td>0.0</td>\n      <td>0.0</td>\n      <td>0.125000</td>\n      <td>1.0</td>\n      <td>0.0</td>\n      <td>0.0</td>\n      <td>0.0</td>\n      <td>...</td>\n      <td>0.012438</td>\n      <td>0.018469</td>\n      <td>0.0</td>\n      <td>0.0</td>\n      <td>1.0</td>\n      <td>0.0</td>\n      <td>0.0</td>\n      <td>0.0</td>\n      <td>1.0</td>\n      <td>0.0</td>\n    </tr>\n    <tr>\n      <th>5441</th>\n      <td>1</td>\n      <td>1.0</td>\n      <td>0.0</td>\n      <td>1.0</td>\n      <td>0.0</td>\n      <td>0.972222</td>\n      <td>1.0</td>\n      <td>1.0</td>\n      <td>1.0</td>\n      <td>0.0</td>\n      <td>...</td>\n      <td>0.468159</td>\n      <td>0.547075</td>\n      <td>1.0</td>\n      <td>0.0</td>\n      <td>0.0</td>\n      <td>0.0</td>\n      <td>0.0</td>\n      <td>1.0</td>\n      <td>0.0</td>\n      <td>1.0</td>\n    </tr>\n    <tr>\n      <th>3333</th>\n      <td>1</td>\n      <td>0.0</td>\n      <td>0.0</td>\n      <td>0.0</td>\n      <td>1.0</td>\n      <td>0.166667</td>\n      <td>1.0</td>\n      <td>0.0</td>\n      <td>0.0</td>\n      <td>0.0</td>\n      <td>...</td>\n      <td>0.010945</td>\n      <td>0.022329</td>\n      <td>0.0</td>\n      <td>0.0</td>\n      <td>0.0</td>\n      <td>0.0</td>\n      <td>1.0</td>\n      <td>0.0</td>\n      <td>0.0</td>\n      <td>0.0</td>\n    </tr>\n    <tr>\n      <th>...</th>\n      <td>...</td>\n      <td>...</td>\n      <td>...</td>\n      <td>...</td>\n      <td>...</td>\n      <td>...</td>\n      <td>...</td>\n      <td>...</td>\n      <td>...</td>\n      <td>...</td>\n      <td>...</td>\n      <td>...</td>\n      <td>...</td>\n      <td>...</td>\n      <td>...</td>\n      <td>...</td>\n      <td>...</td>\n      <td>...</td>\n      <td>...</td>\n      <td>...</td>\n      <td>...</td>\n    </tr>\n    <tr>\n      <th>3001</th>\n      <td>1</td>\n      <td>0.0</td>\n      <td>0.0</td>\n      <td>0.0</td>\n      <td>0.0</td>\n      <td>0.125000</td>\n      <td>1.0</td>\n      <td>0.0</td>\n      <td>0.0</td>\n      <td>0.0</td>\n      <td>...</td>\n      <td>0.021393</td>\n      <td>0.018809</td>\n      <td>0.0</td>\n      <td>0.0</td>\n      <td>1.0</td>\n      <td>0.0</td>\n      <td>0.0</td>\n      <td>0.0</td>\n      <td>0.0</td>\n      <td>0.0</td>\n    </tr>\n    <tr>\n      <th>4912</th>\n      <td>1</td>\n      <td>0.0</td>\n      <td>1.0</td>\n      <td>0.0</td>\n      <td>0.0</td>\n      <td>0.500000</td>\n      <td>1.0</td>\n      <td>1.0</td>\n      <td>1.0</td>\n      <td>0.0</td>\n      <td>...</td>\n      <td>0.722388</td>\n      <td>0.365555</td>\n      <td>0.0</td>\n      <td>1.0</td>\n      <td>1.0</td>\n      <td>0.0</td>\n      <td>0.0</td>\n      <td>0.0</td>\n      <td>1.0</td>\n      <td>1.0</td>\n    </tr>\n    <tr>\n      <th>4951</th>\n      <td>1</td>\n      <td>0.0</td>\n      <td>1.0</td>\n      <td>1.0</td>\n      <td>0.0</td>\n      <td>0.402778</td>\n      <td>1.0</td>\n      <td>1.0</td>\n      <td>0.0</td>\n      <td>0.0</td>\n      <td>...</td>\n      <td>0.657214</td>\n      <td>0.269900</td>\n      <td>0.0</td>\n      <td>1.0</td>\n      <td>1.0</td>\n      <td>0.0</td>\n      <td>0.0</td>\n      <td>0.0</td>\n      <td>1.0</td>\n      <td>0.0</td>\n    </tr>\n    <tr>\n      <th>2639</th>\n      <td>1</td>\n      <td>0.0</td>\n      <td>0.0</td>\n      <td>0.0</td>\n      <td>0.0</td>\n      <td>0.305556</td>\n      <td>1.0</td>\n      <td>1.0</td>\n      <td>1.0</td>\n      <td>0.0</td>\n      <td>...</td>\n      <td>0.360199</td>\n      <td>0.127919</td>\n      <td>1.0</td>\n      <td>0.0</td>\n      <td>1.0</td>\n      <td>0.0</td>\n      <td>0.0</td>\n      <td>0.0</td>\n      <td>1.0</td>\n      <td>1.0</td>\n    </tr>\n    <tr>\n      <th>2501</th>\n      <td>1</td>\n      <td>0.0</td>\n      <td>0.0</td>\n      <td>1.0</td>\n      <td>1.0</td>\n      <td>1.000000</td>\n      <td>1.0</td>\n      <td>0.0</td>\n      <td>0.0</td>\n      <td>0.0</td>\n      <td>...</td>\n      <td>0.020896</td>\n      <td>0.154120</td>\n      <td>0.0</td>\n      <td>0.0</td>\n      <td>0.0</td>\n      <td>0.0</td>\n      <td>0.0</td>\n      <td>0.0</td>\n      <td>1.0</td>\n      <td>0.0</td>\n    </tr>\n  </tbody>\n</table>\n<p>1409 rows × 25 columns</p>\n</div>"
     },
     "metadata": {},
     "output_type": "display_data"
    },
    {
     "data": {
      "text/plain": "0.48959123339441246"
     },
     "metadata": {},
     "output_type": "display_data"
    }
   ],
   "source": [
    "logistic_regression()\n"
   ]
  }
 ],
 "metadata": {
  "kernelspec": {
   "display_name": "Python 3 (ipykernel)",
   "language": "python",
   "name": "python3"
  },
  "language_info": {
   "codemirror_mode": {
    "name": "ipython",
    "version": 3
   },
   "file_extension": ".py",
   "mimetype": "text/x-python",
   "name": "python",
   "nbconvert_exporter": "python",
   "pygments_lexer": "ipython3",
   "version": "3.8.10"
  }
 },
 "nbformat": 4,
 "nbformat_minor": 1
}