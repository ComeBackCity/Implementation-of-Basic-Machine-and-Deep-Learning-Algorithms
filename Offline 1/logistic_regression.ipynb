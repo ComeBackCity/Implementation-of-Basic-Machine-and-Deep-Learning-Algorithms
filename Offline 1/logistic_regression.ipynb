{
 "cells": [
  {
   "cell_type": "code",
   "execution_count": 7,
   "metadata": {
    "pycharm": {
     "is_executing": true
    }
   },
   "outputs": [],
   "source": [
    "#imports\n",
    "import numpy as np\n"
   ]
  },
  {
   "cell_type": "code",
   "execution_count": 8,
   "metadata": {
    "pycharm": {
     "is_executing": true,
     "name": "#%%\n"
    }
   },
   "outputs": [],
   "source": [
    "# tanh function\n",
    "def tanh_function(z):\n",
    "    return (np.exp(z) - np.exp(-z)) / (np.exp(z) + np.exp(-z))"
   ]
  },
  {
   "cell_type": "code",
   "execution_count": 9,
   "metadata": {
    "pycharm": {
     "is_executing": true,
     "name": "#%%\n"
    }
   },
   "outputs": [],
   "source": [
    "# loss function\n",
    "def loss(h, y, size):\n",
    "    error = np.sum((y-h) ** 2) / size\n",
    "    return error"
   ]
  },
  {
   "cell_type": "code",
   "execution_count": 10,
   "metadata": {
    "pycharm": {
     "is_executing": true,
     "name": "#%%\n"
    }
   },
   "outputs": [],
   "source": [
    "# training function\n",
    "def train(x, y, early_terminate_threshold=0.0, learning_rate=0.00005, no_of_iterations=5000):\n",
    "    no_of_data, no_of_features = x.shape\n",
    "    w = np.random.rand(no_of_features, 1)\n",
    "    error = 0\n",
    "    for i in range(no_of_iterations):\n",
    "        z = np.dot(x, w)\n",
    "        h = tanh_function(z)\n",
    "        error = loss(h, y, no_of_data)\n",
    "        if error < early_terminate_threshold:\n",
    "            break\n",
    "        gradient = np.dot(x.T, (y - h) * (1 - h ** 2))\n",
    "        w += learning_rate * gradient\n",
    "\n",
    "    print('Error rate in training set= '.format(error))\n",
    "    return w"
   ]
  },
  {
   "cell_type": "code",
   "execution_count": 11,
   "metadata": {
    "pycharm": {
     "is_executing": true,
     "name": "#%%\n"
    }
   },
   "outputs": [],
   "source": [
    "\n"
   ]
  }
 ],
 "metadata": {
  "kernelspec": {
   "display_name": "Python 3 (ipykernel)",
   "language": "python",
   "name": "python3"
  },
  "language_info": {
   "codemirror_mode": {
    "name": "ipython",
    "version": 3
   },
   "file_extension": ".py",
   "mimetype": "text/x-python",
   "name": "python",
   "nbconvert_exporter": "python",
   "pygments_lexer": "ipython3",
   "version": "3.8.10"
  }
 },
 "nbformat": 4,
 "nbformat_minor": 1
}