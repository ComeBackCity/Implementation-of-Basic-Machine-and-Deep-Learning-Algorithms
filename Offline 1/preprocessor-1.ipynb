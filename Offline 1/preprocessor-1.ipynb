{
 "cells": [
  {
   "cell_type": "code",
   "execution_count": 27,
   "metadata": {},
   "outputs": [],
   "source": [
    "# imports\n",
    "import pandas as pd\n",
    "from IPython.display import display\n",
    "from sklearn.preprocessing import MinMaxScaler"
   ]
  },
  {
   "cell_type": "code",
   "execution_count": 31,
   "metadata": {
    "pycharm": {
     "name": "#%%\n"
    }
   },
   "outputs": [],
   "source": [
    "# One-hot encode\n",
    "def encode_and_bind(original_dataframe, feature_to_encode):\n",
    "    dummies = pd.get_dummies(original_dataframe[[feature_to_encode]])\n",
    "    dummies = dummies.iloc[:, :-1]\n",
    "    res = pd.concat([original_dataframe, dummies], axis=1)\n",
    "    res = res.drop([feature_to_encode], axis=1)\n",
    "    return res\n",
    "    "
   ]
  },
  {
   "cell_type": "code",
   "execution_count": 32,
   "metadata": {
    "pycharm": {
     "name": "#%%\n"
    }
   },
   "outputs": [],
   "source": [
    "# Reading data\n",
    "telco_data = pd.read_csv('WA_Fn-UseC_-Telco-Customer-Churn.csv',\n",
    "                         converters={\n",
    "                             'gender': lambda x: int(x == 'Female'),\n",
    "                             'Partner': lambda x: int(x == 'Yes'),\n",
    "                             'Dependents': lambda x: int(x == 'Yes'),\n",
    "                             'PhoneService': lambda x: int(x =='Yes'),\n",
    "                             'MultipleLines': lambda x: int(x == 'Yes'),\n",
    "                             'OnlineSecurity': lambda x: int(x == 'Yes'),\n",
    "                             'OnlineBackup': lambda x: int(x == 'Yes'),\n",
    "                             'DeviceProtection': lambda x: int(x == 'Yes'),\n",
    "                             'TechSupport': lambda x: int(x == 'Yes'),\n",
    "                             'StreamingTV': lambda x: int(x == 'Yes'),\n",
    "                             'StreamingMovies': lambda x: int(x == 'Yes'),\n",
    "                             'PaperlessBilling': lambda x: int(x =='Yes'),\n",
    "                             'Churn': lambda x: int(x =='Yes'),\n",
    "                             'MonthlyCharges': lambda x: float(x)\n",
    "                         })"
   ]
  },
  {
   "cell_type": "code",
   "execution_count": 33,
   "metadata": {
    "pycharm": {
     "name": "#%%\n"
    }
   },
   "outputs": [
    {
     "name": "stderr",
     "output_type": "stream",
     "text": [
      "/tmp/ipykernel_55997/2583104947.py:16: UserWarning: Pandas doesn't allow columns to be created via a new attribute name - see https://pandas.pydata.org/pandas-docs/stable/indexing.html#attribute-access\n",
      "  telco_data.InternetService_No = telco_data.InternetService_DSL + telco_data['InternetService_Fiber optic']\n"
     ]
    }
   ],
   "source": [
    "# Preprocessing\n",
    "telco_data.drop('customerID', axis=1, inplace=True)\n",
    "telco_data = telco_data.astype({\n",
    "    'tenure': int,\n",
    "    \"MonthlyCharges\": float,\n",
    "    \"TotalCharges\": float\n",
    "}, errors=\"ignore\")\n",
    "\n",
    "totalChargesMedian = (telco_data['TotalCharges'].loc[telco_data['TotalCharges'] != ' ']).median()\n",
    "telco_data['TotalCharges'].replace([' '], totalChargesMedian, regex=True, inplace=True)\n",
    "\n",
    "columns_to_encode = ['InternetService', 'Contract', 'PaymentMethod']\n",
    "for column in columns_to_encode:\n",
    "    telco_data = encode_and_bind(telco_data, column)\n",
    "\n",
    "# Move final column for better visualization\n",
    "telco_data.insert(len(telco_data.columns)-1, 'Churn', telco_data.pop('Churn'))\n",
    "\n",
    "all_columns = list(telco_data.columns)\n",
    "telco_data[all_columns] = MinMaxScaler().fit_transform(telco_data[all_columns])"
   ]
  },
  {
   "cell_type": "code",
   "execution_count": null,
   "metadata": {
    "pycharm": {
     "name": "#%%\n"
    }
   },
   "outputs": [],
   "source": [
    "display(telco_data.iloc[487:494, :])\n",
    "telco_data.to_csv('telco.csv')"
   ]
  },
  {
   "cell_type": "code",
   "execution_count": null,
   "metadata": {
    "pycharm": {
     "name": "#%%\n"
    }
   },
   "outputs": [],
   "source": [
    "print(telco_data.shape)\n",
    "\n"
   ]
  },
  {
   "cell_type": "code",
   "execution_count": null,
   "metadata": {},
   "outputs": [],
   "source": []
  }
 ],
 "metadata": {
  "kernelspec": {
   "display_name": "Python 3 (ipykernel)",
   "language": "python",
   "name": "python3"
  },
  "language_info": {
   "codemirror_mode": {
    "name": "ipython",
    "version": 3
   },
   "file_extension": ".py",
   "mimetype": "text/x-python",
   "name": "python",
   "nbconvert_exporter": "python",
   "pygments_lexer": "ipython3",
   "version": "3.8.10"
  }
 },
 "nbformat": 4,
 "nbformat_minor": 1
}