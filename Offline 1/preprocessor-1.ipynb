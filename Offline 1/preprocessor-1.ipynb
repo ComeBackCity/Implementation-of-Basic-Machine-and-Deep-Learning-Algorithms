{
 "cells": [
  {
   "cell_type": "code",
   "execution_count": 95,
   "metadata": {},
   "outputs": [],
   "source": [
    "# imports\n",
    "import pandas as pd\n",
    "from IPython.display import display\n",
    "from sklearn import preprocessing"
   ]
  },
  {
   "cell_type": "code",
   "execution_count": 96,
   "metadata": {
    "pycharm": {
     "name": "#%%\n"
    }
   },
   "outputs": [],
   "source": [
    "# Reading data\n",
    "telco_data = pd.read_csv('WA_Fn-UseC_-Telco-Customer-Churn.csv',\n",
    "                         converters={\n",
    "                             'gender': lambda x: int(x == 'Female'),\n",
    "                             'Partner': lambda x: int(x == 'Yes'),\n",
    "                             'Dependents': lambda x: int(x == 'Yes'),\n",
    "                             'PhoneService': lambda x: int(x =='Yes'),\n",
    "                             'PaperlessBilling': lambda x: int(x =='Yes'),\n",
    "                             'Churn': lambda x: int(x =='Yes'),\n",
    "                             'MonthlyCharges': lambda x: float(x)\n",
    "                         })"
   ]
  },
  {
   "cell_type": "code",
   "execution_count": 97,
   "metadata": {
    "pycharm": {
     "name": "#%%\n"
    }
   },
   "outputs": [],
   "source": [
    "# Preprocessing\n",
    "telco_data.drop('customerID', axis=1, inplace=True)\n",
    "telco_data = telco_data.astype({\n",
    "    \"MonthlyCharges\": float,\n",
    "    \"TotalCharges\": float,\n",
    "}, errors=\"ignore\")\n"
   ]
  },
  {
   "cell_type": "code",
   "execution_count": 98,
   "metadata": {
    "pycharm": {
     "name": "#%%\n"
    }
   },
   "outputs": [
    {
     "data": {
      "text/plain": "      gender  SeniorCitizen  Partner  Dependents  tenure  PhoneService  \\\n0          1              0        1           0       1             0   \n1          0              0        0           0      34             1   \n2          0              0        0           0       2             1   \n3          0              0        0           0      45             0   \n4          1              0        0           0       2             1   \n...      ...            ...      ...         ...     ...           ...   \n7038       0              0        1           1      24             1   \n7039       1              0        1           1      72             1   \n7040       1              0        1           1      11             0   \n7041       0              1        1           0       4             1   \n7042       0              0        0           0      66             1   \n\n         MultipleLines InternetService OnlineSecurity OnlineBackup  \\\n0     No phone service             DSL             No          Yes   \n1                   No             DSL            Yes           No   \n2                   No             DSL            Yes          Yes   \n3     No phone service             DSL            Yes           No   \n4                   No     Fiber optic             No           No   \n...                ...             ...            ...          ...   \n7038               Yes             DSL            Yes           No   \n7039               Yes     Fiber optic             No          Yes   \n7040  No phone service             DSL            Yes           No   \n7041               Yes     Fiber optic             No           No   \n7042                No     Fiber optic            Yes           No   \n\n     DeviceProtection TechSupport StreamingTV StreamingMovies        Contract  \\\n0                  No          No          No              No  Month-to-month   \n1                 Yes          No          No              No        One year   \n2                  No          No          No              No  Month-to-month   \n3                 Yes         Yes          No              No        One year   \n4                  No          No          No              No  Month-to-month   \n...               ...         ...         ...             ...             ...   \n7038              Yes         Yes         Yes             Yes        One year   \n7039              Yes          No         Yes             Yes        One year   \n7040               No          No          No              No  Month-to-month   \n7041               No          No          No              No  Month-to-month   \n7042              Yes         Yes         Yes             Yes        Two year   \n\n      PaperlessBilling              PaymentMethod  MonthlyCharges  \\\n0                    1           Electronic check           29.85   \n1                    0               Mailed check           56.95   \n2                    1               Mailed check           53.85   \n3                    0  Bank transfer (automatic)           42.30   \n4                    1           Electronic check           70.70   \n...                ...                        ...             ...   \n7038                 1               Mailed check           84.80   \n7039                 1    Credit card (automatic)          103.20   \n7040                 1           Electronic check           29.60   \n7041                 1               Mailed check           74.40   \n7042                 1  Bank transfer (automatic)          105.65   \n\n     TotalCharges  Churn  \n0           29.85      0  \n1          1889.5      0  \n2          108.15      1  \n3         1840.75      0  \n4          151.65      1  \n...           ...    ...  \n7038       1990.5      0  \n7039       7362.9      0  \n7040       346.45      0  \n7041        306.6      1  \n7042       6844.5      0  \n\n[7043 rows x 20 columns]",
      "text/html": "<div>\n<style scoped>\n    .dataframe tbody tr th:only-of-type {\n        vertical-align: middle;\n    }\n\n    .dataframe tbody tr th {\n        vertical-align: top;\n    }\n\n    .dataframe thead th {\n        text-align: right;\n    }\n</style>\n<table border=\"1\" class=\"dataframe\">\n  <thead>\n    <tr style=\"text-align: right;\">\n      <th></th>\n      <th>gender</th>\n      <th>SeniorCitizen</th>\n      <th>Partner</th>\n      <th>Dependents</th>\n      <th>tenure</th>\n      <th>PhoneService</th>\n      <th>MultipleLines</th>\n      <th>InternetService</th>\n      <th>OnlineSecurity</th>\n      <th>OnlineBackup</th>\n      <th>DeviceProtection</th>\n      <th>TechSupport</th>\n      <th>StreamingTV</th>\n      <th>StreamingMovies</th>\n      <th>Contract</th>\n      <th>PaperlessBilling</th>\n      <th>PaymentMethod</th>\n      <th>MonthlyCharges</th>\n      <th>TotalCharges</th>\n      <th>Churn</th>\n    </tr>\n  </thead>\n  <tbody>\n    <tr>\n      <th>0</th>\n      <td>1</td>\n      <td>0</td>\n      <td>1</td>\n      <td>0</td>\n      <td>1</td>\n      <td>0</td>\n      <td>No phone service</td>\n      <td>DSL</td>\n      <td>No</td>\n      <td>Yes</td>\n      <td>No</td>\n      <td>No</td>\n      <td>No</td>\n      <td>No</td>\n      <td>Month-to-month</td>\n      <td>1</td>\n      <td>Electronic check</td>\n      <td>29.85</td>\n      <td>29.85</td>\n      <td>0</td>\n    </tr>\n    <tr>\n      <th>1</th>\n      <td>0</td>\n      <td>0</td>\n      <td>0</td>\n      <td>0</td>\n      <td>34</td>\n      <td>1</td>\n      <td>No</td>\n      <td>DSL</td>\n      <td>Yes</td>\n      <td>No</td>\n      <td>Yes</td>\n      <td>No</td>\n      <td>No</td>\n      <td>No</td>\n      <td>One year</td>\n      <td>0</td>\n      <td>Mailed check</td>\n      <td>56.95</td>\n      <td>1889.5</td>\n      <td>0</td>\n    </tr>\n    <tr>\n      <th>2</th>\n      <td>0</td>\n      <td>0</td>\n      <td>0</td>\n      <td>0</td>\n      <td>2</td>\n      <td>1</td>\n      <td>No</td>\n      <td>DSL</td>\n      <td>Yes</td>\n      <td>Yes</td>\n      <td>No</td>\n      <td>No</td>\n      <td>No</td>\n      <td>No</td>\n      <td>Month-to-month</td>\n      <td>1</td>\n      <td>Mailed check</td>\n      <td>53.85</td>\n      <td>108.15</td>\n      <td>1</td>\n    </tr>\n    <tr>\n      <th>3</th>\n      <td>0</td>\n      <td>0</td>\n      <td>0</td>\n      <td>0</td>\n      <td>45</td>\n      <td>0</td>\n      <td>No phone service</td>\n      <td>DSL</td>\n      <td>Yes</td>\n      <td>No</td>\n      <td>Yes</td>\n      <td>Yes</td>\n      <td>No</td>\n      <td>No</td>\n      <td>One year</td>\n      <td>0</td>\n      <td>Bank transfer (automatic)</td>\n      <td>42.30</td>\n      <td>1840.75</td>\n      <td>0</td>\n    </tr>\n    <tr>\n      <th>4</th>\n      <td>1</td>\n      <td>0</td>\n      <td>0</td>\n      <td>0</td>\n      <td>2</td>\n      <td>1</td>\n      <td>No</td>\n      <td>Fiber optic</td>\n      <td>No</td>\n      <td>No</td>\n      <td>No</td>\n      <td>No</td>\n      <td>No</td>\n      <td>No</td>\n      <td>Month-to-month</td>\n      <td>1</td>\n      <td>Electronic check</td>\n      <td>70.70</td>\n      <td>151.65</td>\n      <td>1</td>\n    </tr>\n    <tr>\n      <th>...</th>\n      <td>...</td>\n      <td>...</td>\n      <td>...</td>\n      <td>...</td>\n      <td>...</td>\n      <td>...</td>\n      <td>...</td>\n      <td>...</td>\n      <td>...</td>\n      <td>...</td>\n      <td>...</td>\n      <td>...</td>\n      <td>...</td>\n      <td>...</td>\n      <td>...</td>\n      <td>...</td>\n      <td>...</td>\n      <td>...</td>\n      <td>...</td>\n      <td>...</td>\n    </tr>\n    <tr>\n      <th>7038</th>\n      <td>0</td>\n      <td>0</td>\n      <td>1</td>\n      <td>1</td>\n      <td>24</td>\n      <td>1</td>\n      <td>Yes</td>\n      <td>DSL</td>\n      <td>Yes</td>\n      <td>No</td>\n      <td>Yes</td>\n      <td>Yes</td>\n      <td>Yes</td>\n      <td>Yes</td>\n      <td>One year</td>\n      <td>1</td>\n      <td>Mailed check</td>\n      <td>84.80</td>\n      <td>1990.5</td>\n      <td>0</td>\n    </tr>\n    <tr>\n      <th>7039</th>\n      <td>1</td>\n      <td>0</td>\n      <td>1</td>\n      <td>1</td>\n      <td>72</td>\n      <td>1</td>\n      <td>Yes</td>\n      <td>Fiber optic</td>\n      <td>No</td>\n      <td>Yes</td>\n      <td>Yes</td>\n      <td>No</td>\n      <td>Yes</td>\n      <td>Yes</td>\n      <td>One year</td>\n      <td>1</td>\n      <td>Credit card (automatic)</td>\n      <td>103.20</td>\n      <td>7362.9</td>\n      <td>0</td>\n    </tr>\n    <tr>\n      <th>7040</th>\n      <td>1</td>\n      <td>0</td>\n      <td>1</td>\n      <td>1</td>\n      <td>11</td>\n      <td>0</td>\n      <td>No phone service</td>\n      <td>DSL</td>\n      <td>Yes</td>\n      <td>No</td>\n      <td>No</td>\n      <td>No</td>\n      <td>No</td>\n      <td>No</td>\n      <td>Month-to-month</td>\n      <td>1</td>\n      <td>Electronic check</td>\n      <td>29.60</td>\n      <td>346.45</td>\n      <td>0</td>\n    </tr>\n    <tr>\n      <th>7041</th>\n      <td>0</td>\n      <td>1</td>\n      <td>1</td>\n      <td>0</td>\n      <td>4</td>\n      <td>1</td>\n      <td>Yes</td>\n      <td>Fiber optic</td>\n      <td>No</td>\n      <td>No</td>\n      <td>No</td>\n      <td>No</td>\n      <td>No</td>\n      <td>No</td>\n      <td>Month-to-month</td>\n      <td>1</td>\n      <td>Mailed check</td>\n      <td>74.40</td>\n      <td>306.6</td>\n      <td>1</td>\n    </tr>\n    <tr>\n      <th>7042</th>\n      <td>0</td>\n      <td>0</td>\n      <td>0</td>\n      <td>0</td>\n      <td>66</td>\n      <td>1</td>\n      <td>No</td>\n      <td>Fiber optic</td>\n      <td>Yes</td>\n      <td>No</td>\n      <td>Yes</td>\n      <td>Yes</td>\n      <td>Yes</td>\n      <td>Yes</td>\n      <td>Two year</td>\n      <td>1</td>\n      <td>Bank transfer (automatic)</td>\n      <td>105.65</td>\n      <td>6844.5</td>\n      <td>0</td>\n    </tr>\n  </tbody>\n</table>\n<p>7043 rows × 20 columns</p>\n</div>"
     },
     "metadata": {},
     "output_type": "display_data"
    }
   ],
   "source": [
    "display(telco_data)\n"
   ]
  },
  {
   "cell_type": "code",
   "execution_count": 99,
   "metadata": {},
   "outputs": [
    {
     "name": "stdout",
     "output_type": "stream",
     "text": [
      "(7043, 20)\n"
     ]
    }
   ],
   "source": [
    "print(telco_data.shape)"
   ]
  }
 ],
 "metadata": {
  "kernelspec": {
   "display_name": "Python 3 (ipykernel)",
   "language": "python",
   "name": "python3"
  },
  "language_info": {
   "codemirror_mode": {
    "name": "ipython",
    "version": 3
   },
   "file_extension": ".py",
   "mimetype": "text/x-python",
   "name": "python",
   "nbconvert_exporter": "python",
   "pygments_lexer": "ipython3",
   "version": "3.8.10"
  }
 },
 "nbformat": 4,
 "nbformat_minor": 1
}