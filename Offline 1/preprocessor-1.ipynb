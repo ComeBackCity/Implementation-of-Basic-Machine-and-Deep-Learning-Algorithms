{
 "cells": [
  {
   "cell_type": "code",
   "execution_count": 1,
   "metadata": {},
   "outputs": [],
   "source": [
    "# imports\n",
    "import pandas as pd\n",
    "from IPython.display import display\n",
    "from sklearn.preprocessing import MinMaxScaler\n",
    "import utils"
   ]
  },
  {
   "cell_type": "code",
   "execution_count": 2,
   "metadata": {
    "pycharm": {
     "name": "#%%\n"
    }
   },
   "outputs": [],
   "source": [
    "# Reading data\n",
    "telco_data = pd.read_csv('WA_Fn-UseC_-Telco-Customer-Churn.csv',\n",
    "                         converters={\n",
    "                             'gender': lambda x: int(x == 'Female'),\n",
    "                             'Partner': lambda x: int(x == 'Yes'),\n",
    "                             'Dependents': lambda x: int(x == 'Yes'),\n",
    "                             'PhoneService': lambda x: int(x =='Yes'),\n",
    "                             'MultipleLines': lambda x: int(x == 'Yes'),\n",
    "                             'OnlineSecurity': lambda x: int(x == 'Yes'),\n",
    "                             'OnlineBackup': lambda x: int(x == 'Yes'),\n",
    "                             'DeviceProtection': lambda x: int(x == 'Yes'),\n",
    "                             'TechSupport': lambda x: int(x == 'Yes'),\n",
    "                             'StreamingTV': lambda x: int(x == 'Yes'),\n",
    "                             'StreamingMovies': lambda x: int(x == 'Yes'),\n",
    "                             'PaperlessBilling': lambda x: int(x =='Yes'),\n",
    "                             'Churn': lambda x: int(x =='Yes'),\n",
    "                             'MonthlyCharges': lambda x: float(x)\n",
    "                         })"
   ]
  },
  {
   "cell_type": "code",
   "execution_count": 3,
   "metadata": {
    "pycharm": {
     "name": "#%%\n"
    }
   },
   "outputs": [],
   "source": [
    "# Preprocessing\n",
    "telco_data.drop('customerID', axis=1, inplace=True)\n",
    "telco_data = telco_data.astype({\n",
    "    'tenure': int,\n",
    "    \"MonthlyCharges\": float,\n",
    "    \"TotalCharges\": float\n",
    "}, errors=\"ignore\")\n",
    "\n",
    "totalChargesMedian = (telco_data['TotalCharges'].loc[telco_data['TotalCharges'] != ' ']).median()\n",
    "telco_data['TotalCharges'].replace([' '], totalChargesMedian, regex=True, inplace=True)\n",
    "\n",
    "columns_to_encode = ['InternetService', 'Contract', 'PaymentMethod']\n",
    "for column in columns_to_encode:\n",
    "    telco_data = utils.encode_and_bind(telco_data, column)\n",
    "\n",
    "# Move final column for better visualization\n",
    "telco_data.insert(len(telco_data.columns)-1, 'Churn', telco_data.pop('Churn'))\n",
    "\n",
    "all_columns = list(telco_data.columns)\n",
    "telco_data[all_columns] = MinMaxScaler().fit_transform(telco_data[all_columns])"
   ]
  },
  {
   "cell_type": "code",
   "execution_count": 4,
   "metadata": {
    "pycharm": {
     "name": "#%%\n"
    }
   },
   "outputs": [
    {
     "data": {
      "text/plain": "     gender  SeniorCitizen  Partner  Dependents    tenure  PhoneService  \\\n487     0.0            0.0      0.0         0.0  1.000000           1.0   \n488     1.0            0.0      1.0         1.0  0.000000           0.0   \n489     0.0            0.0      0.0         1.0  0.013889           1.0   \n490     0.0            0.0      1.0         1.0  0.875000           1.0   \n491     1.0            0.0      0.0         0.0  0.027778           1.0   \n492     1.0            0.0      1.0         0.0  0.027778           1.0   \n493     0.0            1.0      1.0         0.0  0.847222           1.0   \n\n     MultipleLines  OnlineSecurity  OnlineBackup  DeviceProtection  ...  \\\n487            1.0             0.0           1.0               1.0  ...   \n488            0.0             1.0           0.0               1.0  ...   \n489            1.0             0.0           0.0               0.0  ...   \n490            1.0             0.0           1.0               1.0  ...   \n491            0.0             0.0           1.0               0.0  ...   \n492            0.0             1.0           0.0               0.0  ...   \n493            1.0             0.0           1.0               0.0  ...   \n\n     MonthlyCharges  TotalCharges  InternetService_DSL  \\\n487        0.700000      0.713495                  1.0   \n488        0.341294      0.159090                  1.0   \n489        0.558209      0.006410                  0.0   \n490        0.861194      0.759110                  0.0   \n491        0.405473      0.011003                  1.0   \n492        0.558706      0.013916                  0.0   \n493        0.455721      0.448165                  1.0   \n\n     InternetService_Fiber optic  Contract_Month-to-month  Contract_One year  \\\n487                          0.0                      0.0                0.0   \n488                          0.0                      0.0                0.0   \n489                          1.0                      1.0                0.0   \n490                          1.0                      0.0                0.0   \n491                          0.0                      1.0                0.0   \n492                          1.0                      1.0                0.0   \n493                          0.0                      0.0                1.0   \n\n     PaymentMethod_Bank transfer (automatic)  \\\n487                                      1.0   \n488                                      1.0   \n489                                      0.0   \n490                                      1.0   \n491                                      0.0   \n492                                      0.0   \n493                                      1.0   \n\n     PaymentMethod_Credit card (automatic)  PaymentMethod_Electronic check  \\\n487                                    0.0                             0.0   \n488                                    0.0                             0.0   \n489                                    0.0                             1.0   \n490                                    0.0                             0.0   \n491                                    0.0                             1.0   \n492                                    0.0                             1.0   \n493                                    0.0                             0.0   \n\n     Churn  \n487    0.0  \n488    0.0  \n489    1.0  \n490    0.0  \n491    0.0  \n492    1.0  \n493    0.0  \n\n[7 rows x 24 columns]",
      "text/html": "<div>\n<style scoped>\n    .dataframe tbody tr th:only-of-type {\n        vertical-align: middle;\n    }\n\n    .dataframe tbody tr th {\n        vertical-align: top;\n    }\n\n    .dataframe thead th {\n        text-align: right;\n    }\n</style>\n<table border=\"1\" class=\"dataframe\">\n  <thead>\n    <tr style=\"text-align: right;\">\n      <th></th>\n      <th>gender</th>\n      <th>SeniorCitizen</th>\n      <th>Partner</th>\n      <th>Dependents</th>\n      <th>tenure</th>\n      <th>PhoneService</th>\n      <th>MultipleLines</th>\n      <th>OnlineSecurity</th>\n      <th>OnlineBackup</th>\n      <th>DeviceProtection</th>\n      <th>...</th>\n      <th>MonthlyCharges</th>\n      <th>TotalCharges</th>\n      <th>InternetService_DSL</th>\n      <th>InternetService_Fiber optic</th>\n      <th>Contract_Month-to-month</th>\n      <th>Contract_One year</th>\n      <th>PaymentMethod_Bank transfer (automatic)</th>\n      <th>PaymentMethod_Credit card (automatic)</th>\n      <th>PaymentMethod_Electronic check</th>\n      <th>Churn</th>\n    </tr>\n  </thead>\n  <tbody>\n    <tr>\n      <th>487</th>\n      <td>0.0</td>\n      <td>0.0</td>\n      <td>0.0</td>\n      <td>0.0</td>\n      <td>1.000000</td>\n      <td>1.0</td>\n      <td>1.0</td>\n      <td>0.0</td>\n      <td>1.0</td>\n      <td>1.0</td>\n      <td>...</td>\n      <td>0.700000</td>\n      <td>0.713495</td>\n      <td>1.0</td>\n      <td>0.0</td>\n      <td>0.0</td>\n      <td>0.0</td>\n      <td>1.0</td>\n      <td>0.0</td>\n      <td>0.0</td>\n      <td>0.0</td>\n    </tr>\n    <tr>\n      <th>488</th>\n      <td>1.0</td>\n      <td>0.0</td>\n      <td>1.0</td>\n      <td>1.0</td>\n      <td>0.000000</td>\n      <td>0.0</td>\n      <td>0.0</td>\n      <td>1.0</td>\n      <td>0.0</td>\n      <td>1.0</td>\n      <td>...</td>\n      <td>0.341294</td>\n      <td>0.159090</td>\n      <td>1.0</td>\n      <td>0.0</td>\n      <td>0.0</td>\n      <td>0.0</td>\n      <td>1.0</td>\n      <td>0.0</td>\n      <td>0.0</td>\n      <td>0.0</td>\n    </tr>\n    <tr>\n      <th>489</th>\n      <td>0.0</td>\n      <td>0.0</td>\n      <td>0.0</td>\n      <td>1.0</td>\n      <td>0.013889</td>\n      <td>1.0</td>\n      <td>1.0</td>\n      <td>0.0</td>\n      <td>0.0</td>\n      <td>0.0</td>\n      <td>...</td>\n      <td>0.558209</td>\n      <td>0.006410</td>\n      <td>0.0</td>\n      <td>1.0</td>\n      <td>1.0</td>\n      <td>0.0</td>\n      <td>0.0</td>\n      <td>0.0</td>\n      <td>1.0</td>\n      <td>1.0</td>\n    </tr>\n    <tr>\n      <th>490</th>\n      <td>0.0</td>\n      <td>0.0</td>\n      <td>1.0</td>\n      <td>1.0</td>\n      <td>0.875000</td>\n      <td>1.0</td>\n      <td>1.0</td>\n      <td>0.0</td>\n      <td>1.0</td>\n      <td>1.0</td>\n      <td>...</td>\n      <td>0.861194</td>\n      <td>0.759110</td>\n      <td>0.0</td>\n      <td>1.0</td>\n      <td>0.0</td>\n      <td>0.0</td>\n      <td>1.0</td>\n      <td>0.0</td>\n      <td>0.0</td>\n      <td>0.0</td>\n    </tr>\n    <tr>\n      <th>491</th>\n      <td>1.0</td>\n      <td>0.0</td>\n      <td>0.0</td>\n      <td>0.0</td>\n      <td>0.027778</td>\n      <td>1.0</td>\n      <td>0.0</td>\n      <td>0.0</td>\n      <td>1.0</td>\n      <td>0.0</td>\n      <td>...</td>\n      <td>0.405473</td>\n      <td>0.011003</td>\n      <td>1.0</td>\n      <td>0.0</td>\n      <td>1.0</td>\n      <td>0.0</td>\n      <td>0.0</td>\n      <td>0.0</td>\n      <td>1.0</td>\n      <td>0.0</td>\n    </tr>\n    <tr>\n      <th>492</th>\n      <td>1.0</td>\n      <td>0.0</td>\n      <td>1.0</td>\n      <td>0.0</td>\n      <td>0.027778</td>\n      <td>1.0</td>\n      <td>0.0</td>\n      <td>1.0</td>\n      <td>0.0</td>\n      <td>0.0</td>\n      <td>...</td>\n      <td>0.558706</td>\n      <td>0.013916</td>\n      <td>0.0</td>\n      <td>1.0</td>\n      <td>1.0</td>\n      <td>0.0</td>\n      <td>0.0</td>\n      <td>0.0</td>\n      <td>1.0</td>\n      <td>1.0</td>\n    </tr>\n    <tr>\n      <th>493</th>\n      <td>0.0</td>\n      <td>1.0</td>\n      <td>1.0</td>\n      <td>0.0</td>\n      <td>0.847222</td>\n      <td>1.0</td>\n      <td>1.0</td>\n      <td>0.0</td>\n      <td>1.0</td>\n      <td>0.0</td>\n      <td>...</td>\n      <td>0.455721</td>\n      <td>0.448165</td>\n      <td>1.0</td>\n      <td>0.0</td>\n      <td>0.0</td>\n      <td>1.0</td>\n      <td>1.0</td>\n      <td>0.0</td>\n      <td>0.0</td>\n      <td>0.0</td>\n    </tr>\n  </tbody>\n</table>\n<p>7 rows × 24 columns</p>\n</div>"
     },
     "metadata": {},
     "output_type": "display_data"
    }
   ],
   "source": [
    "display(telco_data.iloc[487:494, :])\n",
    "telco_data.to_csv('telco.csv')"
   ]
  },
  {
   "cell_type": "code",
   "execution_count": 5,
   "metadata": {
    "pycharm": {
     "name": "#%%\n"
    }
   },
   "outputs": [
    {
     "name": "stdout",
     "output_type": "stream",
     "text": [
      "(7043, 24)\n"
     ]
    }
   ],
   "source": [
    "print(telco_data.shape)\n"
   ]
  }
 ],
 "metadata": {
  "kernelspec": {
   "display_name": "Python 3 (ipykernel)",
   "language": "python",
   "name": "python3"
  },
  "language_info": {
   "codemirror_mode": {
    "name": "ipython",
    "version": 3
   },
   "file_extension": ".py",
   "mimetype": "text/x-python",
   "name": "python",
   "nbconvert_exporter": "python",
   "pygments_lexer": "ipython3",
   "version": "3.8.10"
  }
 },
 "nbformat": 4,
 "nbformat_minor": 1
}