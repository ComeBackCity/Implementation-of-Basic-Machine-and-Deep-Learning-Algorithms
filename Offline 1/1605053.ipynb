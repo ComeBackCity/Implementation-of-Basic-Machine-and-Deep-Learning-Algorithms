{
 "cells": [
  {
   "cell_type": "code",
   "execution_count": 69,
   "metadata": {},
   "outputs": [],
   "source": [
    "# imports\n",
    "import math\n",
    "import random\n",
    "\n",
    "from pandas import DataFrame\n",
    "import pandas as pd\n",
    "import numpy as np\n",
    "from sklearn.feature_selection import mutual_info_classif\n",
    "from sklearn.metrics import accuracy_score, confusion_matrix\n",
    "from sklearn.preprocessing import MinMaxScaler, StandardScaler\n",
    "from sklearn.model_selection import train_test_split\n",
    "from sklearn.metrics import mean_squared_error\n",
    "from IPython.core.display import display\n",
    "import json"
   ]
  },
  {
   "cell_type": "code",
   "execution_count": 70,
   "outputs": [],
   "source": [
    "# set random seed\n",
    "random.seed(a=2)\n",
    "np.random.seed(5)"
   ],
   "metadata": {
    "collapsed": false,
    "pycharm": {
     "name": "#%%\n"
    }
   }
  },
  {
   "cell_type": "code",
   "execution_count": 71,
   "metadata": {
    "pycharm": {
     "name": "#%%\n"
    }
   },
   "outputs": [],
   "source": [
    "# information gain function\n",
    "def info_gain(df: DataFrame):\n",
    "    all_features = list(df.columns)\n",
    "    y_feature = all_features.pop(len(all_features) - 1)\n",
    "    data = df.copy()\n",
    "    y = data.pop(y_feature)\n",
    "    x = data\n",
    "    importances = mutual_info_classif(x, y)\n",
    "    info_gain_map = {\n",
    "        feature: gain for feature, gain in zip(all_features, importances)\n",
    "    }\n",
    "\n",
    "    info_gain_map = {k: v for k, v in sorted(info_gain_map.items(), key=lambda item: item[1], reverse=True)}\n",
    "    return list(info_gain_map.keys())"
   ]
  },
  {
   "cell_type": "code",
   "execution_count": 72,
   "metadata": {
    "pycharm": {
     "name": "#%%\n"
    }
   },
   "outputs": [],
   "source": [
    "# One-Hot encoding\n",
    "def encode_and_bind(original_dataframe, feature_to_encode):\n",
    "    return pd.get_dummies(\n",
    "        original_dataframe, columns=feature_to_encode, drop_first=True\n",
    "    )"
   ]
  },
  {
   "cell_type": "code",
   "execution_count": 73,
   "metadata": {
    "pycharm": {
     "name": "#%%\n"
    }
   },
   "outputs": [],
   "source": [
    "# pre-processor 1\n",
    "def read_telco_data():\n",
    "    return pd.read_csv('WA_Fn-UseC_-Telco-Customer-Churn.csv',\n",
    "                             converters={\n",
    "                                 'gender': lambda x: int(x == 'Female'),\n",
    "                                 'Partner': lambda x: int(x == 'Yes'),\n",
    "                                 'Dependents': lambda x: int(x == 'Yes'),\n",
    "                                 'PhoneService': lambda x: int(x =='Yes'),\n",
    "                                 'PaperlessBilling': lambda x: int(x =='Yes'),\n",
    "                                 'Churn': lambda x: int(x =='Yes'),\n",
    "                             })\n",
    "\n",
    "def process_telco_data(telco_data):\n",
    "    telco_data.drop('customerID', axis=1, inplace=True)\n",
    "    telco_data = telco_data.astype({\n",
    "        'tenure': int,\n",
    "        \"MonthlyCharges\": float,\n",
    "        \"TotalCharges\": float\n",
    "    }, errors=\"ignore\")\n",
    "\n",
    "    total_charges_median = (telco_data['TotalCharges'].loc[telco_data['TotalCharges'] != ' ']).median()\n",
    "    telco_data['TotalCharges'].replace([' '], total_charges_median, regex=True, inplace=True)\n",
    "\n",
    "    columns_to_encode = ['MultipleLines', 'InternetService', 'OnlineSecurity',\n",
    "                         'OnlineBackup', 'DeviceProtection', 'TechSupport', 'StreamingTV',\n",
    "                         'StreamingMovies', 'Contract', 'PaymentMethod']\n",
    "    # for column in columns_to_encode:\n",
    "    #     telco_data = encode_and_bind(telco_data, column)\n",
    "\n",
    "    telco_data = encode_and_bind(telco_data, columns_to_encode)\n",
    "\n",
    "    # Move final column for better visualization\n",
    "    telco_data.insert(len(telco_data.columns)-1, 'Churn', telco_data.pop('Churn'))\n",
    "\n",
    "    all_columns = list(telco_data.columns)\n",
    "    telco_data[all_columns] = MinMaxScaler().fit_transform(telco_data[all_columns])\n",
    "\n",
    "    return telco_data\n",
    "\n",
    "def preprocess_telco_data():\n",
    "    telco_data = read_telco_data()\n",
    "    telco_data = process_telco_data(telco_data)\n",
    "    telco_data.to_csv('telco.csv')\n",
    "    return telco_data"
   ]
  },
  {
   "cell_type": "code",
   "execution_count": 74,
   "outputs": [],
   "source": [
    "# pre processor 2\n",
    "def read_adult_data(file_name, pos):\n",
    "    column_names = ['C'+str(i) for i in range(15)]\n",
    "    return pd.read_csv(file_name,\n",
    "                         names=column_names,\n",
    "                         header=None,\n",
    "                         sep=' *, * ',\n",
    "                         engine=\"python\",\n",
    "                         converters={\n",
    "                            'C9': lambda x: float(x == 'Male'),\n",
    "                            'C14': lambda x: float(x == pos)\n",
    "                         })\n",
    "\n",
    "def process_adult_data(adult_data):\n",
    "    all_columns = list(adult_data.columns)\n",
    "    missing_value_columns = [\n",
    "        column\n",
    "        for column in all_columns\n",
    "        if '?' in adult_data[column].values.tolist()\n",
    "    ]\n",
    "\n",
    "    for column in missing_value_columns:\n",
    "        adult_data[column].replace(['?'], adult_data[column].mode(), inplace=True)\n",
    "\n",
    "    columns_to_encode = ['C1', 'C3', 'C5', 'C6', 'C7', 'C8', 'C13']\n",
    "\n",
    "    # for column in columns_to_encode:\n",
    "    #     adult_data = encode_and_bind(adult_data, column)\n",
    "\n",
    "    adult_data = encode_and_bind(adult_data, columns_to_encode)\n",
    "\n",
    "    adult_data.insert(len(adult_data.columns)-1, 'C14', adult_data.pop('C14'))\n",
    "\n",
    "    all_columns = list(adult_data.columns)\n",
    "    adult_data[all_columns] = MinMaxScaler().fit_transform(adult_data[all_columns])\n",
    "    # adult_data[all_columns] = StandardScaler().fit_transform(adult_data[all_columns])\n",
    "\n",
    "    return adult_data\n",
    "\n",
    "def preprocess_adult_data():\n",
    "    adult_data = read_adult_data('adult.csv', '>50K')\n",
    "    adult_test = read_adult_data('adult.test.csv', '>50K.')\n",
    "\n",
    "    data_size = adult_data.shape[0]\n",
    "    frames = [adult_data, adult_test]\n",
    "    df = pd.concat(frames)\n",
    "\n",
    "    df = process_adult_data(df)\n",
    "    adult_data, adult_test = df.iloc[0:data_size, :], df.iloc[data_size: , :]\n",
    "\n",
    "    adult_data.to_csv('adult-data.csv')\n",
    "    adult_test.to_csv('adult-test.csv')\n",
    "\n",
    "    return adult_data, adult_test"
   ],
   "metadata": {
    "collapsed": false,
    "pycharm": {
     "name": "#%%\n"
    }
   }
  },
  {
   "cell_type": "code",
   "execution_count": 75,
   "outputs": [],
   "source": [
    "# pre processor 3\n",
    "def read_cc_data():\n",
    "    return pd.read_csv('creditcard.csv')\n",
    "\n",
    "def process_cc_data(cc_data: DataFrame):\n",
    "    positive_data = cc_data.loc[cc_data['Class'] == 1]\n",
    "    negative_data = cc_data.loc[cc_data['Class'] == 0]\n",
    "\n",
    "    negative_sub_data = negative_data.sample(n=20000, replace=False, random_state=5)\n",
    "\n",
    "    frames = [positive_data, negative_sub_data]\n",
    "    cc_data = pd.concat(frames)\n",
    "    cc_data = cc_data.reset_index(drop=True)\n",
    "\n",
    "    all_columns = list(cc_data.columns)\n",
    "    cc_data[all_columns] = MinMaxScaler().fit_transform(cc_data[all_columns])\n",
    "\n",
    "    return cc_data\n",
    "\n",
    "def preprocess_cc_data():\n",
    "    cc_data = read_cc_data()\n",
    "    cc_data = process_cc_data(cc_data)\n",
    "    cc_data.to_csv('cc.csv')\n",
    "    return cc_data"
   ],
   "metadata": {
    "collapsed": false,
    "pycharm": {
     "name": "#%%\n"
    }
   }
  },
  {
   "cell_type": "code",
   "execution_count": 76,
   "metadata": {
    "pycharm": {
     "name": "#%%\n"
    }
   },
   "outputs": [],
   "source": [
    "# loss function\n",
    "def loss(y_predicted, y_actual, size):\n",
    "    return mean_squared_error(y_actual, y_predicted)\n",
    "    # return np.sum((y_actual - y_predicted) ** 2) / size"
   ]
  },
  {
   "cell_type": "code",
   "execution_count": 77,
   "outputs": [],
   "source": [
    "def statistics(y_predict, y_actual):\n",
    "    matrix = confusion_matrix(y_actual, y_predict)\n",
    "    tn, fp, fn, tp = matrix.ravel()\n",
    "    print('Accuracy is {}'.format(accuracy(y_predict, y_actual)))\n",
    "    print('Sensitivity is {}'.format(tp/(tp+fn)))\n",
    "    print('Specificity is {}'.format(tn/(tn+fp)))\n",
    "    print('Precision is {}'.format(tp/(tp+fp)))\n",
    "    print('False discovery rate {}'.format(fp/(fp+tp)))\n",
    "    print('F1 score {}'.format(2*tp/(2*tp+fp+fn)))"
   ],
   "metadata": {
    "collapsed": false,
    "pycharm": {
     "name": "#%%\n"
    }
   }
  },
  {
   "cell_type": "code",
   "execution_count": 78,
   "metadata": {
    "pycharm": {
     "name": "#%%\n"
    }
   },
   "outputs": [],
   "source": [
    "# accuracy function\n",
    "def accuracy(y_predicted, y_actual):\n",
    "    return accuracy_score(y_actual, y_predicted)"
   ]
  },
  {
   "cell_type": "code",
   "execution_count": 79,
   "metadata": {
    "pycharm": {
     "name": "#%%\n"
    }
   },
   "outputs": [],
   "source": [
    "# prediction function for determining label of hypothesis\n",
    "def predict(hypothesis):\n",
    "    labels = np.array([1.0 if it > 0.0 else -1.0 for it in hypothesis])\n",
    "    labels = labels.reshape((labels.shape[0], 1))\n",
    "    return labels"
   ]
  },
  {
   "cell_type": "code",
   "execution_count": 80,
   "metadata": {
    "pycharm": {
     "name": "#%%\n"
    }
   },
   "outputs": [],
   "source": [
    "# logistic regression\n",
    "def train(x, y, early_terminate_threshold=0.0, learning_rate=0.0001, no_of_iterations=10000):\n",
    "    no_of_data, no_of_features = x.shape\n",
    "    w = np.random.rand(no_of_features, 1)\n",
    "    # w = np.zeros((no_of_features, 1))\n",
    "    for _ in range(no_of_iterations):\n",
    "        z = x @ w\n",
    "        h = np.tanh(z)\n",
    "        error = loss(h, y, no_of_data)\n",
    "        if error < early_terminate_threshold:\n",
    "            break\n",
    "        gradient = x.T @ ((y - h) * (1 - h ** 2))\n",
    "        w += learning_rate * gradient / no_of_data\n",
    "\n",
    "    return w"
   ]
  },
  {
   "cell_type": "code",
   "execution_count": 81,
   "metadata": {
    "pycharm": {
     "name": "#%%\n"
    },
    "scrolled": true
   },
   "outputs": [],
   "source": [
    "# resample function for adaboost\n",
    "def resample(x, y, w):\n",
    "    indices = np.random.choice(x.shape[0], x.shape[0], replace=True, p=w )\n",
    "    x_data = x[indices]\n",
    "    y_data = y[indices]\n",
    "    return x_data, y_data"
   ]
  },
  {
   "cell_type": "code",
   "execution_count": 82,
   "metadata": {
    "pycharm": {
     "name": "#%%\n"
    }
   },
   "outputs": [],
   "source": [
    "# Adaboost\n",
    "def adaboost(example_x, example_y, k):\n",
    "    no_of_data = example_x.shape[0]\n",
    "    w = np.array([1/no_of_data] * no_of_data)\n",
    "    h = []\n",
    "    z = []\n",
    "    for _ in range(k):\n",
    "        x_data, y_data = resample(example_x, example_y, w)\n",
    "        w_learn = train(x_data, y_data, early_terminate_threshold=0.8, learning_rate=0.01, no_of_iterations=10000)\n",
    "        h_k = np.tanh(np.dot(example_x, w_learn))\n",
    "        h_k = predict(h_k)\n",
    "        error = sum(w[j] for j in range(no_of_data) if h_k[j] != example_y[j])\n",
    "        if error > 0.5:\n",
    "            continue\n",
    "\n",
    "        for j in range(no_of_data):\n",
    "            if h_k[j] == example_y[j]:\n",
    "                w[j] = w[j] * (error / (1-error))\n",
    "\n",
    "        w /= np.sum(w)\n",
    "        h.append(w_learn)\n",
    "        # z.append(math.log((1-error)/error, 2))\n",
    "        z.append(np.log((1-error)/error))\n",
    "\n",
    "    return h, z\n"
   ]
  },
  {
   "cell_type": "code",
   "execution_count": 83,
   "outputs": [],
   "source": [
    "def logistic_regression_test(training_x, training_y, test_x, test_y, threshold, learning_rate=0.01, no_of_iterations = 10000):\n",
    "    w_logi = train(training_x, training_y, early_terminate_threshold=threshold, learning_rate=learning_rate, no_of_iterations=no_of_iterations)\n",
    "    h_logi = np.tanh(np.dot(test_x, w_logi))\n",
    "    h_logi = predict(h_logi)\n",
    "\n",
    "    h_train = np.tanh(np.dot(training_x, w_logi))\n",
    "    h_train = predict(h_train)\n",
    "    # print('Logistic regression accuracy {}.'.format(accuracy(h_logi, test_y)))\n",
    "    print('Test set stats = ')\n",
    "    statistics(y_predict=h_logi, y_actual=test_y)\n",
    "    print('Train set stats = ')\n",
    "    statistics(y_predict=h_train, y_actual=training_y)"
   ],
   "metadata": {
    "collapsed": false,
    "pycharm": {
     "name": "#%%\n"
    }
   }
  },
  {
   "cell_type": "code",
   "execution_count": 84,
   "outputs": [],
   "source": [
    "def adaboost_test(training_x, training_y, test_x, test_y, k):\n",
    "    h_ada, z_ada = adaboost(training_x, training_y, k)\n",
    "\n",
    "    hypo_test = np.zeros(test_y.shape)\n",
    "    hypo_train = np.zeros(training_y.shape)\n",
    "    for _h, _z in zip(h_ada, z_ada):\n",
    "        l_test = np.tanh(np.dot(test_x, _h))\n",
    "        l_train = np.tanh(np.dot(training_x, _h))\n",
    "        hypo_test += _z * l_test\n",
    "        hypo_train += _z * l_train\n",
    "\n",
    "    # hypo /= sum(z_ada)\n",
    "\n",
    "    hypo_test = predict(hypo_test)\n",
    "    hypo_train = predict(hypo_train)\n",
    "    print('Adaboost accuracy for test set k = {} is {}.'.format(k, accuracy(hypo_test, test_y)))\n",
    "    print('Adaboost accuracy for training set k = {} is {}.'.format(k, accuracy(hypo_train, training_y)))"
   ],
   "metadata": {
    "collapsed": false,
    "pycharm": {
     "name": "#%%\n"
    }
   }
  },
  {
   "cell_type": "code",
   "execution_count": 85,
   "outputs": [],
   "source": [
    "# telco data\n",
    "data = preprocess_telco_data()"
   ],
   "metadata": {
    "collapsed": false,
    "pycharm": {
     "name": "#%%\n"
    }
   }
  },
  {
   "cell_type": "code",
   "execution_count": 86,
   "outputs": [
    {
     "data": {
      "text/plain": "      gender  SeniorCitizen  Partner  Dependents    tenure  PhoneService  \\\n0        1.0            0.0      1.0         0.0  0.013889           0.0   \n1        0.0            0.0      0.0         0.0  0.472222           1.0   \n2        0.0            0.0      0.0         0.0  0.027778           1.0   \n3        0.0            0.0      0.0         0.0  0.625000           0.0   \n4        1.0            0.0      0.0         0.0  0.027778           1.0   \n...      ...            ...      ...         ...       ...           ...   \n7038     0.0            0.0      1.0         1.0  0.333333           1.0   \n7039     1.0            0.0      1.0         1.0  1.000000           1.0   \n7040     1.0            0.0      1.0         1.0  0.152778           0.0   \n7041     0.0            1.0      1.0         0.0  0.055556           1.0   \n7042     0.0            0.0      0.0         0.0  0.916667           1.0   \n\n      PaperlessBilling  MonthlyCharges  TotalCharges  \\\n0                  1.0        0.115423      0.001275   \n1                  0.0        0.385075      0.215867   \n2                  1.0        0.354229      0.010310   \n3                  0.0        0.239303      0.210241   \n4                  1.0        0.521891      0.015330   \n...                ...             ...           ...   \n7038               1.0        0.662189      0.227521   \n7039               1.0        0.845274      0.847461   \n7040               1.0        0.112935      0.037809   \n7041               1.0        0.558706      0.033210   \n7042               1.0        0.869652      0.787641   \n\n      MultipleLines_No phone service  ...  StreamingTV_No internet service  \\\n0                                1.0  ...                              0.0   \n1                                0.0  ...                              0.0   \n2                                0.0  ...                              0.0   \n3                                1.0  ...                              0.0   \n4                                0.0  ...                              0.0   \n...                              ...  ...                              ...   \n7038                             0.0  ...                              0.0   \n7039                             0.0  ...                              0.0   \n7040                             1.0  ...                              0.0   \n7041                             0.0  ...                              0.0   \n7042                             0.0  ...                              0.0   \n\n      StreamingTV_Yes  StreamingMovies_No internet service  \\\n0                 0.0                                  0.0   \n1                 0.0                                  0.0   \n2                 0.0                                  0.0   \n3                 0.0                                  0.0   \n4                 0.0                                  0.0   \n...               ...                                  ...   \n7038              1.0                                  0.0   \n7039              1.0                                  0.0   \n7040              0.0                                  0.0   \n7041              0.0                                  0.0   \n7042              1.0                                  0.0   \n\n      StreamingMovies_Yes  Contract_One year  Contract_Two year  \\\n0                     0.0                0.0                0.0   \n1                     0.0                1.0                0.0   \n2                     0.0                0.0                0.0   \n3                     0.0                1.0                0.0   \n4                     0.0                0.0                0.0   \n...                   ...                ...                ...   \n7038                  1.0                1.0                0.0   \n7039                  1.0                1.0                0.0   \n7040                  0.0                0.0                0.0   \n7041                  0.0                0.0                0.0   \n7042                  1.0                0.0                1.0   \n\n      PaymentMethod_Credit card (automatic)  PaymentMethod_Electronic check  \\\n0                                       0.0                             1.0   \n1                                       0.0                             0.0   \n2                                       0.0                             0.0   \n3                                       0.0                             0.0   \n4                                       0.0                             1.0   \n...                                     ...                             ...   \n7038                                    0.0                             0.0   \n7039                                    1.0                             0.0   \n7040                                    0.0                             1.0   \n7041                                    0.0                             0.0   \n7042                                    0.0                             0.0   \n\n      PaymentMethod_Mailed check  Churn  \n0                            0.0    0.0  \n1                            1.0    0.0  \n2                            1.0    1.0  \n3                            0.0    0.0  \n4                            0.0    1.0  \n...                          ...    ...  \n7038                         1.0    0.0  \n7039                         0.0    0.0  \n7040                         0.0    0.0  \n7041                         1.0    1.0  \n7042                         0.0    0.0  \n\n[7043 rows x 31 columns]",
      "text/html": "<div>\n<style scoped>\n    .dataframe tbody tr th:only-of-type {\n        vertical-align: middle;\n    }\n\n    .dataframe tbody tr th {\n        vertical-align: top;\n    }\n\n    .dataframe thead th {\n        text-align: right;\n    }\n</style>\n<table border=\"1\" class=\"dataframe\">\n  <thead>\n    <tr style=\"text-align: right;\">\n      <th></th>\n      <th>gender</th>\n      <th>SeniorCitizen</th>\n      <th>Partner</th>\n      <th>Dependents</th>\n      <th>tenure</th>\n      <th>PhoneService</th>\n      <th>PaperlessBilling</th>\n      <th>MonthlyCharges</th>\n      <th>TotalCharges</th>\n      <th>MultipleLines_No phone service</th>\n      <th>...</th>\n      <th>StreamingTV_No internet service</th>\n      <th>StreamingTV_Yes</th>\n      <th>StreamingMovies_No internet service</th>\n      <th>StreamingMovies_Yes</th>\n      <th>Contract_One year</th>\n      <th>Contract_Two year</th>\n      <th>PaymentMethod_Credit card (automatic)</th>\n      <th>PaymentMethod_Electronic check</th>\n      <th>PaymentMethod_Mailed check</th>\n      <th>Churn</th>\n    </tr>\n  </thead>\n  <tbody>\n    <tr>\n      <th>0</th>\n      <td>1.0</td>\n      <td>0.0</td>\n      <td>1.0</td>\n      <td>0.0</td>\n      <td>0.013889</td>\n      <td>0.0</td>\n      <td>1.0</td>\n      <td>0.115423</td>\n      <td>0.001275</td>\n      <td>1.0</td>\n      <td>...</td>\n      <td>0.0</td>\n      <td>0.0</td>\n      <td>0.0</td>\n      <td>0.0</td>\n      <td>0.0</td>\n      <td>0.0</td>\n      <td>0.0</td>\n      <td>1.0</td>\n      <td>0.0</td>\n      <td>0.0</td>\n    </tr>\n    <tr>\n      <th>1</th>\n      <td>0.0</td>\n      <td>0.0</td>\n      <td>0.0</td>\n      <td>0.0</td>\n      <td>0.472222</td>\n      <td>1.0</td>\n      <td>0.0</td>\n      <td>0.385075</td>\n      <td>0.215867</td>\n      <td>0.0</td>\n      <td>...</td>\n      <td>0.0</td>\n      <td>0.0</td>\n      <td>0.0</td>\n      <td>0.0</td>\n      <td>1.0</td>\n      <td>0.0</td>\n      <td>0.0</td>\n      <td>0.0</td>\n      <td>1.0</td>\n      <td>0.0</td>\n    </tr>\n    <tr>\n      <th>2</th>\n      <td>0.0</td>\n      <td>0.0</td>\n      <td>0.0</td>\n      <td>0.0</td>\n      <td>0.027778</td>\n      <td>1.0</td>\n      <td>1.0</td>\n      <td>0.354229</td>\n      <td>0.010310</td>\n      <td>0.0</td>\n      <td>...</td>\n      <td>0.0</td>\n      <td>0.0</td>\n      <td>0.0</td>\n      <td>0.0</td>\n      <td>0.0</td>\n      <td>0.0</td>\n      <td>0.0</td>\n      <td>0.0</td>\n      <td>1.0</td>\n      <td>1.0</td>\n    </tr>\n    <tr>\n      <th>3</th>\n      <td>0.0</td>\n      <td>0.0</td>\n      <td>0.0</td>\n      <td>0.0</td>\n      <td>0.625000</td>\n      <td>0.0</td>\n      <td>0.0</td>\n      <td>0.239303</td>\n      <td>0.210241</td>\n      <td>1.0</td>\n      <td>...</td>\n      <td>0.0</td>\n      <td>0.0</td>\n      <td>0.0</td>\n      <td>0.0</td>\n      <td>1.0</td>\n      <td>0.0</td>\n      <td>0.0</td>\n      <td>0.0</td>\n      <td>0.0</td>\n      <td>0.0</td>\n    </tr>\n    <tr>\n      <th>4</th>\n      <td>1.0</td>\n      <td>0.0</td>\n      <td>0.0</td>\n      <td>0.0</td>\n      <td>0.027778</td>\n      <td>1.0</td>\n      <td>1.0</td>\n      <td>0.521891</td>\n      <td>0.015330</td>\n      <td>0.0</td>\n      <td>...</td>\n      <td>0.0</td>\n      <td>0.0</td>\n      <td>0.0</td>\n      <td>0.0</td>\n      <td>0.0</td>\n      <td>0.0</td>\n      <td>0.0</td>\n      <td>1.0</td>\n      <td>0.0</td>\n      <td>1.0</td>\n    </tr>\n    <tr>\n      <th>...</th>\n      <td>...</td>\n      <td>...</td>\n      <td>...</td>\n      <td>...</td>\n      <td>...</td>\n      <td>...</td>\n      <td>...</td>\n      <td>...</td>\n      <td>...</td>\n      <td>...</td>\n      <td>...</td>\n      <td>...</td>\n      <td>...</td>\n      <td>...</td>\n      <td>...</td>\n      <td>...</td>\n      <td>...</td>\n      <td>...</td>\n      <td>...</td>\n      <td>...</td>\n      <td>...</td>\n    </tr>\n    <tr>\n      <th>7038</th>\n      <td>0.0</td>\n      <td>0.0</td>\n      <td>1.0</td>\n      <td>1.0</td>\n      <td>0.333333</td>\n      <td>1.0</td>\n      <td>1.0</td>\n      <td>0.662189</td>\n      <td>0.227521</td>\n      <td>0.0</td>\n      <td>...</td>\n      <td>0.0</td>\n      <td>1.0</td>\n      <td>0.0</td>\n      <td>1.0</td>\n      <td>1.0</td>\n      <td>0.0</td>\n      <td>0.0</td>\n      <td>0.0</td>\n      <td>1.0</td>\n      <td>0.0</td>\n    </tr>\n    <tr>\n      <th>7039</th>\n      <td>1.0</td>\n      <td>0.0</td>\n      <td>1.0</td>\n      <td>1.0</td>\n      <td>1.000000</td>\n      <td>1.0</td>\n      <td>1.0</td>\n      <td>0.845274</td>\n      <td>0.847461</td>\n      <td>0.0</td>\n      <td>...</td>\n      <td>0.0</td>\n      <td>1.0</td>\n      <td>0.0</td>\n      <td>1.0</td>\n      <td>1.0</td>\n      <td>0.0</td>\n      <td>1.0</td>\n      <td>0.0</td>\n      <td>0.0</td>\n      <td>0.0</td>\n    </tr>\n    <tr>\n      <th>7040</th>\n      <td>1.0</td>\n      <td>0.0</td>\n      <td>1.0</td>\n      <td>1.0</td>\n      <td>0.152778</td>\n      <td>0.0</td>\n      <td>1.0</td>\n      <td>0.112935</td>\n      <td>0.037809</td>\n      <td>1.0</td>\n      <td>...</td>\n      <td>0.0</td>\n      <td>0.0</td>\n      <td>0.0</td>\n      <td>0.0</td>\n      <td>0.0</td>\n      <td>0.0</td>\n      <td>0.0</td>\n      <td>1.0</td>\n      <td>0.0</td>\n      <td>0.0</td>\n    </tr>\n    <tr>\n      <th>7041</th>\n      <td>0.0</td>\n      <td>1.0</td>\n      <td>1.0</td>\n      <td>0.0</td>\n      <td>0.055556</td>\n      <td>1.0</td>\n      <td>1.0</td>\n      <td>0.558706</td>\n      <td>0.033210</td>\n      <td>0.0</td>\n      <td>...</td>\n      <td>0.0</td>\n      <td>0.0</td>\n      <td>0.0</td>\n      <td>0.0</td>\n      <td>0.0</td>\n      <td>0.0</td>\n      <td>0.0</td>\n      <td>0.0</td>\n      <td>1.0</td>\n      <td>1.0</td>\n    </tr>\n    <tr>\n      <th>7042</th>\n      <td>0.0</td>\n      <td>0.0</td>\n      <td>0.0</td>\n      <td>0.0</td>\n      <td>0.916667</td>\n      <td>1.0</td>\n      <td>1.0</td>\n      <td>0.869652</td>\n      <td>0.787641</td>\n      <td>0.0</td>\n      <td>...</td>\n      <td>0.0</td>\n      <td>1.0</td>\n      <td>0.0</td>\n      <td>1.0</td>\n      <td>0.0</td>\n      <td>1.0</td>\n      <td>0.0</td>\n      <td>0.0</td>\n      <td>0.0</td>\n      <td>0.0</td>\n    </tr>\n  </tbody>\n</table>\n<p>7043 rows × 31 columns</p>\n</div>"
     },
     "execution_count": 86,
     "metadata": {},
     "output_type": "execute_result"
    }
   ],
   "source": [
    "data"
   ],
   "metadata": {
    "collapsed": false,
    "pycharm": {
     "name": "#%%\n"
    }
   }
  },
  {
   "cell_type": "code",
   "execution_count": 87,
   "outputs": [],
   "source": [
    "# Churn data full\n",
    "# data.insert(0, 'Ones', 1.0)\n",
    "# data = data.to_numpy()\n",
    "#\n",
    "# data_x = data[:, :-1]\n",
    "# data_y = data[:, -1]\n",
    "#\n",
    "# data_y = np.array([1.0 if it > 0 else -1.0 for it in data_y])\n",
    "# data_y = data_y.reshape((data_y.shape[0], 1))\n",
    "#\n",
    "# x_train, x_test, y_train, y_test = train_test_split(data_x, data_y, test_size=0.2, random_state=10)"
   ],
   "metadata": {
    "collapsed": false,
    "pycharm": {
     "name": "#%%\n"
    }
   }
  },
  {
   "cell_type": "code",
   "execution_count": 88,
   "outputs": [
    {
     "name": "stdout",
     "output_type": "stream",
     "text": [
      "['Contract_Two year', 'tenure', 'MonthlyCharges', 'InternetService_Fiber optic', 'DeviceProtection_No internet service', 'PaymentMethod_Electronic check', 'StreamingTV_No internet service', 'TotalCharges', 'StreamingMovies_No internet service', 'OnlineBackup_No internet service']\n"
     ]
    }
   ],
   "source": [
    "final_column = data.columns[-1]\n",
    "train_dataset, test_dataset = train_test_split(data, test_size=0.2, random_state=10)\n",
    "\n",
    "columns = info_gain(train_dataset)\n",
    "feature_cutoff = 10\n",
    "columns_to_use = columns[0:feature_cutoff]\n",
    "print(columns_to_use)\n",
    "columns_to_use.append(final_column)\n",
    "reduced_training, reduced_test = train_dataset[columns_to_use], test_dataset[columns_to_use]\n",
    "\n",
    "reduced_training.insert(0, 'Ones', 1.0)\n",
    "reduced_training = reduced_training.to_numpy()\n",
    "\n",
    "reduced_test.insert(0, 'Ones', 1.0)\n",
    "reduced_test = reduced_test.to_numpy()\n",
    "\n",
    "x_train = reduced_training[:, :-1]\n",
    "y_train = reduced_training[:, -1]\n",
    "y_train = np.array([1.0 if it > 0 else -1.0 for it in y_train])\n",
    "y_train = y_train.reshape((y_train.shape[0], 1))\n",
    "\n",
    "x_test = reduced_test[:, :-1]\n",
    "y_test = reduced_test[:, -1]\n",
    "y_test = np.array([1.0 if it > 0 else -1.0 for it in y_test])\n",
    "y_test = y_test.reshape((y_test.shape[0], 1))"
   ],
   "metadata": {
    "collapsed": false,
    "pycharm": {
     "name": "#%%\n"
    }
   }
  },
  {
   "cell_type": "code",
   "execution_count": 89,
   "outputs": [
    {
     "data": {
      "text/plain": "array([[1.        , 0.        , 0.79166667, ..., 0.3666282 , 0.        ,\n        0.        ],\n       [1.        , 0.        , 0.20833333, ..., 0.07989268, 0.        ,\n        0.        ],\n       [1.        , 0.        , 0.02777778, ..., 0.01587237, 0.        ,\n        0.        ],\n       ...,\n       [1.        , 0.        , 0.38888889, ..., 0.06280291, 1.        ,\n        1.        ],\n       [1.        , 0.        , 0.95833333, ..., 0.73427187, 0.        ,\n        0.        ],\n       [1.        , 0.        , 0.875     , ..., 0.47225363, 0.        ,\n        0.        ]])"
     },
     "execution_count": 89,
     "metadata": {},
     "output_type": "execute_result"
    }
   ],
   "source": [
    "x_train"
   ],
   "metadata": {
    "collapsed": false,
    "pycharm": {
     "name": "#%%\n"
    }
   }
  },
  {
   "cell_type": "code",
   "execution_count": 90,
   "outputs": [
    {
     "data": {
      "text/plain": "array([[-1.],\n       [-1.],\n       [ 1.],\n       ...,\n       [-1.],\n       [-1.],\n       [-1.]])"
     },
     "execution_count": 90,
     "metadata": {},
     "output_type": "execute_result"
    }
   ],
   "source": [
    "y_train"
   ],
   "metadata": {
    "collapsed": false,
    "pycharm": {
     "name": "#%%\n"
    }
   }
  },
  {
   "cell_type": "code",
   "execution_count": 91,
   "outputs": [
    {
     "data": {
      "text/plain": "array([[1.        , 0.        , 0.43055556, ..., 0.28446804, 0.        ,\n        0.        ],\n       [1.        , 0.        , 0.02777778, ..., 0.01623009, 0.        ,\n        0.        ],\n       [1.        , 0.        , 0.83333333, ..., 0.67484422, 0.        ,\n        0.        ],\n       ...,\n       [1.        , 0.        , 0.61111111, ..., 0.47358643, 0.        ,\n        0.        ],\n       [1.        , 1.        , 0.98611111, ..., 0.92999077, 0.        ,\n        0.        ],\n       [1.        , 0.        , 0.02777778, ..., 0.01851489, 0.        ,\n        0.        ]])"
     },
     "execution_count": 91,
     "metadata": {},
     "output_type": "execute_result"
    }
   ],
   "source": [
    "x_test"
   ],
   "metadata": {
    "collapsed": false,
    "pycharm": {
     "name": "#%%\n"
    }
   }
  },
  {
   "cell_type": "code",
   "execution_count": 92,
   "outputs": [
    {
     "data": {
      "text/plain": "array([[-1.],\n       [ 1.],\n       [-1.],\n       ...,\n       [-1.],\n       [-1.],\n       [ 1.]])"
     },
     "execution_count": 92,
     "metadata": {},
     "output_type": "execute_result"
    }
   ],
   "source": [
    "y_test"
   ],
   "metadata": {
    "collapsed": false,
    "pycharm": {
     "name": "#%%\n"
    }
   }
  },
  {
   "cell_type": "code",
   "execution_count": 93,
   "outputs": [
    {
     "name": "stdout",
     "output_type": "stream",
     "text": [
      "Test set stats = \n",
      "Accuracy is 0.7913413768630234\n",
      "Sensitivity is 0.46355685131195334\n",
      "Specificity is 0.8968105065666041\n",
      "Precision is 0.5910780669144982\n",
      "False discovery rate 0.40892193308550184\n",
      "F1 score 0.5196078431372549\n",
      "Train set stats = \n",
      "Accuracy is 0.7971246006389776\n",
      "Sensitivity is 0.49344692005242463\n",
      "Specificity is 0.9099318403115871\n",
      "Precision is 0.6705253784505788\n",
      "False discovery rate 0.3294746215494212\n",
      "F1 score 0.5685164212910532\n"
     ]
    }
   ],
   "source": [
    "logistic_regression_test(x_train, y_train, x_test, y_test, 0.5)"
   ],
   "metadata": {
    "collapsed": false,
    "pycharm": {
     "name": "#%%\n"
    }
   }
  },
  {
   "cell_type": "code",
   "execution_count": 94,
   "outputs": [],
   "source": [
    "# for i in range(1, 5):\n",
    "#     adaboost_test(x_train, y_train, x_test, y_test, i*5)"
   ],
   "metadata": {
    "collapsed": false,
    "pycharm": {
     "name": "#%%\n"
    }
   }
  },
  {
   "cell_type": "code",
   "execution_count": 95,
   "outputs": [],
   "source": [
    "# adult data\n",
    "training_set, test_set = preprocess_adult_data()"
   ],
   "metadata": {
    "collapsed": false,
    "pycharm": {
     "name": "#%%\n"
    }
   }
  },
  {
   "cell_type": "code",
   "execution_count": 96,
   "outputs": [
    {
     "data": {
      "text/plain": "             C0        C2        C4   C9       C10  C11       C12  \\\n0      0.301370  0.044131  0.800000  1.0  0.021740  0.0  0.397959   \n1      0.452055  0.048052  0.800000  1.0  0.000000  0.0  0.122449   \n2      0.287671  0.137581  0.533333  1.0  0.000000  0.0  0.397959   \n3      0.493151  0.150486  0.400000  1.0  0.000000  0.0  0.397959   \n4      0.150685  0.220635  0.800000  0.0  0.000000  0.0  0.397959   \n...         ...       ...       ...  ...       ...  ...       ...   \n32556  0.136986  0.165763  0.733333  0.0  0.000000  0.0  0.377551   \n32557  0.315068  0.096129  0.533333  1.0  0.000000  0.0  0.397959   \n32558  0.561644  0.094462  0.533333  0.0  0.000000  0.0  0.397959   \n32559  0.068493  0.128004  0.533333  1.0  0.000000  0.0  0.193878   \n32560  0.479452  0.186482  0.533333  0.0  0.150242  0.0  0.397959   \n\n       C1_Local-gov  C1_Never-worked  C1_Private  ...  C13_Puerto-Rico  \\\n0               0.0              0.0         0.0  ...              0.0   \n1               0.0              0.0         0.0  ...              0.0   \n2               0.0              0.0         1.0  ...              0.0   \n3               0.0              0.0         1.0  ...              0.0   \n4               0.0              0.0         1.0  ...              0.0   \n...             ...              ...         ...  ...              ...   \n32556           0.0              0.0         1.0  ...              0.0   \n32557           0.0              0.0         1.0  ...              0.0   \n32558           0.0              0.0         1.0  ...              0.0   \n32559           0.0              0.0         1.0  ...              0.0   \n32560           0.0              0.0         0.0  ...              0.0   \n\n       C13_Scotland  C13_South  C13_Taiwan  C13_Thailand  C13_Trinadad&Tobago  \\\n0               0.0        0.0         0.0           0.0                  0.0   \n1               0.0        0.0         0.0           0.0                  0.0   \n2               0.0        0.0         0.0           0.0                  0.0   \n3               0.0        0.0         0.0           0.0                  0.0   \n4               0.0        0.0         0.0           0.0                  0.0   \n...             ...        ...         ...           ...                  ...   \n32556           0.0        0.0         0.0           0.0                  0.0   \n32557           0.0        0.0         0.0           0.0                  0.0   \n32558           0.0        0.0         0.0           0.0                  0.0   \n32559           0.0        0.0         0.0           0.0                  0.0   \n32560           0.0        0.0         0.0           0.0                  0.0   \n\n       C13_United-States  C13_Vietnam  C13_Yugoslavia  C14  \n0                    1.0          0.0             0.0  0.0  \n1                    1.0          0.0             0.0  0.0  \n2                    1.0          0.0             0.0  0.0  \n3                    1.0          0.0             0.0  0.0  \n4                    0.0          0.0             0.0  0.0  \n...                  ...          ...             ...  ...  \n32556                1.0          0.0             0.0  0.0  \n32557                1.0          0.0             0.0  1.0  \n32558                1.0          0.0             0.0  0.0  \n32559                1.0          0.0             0.0  0.0  \n32560                1.0          0.0             0.0  1.0  \n\n[32561 rows x 98 columns]",
      "text/html": "<div>\n<style scoped>\n    .dataframe tbody tr th:only-of-type {\n        vertical-align: middle;\n    }\n\n    .dataframe tbody tr th {\n        vertical-align: top;\n    }\n\n    .dataframe thead th {\n        text-align: right;\n    }\n</style>\n<table border=\"1\" class=\"dataframe\">\n  <thead>\n    <tr style=\"text-align: right;\">\n      <th></th>\n      <th>C0</th>\n      <th>C2</th>\n      <th>C4</th>\n      <th>C9</th>\n      <th>C10</th>\n      <th>C11</th>\n      <th>C12</th>\n      <th>C1_Local-gov</th>\n      <th>C1_Never-worked</th>\n      <th>C1_Private</th>\n      <th>...</th>\n      <th>C13_Puerto-Rico</th>\n      <th>C13_Scotland</th>\n      <th>C13_South</th>\n      <th>C13_Taiwan</th>\n      <th>C13_Thailand</th>\n      <th>C13_Trinadad&amp;Tobago</th>\n      <th>C13_United-States</th>\n      <th>C13_Vietnam</th>\n      <th>C13_Yugoslavia</th>\n      <th>C14</th>\n    </tr>\n  </thead>\n  <tbody>\n    <tr>\n      <th>0</th>\n      <td>0.301370</td>\n      <td>0.044131</td>\n      <td>0.800000</td>\n      <td>1.0</td>\n      <td>0.021740</td>\n      <td>0.0</td>\n      <td>0.397959</td>\n      <td>0.0</td>\n      <td>0.0</td>\n      <td>0.0</td>\n      <td>...</td>\n      <td>0.0</td>\n      <td>0.0</td>\n      <td>0.0</td>\n      <td>0.0</td>\n      <td>0.0</td>\n      <td>0.0</td>\n      <td>1.0</td>\n      <td>0.0</td>\n      <td>0.0</td>\n      <td>0.0</td>\n    </tr>\n    <tr>\n      <th>1</th>\n      <td>0.452055</td>\n      <td>0.048052</td>\n      <td>0.800000</td>\n      <td>1.0</td>\n      <td>0.000000</td>\n      <td>0.0</td>\n      <td>0.122449</td>\n      <td>0.0</td>\n      <td>0.0</td>\n      <td>0.0</td>\n      <td>...</td>\n      <td>0.0</td>\n      <td>0.0</td>\n      <td>0.0</td>\n      <td>0.0</td>\n      <td>0.0</td>\n      <td>0.0</td>\n      <td>1.0</td>\n      <td>0.0</td>\n      <td>0.0</td>\n      <td>0.0</td>\n    </tr>\n    <tr>\n      <th>2</th>\n      <td>0.287671</td>\n      <td>0.137581</td>\n      <td>0.533333</td>\n      <td>1.0</td>\n      <td>0.000000</td>\n      <td>0.0</td>\n      <td>0.397959</td>\n      <td>0.0</td>\n      <td>0.0</td>\n      <td>1.0</td>\n      <td>...</td>\n      <td>0.0</td>\n      <td>0.0</td>\n      <td>0.0</td>\n      <td>0.0</td>\n      <td>0.0</td>\n      <td>0.0</td>\n      <td>1.0</td>\n      <td>0.0</td>\n      <td>0.0</td>\n      <td>0.0</td>\n    </tr>\n    <tr>\n      <th>3</th>\n      <td>0.493151</td>\n      <td>0.150486</td>\n      <td>0.400000</td>\n      <td>1.0</td>\n      <td>0.000000</td>\n      <td>0.0</td>\n      <td>0.397959</td>\n      <td>0.0</td>\n      <td>0.0</td>\n      <td>1.0</td>\n      <td>...</td>\n      <td>0.0</td>\n      <td>0.0</td>\n      <td>0.0</td>\n      <td>0.0</td>\n      <td>0.0</td>\n      <td>0.0</td>\n      <td>1.0</td>\n      <td>0.0</td>\n      <td>0.0</td>\n      <td>0.0</td>\n    </tr>\n    <tr>\n      <th>4</th>\n      <td>0.150685</td>\n      <td>0.220635</td>\n      <td>0.800000</td>\n      <td>0.0</td>\n      <td>0.000000</td>\n      <td>0.0</td>\n      <td>0.397959</td>\n      <td>0.0</td>\n      <td>0.0</td>\n      <td>1.0</td>\n      <td>...</td>\n      <td>0.0</td>\n      <td>0.0</td>\n      <td>0.0</td>\n      <td>0.0</td>\n      <td>0.0</td>\n      <td>0.0</td>\n      <td>0.0</td>\n      <td>0.0</td>\n      <td>0.0</td>\n      <td>0.0</td>\n    </tr>\n    <tr>\n      <th>...</th>\n      <td>...</td>\n      <td>...</td>\n      <td>...</td>\n      <td>...</td>\n      <td>...</td>\n      <td>...</td>\n      <td>...</td>\n      <td>...</td>\n      <td>...</td>\n      <td>...</td>\n      <td>...</td>\n      <td>...</td>\n      <td>...</td>\n      <td>...</td>\n      <td>...</td>\n      <td>...</td>\n      <td>...</td>\n      <td>...</td>\n      <td>...</td>\n      <td>...</td>\n      <td>...</td>\n    </tr>\n    <tr>\n      <th>32556</th>\n      <td>0.136986</td>\n      <td>0.165763</td>\n      <td>0.733333</td>\n      <td>0.0</td>\n      <td>0.000000</td>\n      <td>0.0</td>\n      <td>0.377551</td>\n      <td>0.0</td>\n      <td>0.0</td>\n      <td>1.0</td>\n      <td>...</td>\n      <td>0.0</td>\n      <td>0.0</td>\n      <td>0.0</td>\n      <td>0.0</td>\n      <td>0.0</td>\n      <td>0.0</td>\n      <td>1.0</td>\n      <td>0.0</td>\n      <td>0.0</td>\n      <td>0.0</td>\n    </tr>\n    <tr>\n      <th>32557</th>\n      <td>0.315068</td>\n      <td>0.096129</td>\n      <td>0.533333</td>\n      <td>1.0</td>\n      <td>0.000000</td>\n      <td>0.0</td>\n      <td>0.397959</td>\n      <td>0.0</td>\n      <td>0.0</td>\n      <td>1.0</td>\n      <td>...</td>\n      <td>0.0</td>\n      <td>0.0</td>\n      <td>0.0</td>\n      <td>0.0</td>\n      <td>0.0</td>\n      <td>0.0</td>\n      <td>1.0</td>\n      <td>0.0</td>\n      <td>0.0</td>\n      <td>1.0</td>\n    </tr>\n    <tr>\n      <th>32558</th>\n      <td>0.561644</td>\n      <td>0.094462</td>\n      <td>0.533333</td>\n      <td>0.0</td>\n      <td>0.000000</td>\n      <td>0.0</td>\n      <td>0.397959</td>\n      <td>0.0</td>\n      <td>0.0</td>\n      <td>1.0</td>\n      <td>...</td>\n      <td>0.0</td>\n      <td>0.0</td>\n      <td>0.0</td>\n      <td>0.0</td>\n      <td>0.0</td>\n      <td>0.0</td>\n      <td>1.0</td>\n      <td>0.0</td>\n      <td>0.0</td>\n      <td>0.0</td>\n    </tr>\n    <tr>\n      <th>32559</th>\n      <td>0.068493</td>\n      <td>0.128004</td>\n      <td>0.533333</td>\n      <td>1.0</td>\n      <td>0.000000</td>\n      <td>0.0</td>\n      <td>0.193878</td>\n      <td>0.0</td>\n      <td>0.0</td>\n      <td>1.0</td>\n      <td>...</td>\n      <td>0.0</td>\n      <td>0.0</td>\n      <td>0.0</td>\n      <td>0.0</td>\n      <td>0.0</td>\n      <td>0.0</td>\n      <td>1.0</td>\n      <td>0.0</td>\n      <td>0.0</td>\n      <td>0.0</td>\n    </tr>\n    <tr>\n      <th>32560</th>\n      <td>0.479452</td>\n      <td>0.186482</td>\n      <td>0.533333</td>\n      <td>0.0</td>\n      <td>0.150242</td>\n      <td>0.0</td>\n      <td>0.397959</td>\n      <td>0.0</td>\n      <td>0.0</td>\n      <td>0.0</td>\n      <td>...</td>\n      <td>0.0</td>\n      <td>0.0</td>\n      <td>0.0</td>\n      <td>0.0</td>\n      <td>0.0</td>\n      <td>0.0</td>\n      <td>1.0</td>\n      <td>0.0</td>\n      <td>0.0</td>\n      <td>1.0</td>\n    </tr>\n  </tbody>\n</table>\n<p>32561 rows × 98 columns</p>\n</div>"
     },
     "execution_count": 96,
     "metadata": {},
     "output_type": "execute_result"
    }
   ],
   "source": [
    "training_set"
   ],
   "metadata": {
    "collapsed": false,
    "pycharm": {
     "name": "#%%\n"
    }
   }
  },
  {
   "cell_type": "code",
   "execution_count": 97,
   "outputs": [
    {
     "data": {
      "text/plain": "             C0        C2        C4   C9       C10  C11       C12  \\\n0      0.109589  0.145129  0.400000  1.0  0.000000  0.0  0.397959   \n1      0.287671  0.052451  0.533333  1.0  0.000000  0.0  0.500000   \n2      0.150685  0.219649  0.733333  1.0  0.000000  0.0  0.397959   \n3      0.369863  0.100153  0.600000  1.0  0.076881  0.0  0.397959   \n4      0.013699  0.061708  0.600000  0.0  0.000000  0.0  0.295918   \n...         ...       ...       ...  ...       ...  ...       ...   \n16276  0.301370  0.137428  0.800000  0.0  0.000000  0.0  0.357143   \n16277  0.643836  0.209130  0.533333  1.0  0.000000  0.0  0.397959   \n16278  0.287671  0.245379  0.800000  1.0  0.000000  0.0  0.500000   \n16279  0.369863  0.048444  0.800000  1.0  0.054551  0.0  0.397959   \n16280  0.246575  0.114919  0.800000  1.0  0.000000  0.0  0.602041   \n\n       C1_Local-gov  C1_Never-worked  C1_Private  ...  C13_Puerto-Rico  \\\n0               0.0              0.0         1.0  ...              0.0   \n1               0.0              0.0         1.0  ...              0.0   \n2               1.0              0.0         0.0  ...              0.0   \n3               0.0              0.0         1.0  ...              0.0   \n4               0.0              0.0         1.0  ...              0.0   \n...             ...              ...         ...  ...              ...   \n16276           0.0              0.0         1.0  ...              0.0   \n16277           0.0              0.0         1.0  ...              0.0   \n16278           0.0              0.0         1.0  ...              0.0   \n16279           0.0              0.0         1.0  ...              0.0   \n16280           0.0              0.0         0.0  ...              0.0   \n\n       C13_Scotland  C13_South  C13_Taiwan  C13_Thailand  C13_Trinadad&Tobago  \\\n0               0.0        0.0         0.0           0.0                  0.0   \n1               0.0        0.0         0.0           0.0                  0.0   \n2               0.0        0.0         0.0           0.0                  0.0   \n3               0.0        0.0         0.0           0.0                  0.0   \n4               0.0        0.0         0.0           0.0                  0.0   \n...             ...        ...         ...           ...                  ...   \n16276           0.0        0.0         0.0           0.0                  0.0   \n16277           0.0        0.0         0.0           0.0                  0.0   \n16278           0.0        0.0         0.0           0.0                  0.0   \n16279           0.0        0.0         0.0           0.0                  0.0   \n16280           0.0        0.0         0.0           0.0                  0.0   \n\n       C13_United-States  C13_Vietnam  C13_Yugoslavia  C14  \n0                    1.0          0.0             0.0  0.0  \n1                    1.0          0.0             0.0  0.0  \n2                    1.0          0.0             0.0  1.0  \n3                    1.0          0.0             0.0  1.0  \n4                    1.0          0.0             0.0  0.0  \n...                  ...          ...             ...  ...  \n16276                1.0          0.0             0.0  0.0  \n16277                1.0          0.0             0.0  0.0  \n16278                1.0          0.0             0.0  0.0  \n16279                1.0          0.0             0.0  0.0  \n16280                1.0          0.0             0.0  1.0  \n\n[16281 rows x 98 columns]",
      "text/html": "<div>\n<style scoped>\n    .dataframe tbody tr th:only-of-type {\n        vertical-align: middle;\n    }\n\n    .dataframe tbody tr th {\n        vertical-align: top;\n    }\n\n    .dataframe thead th {\n        text-align: right;\n    }\n</style>\n<table border=\"1\" class=\"dataframe\">\n  <thead>\n    <tr style=\"text-align: right;\">\n      <th></th>\n      <th>C0</th>\n      <th>C2</th>\n      <th>C4</th>\n      <th>C9</th>\n      <th>C10</th>\n      <th>C11</th>\n      <th>C12</th>\n      <th>C1_Local-gov</th>\n      <th>C1_Never-worked</th>\n      <th>C1_Private</th>\n      <th>...</th>\n      <th>C13_Puerto-Rico</th>\n      <th>C13_Scotland</th>\n      <th>C13_South</th>\n      <th>C13_Taiwan</th>\n      <th>C13_Thailand</th>\n      <th>C13_Trinadad&amp;Tobago</th>\n      <th>C13_United-States</th>\n      <th>C13_Vietnam</th>\n      <th>C13_Yugoslavia</th>\n      <th>C14</th>\n    </tr>\n  </thead>\n  <tbody>\n    <tr>\n      <th>0</th>\n      <td>0.109589</td>\n      <td>0.145129</td>\n      <td>0.400000</td>\n      <td>1.0</td>\n      <td>0.000000</td>\n      <td>0.0</td>\n      <td>0.397959</td>\n      <td>0.0</td>\n      <td>0.0</td>\n      <td>1.0</td>\n      <td>...</td>\n      <td>0.0</td>\n      <td>0.0</td>\n      <td>0.0</td>\n      <td>0.0</td>\n      <td>0.0</td>\n      <td>0.0</td>\n      <td>1.0</td>\n      <td>0.0</td>\n      <td>0.0</td>\n      <td>0.0</td>\n    </tr>\n    <tr>\n      <th>1</th>\n      <td>0.287671</td>\n      <td>0.052451</td>\n      <td>0.533333</td>\n      <td>1.0</td>\n      <td>0.000000</td>\n      <td>0.0</td>\n      <td>0.500000</td>\n      <td>0.0</td>\n      <td>0.0</td>\n      <td>1.0</td>\n      <td>...</td>\n      <td>0.0</td>\n      <td>0.0</td>\n      <td>0.0</td>\n      <td>0.0</td>\n      <td>0.0</td>\n      <td>0.0</td>\n      <td>1.0</td>\n      <td>0.0</td>\n      <td>0.0</td>\n      <td>0.0</td>\n    </tr>\n    <tr>\n      <th>2</th>\n      <td>0.150685</td>\n      <td>0.219649</td>\n      <td>0.733333</td>\n      <td>1.0</td>\n      <td>0.000000</td>\n      <td>0.0</td>\n      <td>0.397959</td>\n      <td>1.0</td>\n      <td>0.0</td>\n      <td>0.0</td>\n      <td>...</td>\n      <td>0.0</td>\n      <td>0.0</td>\n      <td>0.0</td>\n      <td>0.0</td>\n      <td>0.0</td>\n      <td>0.0</td>\n      <td>1.0</td>\n      <td>0.0</td>\n      <td>0.0</td>\n      <td>1.0</td>\n    </tr>\n    <tr>\n      <th>3</th>\n      <td>0.369863</td>\n      <td>0.100153</td>\n      <td>0.600000</td>\n      <td>1.0</td>\n      <td>0.076881</td>\n      <td>0.0</td>\n      <td>0.397959</td>\n      <td>0.0</td>\n      <td>0.0</td>\n      <td>1.0</td>\n      <td>...</td>\n      <td>0.0</td>\n      <td>0.0</td>\n      <td>0.0</td>\n      <td>0.0</td>\n      <td>0.0</td>\n      <td>0.0</td>\n      <td>1.0</td>\n      <td>0.0</td>\n      <td>0.0</td>\n      <td>1.0</td>\n    </tr>\n    <tr>\n      <th>4</th>\n      <td>0.013699</td>\n      <td>0.061708</td>\n      <td>0.600000</td>\n      <td>0.0</td>\n      <td>0.000000</td>\n      <td>0.0</td>\n      <td>0.295918</td>\n      <td>0.0</td>\n      <td>0.0</td>\n      <td>1.0</td>\n      <td>...</td>\n      <td>0.0</td>\n      <td>0.0</td>\n      <td>0.0</td>\n      <td>0.0</td>\n      <td>0.0</td>\n      <td>0.0</td>\n      <td>1.0</td>\n      <td>0.0</td>\n      <td>0.0</td>\n      <td>0.0</td>\n    </tr>\n    <tr>\n      <th>...</th>\n      <td>...</td>\n      <td>...</td>\n      <td>...</td>\n      <td>...</td>\n      <td>...</td>\n      <td>...</td>\n      <td>...</td>\n      <td>...</td>\n      <td>...</td>\n      <td>...</td>\n      <td>...</td>\n      <td>...</td>\n      <td>...</td>\n      <td>...</td>\n      <td>...</td>\n      <td>...</td>\n      <td>...</td>\n      <td>...</td>\n      <td>...</td>\n      <td>...</td>\n      <td>...</td>\n    </tr>\n    <tr>\n      <th>16276</th>\n      <td>0.301370</td>\n      <td>0.137428</td>\n      <td>0.800000</td>\n      <td>0.0</td>\n      <td>0.000000</td>\n      <td>0.0</td>\n      <td>0.357143</td>\n      <td>0.0</td>\n      <td>0.0</td>\n      <td>1.0</td>\n      <td>...</td>\n      <td>0.0</td>\n      <td>0.0</td>\n      <td>0.0</td>\n      <td>0.0</td>\n      <td>0.0</td>\n      <td>0.0</td>\n      <td>1.0</td>\n      <td>0.0</td>\n      <td>0.0</td>\n      <td>0.0</td>\n    </tr>\n    <tr>\n      <th>16277</th>\n      <td>0.643836</td>\n      <td>0.209130</td>\n      <td>0.533333</td>\n      <td>1.0</td>\n      <td>0.000000</td>\n      <td>0.0</td>\n      <td>0.397959</td>\n      <td>0.0</td>\n      <td>0.0</td>\n      <td>1.0</td>\n      <td>...</td>\n      <td>0.0</td>\n      <td>0.0</td>\n      <td>0.0</td>\n      <td>0.0</td>\n      <td>0.0</td>\n      <td>0.0</td>\n      <td>1.0</td>\n      <td>0.0</td>\n      <td>0.0</td>\n      <td>0.0</td>\n    </tr>\n    <tr>\n      <th>16278</th>\n      <td>0.287671</td>\n      <td>0.245379</td>\n      <td>0.800000</td>\n      <td>1.0</td>\n      <td>0.000000</td>\n      <td>0.0</td>\n      <td>0.500000</td>\n      <td>0.0</td>\n      <td>0.0</td>\n      <td>1.0</td>\n      <td>...</td>\n      <td>0.0</td>\n      <td>0.0</td>\n      <td>0.0</td>\n      <td>0.0</td>\n      <td>0.0</td>\n      <td>0.0</td>\n      <td>1.0</td>\n      <td>0.0</td>\n      <td>0.0</td>\n      <td>0.0</td>\n    </tr>\n    <tr>\n      <th>16279</th>\n      <td>0.369863</td>\n      <td>0.048444</td>\n      <td>0.800000</td>\n      <td>1.0</td>\n      <td>0.054551</td>\n      <td>0.0</td>\n      <td>0.397959</td>\n      <td>0.0</td>\n      <td>0.0</td>\n      <td>1.0</td>\n      <td>...</td>\n      <td>0.0</td>\n      <td>0.0</td>\n      <td>0.0</td>\n      <td>0.0</td>\n      <td>0.0</td>\n      <td>0.0</td>\n      <td>1.0</td>\n      <td>0.0</td>\n      <td>0.0</td>\n      <td>0.0</td>\n    </tr>\n    <tr>\n      <th>16280</th>\n      <td>0.246575</td>\n      <td>0.114919</td>\n      <td>0.800000</td>\n      <td>1.0</td>\n      <td>0.000000</td>\n      <td>0.0</td>\n      <td>0.602041</td>\n      <td>0.0</td>\n      <td>0.0</td>\n      <td>0.0</td>\n      <td>...</td>\n      <td>0.0</td>\n      <td>0.0</td>\n      <td>0.0</td>\n      <td>0.0</td>\n      <td>0.0</td>\n      <td>0.0</td>\n      <td>1.0</td>\n      <td>0.0</td>\n      <td>0.0</td>\n      <td>1.0</td>\n    </tr>\n  </tbody>\n</table>\n<p>16281 rows × 98 columns</p>\n</div>"
     },
     "execution_count": 97,
     "metadata": {},
     "output_type": "execute_result"
    }
   ],
   "source": [
    "test_set"
   ],
   "metadata": {
    "collapsed": false,
    "pycharm": {
     "name": "#%%\n"
    }
   }
  },
  {
   "cell_type": "code",
   "execution_count": 98,
   "outputs": [],
   "source": [
    "# training_set.insert(0, 'Ones', 1.0)\n",
    "# training_set = training_set.to_numpy()\n",
    "# #\n",
    "# test_set.insert(0, 'Ones', 1.0)\n",
    "# test_set = test_set.to_numpy()\n",
    "#\n",
    "# x_train = training_set[:, :-1]\n",
    "# y_train = training_set[:, -1]\n",
    "# #\n",
    "# x_test = test_set[:, :-1]\n",
    "# y_test = test_set[:, -1]\n",
    "# #\n",
    "# y_train = np.array([1.0 if it > 0 else -1.0 for it in y_train])\n",
    "# y_train = y_train.reshape((y_train.shape[0], 1))\n",
    "# #\n",
    "# y_test = np.array([1.0 if it > 0 else -1.0 for it in y_test])\n",
    "# y_test = y_test.reshape((y_test.shape[0], 1))"
   ],
   "metadata": {
    "collapsed": false,
    "pycharm": {
     "name": "#%%\n"
    }
   }
  },
  {
   "cell_type": "code",
   "execution_count": 99,
   "outputs": [
    {
     "name": "stdout",
     "output_type": "stream",
     "text": [
      "['C5_Married-civ-spouse', 'C10', 'C0', 'C5_Never-married', 'C4', 'C12', 'C7_Own-child', 'C11', 'C2', 'C9', 'C6_Exec-managerial', 'C7_Not-in-family', 'C6_Other-service', 'C3_Bachelors', 'C7_Unmarried', 'C1_Private', 'C3_Masters', 'C3_HS-grad', 'C6_Prof-specialty', 'C3_Prof-school', 'C3_Some-college', 'C7_Other-relative', 'C1_Self-emp-inc', 'C3_Doctorate', 'C13_Philippines', 'C7_Wife', 'C6_Machine-op-inspct', 'C8_White', 'C8_Black', 'C5_Separated', 'C1_Without-pay', 'C13_United-States', 'C1_Never-worked', 'C3_11th', 'C13_Haiti']\n"
     ]
    }
   ],
   "source": [
    "final_column = training_set.columns[-1]\n",
    "#\n",
    "columns = info_gain(training_set)\n",
    "feature_cutoff = 35\n",
    "columns_to_use = columns[0:feature_cutoff]\n",
    "# columns_to_use = columns[-feature_cutoff:]\n",
    "print(columns_to_use)\n",
    "columns_to_use.append(final_column)\n",
    "reduced_training, reduced_test = training_set[columns_to_use], test_set[columns_to_use]\n",
    "#\n",
    "reduced_training.insert(0, 'Ones', 1.0)\n",
    "reduced_training = reduced_training.to_numpy()\n",
    "#\n",
    "reduced_test.insert(0, 'Ones', 1.0)\n",
    "reduced_test = reduced_test.to_numpy()\n",
    "#\n",
    "x_train = reduced_training[:, :-1]\n",
    "y_train = reduced_training[:, -1]\n",
    "y_train = np.array([1.0 if it > 0 else -1.0 for it in y_train])\n",
    "y_train = y_train.reshape((y_train.shape[0], 1))\n",
    "#\n",
    "x_test = reduced_test[:, :-1]\n",
    "y_test = reduced_test[:, -1]\n",
    "y_test = np.array([1.0 if it > 0 else -1.0 for it in y_test])\n",
    "y_test = y_test.reshape((y_test.shape[0], 1))"
   ],
   "metadata": {
    "collapsed": false,
    "pycharm": {
     "name": "#%%\n"
    }
   }
  },
  {
   "cell_type": "code",
   "execution_count": 100,
   "outputs": [
    {
     "name": "stdout",
     "output_type": "stream",
     "text": [
      "Test set stats = \n",
      "Accuracy is 0.8256863829003133\n",
      "Sensitivity is 0.4877795111804472\n",
      "Specificity is 0.9301970245275433\n",
      "Precision is 0.6836734693877551\n",
      "False discovery rate 0.3163265306122449\n",
      "F1 score 0.5693474962063733\n",
      "Train set stats = \n",
      "Accuracy is 0.8229784097540002\n",
      "Sensitivity is 0.4865450835352634\n",
      "Specificity is 0.9296925566343042\n",
      "Precision is 0.6870160273725914\n",
      "False discovery rate 0.3129839726274086\n",
      "F1 score 0.5696580558459011\n"
     ]
    }
   ],
   "source": [
    "logistic_regression_test(x_train, y_train, x_test, y_test, 0.5)"
   ],
   "metadata": {
    "collapsed": false,
    "pycharm": {
     "name": "#%%\n"
    }
   }
  },
  {
   "cell_type": "code",
   "execution_count": 101,
   "outputs": [],
   "source": [
    "# for i in range(1, 5):\n",
    "#     adaboost_test(x_train, y_train, x_test, y_test, i*5)"
   ],
   "metadata": {
    "collapsed": false,
    "pycharm": {
     "name": "#%%\n"
    }
   }
  },
  {
   "cell_type": "code",
   "execution_count": 102,
   "outputs": [],
   "source": [
    "# credit card data\n",
    "data = preprocess_cc_data()"
   ],
   "metadata": {
    "collapsed": false,
    "pycharm": {
     "name": "#%%\n"
    }
   }
  },
  {
   "cell_type": "code",
   "execution_count": 103,
   "outputs": [
    {
     "data": {
      "text/plain": "           Time        V1        V2        V3        V4        V5        V6  \\\n0      0.002194  0.871937  0.756360  0.839488  0.422320  0.453419  0.534553   \n1      0.002576  0.852156  0.694446  0.916291  0.345643  0.488243  0.544933   \n2      0.025675  0.872177  0.754024  0.875070  0.347509  0.447878  0.573315   \n3      0.040287  0.815522  0.749167  0.811509  0.363190  0.442206  0.526518   \n4      0.043373  0.967860  0.769299  0.762787  0.455287  0.530144  0.536527   \n...         ...       ...       ...       ...       ...       ...       ...   \n20487  0.798935  0.927634  0.730324  0.914873  0.225182  0.472249  0.584673   \n20488  0.193927  0.898397  0.729857  0.949303  0.171346  0.468805  0.542631   \n20489  0.701439  0.946815  0.735143  0.847252  0.237145  0.477708  0.557522   \n20490  0.393273  0.926169  0.746261  0.913372  0.288489  0.476818  0.560492   \n20491  0.766915  0.929675  0.735957  0.904793  0.208778  0.473439  0.617974   \n\n             V7        V8        V9  ...       V21       V22       V23  \\\n0      0.603411  0.695084  0.447977  ...  0.466293  0.529878  0.733354   \n1      0.645526  0.671179  0.552962  ...  0.469182  0.556222  0.770653   \n2      0.649008  0.665752  0.554336  ...  0.450065  0.479639  0.746278   \n3      0.589307  0.668215  0.553936  ...  0.467419  0.541748  0.733942   \n4      0.665942  0.664159  0.510454  ...  0.448367  0.492416  0.729473   \n...         ...       ...       ...  ...       ...       ...       ...   \n20487  0.634569  0.666807  0.518004  ...  0.459547  0.581803  0.733516   \n20488  0.636428  0.655356  0.509896  ...  0.470662  0.518548  0.739133   \n20489  0.655362  0.652972  0.550783  ...  0.477411  0.558280  0.733881   \n20490  0.655068  0.669626  0.519729  ...  0.459162  0.563336  0.738276   \n20491  0.638465  0.680578  0.596642  ...  0.463155  0.597422  0.743492   \n\n            V24       V25       V26       V27       V28    Amount  Class  \n0      0.480991  0.643781  0.485812  0.603256  0.452491  0.000000    1.0  \n1      0.387023  0.661109  0.429380  0.566877  0.462274  0.027975    1.0  \n2      0.418622  0.629004  0.360017  0.587571  0.451958  0.012688    1.0  \n3      0.423799  0.659091  0.339962  0.526220  0.506743  0.003120    1.0  \n4      0.182124  0.750159  0.553725  0.584062  0.468341  0.000053    1.0  \n...         ...       ...       ...       ...       ...       ...    ...  \n20487  0.455425  0.619810  0.496542  0.574513  0.456000  0.000550    0.0  \n20488  0.523872  0.653729  0.364061  0.586522  0.449709  0.000262    0.0  \n20489  0.369701  0.684271  0.444997  0.599570  0.477437  0.008022    0.0  \n20490  0.449967  0.638986  0.420267  0.595810  0.467869  0.000095    0.0  \n20491  0.385493  0.590738  0.556859  0.570433  0.459846  0.000521    0.0  \n\n[20492 rows x 31 columns]",
      "text/html": "<div>\n<style scoped>\n    .dataframe tbody tr th:only-of-type {\n        vertical-align: middle;\n    }\n\n    .dataframe tbody tr th {\n        vertical-align: top;\n    }\n\n    .dataframe thead th {\n        text-align: right;\n    }\n</style>\n<table border=\"1\" class=\"dataframe\">\n  <thead>\n    <tr style=\"text-align: right;\">\n      <th></th>\n      <th>Time</th>\n      <th>V1</th>\n      <th>V2</th>\n      <th>V3</th>\n      <th>V4</th>\n      <th>V5</th>\n      <th>V6</th>\n      <th>V7</th>\n      <th>V8</th>\n      <th>V9</th>\n      <th>...</th>\n      <th>V21</th>\n      <th>V22</th>\n      <th>V23</th>\n      <th>V24</th>\n      <th>V25</th>\n      <th>V26</th>\n      <th>V27</th>\n      <th>V28</th>\n      <th>Amount</th>\n      <th>Class</th>\n    </tr>\n  </thead>\n  <tbody>\n    <tr>\n      <th>0</th>\n      <td>0.002194</td>\n      <td>0.871937</td>\n      <td>0.756360</td>\n      <td>0.839488</td>\n      <td>0.422320</td>\n      <td>0.453419</td>\n      <td>0.534553</td>\n      <td>0.603411</td>\n      <td>0.695084</td>\n      <td>0.447977</td>\n      <td>...</td>\n      <td>0.466293</td>\n      <td>0.529878</td>\n      <td>0.733354</td>\n      <td>0.480991</td>\n      <td>0.643781</td>\n      <td>0.485812</td>\n      <td>0.603256</td>\n      <td>0.452491</td>\n      <td>0.000000</td>\n      <td>1.0</td>\n    </tr>\n    <tr>\n      <th>1</th>\n      <td>0.002576</td>\n      <td>0.852156</td>\n      <td>0.694446</td>\n      <td>0.916291</td>\n      <td>0.345643</td>\n      <td>0.488243</td>\n      <td>0.544933</td>\n      <td>0.645526</td>\n      <td>0.671179</td>\n      <td>0.552962</td>\n      <td>...</td>\n      <td>0.469182</td>\n      <td>0.556222</td>\n      <td>0.770653</td>\n      <td>0.387023</td>\n      <td>0.661109</td>\n      <td>0.429380</td>\n      <td>0.566877</td>\n      <td>0.462274</td>\n      <td>0.027975</td>\n      <td>1.0</td>\n    </tr>\n    <tr>\n      <th>2</th>\n      <td>0.025675</td>\n      <td>0.872177</td>\n      <td>0.754024</td>\n      <td>0.875070</td>\n      <td>0.347509</td>\n      <td>0.447878</td>\n      <td>0.573315</td>\n      <td>0.649008</td>\n      <td>0.665752</td>\n      <td>0.554336</td>\n      <td>...</td>\n      <td>0.450065</td>\n      <td>0.479639</td>\n      <td>0.746278</td>\n      <td>0.418622</td>\n      <td>0.629004</td>\n      <td>0.360017</td>\n      <td>0.587571</td>\n      <td>0.451958</td>\n      <td>0.012688</td>\n      <td>1.0</td>\n    </tr>\n    <tr>\n      <th>3</th>\n      <td>0.040287</td>\n      <td>0.815522</td>\n      <td>0.749167</td>\n      <td>0.811509</td>\n      <td>0.363190</td>\n      <td>0.442206</td>\n      <td>0.526518</td>\n      <td>0.589307</td>\n      <td>0.668215</td>\n      <td>0.553936</td>\n      <td>...</td>\n      <td>0.467419</td>\n      <td>0.541748</td>\n      <td>0.733942</td>\n      <td>0.423799</td>\n      <td>0.659091</td>\n      <td>0.339962</td>\n      <td>0.526220</td>\n      <td>0.506743</td>\n      <td>0.003120</td>\n      <td>1.0</td>\n    </tr>\n    <tr>\n      <th>4</th>\n      <td>0.043373</td>\n      <td>0.967860</td>\n      <td>0.769299</td>\n      <td>0.762787</td>\n      <td>0.455287</td>\n      <td>0.530144</td>\n      <td>0.536527</td>\n      <td>0.665942</td>\n      <td>0.664159</td>\n      <td>0.510454</td>\n      <td>...</td>\n      <td>0.448367</td>\n      <td>0.492416</td>\n      <td>0.729473</td>\n      <td>0.182124</td>\n      <td>0.750159</td>\n      <td>0.553725</td>\n      <td>0.584062</td>\n      <td>0.468341</td>\n      <td>0.000053</td>\n      <td>1.0</td>\n    </tr>\n    <tr>\n      <th>...</th>\n      <td>...</td>\n      <td>...</td>\n      <td>...</td>\n      <td>...</td>\n      <td>...</td>\n      <td>...</td>\n      <td>...</td>\n      <td>...</td>\n      <td>...</td>\n      <td>...</td>\n      <td>...</td>\n      <td>...</td>\n      <td>...</td>\n      <td>...</td>\n      <td>...</td>\n      <td>...</td>\n      <td>...</td>\n      <td>...</td>\n      <td>...</td>\n      <td>...</td>\n      <td>...</td>\n    </tr>\n    <tr>\n      <th>20487</th>\n      <td>0.798935</td>\n      <td>0.927634</td>\n      <td>0.730324</td>\n      <td>0.914873</td>\n      <td>0.225182</td>\n      <td>0.472249</td>\n      <td>0.584673</td>\n      <td>0.634569</td>\n      <td>0.666807</td>\n      <td>0.518004</td>\n      <td>...</td>\n      <td>0.459547</td>\n      <td>0.581803</td>\n      <td>0.733516</td>\n      <td>0.455425</td>\n      <td>0.619810</td>\n      <td>0.496542</td>\n      <td>0.574513</td>\n      <td>0.456000</td>\n      <td>0.000550</td>\n      <td>0.0</td>\n    </tr>\n    <tr>\n      <th>20488</th>\n      <td>0.193927</td>\n      <td>0.898397</td>\n      <td>0.729857</td>\n      <td>0.949303</td>\n      <td>0.171346</td>\n      <td>0.468805</td>\n      <td>0.542631</td>\n      <td>0.636428</td>\n      <td>0.655356</td>\n      <td>0.509896</td>\n      <td>...</td>\n      <td>0.470662</td>\n      <td>0.518548</td>\n      <td>0.739133</td>\n      <td>0.523872</td>\n      <td>0.653729</td>\n      <td>0.364061</td>\n      <td>0.586522</td>\n      <td>0.449709</td>\n      <td>0.000262</td>\n      <td>0.0</td>\n    </tr>\n    <tr>\n      <th>20489</th>\n      <td>0.701439</td>\n      <td>0.946815</td>\n      <td>0.735143</td>\n      <td>0.847252</td>\n      <td>0.237145</td>\n      <td>0.477708</td>\n      <td>0.557522</td>\n      <td>0.655362</td>\n      <td>0.652972</td>\n      <td>0.550783</td>\n      <td>...</td>\n      <td>0.477411</td>\n      <td>0.558280</td>\n      <td>0.733881</td>\n      <td>0.369701</td>\n      <td>0.684271</td>\n      <td>0.444997</td>\n      <td>0.599570</td>\n      <td>0.477437</td>\n      <td>0.008022</td>\n      <td>0.0</td>\n    </tr>\n    <tr>\n      <th>20490</th>\n      <td>0.393273</td>\n      <td>0.926169</td>\n      <td>0.746261</td>\n      <td>0.913372</td>\n      <td>0.288489</td>\n      <td>0.476818</td>\n      <td>0.560492</td>\n      <td>0.655068</td>\n      <td>0.669626</td>\n      <td>0.519729</td>\n      <td>...</td>\n      <td>0.459162</td>\n      <td>0.563336</td>\n      <td>0.738276</td>\n      <td>0.449967</td>\n      <td>0.638986</td>\n      <td>0.420267</td>\n      <td>0.595810</td>\n      <td>0.467869</td>\n      <td>0.000095</td>\n      <td>0.0</td>\n    </tr>\n    <tr>\n      <th>20491</th>\n      <td>0.766915</td>\n      <td>0.929675</td>\n      <td>0.735957</td>\n      <td>0.904793</td>\n      <td>0.208778</td>\n      <td>0.473439</td>\n      <td>0.617974</td>\n      <td>0.638465</td>\n      <td>0.680578</td>\n      <td>0.596642</td>\n      <td>...</td>\n      <td>0.463155</td>\n      <td>0.597422</td>\n      <td>0.743492</td>\n      <td>0.385493</td>\n      <td>0.590738</td>\n      <td>0.556859</td>\n      <td>0.570433</td>\n      <td>0.459846</td>\n      <td>0.000521</td>\n      <td>0.0</td>\n    </tr>\n  </tbody>\n</table>\n<p>20492 rows × 31 columns</p>\n</div>"
     },
     "execution_count": 103,
     "metadata": {},
     "output_type": "execute_result"
    }
   ],
   "source": [
    "data"
   ],
   "metadata": {
    "collapsed": false,
    "pycharm": {
     "name": "#%%\n"
    }
   }
  },
  {
   "cell_type": "code",
   "execution_count": 104,
   "outputs": [],
   "source": [
    "# credit card data full\n",
    "# data.insert(0, 'Ones', 1.0)\n",
    "# data = data.to_numpy()\n",
    "#\n",
    "# data_x = data[:, :-1]\n",
    "# data_y = data[:, -1]\n",
    "#\n",
    "# data_y = np.array([1.0 if it > 0.0 else -1.0 for it in data_y])\n",
    "# data_y = data_y.rescc_data()hape((data_y.shape[0], 1))\n",
    "#\n",
    "# x_train, x_test, y_train, y_test = train_test_split(data_x, data_y, test_size=0.2, random_state=40)"
   ],
   "metadata": {
    "collapsed": false,
    "pycharm": {
     "name": "#%%\n"
    }
   }
  },
  {
   "cell_type": "code",
   "execution_count": 105,
   "outputs": [
    {
     "name": "stdout",
     "output_type": "stream",
     "text": [
      "['V14', 'V17', 'V10', 'V12', 'V11', 'V16', 'V3', 'V4', 'V7', 'V9']\n"
     ]
    }
   ],
   "source": [
    "final_column = data.columns[-1]\n",
    "train_dataset, test_dataset = train_test_split(data, test_size=0.2, random_state=30)\n",
    "#\n",
    "columns = info_gain(train_dataset)\n",
    "feature_cutoff = 10\n",
    "columns_to_use = columns[0:feature_cutoff]\n",
    "print(columns_to_use)\n",
    "columns_to_use.append(final_column)\n",
    "reduced_training, reduced_test = train_dataset[columns_to_use], test_dataset[columns_to_use]\n",
    "#\n",
    "reduced_training.insert(0, 'Ones', 1.0)\n",
    "reduced_training = reduced_training.to_numpy()\n",
    "#\n",
    "reduced_test.insert(0, 'Ones', 1.0)\n",
    "reduced_test = reduced_test.to_numpy()\n",
    "#\n",
    "x_train = reduced_training[:, :-1]\n",
    "y_train = reduced_training[:, -1]\n",
    "y_train = np.array([1.0 if it > 0 else -1.0 for it in y_train])\n",
    "y_train = y_train.reshape((y_train.shape[0], 1))\n",
    "#\n",
    "x_test = reduced_test[:, :-1]\n",
    "y_test = reduced_test[:, -1]\n",
    "y_test = np.array([1.0 if it > 0 else -1.0 for it in y_test])\n",
    "y_test = y_test.reshape((y_test.shape[0], 1))"
   ],
   "metadata": {
    "collapsed": false,
    "pycharm": {
     "name": "#%%\n"
    }
   }
  },
  {
   "cell_type": "code",
   "execution_count": 106,
   "outputs": [
    {
     "data": {
      "text/plain": "array([[1.        , 0.85141115, 0.73865241, ..., 0.25853652, 0.64865905,\n        0.62293793],\n       [1.        , 0.74494633, 0.74734691, ..., 0.19748887, 0.62857786,\n        0.58729085],\n       [1.        , 0.74920134, 0.73046339, ..., 0.435941  , 0.63792163,\n        0.52134029],\n       ...,\n       [1.        , 0.74935534, 0.76705669, ..., 0.45950369, 0.62579889,\n        0.61674907],\n       [1.        , 0.71289129, 0.71578183, ..., 0.20105591, 0.65498373,\n        0.6494853 ],\n       [1.        , 0.73139879, 0.74917884, ..., 0.26207634, 0.64745804,\n        0.57883631]])"
     },
     "execution_count": 106,
     "metadata": {},
     "output_type": "execute_result"
    }
   ],
   "source": [
    "x_train"
   ],
   "metadata": {
    "collapsed": false,
    "pycharm": {
     "name": "#%%\n"
    }
   }
  },
  {
   "cell_type": "code",
   "execution_count": 107,
   "outputs": [
    {
     "data": {
      "text/plain": "array([[1.        , 0.75559645, 0.7328373 , ..., 0.20112378, 0.6419563 ,\n        0.49745919],\n       [1.        , 0.76335439, 0.71089347, ..., 0.22349298, 0.62621975,\n        0.56577705],\n       [1.        , 0.80908371, 0.75745553, ..., 0.27701799, 0.63447747,\n        0.53333682],\n       ...,\n       [1.        , 0.76880588, 0.72784652, ..., 0.27161562, 0.63939036,\n        0.56189713],\n       [1.        , 0.79320558, 0.72362235, ..., 0.2461257 , 0.65301425,\n        0.57160089],\n       [1.        , 0.76607747, 0.73228424, ..., 0.13552665, 0.64198369,\n        0.49757968]])"
     },
     "execution_count": 107,
     "metadata": {},
     "output_type": "execute_result"
    }
   ],
   "source": [
    "x_test"
   ],
   "metadata": {
    "collapsed": false,
    "pycharm": {
     "name": "#%%\n"
    }
   }
  },
  {
   "cell_type": "code",
   "execution_count": 108,
   "outputs": [
    {
     "data": {
      "text/plain": "array([[-1.],\n       [-1.],\n       [-1.],\n       ...,\n       [-1.],\n       [-1.],\n       [-1.]])"
     },
     "execution_count": 108,
     "metadata": {},
     "output_type": "execute_result"
    }
   ],
   "source": [
    "y_train"
   ],
   "metadata": {
    "collapsed": false,
    "pycharm": {
     "name": "#%%\n"
    }
   }
  },
  {
   "cell_type": "code",
   "execution_count": 109,
   "outputs": [
    {
     "data": {
      "text/plain": "array([[-1.],\n       [-1.],\n       [-1.],\n       ...,\n       [-1.],\n       [-1.],\n       [-1.]])"
     },
     "execution_count": 109,
     "metadata": {},
     "output_type": "execute_result"
    }
   ],
   "source": [
    "y_test"
   ],
   "metadata": {
    "collapsed": false,
    "pycharm": {
     "name": "#%%\n"
    }
   }
  },
  {
   "cell_type": "code",
   "execution_count": 110,
   "outputs": [
    {
     "name": "stdout",
     "output_type": "stream",
     "text": [
      "Test set stats = \n",
      "Accuracy is 0.9751158819224202\n",
      "Sensitivity is 0.0\n",
      "Specificity is 1.0\n",
      "Precision is nan\n",
      "False discovery rate nan\n",
      "F1 score 0.0\n",
      "Train set stats = \n",
      "Accuracy is 0.9759653510644788\n",
      "Sensitivity is 0.0\n",
      "Specificity is 0.9997500468662126\n",
      "Precision is 0.0\n",
      "False discovery rate 1.0\n",
      "F1 score 0.0\n"
     ]
    },
    {
     "name": "stderr",
     "output_type": "stream",
     "text": [
      "/tmp/ipykernel_9927/793931916.py:7: RuntimeWarning: invalid value encountered in long_scalars\n",
      "  print('Precision is {}'.format(tp/(tp+fp)))\n",
      "/tmp/ipykernel_9927/793931916.py:8: RuntimeWarning: invalid value encountered in long_scalars\n",
      "  print('False discovery rate {}'.format(fp/(fp+tp)))\n"
     ]
    }
   ],
   "source": [
    "logistic_regression_test(x_train, y_train, x_test, y_test, 0.5)"
   ],
   "metadata": {
    "collapsed": false,
    "pycharm": {
     "name": "#%%\n"
    }
   }
  },
  {
   "cell_type": "code",
   "execution_count": 111,
   "outputs": [],
   "source": [
    "# for i in range(1, 5):\n",
    "#     adaboost_test(x_train, y_train, x_test, y_test, i*5)"
   ],
   "metadata": {
    "collapsed": false,
    "pycharm": {
     "name": "#%%\n"
    }
   }
  }
 ],
 "metadata": {
  "kernelspec": {
   "display_name": "Python 3 (ipykernel)",
   "language": "python",
   "name": "python3"
  },
  "language_info": {
   "codemirror_mode": {
    "name": "ipython",
    "version": 3
   },
   "file_extension": ".py",
   "mimetype": "text/x-python",
   "name": "python",
   "nbconvert_exporter": "python",
   "pygments_lexer": "ipython3",
   "version": "3.8.10"
  }
 },
 "nbformat": 4,
 "nbformat_minor": 1
}